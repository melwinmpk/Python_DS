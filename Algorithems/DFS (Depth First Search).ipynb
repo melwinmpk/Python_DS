{
 "cells": [
  {
   "cell_type": "markdown",
   "id": "1e56abd9",
   "metadata": {},
   "source": [
    "https://favtutor.com/blogs/depth-first-search-python"
   ]
  },
  {
   "cell_type": "markdown",
   "id": "ad412022",
   "metadata": {},
   "source": [
    "<img src='https://favtutor.com/resources/images/uploads/mceu_11416486411608560678558.jpg'></img>"
   ]
  },
  {
   "cell_type": "markdown",
   "id": "42fd48e5",
   "metadata": {},
   "source": [
    "https://www.youtube.com/watch?v=7fujbpJ0LB4"
   ]
  },
  {
   "cell_type": "code",
   "execution_count": 1,
   "id": "f1f40837",
   "metadata": {},
   "outputs": [
    {
     "name": "stdout",
     "output_type": "stream",
     "text": [
      "Following is the Depth-First Search\n",
      "5\n",
      "3\n",
      "2\n",
      "4\n",
      "8\n",
      "7\n"
     ]
    }
   ],
   "source": [
    "# Using a Python dictionary to act as an adjacency list\n",
    "graph = {\n",
    "  '5' : ['3','7'],\n",
    "  '3' : ['2', '4'],\n",
    "  '7' : ['8'],\n",
    "  '2' : [],\n",
    "  '4' : ['8'],\n",
    "  '8' : []\n",
    "}\n",
    "\n",
    "visited = set() # Set to keep track of visited nodes of graph.\n",
    "\n",
    "def dfs(visited, graph, node):  #function for dfs \n",
    "    if node not in visited:\n",
    "        print (node)\n",
    "        visited.add(node)\n",
    "        for neighbour in graph[node]:\n",
    "            dfs(visited, graph, neighbour)\n",
    "\n",
    "# Driver Code\n",
    "print(\"Following is the Depth-First Search\")\n",
    "dfs(visited, graph, '5')"
   ]
  }
 ],
 "metadata": {
  "kernelspec": {
   "display_name": "Python 3 (ipykernel)",
   "language": "python",
   "name": "python3"
  },
  "language_info": {
   "codemirror_mode": {
    "name": "ipython",
    "version": 3
   },
   "file_extension": ".py",
   "mimetype": "text/x-python",
   "name": "python",
   "nbconvert_exporter": "python",
   "pygments_lexer": "ipython3",
   "version": "3.10.6"
  }
 },
 "nbformat": 4,
 "nbformat_minor": 5
}
