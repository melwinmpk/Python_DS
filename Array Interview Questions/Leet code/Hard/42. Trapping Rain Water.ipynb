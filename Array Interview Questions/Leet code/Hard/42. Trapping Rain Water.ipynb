{
 "cells": [
  {
   "cell_type": "code",
   "execution_count": null,
   "id": "e52ee401",
   "metadata": {},
   "outputs": [],
   "source": [
    "'''\n",
    "42. Trapping Rain Water\n",
    "Solved\n",
    "Hard\n",
    "Topics\n",
    "Companies\n",
    "Given n non-negative integers representing an elevation map where the width of each bar is 1, compute how much water it can trap after raining.\n",
    "\n",
    " \n",
    "\n",
    "Example 1:\n",
    "\n",
    "\n",
    "Input: height = [0,1,0,2,1,0,1,3,2,1,2,1]\n",
    "Output: 6\n",
    "Explanation: The above elevation map (black section) is represented by array [0,1,0,2,1,0,1,3,2,1,2,1]. In this case, 6 units of rain water (blue section) are being trapped.\n",
    "Example 2:\n",
    "\n",
    "Input: height = [4,2,0,3,2,5]\n",
    "Output: 9\n",
    " \n",
    "\n",
    "Constraints:\n",
    "\n",
    "n == height.length\n",
    "1 <= n <= 2 * 104\n",
    "0 <= height[i] <= 105\n",
    "'''"
   ]
  },
  {
   "cell_type": "markdown",
   "id": "4ba6e0fb",
   "metadata": {},
   "source": [
    "<img src='https://assets.leetcode.com/uploads/2018/10/22/rainwatertrap.png'>"
   ]
  },
  {
   "cell_type": "code",
   "execution_count": 1,
   "id": "8e2bccf2",
   "metadata": {},
   "outputs": [],
   "source": [
    "class Solution(object):\n",
    "    def trap(self, height):\n",
    "        \"\"\"\n",
    "        :type height: List[int]\n",
    "        :rtype: int\n",
    "        \"\"\"\n",
    "        l,r = 0,len(height)-1\n",
    "        maxLeft,maxRight = height[l],height[r]\n",
    "        area = 0\n",
    "        \n",
    "        while l < r:\n",
    "            if height[l] < height[r]:\n",
    "                l+=1\n",
    "                maxLeft = max(maxLeft,height[l])\n",
    "                area += maxLeft - height[l]\n",
    "            else:\n",
    "                r-=1\n",
    "                maxRight = max(maxRight,height[r])\n",
    "                area += maxRight - height[r]\n",
    "        return area\n",
    "        "
   ]
  },
  {
   "cell_type": "code",
   "execution_count": 2,
   "id": "de584a34",
   "metadata": {},
   "outputs": [],
   "source": [
    "height = [0,1,0,2,1,0,1,3,2,1,2,1]"
   ]
  },
  {
   "cell_type": "code",
   "execution_count": 3,
   "id": "714c1c93",
   "metadata": {},
   "outputs": [
    {
     "data": {
      "text/plain": [
       "6"
      ]
     },
     "execution_count": 3,
     "metadata": {},
     "output_type": "execute_result"
    }
   ],
   "source": [
    "obj = Solution()\n",
    "obj.trap(height)"
   ]
  },
  {
   "cell_type": "code",
   "execution_count": 4,
   "id": "024f5098",
   "metadata": {},
   "outputs": [],
   "source": [
    "height = [4,2,0,3,2,5]"
   ]
  },
  {
   "cell_type": "code",
   "execution_count": 5,
   "id": "157dabed",
   "metadata": {},
   "outputs": [
    {
     "data": {
      "text/plain": [
       "9"
      ]
     },
     "execution_count": 5,
     "metadata": {},
     "output_type": "execute_result"
    }
   ],
   "source": [
    "obj = Solution()\n",
    "obj.trap(height)"
   ]
  },
  {
   "cell_type": "code",
   "execution_count": null,
   "id": "46cccb69",
   "metadata": {},
   "outputs": [],
   "source": []
  }
 ],
 "metadata": {
  "kernelspec": {
   "display_name": "Python 3 (ipykernel)",
   "language": "python",
   "name": "python3"
  },
  "language_info": {
   "codemirror_mode": {
    "name": "ipython",
    "version": 3
   },
   "file_extension": ".py",
   "mimetype": "text/x-python",
   "name": "python",
   "nbconvert_exporter": "python",
   "pygments_lexer": "ipython3",
   "version": "3.10.6"
  }
 },
 "nbformat": 4,
 "nbformat_minor": 5
}
