{
 "cells": [
  {
   "cell_type": "code",
   "execution_count": null,
   "id": "f9f8198d",
   "metadata": {},
   "outputs": [],
   "source": [
    "'''\n",
    "128. Longest Consecutive Sequence\n",
    "Solved\n",
    "Medium\n",
    "Topics\n",
    "Companies\n",
    "Given an unsorted array of integers nums, return the length of the longest consecutive elements sequence.\n",
    "\n",
    "You must write an algorithm that runs in O(n) time.\n",
    "\n",
    " \n",
    "\n",
    "Example 1:\n",
    "\n",
    "Input: nums = [100,4,200,1,3,2]\n",
    "Output: 4\n",
    "Explanation: The longest consecutive elements sequence is [1, 2, 3, 4]. Therefore its length is 4.\n",
    "Example 2:\n",
    "\n",
    "Input: nums = [0,3,7,2,5,8,4,6,0,1]\n",
    "Output: 9\n",
    " \n",
    "\n",
    "Constraints:\n",
    "\n",
    "0 <= nums.length <= 105\n",
    "-109 <= nums[i] <= 109\n",
    "'''"
   ]
  },
  {
   "cell_type": "markdown",
   "id": "62902152",
   "metadata": {},
   "source": [
    "Vide Explantion\n",
    "https://www.youtube.com/watch?v=P6RZZMu_maU"
   ]
  },
  {
   "cell_type": "code",
   "execution_count": 1,
   "id": "b6a6b6bb",
   "metadata": {},
   "outputs": [],
   "source": [
    "class Solution(object):\n",
    "    def longestConsecutive(self, nums):\n",
    "        \"\"\"\n",
    "        :type nums: List[int]\n",
    "        :rtype: int\n",
    "        \"\"\"\n",
    "        length = 0\n",
    "        longest = 0\n",
    "        numset = set(nums) \n",
    "        for num in nums:\n",
    "            if num-1  not in numset:\n",
    "                length = 0\n",
    "                while num+length in numset:\n",
    "                    length+=1\n",
    "            longest = max(length,longest)\n",
    "        return longest"
   ]
  },
  {
   "cell_type": "code",
   "execution_count": 2,
   "id": "c61a0a79",
   "metadata": {},
   "outputs": [],
   "source": [
    "nums=[2,20,4,10,3,4,5]"
   ]
  },
  {
   "cell_type": "code",
   "execution_count": 3,
   "id": "d7407b21",
   "metadata": {},
   "outputs": [
    {
     "data": {
      "text/plain": [
       "4"
      ]
     },
     "execution_count": 3,
     "metadata": {},
     "output_type": "execute_result"
    }
   ],
   "source": [
    "obj = Solution()\n",
    "obj.longestConsecutive(nums)"
   ]
  },
  {
   "cell_type": "code",
   "execution_count": 4,
   "id": "81a7f849",
   "metadata": {},
   "outputs": [],
   "source": [
    "nums = [0,3,2,5,4,6,1,1]"
   ]
  },
  {
   "cell_type": "code",
   "execution_count": 5,
   "id": "61a06874",
   "metadata": {},
   "outputs": [
    {
     "data": {
      "text/plain": [
       "7"
      ]
     },
     "execution_count": 5,
     "metadata": {},
     "output_type": "execute_result"
    }
   ],
   "source": [
    "obj = Solution()\n",
    "obj.longestConsecutive(nums)"
   ]
  },
  {
   "cell_type": "code",
   "execution_count": 6,
   "id": "19b98707",
   "metadata": {},
   "outputs": [],
   "source": [
    "nums = [0,3,7,2,5,8,4,6,0,1]"
   ]
  },
  {
   "cell_type": "code",
   "execution_count": 7,
   "id": "9f50004e",
   "metadata": {},
   "outputs": [
    {
     "data": {
      "text/plain": [
       "9"
      ]
     },
     "execution_count": 7,
     "metadata": {},
     "output_type": "execute_result"
    }
   ],
   "source": [
    "obj = Solution()\n",
    "obj.longestConsecutive(nums)"
   ]
  },
  {
   "cell_type": "code",
   "execution_count": null,
   "id": "a8721ec6",
   "metadata": {},
   "outputs": [],
   "source": []
  }
 ],
 "metadata": {
  "kernelspec": {
   "display_name": "Python 3 (ipykernel)",
   "language": "python",
   "name": "python3"
  },
  "language_info": {
   "codemirror_mode": {
    "name": "ipython",
    "version": 3
   },
   "file_extension": ".py",
   "mimetype": "text/x-python",
   "name": "python",
   "nbconvert_exporter": "python",
   "pygments_lexer": "ipython3",
   "version": "3.10.6"
  }
 },
 "nbformat": 4,
 "nbformat_minor": 5
}
