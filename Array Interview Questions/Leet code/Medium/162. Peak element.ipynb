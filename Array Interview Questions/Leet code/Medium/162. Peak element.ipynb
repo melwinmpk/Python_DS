{
 "cells": [
  {
   "cell_type": "code",
   "execution_count": null,
   "id": "824193bd",
   "metadata": {},
   "outputs": [],
   "source": [
    "'''\n",
    "A peak element is an element that is strictly greater than its neighbors.\n",
    "\n",
    "Given a 0-indexed integer array nums, find a peak element, and return its index. If the array contains multiple peaks, \n",
    "return the index to any of the peaks.\n",
    "\n",
    "You may imagine that nums[-1] = nums[n] = -∞. In other words, an element is always considered to be strictly greater \n",
    "than a neighbor that is outside the array.\n",
    "\n",
    "You must write an algorithm that runs in O(log n) time.\n",
    "\n",
    " \n",
    "\n",
    "Example 1:\n",
    "\n",
    "Input: nums = [1,2,3,1]\n",
    "Output: 2\n",
    "Explanation: 3 is a peak element and your function should return the index number 2.\n",
    "Example 2:\n",
    "\n",
    "Input: nums = [1,2,1,3,5,6,4]\n",
    "Output: 5\n",
    "Explanation: Your function can return either index number 1 where the peak element is 2, or index number 5 where \n",
    "the peak element is 6.\n",
    " \n",
    "\n",
    "Constraints:\n",
    "\n",
    "1 <= nums.length <= 1000\n",
    "-231 <= nums[i] <= 231 - 1\n",
    "nums[i] != nums[i + 1] for all valid i.\n",
    "\n",
    "'''"
   ]
  },
  {
   "cell_type": "code",
   "execution_count": 16,
   "id": "5973c88a",
   "metadata": {},
   "outputs": [],
   "source": [
    "class Solution(object):\n",
    "    def findPeakElement(self, nums):\n",
    "        index = 0 \n",
    "        length = len(nums)\n",
    "\n",
    "        while index < length-1:\n",
    "            if length == 2 and nums[index] > nums[index+1]:\n",
    "                return index\n",
    "            elif index+1 == length and nums[index] > nums[index-1]:\n",
    "                return index\n",
    "            elif nums[index] > nums[index-1] and nums[index] > nums[index+1]:\n",
    "                return index \n",
    "            index+=1\n",
    "        return index"
   ]
  },
  {
   "cell_type": "code",
   "execution_count": 11,
   "id": "6902dd3c",
   "metadata": {},
   "outputs": [],
   "source": [
    "nums = [1,2,3,1]"
   ]
  },
  {
   "cell_type": "code",
   "execution_count": 12,
   "id": "df35630e",
   "metadata": {},
   "outputs": [
    {
     "name": "stdout",
     "output_type": "stream",
     "text": [
      "2\n"
     ]
    }
   ],
   "source": [
    "obj = Solution()\n",
    "print(obj.findPeakElement(nums))"
   ]
  },
  {
   "cell_type": "code",
   "execution_count": 13,
   "id": "1af260a3",
   "metadata": {},
   "outputs": [
    {
     "name": "stdout",
     "output_type": "stream",
     "text": [
      "1\n"
     ]
    }
   ],
   "source": [
    "nums = [1,2,1,3,5,6,4]\n",
    "print(obj.findPeakElement(nums))"
   ]
  },
  {
   "cell_type": "code",
   "execution_count": 17,
   "id": "20d6030a",
   "metadata": {
    "scrolled": true
   },
   "outputs": [
    {
     "name": "stdout",
     "output_type": "stream",
     "text": [
      "0\n"
     ]
    }
   ],
   "source": [
    "nums = [2,1]\n",
    "print(obj.findPeakElement(nums))"
   ]
  },
  {
   "cell_type": "code",
   "execution_count": 18,
   "id": "3434e760",
   "metadata": {
    "scrolled": true
   },
   "outputs": [
    {
     "name": "stdout",
     "output_type": "stream",
     "text": [
      "1\n"
     ]
    }
   ],
   "source": [
    "nums = [1,8]\n",
    "print(obj.findPeakElement(nums))"
   ]
  },
  {
   "cell_type": "code",
   "execution_count": 19,
   "id": "63063532",
   "metadata": {},
   "outputs": [
    {
     "name": "stdout",
     "output_type": "stream",
     "text": [
      "0\n"
     ]
    }
   ],
   "source": [
    "nums = [8]\n",
    "print(obj.findPeakElement(nums))"
   ]
  },
  {
   "cell_type": "code",
   "execution_count": 15,
   "id": "4d235f89",
   "metadata": {},
   "outputs": [],
   "source": [
    "'''Melwin Unfortunately the below code was faster this was supporting only because we could give any peak value in the list'''\n",
    "\n",
    "class Solution(object):\n",
    "    def findPeakElement(self, nums):\n",
    "        max_no = max(nums)\n",
    "        count = 0\n",
    "        for i in nums:\n",
    "            if i == max_no:\n",
    "                return(count)\n",
    "            count+=1\n",
    "\n",
    "        \"\"\"\n",
    "        :type nums: List[int]\n",
    "        :rtype: int\n",
    "        \"\"\""
   ]
  },
  {
   "cell_type": "code",
   "execution_count": null,
   "id": "9ecf7269",
   "metadata": {},
   "outputs": [],
   "source": []
  }
 ],
 "metadata": {
  "kernelspec": {
   "display_name": "Python 3 (ipykernel)",
   "language": "python",
   "name": "python3"
  },
  "language_info": {
   "codemirror_mode": {
    "name": "ipython",
    "version": 3
   },
   "file_extension": ".py",
   "mimetype": "text/x-python",
   "name": "python",
   "nbconvert_exporter": "python",
   "pygments_lexer": "ipython3",
   "version": "3.10.6"
  }
 },
 "nbformat": 4,
 "nbformat_minor": 5
}
