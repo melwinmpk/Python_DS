{
 "cells": [
  {
   "cell_type": "code",
   "execution_count": null,
   "id": "9efc63e2",
   "metadata": {},
   "outputs": [],
   "source": [
    "'''\n",
    "Given an integer array nums and an integer k, return the kth largest element in the array.\n",
    "\n",
    "Note that it is the kth largest element in the sorted order, not the kth distinct element.\n",
    "\n",
    "Can you solve it without sorting?\n",
    "\n",
    " \n",
    "\n",
    "Example 1:\n",
    "\n",
    "Input: nums = [3,2,1,5,6,4], k = 2\n",
    "Output: 5\n",
    "Example 2:\n",
    "\n",
    "Input: nums = [3,2,3,1,2,4,5,5,6], k = 4\n",
    "Output: 4\n",
    " \n",
    "\n",
    "Constraints:\n",
    "\n",
    "1 <= k <= nums.length <= 105\n",
    "-104 <= nums[i] <= 104\n",
    "'''"
   ]
  },
  {
   "cell_type": "code",
   "execution_count": 74,
   "id": "1b456021",
   "metadata": {},
   "outputs": [],
   "source": [
    "class Solution(object):\n",
    "    def findKthLargest(self, nums, k):\n",
    "\n",
    "        #store it in dictionary and sort the index\n",
    "        store = {}\n",
    "        index = 1\n",
    "        for i in nums:\n",
    "            store[i] = index\n",
    "            index+=1 \n",
    "        nums = list(store.keys())\n",
    "        nums.sort()\n",
    "        print(nums)\n",
    "        return store[nums[-(k)]] "
   ]
  },
  {
   "cell_type": "code",
   "execution_count": 75,
   "id": "dcc8a33b",
   "metadata": {},
   "outputs": [],
   "source": [
    "nums = [3,2,1,5,6,4]\n",
    "k = 2"
   ]
  },
  {
   "cell_type": "code",
   "execution_count": 76,
   "id": "f8e1324b",
   "metadata": {},
   "outputs": [],
   "source": [
    "nums = [3,2,3,1,2,4,5,5,6]\n",
    "k = 4"
   ]
  },
  {
   "cell_type": "code",
   "execution_count": 77,
   "id": "dece91da",
   "metadata": {},
   "outputs": [
    {
     "name": "stdout",
     "output_type": "stream",
     "text": [
      "[1, 2, 3, 4, 5, 6]\n",
      "3\n"
     ]
    }
   ],
   "source": [
    "obj = Solution()\n",
    "print(obj.findKthLargest(nums,k))"
   ]
  },
  {
   "cell_type": "code",
   "execution_count": 53,
   "id": "660399ed",
   "metadata": {},
   "outputs": [
    {
     "name": "stdout",
     "output_type": "stream",
     "text": [
      "None\n"
     ]
    }
   ],
   "source": [
    "nums = [3,2,1,5,6,4]\n",
    "print(nums.sort())"
   ]
  },
  {
   "cell_type": "code",
   "execution_count": null,
   "id": "0c422a3d",
   "metadata": {},
   "outputs": [],
   "source": []
  }
 ],
 "metadata": {
  "kernelspec": {
   "display_name": "Python 3 (ipykernel)",
   "language": "python",
   "name": "python3"
  },
  "language_info": {
   "codemirror_mode": {
    "name": "ipython",
    "version": 3
   },
   "file_extension": ".py",
   "mimetype": "text/x-python",
   "name": "python",
   "nbconvert_exporter": "python",
   "pygments_lexer": "ipython3",
   "version": "3.10.6"
  }
 },
 "nbformat": 4,
 "nbformat_minor": 5
}
