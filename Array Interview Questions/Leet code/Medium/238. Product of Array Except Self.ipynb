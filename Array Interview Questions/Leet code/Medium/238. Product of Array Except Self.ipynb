{
 "cells": [
  {
   "cell_type": "code",
   "execution_count": null,
   "id": "81d7e002",
   "metadata": {},
   "outputs": [],
   "source": [
    "'''\n",
    "238. Product of Array Except Self\n",
    "Solved\n",
    "Medium\n",
    "Topics\n",
    "Companies\n",
    "Hint\n",
    "Given an integer array nums, return an array answer such that answer[i] is equal to the product of all \n",
    "the elements of nums except nums[i].\n",
    "\n",
    "The product of any prefix or suffix of nums is guaranteed to fit in a 32-bit integer.\n",
    "\n",
    "You must write an algorithm that runs in O(n) time and without using the division operation.\n",
    "\n",
    " \n",
    "\n",
    "Example 1:\n",
    "\n",
    "Input: nums = [1,2,3,4]\n",
    "Output: [24,12,8,6]\n",
    "Example 2:\n",
    "\n",
    "Input: nums = [-1,1,0,-3,3]\n",
    "Output: [0,0,9,0,0]\n",
    " \n",
    "\n",
    "Constraints:\n",
    "\n",
    "2 <= nums.length <= 105\n",
    "-30 <= nums[i] <= 30\n",
    "The product of any prefix or suffix of nums is guaranteed to fit in a 32-bit integer.\n",
    " \n",
    "\n",
    "Follow up: Can you solve the problem in O(1) extra space complexity? (The output array does not count as extra space for \n",
    "space complexity analysis.)\n",
    "'''"
   ]
  },
  {
   "cell_type": "code",
   "execution_count": 1,
   "id": "16a9d6ed",
   "metadata": {},
   "outputs": [],
   "source": [
    "class Solution(object):\n",
    "    def productExceptSelf(self, nums):\n",
    "        prefix = 1\n",
    "        result = [1 for i in nums]\n",
    "        postfix = 1\n",
    "        for index in range(len(nums)):\n",
    "            result[index] = prefix\n",
    "            prefix *= nums[index]\n",
    "        #print(result)    \n",
    "        for index in range(len(nums) -1,-1,-1):\n",
    "            result[index]*=postfix\n",
    "            postfix*=nums[index]\n",
    "            \n",
    "        #print(result)\n",
    "        return result"
   ]
  },
  {
   "cell_type": "code",
   "execution_count": 2,
   "id": "7c2455f1",
   "metadata": {},
   "outputs": [],
   "source": [
    "nums =  [1,2,4,6]"
   ]
  },
  {
   "cell_type": "code",
   "execution_count": 3,
   "id": "ca9fb893",
   "metadata": {},
   "outputs": [
    {
     "name": "stdout",
     "output_type": "stream",
     "text": [
      "[48, 24, 12, 8]\n"
     ]
    }
   ],
   "source": [
    "obj = Solution()\n",
    "print(obj.productExceptSelf(nums))"
   ]
  },
  {
   "cell_type": "code",
   "execution_count": null,
   "id": "884ca7f4",
   "metadata": {},
   "outputs": [],
   "source": []
  }
 ],
 "metadata": {
  "kernelspec": {
   "display_name": "Python 3 (ipykernel)",
   "language": "python",
   "name": "python3"
  },
  "language_info": {
   "codemirror_mode": {
    "name": "ipython",
    "version": 3
   },
   "file_extension": ".py",
   "mimetype": "text/x-python",
   "name": "python",
   "nbconvert_exporter": "python",
   "pygments_lexer": "ipython3",
   "version": "3.10.6"
  }
 },
 "nbformat": 4,
 "nbformat_minor": 5
}
