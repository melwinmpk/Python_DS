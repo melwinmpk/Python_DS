{
 "cells": [
  {
   "cell_type": "code",
   "execution_count": null,
   "id": "a90d14dd",
   "metadata": {},
   "outputs": [],
   "source": [
    "'''\n",
    "You are given a 0-indexed array nums comprising of n non-negative integers.\n",
    "\n",
    "In one operation, you must:\n",
    "\n",
    "Choose an integer i such that 1 <= i < n and nums[i] > 0.\n",
    "Decrease nums[i] by 1.\n",
    "Increase nums[i - 1] by 1.\n",
    "Return the minimum possible value of the maximum integer of nums after performing any number of operations.\n",
    "\n",
    " \n",
    "\n",
    "Example 1:\n",
    "\n",
    "Input: nums = [3,7,1,6]\n",
    "Output: 5\n",
    "Explanation:\n",
    "One set of optimal operations is as follows:\n",
    "1. Choose i = 1, and nums becomes [4,6,1,6].\n",
    "2. Choose i = 3, and nums becomes [4,6,2,5].\n",
    "3. Choose i = 1, and nums becomes [5,5,2,5].\n",
    "The maximum integer of nums is 5. It can be shown that the maximum number cannot be less than 5.\n",
    "Therefore, we return 5.\n",
    "Example 2:\n",
    "\n",
    "Input: nums = [10,1]\n",
    "Output: 10\n",
    "Explanation:\n",
    "It is optimal to leave nums as is, and since 10 is the maximum value, we return 10.\n",
    "'''"
   ]
  },
  {
   "cell_type": "code",
   "execution_count": 5,
   "id": "24b2002a",
   "metadata": {},
   "outputs": [],
   "source": [
    "class Solution:\n",
    "    def minimizeArrayValue(self, nums):\n",
    "        length=len(nums)\n",
    "        index = 1\n",
    "        total_sum = sum(nums)\n",
    "        max_no = max(nums)\n",
    "        while index > length-1:\n",
    "            if index > 1 and index < length and nums[index] > 0:\n",
    "                nums[index]-=1\n",
    "                nums[index-1]+=1\n",
    "            else:\n",
    "                continue\n",
    "            if max_no > max(nums): \n",
    "                total_sum = sum(nums)\n",
    "                max_no = max(nums)\n",
    "            index+=1\n",
    "        return max_no\n",
    "        \"\"\"\n",
    "        :type nums: List[int]\n",
    "        :rtype: int\n",
    "        \"\"\""
   ]
  },
  {
   "cell_type": "code",
   "execution_count": 6,
   "id": "0f4a132d",
   "metadata": {},
   "outputs": [
    {
     "name": "stdout",
     "output_type": "stream",
     "text": [
      "7\n"
     ]
    }
   ],
   "source": [
    "obj = Solution()\n",
    "print(obj.minimizeArrayValue([3,7,1,6]))"
   ]
  },
  {
   "cell_type": "code",
   "execution_count": null,
   "id": "f3aff8f6",
   "metadata": {},
   "outputs": [],
   "source": []
  }
 ],
 "metadata": {
  "kernelspec": {
   "display_name": "Python 3 (ipykernel)",
   "language": "python",
   "name": "python3"
  },
  "language_info": {
   "codemirror_mode": {
    "name": "ipython",
    "version": 3
   },
   "file_extension": ".py",
   "mimetype": "text/x-python",
   "name": "python",
   "nbconvert_exporter": "python",
   "pygments_lexer": "ipython3",
   "version": "3.10.6"
  }
 },
 "nbformat": 4,
 "nbformat_minor": 5
}
