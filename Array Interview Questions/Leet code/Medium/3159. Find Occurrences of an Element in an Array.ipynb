{
 "cells": [
  {
   "cell_type": "code",
   "execution_count": null,
   "id": "5c666714",
   "metadata": {},
   "outputs": [],
   "source": [
    "'''\n",
    "3159. Find Occurrences of an Element in an Array\n",
    "Attempted\n",
    "Medium\n",
    "Topics\n",
    "Companies\n",
    "Hint\n",
    "You are given an integer array nums, an integer array queries, and an integer x.\n",
    "\n",
    "For each queries[i], you need to find the index of the queries[i]th occurrence of x in the nums array. \n",
    "If there are fewer than queries[i] occurrences of x, the answer should be -1 for that query.\n",
    "\n",
    "Return an integer array answer containing the answers to all queries.\n",
    "\n",
    " \n",
    "\n",
    "Example 1:\n",
    "\n",
    "Input: nums = [1,3,1,7], queries = [1,3,2,4], x = 1\n",
    "\n",
    "Output: [0,-1,2,-1]\n",
    "\n",
    "Explanation:\n",
    "\n",
    "For the 1st query, the first occurrence of 1 is at index 0.\n",
    "For the 2nd query, there are only two occurrences of 1 in nums, so the answer is -1.\n",
    "For the 3rd query, the second occurrence of 1 is at index 2.\n",
    "For the 4th query, there are only two occurrences of 1 in nums, so the answer is -1.\n",
    "Example 2:\n",
    "\n",
    "Input: nums = [1,2,3], queries = [10], x = 5\n",
    "\n",
    "Output: [-1]\n",
    "\n",
    "Explanation:\n",
    "\n",
    "For the 1st query, 5 doesn't exist in nums, so the answer is -1.\n",
    " \n",
    "\n",
    "Constraints:\n",
    "\n",
    "1 <= nums.length, queries.length <= 105\n",
    "1 <= queries[i] <= 105\n",
    "1 <= nums[i], x <= 104\n",
    "'''"
   ]
  },
  {
   "cell_type": "markdown",
   "id": "968858eb",
   "metadata": {},
   "source": [
    "https://www.youtube.com/watch?v=wrtJtwGEegg"
   ]
  },
  {
   "cell_type": "code",
   "execution_count": null,
   "id": "1da26e65",
   "metadata": {},
   "outputs": [],
   "source": [
    "'''Melwin I needed a Help to Understand the Question'''"
   ]
  },
  {
   "cell_type": "code",
   "execution_count": 52,
   "id": "d898d3e3",
   "metadata": {},
   "outputs": [],
   "source": [
    "class Solution(object):\n",
    "    def occurrencesOfElement(self, nums, queries, x):\n",
    "        occurance_index = []\n",
    "        index = 0\n",
    "        nums_length = len(nums)\n",
    "        queries_length = len(queries)\n",
    "        while index < nums_length:\n",
    "            if nums[index] == x:\n",
    "                occurance_index.append(index)\n",
    "            index+=1\n",
    "        index = 0\n",
    "        while index < queries_length:\n",
    "            if queries[index] > len(occurance_index):\n",
    "                queries[index] = -1\n",
    "            else:\n",
    "                queries[index] = occurance_index[queries[index]-1]\n",
    "            index+=1\n",
    "        return queries\n",
    "\n",
    "\n",
    "        \"\"\"\n",
    "        :type nums: List[int]\n",
    "        :type queries: List[int]\n",
    "        :type x: int\n",
    "        :rtype: List[int]\n",
    "        \"\"\""
   ]
  },
  {
   "cell_type": "code",
   "execution_count": 53,
   "id": "1fa8d140",
   "metadata": {},
   "outputs": [],
   "source": [
    "nums = [1,3,1,7]\n",
    "queries = [1,3,2,4]\n",
    "x = 1"
   ]
  },
  {
   "cell_type": "code",
   "execution_count": 54,
   "id": "6e9da015",
   "metadata": {},
   "outputs": [
    {
     "data": {
      "text/plain": [
       "[0, -1, 2, -1]"
      ]
     },
     "execution_count": 54,
     "metadata": {},
     "output_type": "execute_result"
    }
   ],
   "source": [
    "obj = Solution()\n",
    "obj.occurrencesOfElement(nums,queries,x)"
   ]
  },
  {
   "cell_type": "code",
   "execution_count": 55,
   "id": "3d7eff2f",
   "metadata": {},
   "outputs": [],
   "source": [
    "nums = [1,2,3]\n",
    "queries = [10]\n",
    "x = 5"
   ]
  },
  {
   "cell_type": "code",
   "execution_count": 56,
   "id": "7cf962de",
   "metadata": {},
   "outputs": [
    {
     "data": {
      "text/plain": [
       "[-1]"
      ]
     },
     "execution_count": 56,
     "metadata": {},
     "output_type": "execute_result"
    }
   ],
   "source": [
    "obj = Solution()\n",
    "obj.occurrencesOfElement(nums,queries,x)"
   ]
  },
  {
   "cell_type": "code",
   "execution_count": 57,
   "id": "de08ace5",
   "metadata": {},
   "outputs": [],
   "source": [
    "nums = [1,4,3,3,6,4,8,3,10]\n",
    "queries = [1,2,1,1,1,1,2,2,1,1]\n",
    "x = 7"
   ]
  },
  {
   "cell_type": "code",
   "execution_count": 58,
   "id": "dfff876e",
   "metadata": {},
   "outputs": [
    {
     "data": {
      "text/plain": [
       "[-1, -1, -1, -1, -1, -1, -1, -1, -1, -1]"
      ]
     },
     "execution_count": 58,
     "metadata": {},
     "output_type": "execute_result"
    }
   ],
   "source": [
    "obj = Solution()\n",
    "obj.occurrencesOfElement(nums,queries,x)"
   ]
  },
  {
   "cell_type": "code",
   "execution_count": 50,
   "id": "9a5a1030",
   "metadata": {},
   "outputs": [],
   "source": [
    "nums = [1,3,2,2,3,3,1,3,1]\n",
    "queries = [5,6,1,5,6,4,1,5]\n",
    "x = 3"
   ]
  },
  {
   "cell_type": "code",
   "execution_count": 51,
   "id": "6a145c4d",
   "metadata": {},
   "outputs": [
    {
     "data": {
      "text/plain": [
       "[-1, -1, 1, -1, -1, 7, 1, -1]"
      ]
     },
     "execution_count": 51,
     "metadata": {},
     "output_type": "execute_result"
    }
   ],
   "source": [
    "obj = Solution()\n",
    "obj.occurrencesOfElement(nums,queries,x)"
   ]
  },
  {
   "cell_type": "code",
   "execution_count": null,
   "id": "784fe4db",
   "metadata": {},
   "outputs": [],
   "source": []
  }
 ],
 "metadata": {
  "kernelspec": {
   "display_name": "Python 3 (ipykernel)",
   "language": "python",
   "name": "python3"
  },
  "language_info": {
   "codemirror_mode": {
    "name": "ipython",
    "version": 3
   },
   "file_extension": ".py",
   "mimetype": "text/x-python",
   "name": "python",
   "nbconvert_exporter": "python",
   "pygments_lexer": "ipython3",
   "version": "3.10.6"
  }
 },
 "nbformat": 4,
 "nbformat_minor": 5
}
