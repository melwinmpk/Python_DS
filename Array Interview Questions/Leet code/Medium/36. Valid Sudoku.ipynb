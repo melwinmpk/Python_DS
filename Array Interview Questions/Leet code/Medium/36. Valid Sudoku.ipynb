{
 "cells": [
  {
   "cell_type": "code",
   "execution_count": null,
   "id": "03952e41",
   "metadata": {},
   "outputs": [],
   "source": [
    "'''\n",
    "36. Valid Sudoku\n",
    "Solved\n",
    "Medium\n",
    "Topics\n",
    "Companies\n",
    "Determine if a 9 x 9 Sudoku board is valid. Only the filled cells need to be validated according to the following rules:\n",
    "\n",
    "Each row must contain the digits 1-9 without repetition.\n",
    "Each column must contain the digits 1-9 without repetition.\n",
    "Each of the nine 3 x 3 sub-boxes of the grid must contain the digits 1-9 without repetition.\n",
    "Note:\n",
    "\n",
    "A Sudoku board (partially filled) could be valid but is not necessarily solvable.\n",
    "Only the filled cells need to be validated according to the mentioned rules.\n",
    " \n",
    "\n",
    "Example 1:\n",
    "\n",
    "\n",
    "Input: board = \n",
    "[[\"5\",\"3\",\".\",\".\",\"7\",\".\",\".\",\".\",\".\"]\n",
    ",[\"6\",\".\",\".\",\"1\",\"9\",\"5\",\".\",\".\",\".\"]\n",
    ",[\".\",\"9\",\"8\",\".\",\".\",\".\",\".\",\"6\",\".\"]\n",
    ",[\"8\",\".\",\".\",\".\",\"6\",\".\",\".\",\".\",\"3\"]\n",
    ",[\"4\",\".\",\".\",\"8\",\".\",\"3\",\".\",\".\",\"1\"]\n",
    ",[\"7\",\".\",\".\",\".\",\"2\",\".\",\".\",\".\",\"6\"]\n",
    ",[\".\",\"6\",\".\",\".\",\".\",\".\",\"2\",\"8\",\".\"]\n",
    ",[\".\",\".\",\".\",\"4\",\"1\",\"9\",\".\",\".\",\"5\"]\n",
    ",[\".\",\".\",\".\",\".\",\"8\",\".\",\".\",\"7\",\"9\"]]\n",
    "Output: true\n",
    "Example 2:\n",
    "\n",
    "Input: board = \n",
    "[[\"8\",\"3\",\".\",\".\",\"7\",\".\",\".\",\".\",\".\"]\n",
    ",[\"6\",\".\",\".\",\"1\",\"9\",\"5\",\".\",\".\",\".\"]\n",
    ",[\".\",\"9\",\"8\",\".\",\".\",\".\",\".\",\"6\",\".\"]\n",
    ",[\"8\",\".\",\".\",\".\",\"6\",\".\",\".\",\".\",\"3\"]\n",
    ",[\"4\",\".\",\".\",\"8\",\".\",\"3\",\".\",\".\",\"1\"]\n",
    ",[\"7\",\".\",\".\",\".\",\"2\",\".\",\".\",\".\",\"6\"]\n",
    ",[\".\",\"6\",\".\",\".\",\".\",\".\",\"2\",\"8\",\".\"]\n",
    ",[\".\",\".\",\".\",\"4\",\"1\",\"9\",\".\",\".\",\"5\"]\n",
    ",[\".\",\".\",\".\",\".\",\"8\",\".\",\".\",\"7\",\"9\"]]\n",
    "Output: false\n",
    "Explanation: Same as Example 1, except with the 5 in the top left corner being modified to 8. Since there are two 8's \n",
    "in the top left 3x3 sub-box, it is invalid.\n",
    " \n",
    "\n",
    "Constraints:\n",
    "\n",
    "board.length == 9\n",
    "board[i].length == 9\n",
    "board[i][j] is a digit 1-9 or '.'.\n",
    "'''"
   ]
  },
  {
   "cell_type": "code",
   "execution_count": 2,
   "id": "2b1b75c7",
   "metadata": {},
   "outputs": [
    {
     "data": {
      "text/plain": [
       "'\\nMelwin this is your solution\\n'"
      ]
     },
     "execution_count": 2,
     "metadata": {},
     "output_type": "execute_result"
    }
   ],
   "source": [
    "'''\n",
    "Melwin this is your solution\n",
    "'''"
   ]
  },
  {
   "cell_type": "markdown",
   "id": "7f88ab5a",
   "metadata": {},
   "source": [
    "<img src='https://github.com/user-attachments/assets/a75bac82-e264-499b-aca9-d683416c1521' >"
   ]
  },
  {
   "cell_type": "code",
   "execution_count": 3,
   "id": "a6d15af6",
   "metadata": {},
   "outputs": [],
   "source": [
    "class Solution(object):\n",
    "    def isValidSudoku(self, board):\n",
    "        horizontal = []\n",
    "        vertical = []\n",
    "        inner_matrix = {0:[],1:[],2:[],3:[],4:[],5:[],6:[],7:[],8:[]}\n",
    "        for i in range(0,9):\n",
    "            horizontal = []\n",
    "            vertical = []\n",
    "            for j in range(0,9):\n",
    "                # Horizontal scan\n",
    "                if  board[i][j] != '.' and board[i][j] in horizontal: # or int(board[i][j]) not in range(1,10)\n",
    "                    return False\n",
    "                else:\n",
    "                    horizontal.append(board[i][j])\n",
    "                    \n",
    "                # Vertical scan\n",
    "                if board[j][i] != '.' and board[j][i] in vertical: # or int(board[j][i]) not in range(1,10)\n",
    "                    return False\n",
    "                else:\n",
    "                    vertical.append(board[j][i])\n",
    "                    \n",
    "                # Matrix scan\n",
    "                if board[i][j] != '.' and board[i][j] in inner_matrix[(i//3)*3 + j//3]:\n",
    "                    return False\n",
    "                inner_matrix[(i//3)*3 + j//3 ].append(board[i][j])\n",
    "                    \n",
    "        return True"
   ]
  },
  {
   "cell_type": "code",
   "execution_count": 6,
   "id": "f8952055",
   "metadata": {},
   "outputs": [],
   "source": [
    "board =[\n",
    " [\"5\",\"3\",\".\",\".\",\"7\",\".\",\".\",\".\",\".\"],\n",
    " [\"6\",\".\",\".\",\"1\",\"9\",\"5\",\".\",\".\",\".\"],\n",
    " [\".\",\"9\",\"8\",\".\",\".\",\".\",\".\",\"6\",\".\"],\n",
    " [\"8\",\".\",\".\",\".\",\"6\",\".\",\".\",\".\",\"3\"],\n",
    " [\"4\",\".\",\".\",\"8\",\".\",\"3\",\".\",\".\",\"1\"],\n",
    " [\"7\",\".\",\".\",\".\",\"2\",\".\",\".\",\".\",\"6\"],\n",
    " [\".\",\"6\",\".\",\".\",\".\",\".\",\"2\",\"8\",\".\"],\n",
    " [\".\",\".\",\".\",\"4\",\"1\",\"9\",\".\",\".\",\"5\"],\n",
    " [\".\",\".\",\".\",\".\",\"8\",\".\",\".\",\"7\",\"9\"]]"
   ]
  },
  {
   "cell_type": "code",
   "execution_count": 7,
   "id": "c30173aa",
   "metadata": {},
   "outputs": [
    {
     "data": {
      "text/plain": [
       "True"
      ]
     },
     "execution_count": 7,
     "metadata": {},
     "output_type": "execute_result"
    }
   ],
   "source": [
    "obj = Solution()\n",
    "obj.isValidSudoku(board)"
   ]
  },
  {
   "cell_type": "code",
   "execution_count": 8,
   "id": "cc9400e3",
   "metadata": {},
   "outputs": [
    {
     "name": "stdout",
     "output_type": "stream",
     "text": [
      "\n",
      "\n",
      " 0,0 => 0\n",
      " 0,1 => 0\n",
      " 0,2 => 0\n",
      " 0,3 => 1\n",
      " 0,4 => 1\n",
      " 0,5 => 1\n",
      " 0,6 => 2\n",
      " 0,7 => 2\n",
      " 0,8 => 2\n",
      "\n",
      "\n",
      " 1,0 => 0\n",
      " 1,1 => 0\n",
      " 1,2 => 0\n",
      " 1,3 => 1\n",
      " 1,4 => 1\n",
      " 1,5 => 1\n",
      " 1,6 => 2\n",
      " 1,7 => 2\n",
      " 1,8 => 2\n",
      "\n",
      "\n",
      " 2,0 => 0\n",
      " 2,1 => 0\n",
      " 2,2 => 0\n",
      " 2,3 => 1\n",
      " 2,4 => 1\n",
      " 2,5 => 1\n",
      " 2,6 => 2\n",
      " 2,7 => 2\n",
      " 2,8 => 2\n",
      "\n",
      "\n",
      " 3,0 => 3\n",
      " 3,1 => 3\n",
      " 3,2 => 3\n",
      " 3,3 => 4\n",
      " 3,4 => 4\n",
      " 3,5 => 4\n",
      " 3,6 => 5\n",
      " 3,7 => 5\n",
      " 3,8 => 5\n",
      "\n",
      "\n",
      " 4,0 => 3\n",
      " 4,1 => 3\n",
      " 4,2 => 3\n",
      " 4,3 => 4\n",
      " 4,4 => 4\n",
      " 4,5 => 4\n",
      " 4,6 => 5\n",
      " 4,7 => 5\n",
      " 4,8 => 5\n",
      "\n",
      "\n",
      " 5,0 => 3\n",
      " 5,1 => 3\n",
      " 5,2 => 3\n",
      " 5,3 => 4\n",
      " 5,4 => 4\n",
      " 5,5 => 4\n",
      " 5,6 => 5\n",
      " 5,7 => 5\n",
      " 5,8 => 5\n",
      "\n",
      "\n",
      " 6,0 => 6\n",
      " 6,1 => 6\n",
      " 6,2 => 6\n",
      " 6,3 => 7\n",
      " 6,4 => 7\n",
      " 6,5 => 7\n",
      " 6,6 => 8\n",
      " 6,7 => 8\n",
      " 6,8 => 8\n",
      "\n",
      "\n",
      " 7,0 => 6\n",
      " 7,1 => 6\n",
      " 7,2 => 6\n",
      " 7,3 => 7\n",
      " 7,4 => 7\n",
      " 7,5 => 7\n",
      " 7,6 => 8\n",
      " 7,7 => 8\n",
      " 7,8 => 8\n",
      "\n",
      "\n",
      " 8,0 => 6\n",
      " 8,1 => 6\n",
      " 8,2 => 6\n",
      " 8,3 => 7\n",
      " 8,4 => 7\n",
      " 8,5 => 7\n",
      " 8,6 => 8\n",
      " 8,7 => 8\n",
      " 8,8 => 8\n"
     ]
    }
   ],
   "source": [
    "for i in range(9):\n",
    "    print(\"\\n\")\n",
    "    for j in range(9):\n",
    "        print(f' {i},{j} => {(i//3)*3 + j//3 }')"
   ]
  },
  {
   "cell_type": "code",
   "execution_count": null,
   "id": "4dc7fc8d",
   "metadata": {},
   "outputs": [],
   "source": []
  }
 ],
 "metadata": {
  "kernelspec": {
   "display_name": "Python 3 (ipykernel)",
   "language": "python",
   "name": "python3"
  },
  "language_info": {
   "codemirror_mode": {
    "name": "ipython",
    "version": 3
   },
   "file_extension": ".py",
   "mimetype": "text/x-python",
   "name": "python",
   "nbconvert_exporter": "python",
   "pygments_lexer": "ipython3",
   "version": "3.10.6"
  }
 },
 "nbformat": 4,
 "nbformat_minor": 5
}
