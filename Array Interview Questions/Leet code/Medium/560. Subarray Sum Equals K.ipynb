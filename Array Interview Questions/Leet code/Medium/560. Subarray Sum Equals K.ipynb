{
 "cells": [
  {
   "cell_type": "code",
   "execution_count": null,
   "id": "842ff68a",
   "metadata": {},
   "outputs": [],
   "source": [
    "'''\n",
    "Given an array of integers nums and an integer k, return the total number of subarrays whose sum equals to k.\n",
    "\n",
    "A subarray is a contiguous non-empty sequence of elements within an array.\n",
    "\n",
    " \n",
    "\n",
    "Example 1:\n",
    "\n",
    "Input: nums = [1,1,1], k = 2\n",
    "Output: 2\n",
    "Example 2:\n",
    "\n",
    "Input: nums = [1,2,3], k = 3\n",
    "Output: 2\n",
    " \n",
    "\n",
    "Constraints:\n",
    "\n",
    "1 <= nums.length <= 2 * 104\n",
    "-1000 <= nums[i] <= 1000\n",
    "-107 <= k <= 107\n",
    "'''"
   ]
  },
  {
   "cell_type": "code",
   "execution_count": 39,
   "id": "c88a9af7",
   "metadata": {},
   "outputs": [],
   "source": [
    "# logic for \n",
    "class Solution(object):\n",
    "    def subarraySum(self, nums, k):\n",
    "        l = 0\n",
    "        length = len(nums)\n",
    "        total_sum = 0 \n",
    "        \n",
    "        for i in range(length):\n",
    "            for j in range(i+1,length+1):\n",
    "                print(nums[i:j])\n",
    "                if sum(nums[i:j]) == k:\n",
    "                    total_sum+=1\n",
    "        return total_sum\n",
    "            \n",
    "        \"\"\"\n",
    "        :type nums: List[int]\n",
    "        :type k: int\n",
    "        :rtype: int\n",
    "        \"\"\""
   ]
  },
  {
   "cell_type": "code",
   "execution_count": 40,
   "id": "21fcb64a",
   "metadata": {},
   "outputs": [],
   "source": [
    "nums = [1,1,1]\n",
    "k = 2 "
   ]
  },
  {
   "cell_type": "code",
   "execution_count": 41,
   "id": "41bd7a89",
   "metadata": {},
   "outputs": [
    {
     "data": {
      "text/plain": [
       "[1]"
      ]
     },
     "execution_count": 41,
     "metadata": {},
     "output_type": "execute_result"
    }
   ],
   "source": [
    "nums[0:1]"
   ]
  },
  {
   "cell_type": "code",
   "execution_count": 42,
   "id": "f19db2f9",
   "metadata": {},
   "outputs": [
    {
     "name": "stdout",
     "output_type": "stream",
     "text": [
      "[1]\n",
      "[1, 1]\n",
      "[1, 1, 1]\n",
      "[1]\n",
      "[1, 1]\n",
      "[1]\n"
     ]
    },
    {
     "data": {
      "text/plain": [
       "2"
      ]
     },
     "execution_count": 42,
     "metadata": {},
     "output_type": "execute_result"
    }
   ],
   "source": [
    "obj = Solution()\n",
    "obj.subarraySum(nums,k)"
   ]
  },
  {
   "cell_type": "code",
   "execution_count": 24,
   "id": "e31b7013",
   "metadata": {},
   "outputs": [
    {
     "data": {
      "text/plain": [
       "3"
      ]
     },
     "execution_count": 24,
     "metadata": {},
     "output_type": "execute_result"
    }
   ],
   "source": [
    "sum(nums)"
   ]
  },
  {
   "cell_type": "code",
   "execution_count": 25,
   "id": "30163b15",
   "metadata": {},
   "outputs": [
    {
     "data": {
      "text/plain": [
       "2"
      ]
     },
     "execution_count": 25,
     "metadata": {},
     "output_type": "execute_result"
    }
   ],
   "source": [
    "sum(nums[:2])"
   ]
  },
  {
   "cell_type": "code",
   "execution_count": 26,
   "id": "bb812185",
   "metadata": {},
   "outputs": [
    {
     "data": {
      "text/plain": [
       "3"
      ]
     },
     "execution_count": 26,
     "metadata": {},
     "output_type": "execute_result"
    }
   ],
   "source": [
    "sum(nums[:])"
   ]
  },
  {
   "cell_type": "code",
   "execution_count": null,
   "id": "f7ef4917",
   "metadata": {},
   "outputs": [],
   "source": [
    "# logic for \n",
    "class Solution(object):\n",
    "    def subarraySum(self, nums, k):\n",
    "        l = 0\n",
    "        length = len(nums)\n",
    "        total_sum = 0 \n",
    "        \n",
    "        for i in range(length):\n",
    "            for j in range(i+1,length+1):\n",
    "                print(nums[i:j])\n",
    "                if sum(nums[i:j]) == k:\n",
    "                    total_sum+=1\n",
    "        return total_sum\n",
    "            \n",
    "        \"\"\"\n",
    "        :type nums: List[int]\n",
    "        :type k: int\n",
    "        :rtype: int\n",
    "        \"\"\""
   ]
  }
 ],
 "metadata": {
  "kernelspec": {
   "display_name": "Python 3 (ipykernel)",
   "language": "python",
   "name": "python3"
  },
  "language_info": {
   "codemirror_mode": {
    "name": "ipython",
    "version": 3
   },
   "file_extension": ".py",
   "mimetype": "text/x-python",
   "name": "python",
   "nbconvert_exporter": "python",
   "pygments_lexer": "ipython3",
   "version": "3.10.6"
  }
 },
 "nbformat": 4,
 "nbformat_minor": 5
}
