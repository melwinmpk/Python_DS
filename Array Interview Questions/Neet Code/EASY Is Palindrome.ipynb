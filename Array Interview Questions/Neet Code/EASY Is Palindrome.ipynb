{
 "cells": [
  {
   "cell_type": "code",
   "execution_count": null,
   "id": "d0704ef2",
   "metadata": {},
   "outputs": [],
   "source": [
    "'''\n",
    "Is Palindrome\n",
    "Given a string s, return true if it is a palindrome, otherwise return false.\n",
    "\n",
    "A palindrome is a string that reads the same forward and backward. It is also case-insensitive and ignores all non-alphanumeric characters.\n",
    "\n",
    "Example 1:\n",
    "\n",
    "Input: s = \"Was it a car or a cat I saw?\"\n",
    "\n",
    "Output: true\n",
    "Explanation: After considering only alphanumerical characters we have \"wasitacaroracatisaw\", which is a palindrome.\n",
    "\n",
    "Example 2:\n",
    "\n",
    "Input: s = \"tab a cat\"\n",
    "\n",
    "Output: false\n",
    "Explanation: \"tabacat\" is not a palindrome.\n",
    "\n",
    "Constraints:\n",
    "\n",
    "1 <= s.length <= 1000\n",
    "s is made up of only printable ASCII characters.\n",
    "'''"
   ]
  },
  {
   "cell_type": "code",
   "execution_count": 35,
   "id": "e0398edd",
   "metadata": {},
   "outputs": [],
   "source": [
    "class Solution:\n",
    "    def isPalindrome(self, s: str) -> bool:\n",
    "        l,r = 0,len(s)-1\n",
    "        while l<r:\n",
    "            if not s[l].isalnum():\n",
    "                l+=1\n",
    "            if not s[r].isalnum():\n",
    "                r-=1 \n",
    "            if s[l].isalnum() and s[r].isalnum():\n",
    "                if s[l].upper() == s[r].upper():\n",
    "                    l+=1\n",
    "                    r-=1\n",
    "                    continue\n",
    "                else:\n",
    "                    return False\n",
    "   \n",
    "        return True "
   ]
  },
  {
   "cell_type": "code",
   "execution_count": 36,
   "id": "771cbf9b",
   "metadata": {},
   "outputs": [],
   "source": [
    "s=\"0P\""
   ]
  },
  {
   "cell_type": "code",
   "execution_count": 37,
   "id": "8ff6c3e5",
   "metadata": {},
   "outputs": [
    {
     "data": {
      "text/plain": [
       "False"
      ]
     },
     "execution_count": 37,
     "metadata": {},
     "output_type": "execute_result"
    }
   ],
   "source": [
    "obj = Solution()\n",
    "obj.isPalindrome(s)"
   ]
  },
  {
   "cell_type": "code",
   "execution_count": null,
   "id": "31d46933",
   "metadata": {},
   "outputs": [],
   "source": []
  }
 ],
 "metadata": {
  "kernelspec": {
   "display_name": "Python 3 (ipykernel)",
   "language": "python",
   "name": "python3"
  },
  "language_info": {
   "codemirror_mode": {
    "name": "ipython",
    "version": 3
   },
   "file_extension": ".py",
   "mimetype": "text/x-python",
   "name": "python",
   "nbconvert_exporter": "python",
   "pygments_lexer": "ipython3",
   "version": "3.10.6"
  }
 },
 "nbformat": 4,
 "nbformat_minor": 5
}
