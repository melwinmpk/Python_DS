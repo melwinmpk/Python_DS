{
 "cells": [
  {
   "cell_type": "code",
   "execution_count": null,
   "id": "d9f9dda7",
   "metadata": {},
   "outputs": [],
   "source": [
    "'''\n",
    "Two Integer Sum\n",
    "Given an array of integers nums and an integer target, return the indices i and j such that nums[i] + nums[j] == target and i != j.\n",
    "\n",
    "You may assume that every input has exactly one pair of indices i and j that satisfy the condition.\n",
    "\n",
    "Return the answer with the smaller index first.\n",
    "\n",
    "Example 1:\n",
    "\n",
    "Input: \n",
    "nums = [3,4,5,6], target = 7\n",
    "\n",
    "Output: [0,1]\n",
    "Explanation: nums[0] + nums[1] == 7, so we return [0, 1].\n",
    "\n",
    "Example 2:\n",
    "\n",
    "Input: nums = [4,5,6], target = 10\n",
    "\n",
    "Output: [0,2]\n",
    "Example 3:\n",
    "\n",
    "Input: nums = [5,5], target = 10\n",
    "\n",
    "Output: [0,1]\n",
    "Constraints:\n",
    "\n",
    "2 <= nums.length <= 1000\n",
    "-10,000,000 <= nums[i] <= 10,000,000\n",
    "-10,000,000 <= target <= 10,000,000\n",
    "'''"
   ]
  },
  {
   "cell_type": "code",
   "execution_count": 6,
   "id": "0e194398",
   "metadata": {},
   "outputs": [],
   "source": [
    "#\"if Array is Sorted this is the Solution\"\n",
    "class Solution:\n",
    "    def twoSum(self, nums, target):\n",
    "        l = 0\n",
    "        r = len(nums)-1\n",
    "\n",
    "        while l < r:\n",
    "            if nums[l]+nums[r] == target:\n",
    "                return [l,r]\n",
    "            elif abs(nums[l]+nums[r]) > abs(target):\n",
    "                r-=1\n",
    "            else:\n",
    "                l+=1\n",
    "        return [l,r]"
   ]
  },
  {
   "cell_type": "code",
   "execution_count": 7,
   "id": "742bb686",
   "metadata": {},
   "outputs": [],
   "source": [
    "nums=[-1,-2,-3,-4,-5]\n",
    "target=-8"
   ]
  },
  {
   "cell_type": "code",
   "execution_count": 8,
   "id": "fa6d51bc",
   "metadata": {},
   "outputs": [
    {
     "data": {
      "text/plain": [
       "[2, 4]"
      ]
     },
     "execution_count": 8,
     "metadata": {},
     "output_type": "execute_result"
    }
   ],
   "source": [
    "obj = Solution()\n",
    "obj.twoSum(nums,target)"
   ]
  },
  {
   "cell_type": "code",
   "execution_count": 10,
   "id": "470f29e7",
   "metadata": {},
   "outputs": [],
   "source": [
    "class Solution:\n",
    "    def twoSum(self, nums, target):\n",
    "        l = 0\n",
    "        length = len(nums)\n",
    "\n",
    "        for i in range(length):\n",
    "             for j in range(i+1,length):\n",
    "                if nums[i]+nums[j] == target: \n",
    "                    if i < j:\n",
    "                        return [i,j]\n",
    "                    else:\n",
    "                        return [j,i]\n",
    "        "
   ]
  },
  {
   "cell_type": "code",
   "execution_count": null,
   "id": "662a97d7",
   "metadata": {},
   "outputs": [],
   "source": []
  }
 ],
 "metadata": {
  "kernelspec": {
   "display_name": "Python 3 (ipykernel)",
   "language": "python",
   "name": "python3"
  },
  "language_info": {
   "codemirror_mode": {
    "name": "ipython",
    "version": 3
   },
   "file_extension": ".py",
   "mimetype": "text/x-python",
   "name": "python",
   "nbconvert_exporter": "python",
   "pygments_lexer": "ipython3",
   "version": "3.10.6"
  }
 },
 "nbformat": 4,
 "nbformat_minor": 5
}
