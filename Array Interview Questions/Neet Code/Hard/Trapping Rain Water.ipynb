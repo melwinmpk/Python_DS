{
 "cells": [
  {
   "cell_type": "code",
   "execution_count": null,
   "id": "fc39593f",
   "metadata": {},
   "outputs": [],
   "source": [
    "'''\n",
    "Trapping Rain Water\n",
    "Solved \n",
    "You are given an array non-negative integers heights which represent an elevation map. Each value heights[i] represents the height of a bar, which has a width of 1.\n",
    "\n",
    "Return the maximum area of water that can be trapped between the bars.\n",
    "\n",
    "Example 1:\n",
    "\n",
    "\n",
    "\n",
    "Input: height = [0,2,0,3,1,0,1,3,2,1]\n",
    "\n",
    "Output: 9\n",
    "Constraints:\n",
    "\n",
    "1 <= height.length <= 1000\n",
    "0 <= height[i] <= 1000\n",
    "'''"
   ]
  },
  {
   "cell_type": "markdown",
   "id": "ad968aa9",
   "metadata": {},
   "source": [
    "<img src='https://imagedelivery.net/CLfkmk9Wzy8_9HRyug4EVA/0c25cb81-1095-4382-fff2-6ef77c1fd100/public'>"
   ]
  },
  {
   "cell_type": "markdown",
   "id": "1bfd0bdc",
   "metadata": {},
   "source": [
    "https://www.youtube.com/watch?v=ZI2z5pq0TqA"
   ]
  },
  {
   "cell_type": "code",
   "execution_count": 5,
   "id": "6e272766",
   "metadata": {},
   "outputs": [],
   "source": [
    "class Solution:\n",
    "    def trap(self, height):\n",
    "        l,r = 0,len(height)-1\n",
    "        maxLeft,maxRight = height[l],height[r]\n",
    "        area = 0\n",
    "        \n",
    "        while l < r:\n",
    "            if height[l] < height[r]:\n",
    "                l+=1\n",
    "                maxLeft = max(maxLeft,height[l])\n",
    "                area += maxLeft - height[l]\n",
    "            else:\n",
    "                r-=1\n",
    "                maxRight = max(maxRight,height[r])\n",
    "                area += maxRight - height[r]\n",
    "        return area"
   ]
  },
  {
   "cell_type": "code",
   "execution_count": 6,
   "id": "5012be15",
   "metadata": {},
   "outputs": [],
   "source": [
    "height = [0,2,0,3,1,0,1,3,2,1]"
   ]
  },
  {
   "cell_type": "code",
   "execution_count": 7,
   "id": "d335718b",
   "metadata": {},
   "outputs": [
    {
     "data": {
      "text/plain": [
       "9"
      ]
     },
     "execution_count": 7,
     "metadata": {},
     "output_type": "execute_result"
    }
   ],
   "source": [
    "obj = Solution()\n",
    "obj.trap(height)"
   ]
  },
  {
   "cell_type": "code",
   "execution_count": null,
   "id": "f624d128",
   "metadata": {},
   "outputs": [],
   "source": []
  }
 ],
 "metadata": {
  "kernelspec": {
   "display_name": "Python 3 (ipykernel)",
   "language": "python",
   "name": "python3"
  },
  "language_info": {
   "codemirror_mode": {
    "name": "ipython",
    "version": 3
   },
   "file_extension": ".py",
   "mimetype": "text/x-python",
   "name": "python",
   "nbconvert_exporter": "python",
   "pygments_lexer": "ipython3",
   "version": "3.10.6"
  }
 },
 "nbformat": 4,
 "nbformat_minor": 5
}
