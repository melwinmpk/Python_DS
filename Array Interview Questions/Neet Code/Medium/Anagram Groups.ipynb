{
 "cells": [
  {
   "cell_type": "code",
   "execution_count": null,
   "id": "bc4ee181",
   "metadata": {},
   "outputs": [],
   "source": [
    "'''\n",
    "Anagram Groups\n",
    "\n",
    "Anagram Groups\n",
    "Given an array of strings strs, group all anagrams together into sublists. You may return the output in any order.\n",
    "\n",
    "An anagram is a string that contains the exact same characters as another string, but the order of the characters can be different.\n",
    "\n",
    "Example 1:\n",
    "\n",
    "Input: strs = [\"act\",\"pots\",\"tops\",\"cat\",\"stop\",\"hat\"]\n",
    "\n",
    "Output: [[\"hat\"],[\"act\", \"cat\"],[\"stop\", \"pots\", \"tops\"]]\n",
    "Example 2:\n",
    "\n",
    "Input: strs = [\"x\"]\n",
    "\n",
    "Output: [[\"x\"]]\n",
    "Example 3:\n",
    "\n",
    "Input: strs = [\"\"]\n",
    "\n",
    "Output: [[\"\"]]\n",
    "Constraints:\n",
    "\n",
    "1 <= strs.length <= 1000.\n",
    "0 <= strs[i].length <= 100\n",
    "strs[i] is made up of lowercase English letters.\n",
    "\n",
    "'''"
   ]
  },
  {
   "cell_type": "code",
   "execution_count": 52,
   "id": "569a5a4a",
   "metadata": {},
   "outputs": [],
   "source": [
    "from collections import Counter\n",
    "class Solution:\n",
    "    def groupAnagrams(self, strs):\n",
    "        result_dict = {}\n",
    "        for i in strs:\n",
    "            temp = list(i)\n",
    "            temp.sort()\n",
    "            temp = ''.join(temp)\n",
    "            \n",
    "            if temp in result_dict.keys():\n",
    "                result_dict[temp].append(i)\n",
    "                continue\n",
    "            result_dict[temp] = []\n",
    "            result_dict[temp].append(i)\n",
    "        return list(result_dict.values())"
   ]
  },
  {
   "cell_type": "code",
   "execution_count": 53,
   "id": "cdf27c95",
   "metadata": {},
   "outputs": [],
   "source": [
    "strs = [\"act\",\"pots\",\"tops\",\"cat\",\"stop\",\"hat\"]"
   ]
  },
  {
   "cell_type": "code",
   "execution_count": 54,
   "id": "6bf1cddf",
   "metadata": {},
   "outputs": [
    {
     "data": {
      "text/plain": [
       "[['act', 'cat'], ['pots', 'tops', 'stop'], ['hat']]"
      ]
     },
     "execution_count": 54,
     "metadata": {},
     "output_type": "execute_result"
    }
   ],
   "source": [
    "obj = Solution()\n",
    "obj.groupAnagrams(strs)"
   ]
  },
  {
   "cell_type": "code",
   "execution_count": 33,
   "id": "6d31e594",
   "metadata": {},
   "outputs": [
    {
     "name": "stdout",
     "output_type": "stream",
     "text": [
      "['a', 'c', 't']\n",
      "act\n"
     ]
    }
   ],
   "source": [
    "strs = \"act\"\n",
    "temp = list(strs)\n",
    "temp.sort()\n",
    "print(temp)\n",
    "print(''.join(temp))"
   ]
  },
  {
   "cell_type": "code",
   "execution_count": null,
   "id": "91cb05a7",
   "metadata": {},
   "outputs": [],
   "source": []
  }
 ],
 "metadata": {
  "kernelspec": {
   "display_name": "Python 3 (ipykernel)",
   "language": "python",
   "name": "python3"
  },
  "language_info": {
   "codemirror_mode": {
    "name": "ipython",
    "version": 3
   },
   "file_extension": ".py",
   "mimetype": "text/x-python",
   "name": "python",
   "nbconvert_exporter": "python",
   "pygments_lexer": "ipython3",
   "version": "3.10.6"
  }
 },
 "nbformat": 4,
 "nbformat_minor": 5
}
