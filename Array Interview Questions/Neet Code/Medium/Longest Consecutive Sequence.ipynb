{
 "cells": [
  {
   "cell_type": "code",
   "execution_count": null,
   "id": "81d794b9",
   "metadata": {},
   "outputs": [],
   "source": [
    "'''\n",
    "Longest Consecutive Sequence\n",
    "Given an array of integers nums, return the length of the longest consecutive sequence of elements.\n",
    "\n",
    "A consecutive sequence is a sequence of elements in which each element is exactly 1 greater than the previous element.\n",
    "\n",
    "You must write an algorithm that runs in O(n) time.\n",
    "\n",
    "Example 1:\n",
    "\n",
    "Input: nums = [2,20,4,10,3,4,5]\n",
    "\n",
    "Output: 4\n",
    "Explanation: The longest consecutive sequence is [2, 3, 4, 5].\n",
    "\n",
    "Example 2:\n",
    "\n",
    "Input: nums = [0,3,2,5,4,6,1,1]\n",
    "\n",
    "Output: 7\n",
    "Constraints:\n",
    "\n",
    "0 <= nums.length <= 1000\n",
    "-10^9 <= nums[i] <= 10^9\n",
    "'''"
   ]
  },
  {
   "cell_type": "code",
   "execution_count": 20,
   "id": "e0d3dd88",
   "metadata": {},
   "outputs": [],
   "source": [
    "class Solution:\n",
    "    def longestConsecutive(self, nums):\n",
    "        largest_index = 0\n",
    "        largest_length = 0\n",
    "        cur_length = 0\n",
    "        cur_index = 0\n",
    "        for i in  range(1,len(nums)):\n",
    "            \n",
    "            if nums[i-1]+1 == nums[i]:\n",
    "                if cur_length == 0:\n",
    "                    cur_index = i-1\n",
    "                cur_length+=1\n",
    "                if largest_length < cur_length:\n",
    "                    largest_length = cur_length\n",
    "                    largest_index = cur_index\n",
    "            else:\n",
    "                cur_length = 0\n",
    "        return largest_index"
   ]
  },
  {
   "cell_type": "code",
   "execution_count": 21,
   "id": "2c7d674f",
   "metadata": {},
   "outputs": [],
   "source": [
    "nums=[2,20,4,10,3,4,5]"
   ]
  },
  {
   "cell_type": "code",
   "execution_count": 22,
   "id": "da81fd75",
   "metadata": {},
   "outputs": [
    {
     "data": {
      "text/plain": [
       "4"
      ]
     },
     "execution_count": 22,
     "metadata": {},
     "output_type": "execute_result"
    }
   ],
   "source": [
    "obj = Solution()\n",
    "obj.longestConsecutive(nums)"
   ]
  },
  {
   "cell_type": "code",
   "execution_count": 23,
   "id": "4e960e87",
   "metadata": {},
   "outputs": [],
   "source": [
    "nums = [0,3,2,5,4,6,1,1]"
   ]
  },
  {
   "cell_type": "code",
   "execution_count": 24,
   "id": "3e2cd902",
   "metadata": {},
   "outputs": [
    {
     "data": {
      "text/plain": [
       "0"
      ]
     },
     "execution_count": 24,
     "metadata": {},
     "output_type": "execute_result"
    }
   ],
   "source": [
    "obj = Solution()\n",
    "obj.longestConsecutive(nums)"
   ]
  },
  {
   "cell_type": "code",
   "execution_count": null,
   "id": "1f7ed024",
   "metadata": {},
   "outputs": [],
   "source": []
  }
 ],
 "metadata": {
  "kernelspec": {
   "display_name": "Python 3 (ipykernel)",
   "language": "python",
   "name": "python3"
  },
  "language_info": {
   "codemirror_mode": {
    "name": "ipython",
    "version": 3
   },
   "file_extension": ".py",
   "mimetype": "text/x-python",
   "name": "python",
   "nbconvert_exporter": "python",
   "pygments_lexer": "ipython3",
   "version": "3.10.6"
  }
 },
 "nbformat": 4,
 "nbformat_minor": 5
}
