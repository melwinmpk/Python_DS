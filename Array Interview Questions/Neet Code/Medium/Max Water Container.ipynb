{
 "cells": [
  {
   "cell_type": "code",
   "execution_count": null,
   "id": "eee7de2a",
   "metadata": {},
   "outputs": [],
   "source": [
    "'''\n",
    "Max Water Container\n",
    "You are given an integer array heights where heights[i] represents the height of the \n",
    "i\n",
    "t\n",
    "h\n",
    "i \n",
    "th\n",
    "  bar.\n",
    "\n",
    "You may choose any two bars to form a container. Return the maximum amount of water a container can store.\n",
    "\n",
    "Example 1:\n",
    "\n",
    "\n",
    "\n",
    "Input: height = [1,7,2,5,4,7,3,6]\n",
    "\n",
    "Output: 36\n",
    "Example 2:\n",
    "\n",
    "Input: height = [2,2,2]\n",
    "\n",
    "Output: 4\n",
    "Constraints:\n",
    "\n",
    "2 <= height.length <= 1000\n",
    "0 <= height[i] <= 1000\n",
    "\n",
    "'''"
   ]
  },
  {
   "cell_type": "code",
   "execution_count": 5,
   "id": "b3b6548b",
   "metadata": {},
   "outputs": [],
   "source": [
    "class Solution:\n",
    "    def maxArea(self, heights):\n",
    "        l,r = 0, len(heights)-1\n",
    "        maxarea = 0\n",
    "        while l < r:\n",
    "            area = (r-l)*(min(heights[l],heights[r]))\n",
    "            maxarea = max(maxarea,area)\n",
    "            \n",
    "            if heights[r] > heights[l]:\n",
    "                l+=1\n",
    "            else:\n",
    "                r-=1\n",
    "        return maxarea\n",
    "\n",
    "        "
   ]
  },
  {
   "cell_type": "code",
   "execution_count": 6,
   "id": "33d3e3cc",
   "metadata": {},
   "outputs": [],
   "source": [
    "height = [1,7,2,5,4,7,3,6]"
   ]
  },
  {
   "cell_type": "code",
   "execution_count": 7,
   "id": "a263356e",
   "metadata": {},
   "outputs": [
    {
     "data": {
      "text/plain": [
       "36"
      ]
     },
     "execution_count": 7,
     "metadata": {},
     "output_type": "execute_result"
    }
   ],
   "source": [
    "obj = Solution()\n",
    "obj.maxArea(height)"
   ]
  },
  {
   "cell_type": "code",
   "execution_count": 8,
   "id": "99c2d09f",
   "metadata": {},
   "outputs": [],
   "source": [
    "height = [2,2,2]"
   ]
  },
  {
   "cell_type": "code",
   "execution_count": 9,
   "id": "1ecb41d8",
   "metadata": {},
   "outputs": [
    {
     "data": {
      "text/plain": [
       "4"
      ]
     },
     "execution_count": 9,
     "metadata": {},
     "output_type": "execute_result"
    }
   ],
   "source": [
    "obj = Solution()\n",
    "obj.maxArea(height)"
   ]
  },
  {
   "cell_type": "code",
   "execution_count": null,
   "id": "5ce6929c",
   "metadata": {},
   "outputs": [],
   "source": []
  }
 ],
 "metadata": {
  "kernelspec": {
   "display_name": "Python 3 (ipykernel)",
   "language": "python",
   "name": "python3"
  },
  "language_info": {
   "codemirror_mode": {
    "name": "ipython",
    "version": 3
   },
   "file_extension": ".py",
   "mimetype": "text/x-python",
   "name": "python",
   "nbconvert_exporter": "python",
   "pygments_lexer": "ipython3",
   "version": "3.10.6"
  }
 },
 "nbformat": 4,
 "nbformat_minor": 5
}
