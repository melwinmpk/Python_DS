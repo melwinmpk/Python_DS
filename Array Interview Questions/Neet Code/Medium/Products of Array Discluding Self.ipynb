{
 "cells": [
  {
   "cell_type": "code",
   "execution_count": null,
   "id": "7f0698d5",
   "metadata": {},
   "outputs": [],
   "source": [
    "'''\n",
    "Products of Array Discluding Self\n",
    "Given an integer array nums, return an array output where output[i] is the product of all the elements of nums except nums[i].\n",
    "\n",
    "Each product is guaranteed to fit in a 32-bit integer.\n",
    "\n",
    "Follow-up: Could you solve it in \n",
    "O\n",
    "(\n",
    "n\n",
    ")\n",
    "O(n) time without using the division operation?\n",
    "\n",
    "Example 1:\n",
    "\n",
    "Input: nums = [1,2,4,6]\n",
    "\n",
    "Output: [48,24,12,8]\n",
    "Example 2:\n",
    "\n",
    "Input: nums = [-1,0,1,2,3]\n",
    "\n",
    "Output: [0,-6,0,0,0]\n",
    "Constraints:\n",
    "\n",
    "2 <= nums.length <= 1000\n",
    "-20 <= nums[i] <= 20\n",
    "'''"
   ]
  },
  {
   "cell_type": "markdown",
   "id": "3773f77d",
   "metadata": {},
   "source": [
    "Video explanation \n",
    "\n",
    "https://www.youtube.com/watch?v=bNvIQI2wAjk"
   ]
  },
  {
   "cell_type": "code",
   "execution_count": 10,
   "id": "ce6e8a10",
   "metadata": {},
   "outputs": [],
   "source": [
    "class Solution:\n",
    "    def productExceptSelf(self, nums):\n",
    "        prefix = 1\n",
    "        result = [1 for i in nums]\n",
    "        postfix = 1\n",
    "        index = 1\n",
    "        while index < len(nums):\n",
    "            prefix*=nums[index-1]\n",
    "            result[index] = prefix\n",
    "            index+=1\n",
    "        #print(result)\n",
    "        index = len(nums) -2\n",
    "        while index >= 0:\n",
    "            postfix*=nums[index+1]\n",
    "            result[index]*=postfix\n",
    "            index-=1\n",
    "        #print(result)\n",
    "        return result\n",
    "        "
   ]
  },
  {
   "cell_type": "code",
   "execution_count": 11,
   "id": "e0beb73f",
   "metadata": {},
   "outputs": [],
   "source": [
    "nums = [1,2,4,6]"
   ]
  },
  {
   "cell_type": "code",
   "execution_count": 12,
   "id": "da8e8309",
   "metadata": {},
   "outputs": [
    {
     "name": "stdout",
     "output_type": "stream",
     "text": [
      "[1, 1, 2, 8]\n",
      "[48, 24, 12, 8]\n",
      "[48, 24, 12, 8]\n"
     ]
    }
   ],
   "source": [
    "obj = Solution()\n",
    "print(obj.productExceptSelf(nums))"
   ]
  },
  {
   "cell_type": "code",
   "execution_count": 14,
   "id": "c0eef53f",
   "metadata": {
    "scrolled": false
   },
   "outputs": [
    {
     "data": {
      "text/plain": [
       "'Optimal one'"
      ]
     },
     "execution_count": 14,
     "metadata": {},
     "output_type": "execute_result"
    }
   ],
   "source": []
  },
  {
   "cell_type": "code",
   "execution_count": 17,
   "id": "f968f787",
   "metadata": {},
   "outputs": [
    {
     "name": "stdout",
     "output_type": "stream",
     "text": [
      "3\n",
      "2\n",
      "1\n",
      "0\n"
     ]
    }
   ],
   "source": [
    "for index in range(len(nums) -1,-1,-1):\n",
    "    print(index)"
   ]
  },
  {
   "cell_type": "code",
   "execution_count": 27,
   "id": "d33d67ae",
   "metadata": {},
   "outputs": [],
   "source": [
    "'''Optimal one'''\n",
    "class Solution:\n",
    "    def productExceptSelf(self, nums):\n",
    "        prefix = 1\n",
    "        result = [1 for i in nums]\n",
    "        postfix = 1\n",
    "        for index in range(len(nums)):\n",
    "            result[index] = prefix\n",
    "            prefix *= nums[index]\n",
    "        print(result)    \n",
    "        for index in range(len(nums) -1,-1,-1):\n",
    "            result[index]*=postfix\n",
    "            postfix*=nums[index]\n",
    "            \n",
    "        print(result)\n",
    "        return result"
   ]
  },
  {
   "cell_type": "code",
   "execution_count": 28,
   "id": "103a7540",
   "metadata": {},
   "outputs": [],
   "source": [
    "nums = [1,2,4,6]"
   ]
  },
  {
   "cell_type": "code",
   "execution_count": 29,
   "id": "0b2cef56",
   "metadata": {},
   "outputs": [
    {
     "name": "stdout",
     "output_type": "stream",
     "text": [
      "[1, 1, 2, 8]\n",
      "[48, 24, 12, 8]\n",
      "[48, 24, 12, 8]\n"
     ]
    }
   ],
   "source": [
    "obj = Solution()\n",
    "print(obj.productExceptSelf(nums))"
   ]
  },
  {
   "cell_type": "code",
   "execution_count": null,
   "id": "57a70653",
   "metadata": {},
   "outputs": [],
   "source": []
  }
 ],
 "metadata": {
  "kernelspec": {
   "display_name": "Python 3 (ipykernel)",
   "language": "python",
   "name": "python3"
  },
  "language_info": {
   "codemirror_mode": {
    "name": "ipython",
    "version": 3
   },
   "file_extension": ".py",
   "mimetype": "text/x-python",
   "name": "python",
   "nbconvert_exporter": "python",
   "pygments_lexer": "ipython3",
   "version": "3.10.6"
  }
 },
 "nbformat": 4,
 "nbformat_minor": 5
}
