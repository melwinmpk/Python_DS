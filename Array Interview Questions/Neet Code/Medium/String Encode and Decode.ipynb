{
 "cells": [
  {
   "cell_type": "code",
   "execution_count": null,
   "id": "f8dc91f5",
   "metadata": {},
   "outputs": [],
   "source": [
    "'''\n",
    "String Encode and Decode\n",
    "Design an algorithm to encode a list of strings to a single string. The encoded string is then decoded back to the original list of strings.\n",
    "\n",
    "Please implement encode and decode\n",
    "\n",
    "Example 1:\n",
    "\n",
    "Input: [\"neet\",\"code\",\"love\",\"you\"]\n",
    "\n",
    "Output:[\"neet\",\"code\",\"love\",\"you\"]\n",
    "Example 2:\n",
    "\n",
    "Input: [\"we\",\"say\",\":\",\"yes\"]\n",
    "\n",
    "Output: [\"we\",\"say\",\":\",\"yes\"]\n",
    "Constraints:\n",
    "\n",
    "0 <= strs.length < 100\n",
    "0 <= strs[i].length < 200\n",
    "strs[i] contains only UTF-8 characters.\n",
    "'''"
   ]
  },
  {
   "cell_type": "markdown",
   "id": "26e71dff",
   "metadata": {},
   "source": [
    "#Problem explain \n",
    "'https://www.youtube.com/watch?v=B1k_sxOSgv8'"
   ]
  },
  {
   "cell_type": "code",
   "execution_count": 78,
   "id": "a3274884",
   "metadata": {},
   "outputs": [],
   "source": [
    "'''My Solution'''\n",
    "class Solution:\n",
    "\n",
    "    def encode(self, strs):\n",
    "        result = ''\n",
    "        for i in strs:\n",
    "            result+=f'{len(i)}#{i}'\n",
    "        return result\n",
    "\n",
    "    def decode(self, s) :\n",
    "        index = 0\n",
    "        num_len = 0\n",
    "        result = []\n",
    "        while index < len(s):\n",
    "            num_len = 0\n",
    "            for i in s[index:]:\n",
    "                if i.isdigit():\n",
    "                    num_len+=1\n",
    "                    continue\n",
    "                break\n",
    "            \n",
    "            #print(s[index+num_len+1:index+num_len+1+int(s[index:index+num_len])])\n",
    "            \n",
    "            result.append( s[index+num_len+1:index+num_len+1+int(s[index:index+num_len])])\n",
    "            index += (num_len+1+int(s[index:index+num_len]))\n",
    "            \n",
    "            #print(index)\n",
    "        return result"
   ]
  },
  {
   "cell_type": "code",
   "execution_count": 79,
   "id": "08b49c81",
   "metadata": {},
   "outputs": [],
   "source": [
    "strs = [\"neet\",\"code\",\"love\",\"you\"]"
   ]
  },
  {
   "cell_type": "code",
   "execution_count": 80,
   "id": "75d28a36",
   "metadata": {},
   "outputs": [
    {
     "data": {
      "text/plain": [
       "'4#neet4#code4#love3#you'"
      ]
     },
     "execution_count": 80,
     "metadata": {},
     "output_type": "execute_result"
    }
   ],
   "source": [
    "obj = Solution()\n",
    "obj.encode(strs)"
   ]
  },
  {
   "cell_type": "code",
   "execution_count": 81,
   "id": "19f1003c",
   "metadata": {},
   "outputs": [],
   "source": [
    "s= '4#neet4#code4#love3#you'"
   ]
  },
  {
   "cell_type": "code",
   "execution_count": 82,
   "id": "d425c6ed",
   "metadata": {},
   "outputs": [
    {
     "data": {
      "text/plain": [
       "'neet'"
      ]
     },
     "execution_count": 82,
     "metadata": {},
     "output_type": "execute_result"
    }
   ],
   "source": [
    "s[0+1+1:0+1+1+int(s[0:0+1])]"
   ]
  },
  {
   "cell_type": "code",
   "execution_count": 83,
   "id": "02280d4c",
   "metadata": {},
   "outputs": [
    {
     "data": {
      "text/plain": [
       "['neet', 'code', 'love', 'you']"
      ]
     },
     "execution_count": 83,
     "metadata": {},
     "output_type": "execute_result"
    }
   ],
   "source": [
    "obj.decode(s)"
   ]
  },
  {
   "cell_type": "code",
   "execution_count": null,
   "id": "b67ddd2a",
   "metadata": {},
   "outputs": [],
   "source": [
    "'''Simpalar way '''"
   ]
  },
  {
   "cell_type": "code",
   "execution_count": 88,
   "id": "2531fae6",
   "metadata": {},
   "outputs": [],
   "source": [
    "'''Optmized Solution'''\n",
    "class Solution:\n",
    "\n",
    "    def encode(self, strs):\n",
    "        result = ''\n",
    "        for i in strs:\n",
    "            result+=f'{len(i)}#{i}'\n",
    "        return result\n",
    "\n",
    "    def decode(self, s) :\n",
    "        index = 0\n",
    "        num_len = 0\n",
    "        result = []\n",
    "        while index < len(s):\n",
    "            num_len = 0\n",
    "            j = index\n",
    "            while s[j] != '#':\n",
    "                j += 1\n",
    "            word_len = int(s[index:j])\n",
    "            \n",
    "            result.append(s[j+1: j+1 +word_len])\n",
    "            \n",
    "            #print(s[index+num_len+1:index+num_len+1+int(s[index:index+num_len])])\n",
    "            \n",
    "            #result.append( s[index+num_len+1:index+num_len+1+int(s[index:index+num_len])])\n",
    "            index = (j +1+word_len)\n",
    "            \n",
    "            #print(index)\n",
    "        return result"
   ]
  },
  {
   "cell_type": "code",
   "execution_count": 89,
   "id": "bd9094d9",
   "metadata": {},
   "outputs": [],
   "source": [
    "strs = [\"neet\",\"code\",\"love\",\"you\"]"
   ]
  },
  {
   "cell_type": "code",
   "execution_count": 90,
   "id": "f6daab39",
   "metadata": {},
   "outputs": [
    {
     "data": {
      "text/plain": [
       "'4#neet4#code4#love3#you'"
      ]
     },
     "execution_count": 90,
     "metadata": {},
     "output_type": "execute_result"
    }
   ],
   "source": [
    "obj = Solution()\n",
    "obj.encode(strs)"
   ]
  },
  {
   "cell_type": "code",
   "execution_count": 91,
   "id": "a1c1d0ee",
   "metadata": {},
   "outputs": [
    {
     "data": {
      "text/plain": [
       "['neet', 'code', 'love', 'you']"
      ]
     },
     "execution_count": 91,
     "metadata": {},
     "output_type": "execute_result"
    }
   ],
   "source": [
    "obj.decode(s)"
   ]
  },
  {
   "cell_type": "code",
   "execution_count": null,
   "id": "5eb0b742",
   "metadata": {},
   "outputs": [],
   "source": []
  }
 ],
 "metadata": {
  "kernelspec": {
   "display_name": "Python 3 (ipykernel)",
   "language": "python",
   "name": "python3"
  },
  "language_info": {
   "codemirror_mode": {
    "name": "ipython",
    "version": 3
   },
   "file_extension": ".py",
   "mimetype": "text/x-python",
   "name": "python",
   "nbconvert_exporter": "python",
   "pygments_lexer": "ipython3",
   "version": "3.10.6"
  }
 },
 "nbformat": 4,
 "nbformat_minor": 5
}
