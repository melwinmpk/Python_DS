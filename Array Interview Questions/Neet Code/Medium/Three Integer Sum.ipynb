{
 "cells": [
  {
   "cell_type": "code",
   "execution_count": null,
   "id": "a5171d5f",
   "metadata": {},
   "outputs": [],
   "source": [
    "'''\n",
    "Three Integer Sum\n",
    "Given an integer array nums, return all the triplets \n",
    "[nums[i], nums[j], nums[k]] where nums[i] + nums[j] + nums[k] == 0, \n",
    "and the indices i, j and k are all distinct.\n",
    "\n",
    "The output should not contain any duplicate triplets. You may return the output and the triplets in any order.\n",
    "\n",
    "Example 1:\n",
    "\n",
    "Input: nums = [-1,0,1,2,-1,-4]\n",
    "\n",
    "Output: [[-1,-1,2],[-1,0,1]]\n",
    "Explanation:\n",
    "nums[0] + nums[1] + nums[2] = (-1) + 0 + 1 = 0.\n",
    "nums[1] + nums[2] + nums[4] = 0 + 1 + (-1) = 0.\n",
    "nums[0] + nums[3] + nums[4] = (-1) + 2 + (-1) = 0.\n",
    "The distinct triplets are [-1,0,1] and [-1,-1,2].\n",
    "\n",
    "Example 2:\n",
    "\n",
    "Input: nums = [0,1,1]\n",
    "\n",
    "Output: []\n",
    "Explanation: The only possible triplet does not sum up to 0.\n",
    "\n",
    "Example 3:\n",
    "\n",
    "Input: nums = [0,0,0]\n",
    "\n",
    "Output: [[0,0,0]]\n",
    "Explanation: The only possible triplet sums up to 0.\n",
    "\n",
    "Constraints:\n",
    "\n",
    "3 <= nums.length <= 1000\n",
    "-10^5 <= nums[i] <= 10^5\n",
    "'''"
   ]
  },
  {
   "cell_type": "code",
   "execution_count": 34,
   "id": "06b7b150",
   "metadata": {},
   "outputs": [],
   "source": [
    "class Solution:\n",
    "    def threeSum(self, nums):\n",
    "        result = []\n",
    "        l,r = 0,len(nums)-1\n",
    "        \n",
    "        while l+1 < r:\n",
    "            for i in nums[l+1:r]:\n",
    "                \n",
    "                print(nums[l],i,nums[r])\n",
    "                if i+nums[l]+nums[r] == 0:\n",
    "                    result.append([nums[l],i,nums[r]])\n",
    "            l+=1\n",
    "            r-=1\n",
    "        \n",
    "        return result"
   ]
  },
  {
   "cell_type": "code",
   "execution_count": 35,
   "id": "72982d1e",
   "metadata": {},
   "outputs": [],
   "source": [
    "nums = [-1,0,1,2,-1,-4]"
   ]
  },
  {
   "cell_type": "code",
   "execution_count": 36,
   "id": "73ad066f",
   "metadata": {},
   "outputs": [
    {
     "name": "stdout",
     "output_type": "stream",
     "text": [
      "-1 0 -4\n",
      "-1 1 -4\n",
      "-1 2 -4\n",
      "-1 -1 -4\n",
      "0 1 -1\n",
      "0 2 -1\n"
     ]
    },
    {
     "data": {
      "text/plain": [
       "[[0, 1, -1]]"
      ]
     },
     "execution_count": 36,
     "metadata": {},
     "output_type": "execute_result"
    }
   ],
   "source": [
    "obj = Solution()\n",
    "obj.threeSum(nums)"
   ]
  },
  {
   "cell_type": "code",
   "execution_count": 23,
   "id": "9e769277",
   "metadata": {},
   "outputs": [],
   "source": [
    "'''Optimal Solution'''\n",
    "class Solution:\n",
    "    def threeSum(self, nums):\n",
    "        result = []\n",
    "        l,r = 0,len(nums)-1\n",
    "        nums.sort()\n",
    "        \n",
    "        for i in range(len(nums)-1):\n",
    "            if i > 0 and nums[i] == nums[i-1]:\n",
    "                # this condition is to skip the same no's\n",
    "                continue\n",
    "            l,r = i+1,len(nums)-1\n",
    "            while l < r:\n",
    "                if nums[l]+nums[r]+nums[i] == 0:\n",
    "                    result.append([nums[i],nums[l],nums[r]])\n",
    "                    l+=1\n",
    "                    \n",
    "                    while l < r and nums[l] == nums[l-1]:\n",
    "                        # this loop is to skip all the repetative No's\n",
    "                        l+=1\n",
    "                elif nums[l]+nums[r]+nums[i] < 0:\n",
    "                    l+=1\n",
    "                else:\n",
    "                    r-=1\n",
    "        \n",
    "        return result"
   ]
  },
  {
   "cell_type": "code",
   "execution_count": 24,
   "id": "9e622c33",
   "metadata": {},
   "outputs": [],
   "source": [
    "nums = [-1,0,1,2,-1,-4]"
   ]
  },
  {
   "cell_type": "code",
   "execution_count": 25,
   "id": "df1f255d",
   "metadata": {},
   "outputs": [
    {
     "data": {
      "text/plain": [
       "[[-1, -1, 2], [-1, 0, 1]]"
      ]
     },
     "execution_count": 25,
     "metadata": {},
     "output_type": "execute_result"
    }
   ],
   "source": [
    "obj = Solution()\n",
    "obj.threeSum(nums)"
   ]
  },
  {
   "cell_type": "code",
   "execution_count": null,
   "id": "0b77c058",
   "metadata": {},
   "outputs": [],
   "source": []
  }
 ],
 "metadata": {
  "kernelspec": {
   "display_name": "Python 3 (ipykernel)",
   "language": "python",
   "name": "python3"
  },
  "language_info": {
   "codemirror_mode": {
    "name": "ipython",
    "version": 3
   },
   "file_extension": ".py",
   "mimetype": "text/x-python",
   "name": "python",
   "nbconvert_exporter": "python",
   "pygments_lexer": "ipython3",
   "version": "3.10.6"
  }
 },
 "nbformat": 4,
 "nbformat_minor": 5
}
