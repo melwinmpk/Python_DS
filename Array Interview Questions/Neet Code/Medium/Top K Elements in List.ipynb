{
 "cells": [
  {
   "cell_type": "code",
   "execution_count": null,
   "id": "ee34d185",
   "metadata": {},
   "outputs": [],
   "source": [
    "'''\n",
    "Top K Elements in List\n",
    "Given an integer array nums and an integer k, return the k most frequent elements within the array.\n",
    "\n",
    "The test cases are generated such that the answer is always unique.\n",
    "\n",
    "You may return the output in any order.\n",
    "\n",
    "Example 1:\n",
    "\n",
    "Input: nums = [1,2,2,3,3,3], k = 2\n",
    "\n",
    "Output: [2,3]\n",
    "Example 2:\n",
    "\n",
    "Input: nums = [7,7], k = 1\n",
    "\n",
    "Output: [7]\n",
    "Constraints:\n",
    "\n",
    "1 <= nums.length <= 10^4.\n",
    "-1000 <= nums[i] <= 1000\n",
    "1 <= k <= number of distinct elements in nums.\n",
    "'''"
   ]
  },
  {
   "cell_type": "code",
   "execution_count": 86,
   "id": "3357fd9b",
   "metadata": {},
   "outputs": [],
   "source": [
    "from collections import Counter,defaultdict\n",
    "class Solution(object):\n",
    "    def topKFrequent(self, nums, k):\n",
    "        temp = defaultdict(list)\n",
    "        result = []\n",
    "        for index,count in dict(Counter(nums)).items():\n",
    "            temp[count].append(index)\n",
    "        for count in (sorted(temp.keys(), reverse=True)):\n",
    "            if len(result) < k:\n",
    "                result.extend(temp[count])\n",
    "            else:\n",
    "                break\n",
    "        return result\n",
    "        \"\"\"\n",
    "        :type nums: List[int]\n",
    "        :type k: int\n",
    "        :rtype: List[int]\n",
    "        \"\"\"\n",
    "                "
   ]
  },
  {
   "cell_type": "code",
   "execution_count": 87,
   "id": "0b720829",
   "metadata": {},
   "outputs": [],
   "source": [
    "nums = [1,4,4,3,3,3]\n",
    "k = 2"
   ]
  },
  {
   "cell_type": "code",
   "execution_count": 88,
   "id": "699bdc7c",
   "metadata": {},
   "outputs": [
    {
     "name": "stdout",
     "output_type": "stream",
     "text": [
      "[3, 4]\n"
     ]
    }
   ],
   "source": [
    "obj = Solution()\n",
    "print(obj.topKFrequent(nums, k))"
   ]
  },
  {
   "cell_type": "code",
   "execution_count": 89,
   "id": "534460b2",
   "metadata": {},
   "outputs": [],
   "source": [
    "nums = [4,1,-1,2,-1,2,3]\n",
    "k = 2"
   ]
  },
  {
   "cell_type": "code",
   "execution_count": 90,
   "id": "eb41c9a9",
   "metadata": {},
   "outputs": [
    {
     "name": "stdout",
     "output_type": "stream",
     "text": [
      "[-1, 2]\n"
     ]
    }
   ],
   "source": [
    "obj = Solution()\n",
    "print(obj.topKFrequent(nums, k))"
   ]
  },
  {
   "cell_type": "markdown",
   "id": "b28ce0d7",
   "metadata": {},
   "source": [
    "\"Optimal solution here\"\n",
    "https://www.youtube.com/watch?v=YPTqKIgVk-k"
   ]
  },
  {
   "cell_type": "code",
   "execution_count": 73,
   "id": "295990e0",
   "metadata": {},
   "outputs": [],
   "source": [
    "class Solution:\n",
    "    def topKFrequent(self, nums, k):\n",
    "        frequency = [ [] for i in range(len(nums)+1)]\n",
    "        print(frequency)\n",
    "        temp = {}\n",
    "        result = []\n",
    "        print(len(result))\n",
    "        for i in nums:\n",
    "            temp[i] = 1 + temp.get(i,0)\n",
    "        print(temp)\n",
    "        for index,counts in temp.items():\n",
    "            frequency[counts].append(index)\n",
    "        print(frequency)\n",
    "        for i in range(len(frequency)-1,0,-1):\n",
    "            print(i)\n",
    "            if len(result) < k:\n",
    "                result.extend(frequency[i])\n",
    "            else:\n",
    "                break\n",
    "        return result\n",
    "        \n",
    "                \n",
    "        \n"
   ]
  },
  {
   "cell_type": "code",
   "execution_count": 74,
   "id": "63f4cf2a",
   "metadata": {},
   "outputs": [],
   "source": [
    "nums = [1,1,1,2,2,3]\n",
    "k = 2"
   ]
  },
  {
   "cell_type": "code",
   "execution_count": 75,
   "id": "fcd4fe46",
   "metadata": {},
   "outputs": [
    {
     "name": "stdout",
     "output_type": "stream",
     "text": [
      "[[], [], [], [], [], [], []]\n",
      "0\n",
      "{1: 3, 2: 2, 3: 1}\n",
      "[[], [3], [2], [1], [], [], []]\n",
      "6\n",
      "5\n",
      "4\n",
      "3\n",
      "2\n",
      "1\n",
      "[1, 2]\n"
     ]
    }
   ],
   "source": [
    "obj = Solution()\n",
    "print(obj.topKFrequent(nums, k))"
   ]
  },
  {
   "cell_type": "code",
   "execution_count": 76,
   "id": "a9d39a33",
   "metadata": {},
   "outputs": [],
   "source": [
    "nums=[7,7]\n",
    "k=1"
   ]
  },
  {
   "cell_type": "code",
   "execution_count": 77,
   "id": "f8a2e6da",
   "metadata": {},
   "outputs": [
    {
     "name": "stdout",
     "output_type": "stream",
     "text": [
      "[[], [], []]\n",
      "0\n",
      "{7: 2}\n",
      "[[], [], [7]]\n",
      "2\n",
      "1\n",
      "[7]\n"
     ]
    }
   ],
   "source": [
    "obj = Solution()\n",
    "print(obj.topKFrequent(nums, k))"
   ]
  },
  {
   "cell_type": "code",
   "execution_count": 78,
   "id": "d38d20fd",
   "metadata": {},
   "outputs": [],
   "source": [
    "nums = [1]\n",
    "k =1"
   ]
  },
  {
   "cell_type": "code",
   "execution_count": 79,
   "id": "54e8f943",
   "metadata": {},
   "outputs": [
    {
     "name": "stdout",
     "output_type": "stream",
     "text": [
      "[[], []]\n",
      "0\n",
      "{1: 1}\n",
      "[[], [1]]\n",
      "1\n",
      "[1]\n"
     ]
    }
   ],
   "source": [
    "obj = Solution()\n",
    "print(obj.topKFrequent(nums, k))"
   ]
  },
  {
   "cell_type": "code",
   "execution_count": null,
   "id": "5f07cc54",
   "metadata": {},
   "outputs": [],
   "source": []
  }
 ],
 "metadata": {
  "kernelspec": {
   "display_name": "Python 3 (ipykernel)",
   "language": "python",
   "name": "python3"
  },
  "language_info": {
   "codemirror_mode": {
    "name": "ipython",
    "version": 3
   },
   "file_extension": ".py",
   "mimetype": "text/x-python",
   "name": "python",
   "nbconvert_exporter": "python",
   "pygments_lexer": "ipython3",
   "version": "3.10.6"
  }
 },
 "nbformat": 4,
 "nbformat_minor": 5
}
