{
 "cells": [
  {
   "cell_type": "code",
   "execution_count": null,
   "id": "2f1a0149",
   "metadata": {},
   "outputs": [],
   "source": [
    "'''\n",
    "Two Integer Sum II\n",
    "Solved \n",
    "Given an array of integers numbers that is sorted in non-decreasing order.\n",
    "\n",
    "Return the indices (1-indexed) of two numbers, [index1, index2], such that they add up to a given target number target and index1 < index2. Note that index1 and index2 cannot be equal, therefore you may not use the same element twice.\n",
    "\n",
    "There will always be exactly one valid solution.\n",
    "\n",
    "Your solution must use \n",
    "O\n",
    "(\n",
    "1\n",
    ")\n",
    "O(1) additional space.\n",
    "\n",
    "Example 1:\n",
    "\n",
    "Input: numbers = [1,2,3,4], target = 3\n",
    "\n",
    "Output: [1,2]\n",
    "Explanation:\n",
    "The sum of 1 and 2 is 3. Since we are assuming a 1-indexed array, index1 = 1, index2 = 2. We return [1, 2].\n",
    "\n",
    "Constraints:\n",
    "\n",
    "2 <= numbers.length <= 1000\n",
    "-1000 <= numbers[i] <= 1000\n",
    "-1000 <= target <= 1000\n",
    "'''"
   ]
  },
  {
   "cell_type": "code",
   "execution_count": 3,
   "id": "d6d3a39c",
   "metadata": {},
   "outputs": [],
   "source": [
    "class Solution:\n",
    "    def twoSum(self, numbers, target):\n",
    "        l,r = 0,len(numbers)-1\n",
    "        while l<r:\n",
    "            if numbers[l] + numbers[r] == target:\n",
    "                return [l+1,r+1]\n",
    "            elif numbers[l] + numbers[r] > target:\n",
    "                r-=1\n",
    "            elif numbers[l] + numbers[r] < target:\n",
    "                l+=1"
   ]
  },
  {
   "cell_type": "code",
   "execution_count": 4,
   "id": "6b5cd6bc",
   "metadata": {},
   "outputs": [],
   "source": [
    "numbers = [1,2,3,4]\n",
    "target = 3"
   ]
  },
  {
   "cell_type": "code",
   "execution_count": 5,
   "id": "d3bc294e",
   "metadata": {},
   "outputs": [
    {
     "data": {
      "text/plain": [
       "[1, 2]"
      ]
     },
     "execution_count": 5,
     "metadata": {},
     "output_type": "execute_result"
    }
   ],
   "source": [
    "obj = Solution()\n",
    "obj.twoSum(numbers, target)"
   ]
  },
  {
   "cell_type": "code",
   "execution_count": null,
   "id": "f2ed63f0",
   "metadata": {},
   "outputs": [],
   "source": []
  }
 ],
 "metadata": {
  "kernelspec": {
   "display_name": "Python 3 (ipykernel)",
   "language": "python",
   "name": "python3"
  },
  "language_info": {
   "codemirror_mode": {
    "name": "ipython",
    "version": 3
   },
   "file_extension": ".py",
   "mimetype": "text/x-python",
   "name": "python",
   "nbconvert_exporter": "python",
   "pygments_lexer": "ipython3",
   "version": "3.10.6"
  }
 },
 "nbformat": 4,
 "nbformat_minor": 5
}
