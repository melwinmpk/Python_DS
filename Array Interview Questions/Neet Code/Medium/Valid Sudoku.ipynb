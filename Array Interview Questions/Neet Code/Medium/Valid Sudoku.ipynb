{
 "cells": [
  {
   "cell_type": "code",
   "execution_count": null,
   "id": "c71ab38a",
   "metadata": {},
   "outputs": [],
   "source": [
    "'''\n",
    "Valid Sudoku\n",
    "You are given a a 9 x 9 Sudoku board board. A Sudoku board is valid if the following rules are followed:\n",
    "\n",
    "Each row must contain the digits 1-9 without duplicates.\n",
    "Each column must contain the digits 1-9 without duplicates.\n",
    "Each of the nine 3 x 3 sub-boxes of the grid must contain the digits 1-9 without duplicates.\n",
    "Return true if the Sudoku board is valid, otherwise return false\n",
    "\n",
    "Note: A board does not need to be full or be solvable to be valid.\n",
    "\n",
    "Example 1:\n",
    "\n",
    "\n",
    "\n",
    "Input: board = \n",
    "[[\"1\",\"2\",\".\",\".\",\"3\",\".\",\".\",\".\",\".\"],\n",
    " [\"4\",\".\",\".\",\"5\",\".\",\".\",\".\",\".\",\".\"],\n",
    " [\".\",\"9\",\"8\",\".\",\".\",\".\",\".\",\".\",\"3\"],\n",
    " [\"5\",\".\",\".\",\".\",\"6\",\".\",\".\",\".\",\"4\"],\n",
    " [\".\",\".\",\".\",\"8\",\".\",\"3\",\".\",\".\",\"5\"],\n",
    " [\"7\",\".\",\".\",\".\",\"2\",\".\",\".\",\".\",\"6\"],\n",
    " [\".\",\".\",\".\",\".\",\".\",\".\",\"2\",\".\",\".\"],\n",
    " [\".\",\".\",\".\",\"4\",\"1\",\"9\",\".\",\".\",\"8\"],\n",
    " [\".\",\".\",\".\",\".\",\"8\",\".\",\".\",\"7\",\"9\"]]\n",
    "\n",
    "Output: true\n",
    "Example 2:\n",
    "\n",
    "Input: board = \n",
    "[[\"1\",\"2\",\".\",\".\",\"3\",\".\",\".\",\".\",\".\"],\n",
    " [\"4\",\".\",\".\",\"5\",\".\",\".\",\".\",\".\",\".\"],\n",
    " [\".\",\"9\",\"1\",\".\",\".\",\".\",\".\",\".\",\"3\"],\n",
    " [\"5\",\".\",\".\",\".\",\"6\",\".\",\".\",\".\",\"4\"],\n",
    " [\".\",\".\",\".\",\"8\",\".\",\"3\",\".\",\".\",\"5\"],\n",
    " [\"7\",\".\",\".\",\".\",\"2\",\".\",\".\",\".\",\"6\"],\n",
    " [\".\",\".\",\".\",\".\",\".\",\".\",\"2\",\".\",\".\"],\n",
    " [\".\",\".\",\".\",\"4\",\"1\",\"9\",\".\",\".\",\"8\"],\n",
    " [\".\",\".\",\".\",\".\",\"8\",\".\",\".\",\"7\",\"9\"]]\n",
    "\n",
    "Output: false\n",
    "Explanation: There are two 1's in the top-left 3x3 sub-box.\n",
    "\n",
    "Constraints:\n",
    "\n",
    "board.length == 9\n",
    "board[i].length == 9\n",
    "board[i][j] is a digit 1-9 or '.'.\n",
    "'''"
   ]
  },
  {
   "cell_type": "code",
   "execution_count": 54,
   "id": "9450016a",
   "metadata": {},
   "outputs": [],
   "source": [
    "'My Solution'\n",
    "class Solution:\n",
    "    def isValidSudoku(self, board):\n",
    "        horizontal = []\n",
    "        vertical = []\n",
    "        inner_matrix = {0:[],1:[],2:[],3:[],4:[],5:[],6:[],7:[],8:[]}\n",
    "                \n",
    "                \n",
    "        for i in range(0,9):\n",
    "            horizontal = []\n",
    "            vertical = []\n",
    "            for j in range(0,9):\n",
    "                # Horizontal scan\n",
    "                if  board[i][j] != '.' and ((board[i][j] in horizontal ) or int(board[i][j]) not in range(1,10)):\n",
    "                    #print(f\"Horizontal scan {board[i][j]} {i}{j}\")\n",
    "                    return False\n",
    "                if board[i][j] not in horizontal:\n",
    "                    horizontal.append(board[i][j])\n",
    "                    \n",
    "                # Vertical scan\n",
    "                if board[j][i] != '.' and ((board[j][i] in vertical ) or int(board[j][i]) not in range(1,10)):\n",
    "                    #print(f\"Vertical scan {board[j][i]}\")\n",
    "                    return False\n",
    "                if board[j][i] not in vertical:\n",
    "                    vertical.append(board[j][i])\n",
    "                    \n",
    "                # Matrix scan\n",
    "                if  board[i][j] == '.':\n",
    "                    continue\n",
    "                \n",
    "\n",
    "                \n",
    "                if i in range(0,3):\n",
    "                    if board[i][j] in inner_matrix[i//3 + j//3]:\n",
    "                            return False\n",
    "                    inner_matrix[i//3 + j//3].append(board[i][j])\n",
    "                if i in range(3,6):\n",
    "                    if board[i][j] in inner_matrix[i//3 + j//3 + 2]:\n",
    "                            return False\n",
    "                    inner_matrix[i//3 + j//3 + 2].append(board[i][j])\n",
    "                if i in range(6,9):\n",
    "                    if board[i][j] in inner_matrix[i//3 + j//3 + 4]:\n",
    "                            return False\n",
    "                    inner_matrix[i//3 + j//3 + 4].append(board[i][j])\n",
    "                    \n",
    "#                 if i in range(0,3):\n",
    "#                     if j in range(0,3):\n",
    "#                         if board[i][j] in inner_matrix[0] :\n",
    "#                             return False\n",
    "#                         inner_matrix[0].append(board[i][j])\n",
    "#                     if j in range(3,6):\n",
    "#                         if board[i][j] in inner_matrix[1] :\n",
    "#                             return False\n",
    "#                         inner_matrix[1].append(board[i][j])\n",
    "#                     if j in range(6,9):\n",
    "#                         if board[i][j] in inner_matrix[2] :\n",
    "#                             return False\n",
    "#                         inner_matrix[2].append(board[i][j])\n",
    "                            \n",
    "#                 if i in range(3,6):\n",
    "#                     if j in range(0,3):\n",
    "#                         if board[i][j] in inner_matrix[3] :\n",
    "#                             return False\n",
    "#                         inner_matrix[3].append(board[i][j])\n",
    "#                     if j in range(3,6):\n",
    "#                         if board[i][j] in inner_matrix[4] :\n",
    "#                             return False\n",
    "#                         inner_matrix[4].append(board[i][j])\n",
    "#                     if j in range(6,9):\n",
    "#                         if board[i][j] in inner_matrix[5] :\n",
    "#                             return False\n",
    "#                         inner_matrix[5].append(board[i][j])\n",
    "                            \n",
    "                            \n",
    "#                 if i in range(6,9):\n",
    "#                     if j in range(0,3):\n",
    "#                         if board[i][j] in inner_matrix[6] :\n",
    "#                             return False\n",
    "#                         inner_matrix[6].append(board[i][j])\n",
    "#                     if j in range(3,6):\n",
    "#                         if board[i][j] in inner_matrix[7] :\n",
    "#                             return False\n",
    "#                         inner_matrix[7].append(board[i][j])\n",
    "#                     if j in range(6,9):\n",
    "#                         if board[i][j] in inner_matrix[8] :\n",
    "#                             return False\n",
    "#                         inner_matrix[8].append(board[i][j])\n",
    "                    \n",
    "#         print(inner_matrix)            \n",
    "        print(inner_matrix)\n",
    "        return True\n",
    "                    \n",
    "        \n",
    "                "
   ]
  },
  {
   "cell_type": "code",
   "execution_count": 55,
   "id": "4e3eddcd",
   "metadata": {},
   "outputs": [],
   "source": [
    "board=[\n",
    "    [\"1\",\"2\",\".\",\".\",\"3\",\".\",\".\",\".\",\".\"],\n",
    "    [\"4\",\".\",\".\",\"5\",\".\",\".\",\".\",\".\",\".\"],\n",
    "    [\".\",\"9\",\"8\",\".\",\".\",\".\",\".\",\".\",\"3\"],\n",
    "    [\"5\",\".\",\".\",\".\",\"6\",\".\",\".\",\".\",\"4\"],\n",
    "    [\".\",\".\",\".\",\"8\",\".\",\"3\",\".\",\".\",\"5\"],\n",
    "    [\"7\",\".\",\".\",\".\",\"2\",\".\",\".\",\".\",\"6\"],\n",
    "    [\".\",\".\",\".\",\".\",\".\",\".\",\"2\",\".\",\".\"],\n",
    "    [\".\",\".\",\".\",\"4\",\"1\",\"9\",\".\",\".\",\"8\"],\n",
    "    [\".\",\".\",\".\",\".\",\"8\",\".\",\".\",\"7\",\"9\"]\n",
    "]"
   ]
  },
  {
   "cell_type": "code",
   "execution_count": 56,
   "id": "bb6f3846",
   "metadata": {},
   "outputs": [
    {
     "name": "stdout",
     "output_type": "stream",
     "text": [
      "{0: ['1', '2', '4', '9', '8'], 1: ['3', '5'], 2: ['3'], 3: ['5', '7'], 4: ['6', '8', '3', '2'], 5: ['4', '5', '6'], 6: [], 7: ['4', '1', '9', '8'], 8: ['2', '8', '7', '9']}\n"
     ]
    },
    {
     "data": {
      "text/plain": [
       "True"
      ]
     },
     "execution_count": 56,
     "metadata": {},
     "output_type": "execute_result"
    }
   ],
   "source": [
    "obj = Solution()\n",
    "obj.isValidSudoku(board)"
   ]
  },
  {
   "cell_type": "code",
   "execution_count": null,
   "id": "12059084",
   "metadata": {},
   "outputs": [],
   "source": []
  },
  {
   "cell_type": "code",
   "execution_count": 57,
   "id": "e03e7f20",
   "metadata": {},
   "outputs": [],
   "source": [
    "board=[\n",
    "    [\"1\",\"2\",\".\",\".\",\"3\",\".\",\".\",\".\",\".\"],\n",
    "    [\"4\",\".\",\".\",\"5\",\".\",\".\",\".\",\".\",\".\"],\n",
    "    [\".\",\"9\",\"1\",\".\",\".\",\".\",\".\",\".\",\"3\"],\n",
    "    [\"5\",\".\",\".\",\".\",\"6\",\".\",\".\",\".\",\"4\"],\n",
    "    [\".\",\".\",\".\",\"8\",\".\",\"3\",\".\",\".\",\"5\"],\n",
    "    [\"7\",\".\",\".\",\".\",\"2\",\".\",\".\",\".\",\"6\"],\n",
    "    [\".\",\".\",\".\",\".\",\".\",\".\",\"2\",\".\",\".\"],\n",
    "    [\".\",\".\",\".\",\"4\",\"1\",\"9\",\".\",\".\",\"8\"],\n",
    "    [\".\",\".\",\".\",\".\",\"8\",\".\",\".\",\"7\",\"9\"]\n",
    "]"
   ]
  },
  {
   "cell_type": "code",
   "execution_count": 58,
   "id": "f362aceb",
   "metadata": {},
   "outputs": [
    {
     "data": {
      "text/plain": [
       "False"
      ]
     },
     "execution_count": 58,
     "metadata": {},
     "output_type": "execute_result"
    }
   ],
   "source": [
    "obj = Solution()\n",
    "obj.isValidSudoku(board)"
   ]
  },
  {
   "cell_type": "code",
   "execution_count": 50,
   "id": "d5400bf0",
   "metadata": {},
   "outputs": [
    {
     "name": "stdout",
     "output_type": "stream",
     "text": [
      "2345345\n"
     ]
    }
   ],
   "source": [
    "if 8 in range(6,9):\n",
    "    print(2345345)"
   ]
  },
  {
   "cell_type": "code",
   "execution_count": 51,
   "id": "e94926bb",
   "metadata": {},
   "outputs": [],
   "source": [
    "board = [\n",
    "    [\"0\",\"0\",\"0\",\"0\",\"0\",\"0\",\"5\",\"0\",\"0\"],\n",
    "    [\"0\",\"0\",\"0\",\"0\",\"0\",\"0\",\"0\",\"0\",\"0\"],\n",
    "    [\"0\",\"0\",\"0\",\"0\",\"0\",\"0\",\"0\",\"0\",\"0\"],\n",
    "    [\"9\",\"3\",\"0\",\"0\",\"2\",\"0\",\"4\",\"0\",\"0\"],\n",
    "    [\"0\",\"0\",\"7\",\"0\",\"0\",\"0\",\"3\",\"0\",\"0\"],\n",
    "    [\"0\",\"0\",\"0\",\"0\",\"0\",\"0\",\"0\",\"0\",\"0\"],\n",
    "    [\"0\",\"0\",\"0\",\"3\",\"4\",\"0\",\"0\",\"0\",\"0\"],\n",
    "    [\"0\",\"0\",\"0\",\"0\",\"0\",\"3\",\"0\",\"0\",\"0\"],\n",
    "    [\"0\",\"0\",\"0\",\"0\",\"0\",\"5\",\"2\",\"0\",\"0\"]\n",
    "]"
   ]
  },
  {
   "cell_type": "code",
   "execution_count": 52,
   "id": "74e267c7",
   "metadata": {},
   "outputs": [],
   "source": [
    "board = [\n",
    "    [\".\",\".\",\".\",\".\",\".\",\".\",\"5\",\".\",\".\"],\n",
    "    [\".\",\".\",\".\",\".\",\".\",\".\",\".\",\".\",\".\"],\n",
    "    [\".\",\".\",\".\",\".\",\".\",\".\",\".\",\".\",\".\"],\n",
    "    [\"9\",\"3\",\".\",\".\",\"2\",\".\",\"4\",\".\",\".\"],\n",
    "    [\".\",\".\",\"7\",\".\",\".\",\".\",\"3\",\".\",\".\"],\n",
    "    [\".\",\".\",\".\",\".\",\".\",\".\",\".\",\".\",\".\"],\n",
    "    [\".\",\".\",\".\",\"3\",\"4\",\".\",\".\",\".\",\".\"],\n",
    "    [\".\",\".\",\".\",\".\",\".\",\"3\",\".\",\".\",\".\"],\n",
    "    [\".\",\".\",\".\",\".\",\".\",\"5\",\"2\",\".\",\".\"]]"
   ]
  },
  {
   "cell_type": "code",
   "execution_count": 53,
   "id": "09c3aa9f",
   "metadata": {},
   "outputs": [
    {
     "data": {
      "text/plain": [
       "False"
      ]
     },
     "execution_count": 53,
     "metadata": {},
     "output_type": "execute_result"
    }
   ],
   "source": [
    "obj = Solution()\n",
    "obj.isValidSudoku(board)"
   ]
  },
  {
   "cell_type": "code",
   "execution_count": 30,
   "id": "029bdb12",
   "metadata": {},
   "outputs": [
    {
     "data": {
      "text/plain": [
       "1"
      ]
     },
     "execution_count": 30,
     "metadata": {},
     "output_type": "execute_result"
    }
   ],
   "source": [
    "4//3"
   ]
  },
  {
   "cell_type": "code",
   "execution_count": 31,
   "id": "d37c7577",
   "metadata": {},
   "outputs": [
    {
     "data": {
      "text/plain": [
       "2"
      ]
     },
     "execution_count": 31,
     "metadata": {},
     "output_type": "execute_result"
    }
   ],
   "source": [
    "6//3"
   ]
  },
  {
   "cell_type": "code",
   "execution_count": 1,
   "id": "9f40a826",
   "metadata": {},
   "outputs": [
    {
     "data": {
      "text/plain": [
       "1"
      ]
     },
     "execution_count": 1,
     "metadata": {},
     "output_type": "execute_result"
    }
   ],
   "source": [
    "5//3"
   ]
  },
  {
   "cell_type": "code",
   "execution_count": 2,
   "id": "a1fd222a",
   "metadata": {},
   "outputs": [
    {
     "data": {
      "text/plain": [
       "2"
      ]
     },
     "execution_count": 2,
     "metadata": {},
     "output_type": "execute_result"
    }
   ],
   "source": [
    "6//3"
   ]
  },
  {
   "cell_type": "code",
   "execution_count": 3,
   "id": "e04dcee5",
   "metadata": {},
   "outputs": [
    {
     "data": {
      "text/plain": [
       "0"
      ]
     },
     "execution_count": 3,
     "metadata": {},
     "output_type": "execute_result"
    }
   ],
   "source": [
    "0//3 "
   ]
  },
  {
   "cell_type": "code",
   "execution_count": 4,
   "id": "7a0c04bf",
   "metadata": {},
   "outputs": [
    {
     "data": {
      "text/plain": [
       "2"
      ]
     },
     "execution_count": 4,
     "metadata": {},
     "output_type": "execute_result"
    }
   ],
   "source": [
    "6//3"
   ]
  },
  {
   "cell_type": "code",
   "execution_count": 5,
   "id": "166c69a7",
   "metadata": {},
   "outputs": [
    {
     "data": {
      "text/plain": [
       "0"
      ]
     },
     "execution_count": 5,
     "metadata": {},
     "output_type": "execute_result"
    }
   ],
   "source": [
    "1//3"
   ]
  },
  {
   "cell_type": "code",
   "execution_count": 7,
   "id": "41826f5d",
   "metadata": {},
   "outputs": [
    {
     "name": "stdout",
     "output_type": "stream",
     "text": [
      " 0,1 => 1\n"
     ]
    }
   ],
   "source": [
    "i = 0\n",
    "j = 3\n",
    "\n",
    "print(f' {i//3},{j//3} => {i//3 + j//3 }')"
   ]
  },
  {
   "cell_type": "code",
   "execution_count": 62,
   "id": "2c96524f",
   "metadata": {},
   "outputs": [
    {
     "data": {
      "text/plain": [
       "1"
      ]
     },
     "execution_count": 62,
     "metadata": {},
     "output_type": "execute_result"
    }
   ],
   "source": [
    "2//2"
   ]
  },
  {
   "cell_type": "code",
   "execution_count": 63,
   "id": "fbf508a2",
   "metadata": {
    "scrolled": true
   },
   "outputs": [
    {
     "name": "stdout",
     "output_type": "stream",
     "text": [
      "\n",
      "\n",
      " 0,0 => 0\n",
      " 0,1 => 0\n",
      " 0,2 => 0\n",
      " 0,3 => 1\n",
      " 0,4 => 1\n",
      " 0,5 => 1\n",
      " 0,6 => 2\n",
      " 0,7 => 2\n",
      " 0,8 => 2\n",
      "\n",
      "\n",
      " 1,0 => 0\n",
      " 1,1 => 0\n",
      " 1,2 => 0\n",
      " 1,3 => 1\n",
      " 1,4 => 1\n",
      " 1,5 => 1\n",
      " 1,6 => 2\n",
      " 1,7 => 2\n",
      " 1,8 => 2\n",
      "\n",
      "\n",
      " 2,0 => 0\n",
      " 2,1 => 0\n",
      " 2,2 => 0\n",
      " 2,3 => 1\n",
      " 2,4 => 1\n",
      " 2,5 => 1\n",
      " 2,6 => 2\n",
      " 2,7 => 2\n",
      " 2,8 => 2\n",
      "\n",
      "\n",
      " 3,0 => 3\n",
      " 3,1 => 3\n",
      " 3,2 => 3\n",
      " 3,3 => 4\n",
      " 3,4 => 4\n",
      " 3,5 => 4\n",
      " 3,6 => 5\n",
      " 3,7 => 5\n",
      " 3,8 => 5\n",
      "\n",
      "\n",
      " 4,0 => 3\n",
      " 4,1 => 3\n",
      " 4,2 => 3\n",
      " 4,3 => 4\n",
      " 4,4 => 4\n",
      " 4,5 => 4\n",
      " 4,6 => 5\n",
      " 4,7 => 5\n",
      " 4,8 => 5\n",
      "\n",
      "\n",
      " 5,0 => 3\n",
      " 5,1 => 3\n",
      " 5,2 => 3\n",
      " 5,3 => 4\n",
      " 5,4 => 4\n",
      " 5,5 => 4\n",
      " 5,6 => 5\n",
      " 5,7 => 5\n",
      " 5,8 => 5\n",
      "\n",
      "\n",
      " 6,0 => 6\n",
      " 6,1 => 6\n",
      " 6,2 => 6\n",
      " 6,3 => 7\n",
      " 6,4 => 7\n",
      " 6,5 => 7\n",
      " 6,6 => 8\n",
      " 6,7 => 8\n",
      " 6,8 => 8\n",
      "\n",
      "\n",
      " 7,0 => 6\n",
      " 7,1 => 6\n",
      " 7,2 => 6\n",
      " 7,3 => 7\n",
      " 7,4 => 7\n",
      " 7,5 => 7\n",
      " 7,6 => 8\n",
      " 7,7 => 8\n",
      " 7,8 => 8\n",
      "\n",
      "\n",
      " 8,0 => 6\n",
      " 8,1 => 6\n",
      " 8,2 => 6\n",
      " 8,3 => 7\n",
      " 8,4 => 7\n",
      " 8,5 => 7\n",
      " 8,6 => 8\n",
      " 8,7 => 8\n",
      " 8,8 => 8\n"
     ]
    }
   ],
   "source": [
    "for i in range(9):\n",
    "    print(\"\\n\")\n",
    "    for j in range(9):\n",
    "        print(f' {i},{j} => {(i//3)*3 + j//3 }')\n"
   ]
  },
  {
   "cell_type": "markdown",
   "id": "1fd923f2",
   "metadata": {},
   "source": [
    "<img src='https://github.com/user-attachments/assets/d9407d18-82be-4422-ba6f-65557e830fba' >"
   ]
  },
  {
   "cell_type": "code",
   "execution_count": 64,
   "id": "031fba29",
   "metadata": {},
   "outputs": [],
   "source": [
    "'Optimal solution'\n",
    "'Melwin be happy this is your solution'\n",
    "''\n",
    "\n",
    "class Solution(object):\n",
    "    def isValidSudoku(self, board):\n",
    "        horizontal = []\n",
    "        vertical = []\n",
    "        inner_matrix = {0:[],1:[],2:[],3:[],4:[],5:[],6:[],7:[],8:[]}\n",
    "        for i in range(0,9):\n",
    "            horizontal = []\n",
    "            vertical = []\n",
    "            for j in range(0,9):\n",
    "                # Horizontal scan\n",
    "                if  board[i][j] != '.' and board[i][j] in horizontal: # or int(board[i][j]) not in range(1,10)\n",
    "                    return False\n",
    "                else:\n",
    "                    horizontal.append(board[i][j])\n",
    "                    \n",
    "                # Vertical scan\n",
    "                if board[j][i] != '.' and board[j][i] in vertical: # or int(board[j][i]) not in range(1,10)\n",
    "                    return False\n",
    "                else:\n",
    "                    vertical.append(board[j][i])\n",
    "                    \n",
    "                # Matrix scan\n",
    "                if board[i][j] != '.' and board[i][j] in inner_matrix[(i//3)*3 + j//3]:\n",
    "                    return False\n",
    "                inner_matrix[(i//3)*3 + j//3 ].append(board[i][j])\n",
    "                    \n",
    "        return True"
   ]
  },
  {
   "cell_type": "code",
   "execution_count": null,
   "id": "9e68c04d",
   "metadata": {},
   "outputs": [],
   "source": []
  }
 ],
 "metadata": {
  "kernelspec": {
   "display_name": "Python 3 (ipykernel)",
   "language": "python",
   "name": "python3"
  },
  "language_info": {
   "codemirror_mode": {
    "name": "ipython",
    "version": 3
   },
   "file_extension": ".py",
   "mimetype": "text/x-python",
   "name": "python",
   "nbconvert_exporter": "python",
   "pygments_lexer": "ipython3",
   "version": "3.10.6"
  }
 },
 "nbformat": 4,
 "nbformat_minor": 5
}
