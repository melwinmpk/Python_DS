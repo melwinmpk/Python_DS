{
 "cells": [
  {
   "cell_type": "code",
   "execution_count": null,
   "id": "3ace3b7a",
   "metadata": {},
   "outputs": [],
   "source": [
    "# Quick Sort is Divide and Conqure method"
   ]
  },
  {
   "cell_type": "code",
   "execution_count": 56,
   "id": "1fab9019",
   "metadata": {},
   "outputs": [],
   "source": [
    "def quick_sort(nums,i=-1,j=0):\n",
    "    pivot=len(nums)-1\n",
    "    if pivot == 0:\n",
    "        return nums\n",
    "    if nums[j] > nums[pivot]:\n",
    "        j+=1\n",
    "    elif nums[j] < nums[pivot]:\n",
    "        i+=1\n",
    "        temp = nums[i]\n",
    "        nums[i] = nums[j]\n",
    "        nums[j] = temp\n",
    "        j+=1\n",
    "    elif j == pivot:\n",
    "        i+=1\n",
    "        temp = nums[i]\n",
    "        nums[i] = nums[j]\n",
    "        nums[j] = temp\n",
    "        print(nums)\n",
    "#         nums[:j] = quick_sort(nums[:j])\n",
    "#         nums[j+1:] = quick_sort(nums[j+1:])\n",
    "#         print(\"Hey!!\")\n",
    "#         print(nums)\n",
    "        return nums\n",
    "\n",
    "    print(nums)\n",
    "    quick_sort(nums,i,j) \n",
    "    "
   ]
  },
  {
   "cell_type": "code",
   "execution_count": 57,
   "id": "fccc2ebf",
   "metadata": {},
   "outputs": [
    {
     "name": "stdout",
     "output_type": "stream",
     "text": [
      "[8, 2, 4, 7, 1, 3, 9, 6, 5]\n",
      "[2, 8, 4, 7, 1, 3, 9, 6, 5]\n",
      "[2, 4, 8, 7, 1, 3, 9, 6, 5]\n",
      "[2, 4, 8, 7, 1, 3, 9, 6, 5]\n",
      "[2, 4, 1, 7, 8, 3, 9, 6, 5]\n",
      "[2, 4, 1, 3, 8, 7, 9, 6, 5]\n",
      "[2, 4, 1, 3, 8, 7, 9, 6, 5]\n",
      "[2, 4, 1, 3, 8, 7, 9, 6, 5]\n",
      "[2, 4, 1, 3, 5, 7, 9, 6, 8]\n"
     ]
    }
   ],
   "source": [
    "quick_sort([8,2,4,7,1,3,9,6,5])"
   ]
  },
  {
   "cell_type": "code",
   "execution_count": 58,
   "id": "ed38a4e0",
   "metadata": {},
   "outputs": [
    {
     "name": "stdout",
     "output_type": "stream",
     "text": [
      "[2, 4, 1, 3]\n",
      "[2, 4, 1, 3]\n",
      "[2, 1, 4, 3]\n",
      "[2, 1, 3, 4]\n"
     ]
    }
   ],
   "source": [
    "quick_sort([2, 4, 1, 3])"
   ]
  },
  {
   "cell_type": "code",
   "execution_count": 59,
   "id": "1c17bab1",
   "metadata": {
    "scrolled": true
   },
   "outputs": [
    {
     "name": "stdout",
     "output_type": "stream",
     "text": [
      "[2, 1]\n",
      "[1, 2]\n"
     ]
    }
   ],
   "source": [
    "quick_sort([2, 1])"
   ]
  },
  {
   "cell_type": "code",
   "execution_count": 60,
   "id": "6b591a60",
   "metadata": {},
   "outputs": [
    {
     "name": "stdout",
     "output_type": "stream",
     "text": [
      "[7, 9, 6, 8]\n",
      "[7, 9, 6, 8]\n",
      "[7, 6, 9, 8]\n",
      "[7, 6, 8, 9]\n"
     ]
    }
   ],
   "source": [
    "quick_sort([ 7, 9, 6, 8])"
   ]
  },
  {
   "cell_type": "code",
   "execution_count": 61,
   "id": "4bdf4d94",
   "metadata": {},
   "outputs": [
    {
     "name": "stdout",
     "output_type": "stream",
     "text": [
      "[7, 6]\n",
      "[6, 7]\n"
     ]
    }
   ],
   "source": [
    "quick_sort([ 7, 6])"
   ]
  },
  {
   "cell_type": "code",
   "execution_count": null,
   "id": "4cb12e8e",
   "metadata": {},
   "outputs": [],
   "source": []
  }
 ],
 "metadata": {
  "kernelspec": {
   "display_name": "Python 3 (ipykernel)",
   "language": "python",
   "name": "python3"
  },
  "language_info": {
   "codemirror_mode": {
    "name": "ipython",
    "version": 3
   },
   "file_extension": ".py",
   "mimetype": "text/x-python",
   "name": "python",
   "nbconvert_exporter": "python",
   "pygments_lexer": "ipython3",
   "version": "3.10.6"
  }
 },
 "nbformat": 4,
 "nbformat_minor": 5
}
