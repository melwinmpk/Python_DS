{
 "cells": [
  {
   "cell_type": "code",
   "execution_count": null,
   "id": "3ace3b7a",
   "metadata": {},
   "outputs": [],
   "source": [
    "# Quick Sort is Divide and Conqure method"
   ]
  },
  {
   "cell_type": "markdown",
   "id": "89d98fd1",
   "metadata": {},
   "source": [
    "Code referrence : https://www.geeksforgeeks.org/python-program-for-quicksort/\n",
    "Explanation refer : https://www.youtube.com/watch?v=Vtckgz38QHs        "
   ]
  },
  {
   "cell_type": "code",
   "execution_count": 14,
   "id": "4cb12e8e",
   "metadata": {},
   "outputs": [],
   "source": [
    "def quick_sort(nums,start,end):\n",
    "    if end > start:    \n",
    "        pivot = partition(nums,start,end)\n",
    "        quick_sort(nums,start,pivot-1)\n",
    "        quick_sort(nums,pivot+1,end)\n",
    "    \n",
    "\n",
    "def partition(nums, start, end):\n",
    "    pivot=end\n",
    "    i=start-1\n",
    "    j=start\n",
    "    \n",
    "    for j in range(start,end+1):   \n",
    "        if nums[j] < nums[pivot]:\n",
    "            i+=1\n",
    "            temp = nums[i]\n",
    "            nums[i] = nums[j]\n",
    "            nums[j] = temp\n",
    "    \n",
    "    i+=1\n",
    "    temp = nums[i]\n",
    "    nums[i] = nums[j]\n",
    "    nums[j] = temp\n",
    "    print(nums)\n",
    "\n",
    "    return i"
   ]
  },
  {
   "cell_type": "code",
   "execution_count": null,
   "id": "1fab9019",
   "metadata": {},
   "outputs": [],
   "source": []
  },
  {
   "cell_type": "code",
   "execution_count": 15,
   "id": "3496f059",
   "metadata": {},
   "outputs": [
    {
     "name": "stdout",
     "output_type": "stream",
     "text": [
      "[2, 4, 1, 3, 5, 7, 9, 6, 8]\n",
      "[2, 1, 3, 4, 5, 7, 9, 6, 8]\n",
      "[1, 2, 3, 4, 5, 7, 9, 6, 8]\n",
      "[1, 2, 3, 4, 5, 7, 6, 8, 9]\n",
      "[1, 2, 3, 4, 5, 6, 7, 8, 9]\n",
      "Sorted => [1, 2, 3, 4, 5, 6, 7, 8, 9]\n"
     ]
    }
   ],
   "source": [
    "nums = [8,2,4,7,1,3,9,6,5]\n",
    "quick_sort(nums,0,len(nums)-1)\n",
    "print(f\"Sorted => {nums}\")"
   ]
  },
  {
   "cell_type": "code",
   "execution_count": null,
   "id": "fb3fb23f",
   "metadata": {},
   "outputs": [],
   "source": []
  }
 ],
 "metadata": {
  "kernelspec": {
   "display_name": "Python 3 (ipykernel)",
   "language": "python",
   "name": "python3"
  },
  "language_info": {
   "codemirror_mode": {
    "name": "ipython",
    "version": 3
   },
   "file_extension": ".py",
   "mimetype": "text/x-python",
   "name": "python",
   "nbconvert_exporter": "python",
   "pygments_lexer": "ipython3",
   "version": "3.10.6"
  }
 },
 "nbformat": 4,
 "nbformat_minor": 5
}
