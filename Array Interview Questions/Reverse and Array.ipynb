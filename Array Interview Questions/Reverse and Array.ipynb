{
 "cells": [
  {
   "cell_type": "code",
   "execution_count": 1,
   "id": "2a5ceef6",
   "metadata": {},
   "outputs": [
    {
     "data": {
      "text/plain": [
       "'Melwin its easy to do the reverse an array in Pyhton '"
      ]
     },
     "execution_count": 1,
     "metadata": {},
     "output_type": "execute_result"
    }
   ],
   "source": [
    "'''Melwin its easy to do the reverse an array in Pyhton '''"
   ]
  },
  {
   "cell_type": "code",
   "execution_count": 1,
   "id": "ab7b79cb",
   "metadata": {},
   "outputs": [],
   "source": [
    "string = 'This is a String'"
   ]
  },
  {
   "cell_type": "code",
   "execution_count": 2,
   "id": "dc468002",
   "metadata": {},
   "outputs": [],
   "source": [
    "string = string[::-1]"
   ]
  },
  {
   "cell_type": "code",
   "execution_count": 3,
   "id": "af15c38c",
   "metadata": {},
   "outputs": [
    {
     "data": {
      "text/plain": [
       "'gnirtS a si sihT'"
      ]
     },
     "execution_count": 3,
     "metadata": {},
     "output_type": "execute_result"
    }
   ],
   "source": [
    "string"
   ]
  },
  {
   "cell_type": "code",
   "execution_count": 3,
   "id": "bc3f2a29",
   "metadata": {},
   "outputs": [
    {
     "data": {
      "text/plain": [
       "[10, 9, 8, 7, 6, 5, 4, 3, 2, 1]"
      ]
     },
     "execution_count": 3,
     "metadata": {},
     "output_type": "execute_result"
    }
   ],
   "source": [
    "array[::-1]"
   ]
  },
  {
   "cell_type": "code",
   "execution_count": null,
   "id": "7a44493a",
   "metadata": {},
   "outputs": [],
   "source": [
    "''' Understand the logic how to reverse an array in effecientely'''"
   ]
  },
  {
   "cell_type": "code",
   "execution_count": 16,
   "id": "c91575e4",
   "metadata": {},
   "outputs": [
    {
     "name": "stdout",
     "output_type": "stream",
     "text": [
      "[10, 2, 3, 4, 5, 6, 7, 8, 9, 1]\n",
      "[10, 9, 3, 4, 5, 6, 7, 8, 2, 1]\n",
      "[10, 9, 8, 4, 5, 6, 7, 3, 2, 1]\n",
      "[10, 9, 8, 7, 5, 6, 4, 3, 2, 1]\n",
      "[10, 9, 8, 7, 6, 5, 4, 3, 2, 1]\n"
     ]
    },
    {
     "data": {
      "text/plain": [
       "[10, 9, 8, 7, 6, 5, 4, 3, 2, 1]"
      ]
     },
     "execution_count": 16,
     "metadata": {},
     "output_type": "execute_result"
    }
   ],
   "source": [
    "array = [1,2,3,4,5,6,7,8,9,10]\n",
    "start = 0\n",
    "end = len(array) -1\n",
    "\n",
    "while end-start >= 1:\n",
    "    temp = array[end]\n",
    "    array[end] = array[start]\n",
    "    array[start] = temp\n",
    "    start+=1\n",
    "    end-=1\n",
    "    print(array)\n",
    "array"
   ]
  },
  {
   "cell_type": "code",
   "execution_count": null,
   "id": "68f38c13",
   "metadata": {},
   "outputs": [],
   "source": []
  }
 ],
 "metadata": {
  "kernelspec": {
   "display_name": "Python 3 (ipykernel)",
   "language": "python",
   "name": "python3"
  },
  "language_info": {
   "codemirror_mode": {
    "name": "ipython",
    "version": 3
   },
   "file_extension": ".py",
   "mimetype": "text/x-python",
   "name": "python",
   "nbconvert_exporter": "python",
   "pygments_lexer": "ipython3",
   "version": "3.10.6"
  }
 },
 "nbformat": 4,
 "nbformat_minor": 5
}
