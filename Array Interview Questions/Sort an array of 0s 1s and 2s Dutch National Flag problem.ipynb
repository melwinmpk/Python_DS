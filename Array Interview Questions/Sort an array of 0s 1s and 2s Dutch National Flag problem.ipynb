{
 "cells": [
  {
   "cell_type": "code",
   "execution_count": 10,
   "id": "478a5db9",
   "metadata": {},
   "outputs": [],
   "source": [
    "\"\"\"This is one of the simple way to do it\"\"\"\n",
    "def sort012(arr):\n",
    "    \n",
    "    dictionary = {0:0,1:0,2:0}\n",
    "    for i in arr:\n",
    "            dictionary[i]+=1\n",
    "    index = 0\n",
    "    for i in [0,1,2]:\n",
    "        for j in range(dictionary[i]):\n",
    "            arr[index] = i\n",
    "            index+=1\n",
    "    return arr"
   ]
  },
  {
   "cell_type": "code",
   "execution_count": 11,
   "id": "a6ba9c66",
   "metadata": {},
   "outputs": [],
   "source": [
    "arr = [0, 1, 1, 0, 1, 2, 1, 2, 0, 0, 0, 1]"
   ]
  },
  {
   "cell_type": "code",
   "execution_count": 12,
   "id": "460595bd",
   "metadata": {
    "scrolled": true
   },
   "outputs": [
    {
     "data": {
      "text/plain": [
       "[0, 0, 0, 0, 0, 1, 1, 1, 1, 1, 2, 2]"
      ]
     },
     "execution_count": 12,
     "metadata": {},
     "output_type": "execute_result"
    }
   ],
   "source": [
    "sort012(arr)"
   ]
  },
  {
   "cell_type": "code",
   "execution_count": 13,
   "id": "6351c4e0",
   "metadata": {},
   "outputs": [
    {
     "ename": "NameError",
     "evalue": "name 'l' is not defined",
     "output_type": "error",
     "traceback": [
      "\u001b[1;31m---------------------------------------------------------------------------\u001b[0m",
      "\u001b[1;31mNameError\u001b[0m                                 Traceback (most recent call last)",
      "Input \u001b[1;32mIn [13]\u001b[0m, in \u001b[0;36m<cell line: 2>\u001b[1;34m()\u001b[0m\n\u001b[0;32m      1\u001b[0m [\u001b[38;5;241m0\u001b[39m, \u001b[38;5;241m1\u001b[39m, \u001b[38;5;241m1\u001b[39m, \u001b[38;5;241m0\u001b[39m, \u001b[38;5;241m1\u001b[39m, \u001b[38;5;241m2\u001b[39m, \u001b[38;5;241m1\u001b[39m, \u001b[38;5;241m2\u001b[39m, \u001b[38;5;241m0\u001b[39m, \u001b[38;5;241m0\u001b[39m, \u001b[38;5;241m0\u001b[39m, \u001b[38;5;241m1\u001b[39m]\n\u001b[1;32m----> 2\u001b[0m \u001b[43ml\u001b[49m\n",
      "\u001b[1;31mNameError\u001b[0m: name 'l' is not defined"
     ]
    }
   ],
   "source": [
    "[0, 1, 1, 0, 1, 2, 1, 2, 0, 0, 0, 1]\n",
    "l                                 h \n",
    "m"
   ]
  },
  {
   "cell_type": "code",
   "execution_count": 8,
   "id": "7bb44641",
   "metadata": {},
   "outputs": [],
   "source": [
    "'''Optimal solution for the problem with in single loop'''\n",
    "\n",
    "def sort012_optimal(arr):\n",
    "    h = len(arr)-1\n",
    "    l,m = 0,0\n",
    "    \n",
    "    while m<=h:\n",
    "        if arr[m] == 0:\n",
    "            arr[l],arr[m] = arr[m],arr[l]\n",
    "            l+=1\n",
    "            m+=1\n",
    "        elif arr[m] == 1:\n",
    "            m += 1\n",
    "        else:\n",
    "            arr[h],arr[m] = arr[m],arr[h]\n",
    "            h-=1\n",
    "    return arr\n",
    "            \n",
    "            "
   ]
  },
  {
   "cell_type": "code",
   "execution_count": 9,
   "id": "f9abde35",
   "metadata": {},
   "outputs": [],
   "source": [
    "arr = [0, 1, 1, 0, 1, 2, 1, 2, 0, 0, 0, 1]"
   ]
  },
  {
   "cell_type": "code",
   "execution_count": 10,
   "id": "29d4b5d3",
   "metadata": {},
   "outputs": [
    {
     "data": {
      "text/plain": [
       "[0, 0, 0, 0, 0, 1, 1, 1, 1, 1, 2, 2]"
      ]
     },
     "execution_count": 10,
     "metadata": {},
     "output_type": "execute_result"
    }
   ],
   "source": [
    "sort012_optimal(arr)"
   ]
  },
  {
   "cell_type": "code",
   "execution_count": null,
   "id": "d9cd6e93",
   "metadata": {},
   "outputs": [],
   "source": []
  }
 ],
 "metadata": {
  "kernelspec": {
   "display_name": "Python 3 (ipykernel)",
   "language": "python",
   "name": "python3"
  },
  "language_info": {
   "codemirror_mode": {
    "name": "ipython",
    "version": 3
   },
   "file_extension": ".py",
   "mimetype": "text/x-python",
   "name": "python",
   "nbconvert_exporter": "python",
   "pygments_lexer": "ipython3",
   "version": "3.10.6"
  }
 },
 "nbformat": 4,
 "nbformat_minor": 5
}
