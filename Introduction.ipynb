{
 "cells": [
  {
   "cell_type": "markdown",
   "metadata": {},
   "source": [
    "# Data Structure Overview\n",
    "\n",
    "\n",
    "## General Data Structures\n",
    "The various data structures in computer science are divided broadly into two categories shown below.\n",
    "\n",
    "### Liner Data Structures\n",
    "These are the data structures which store the data elements in a sequential manner.<br>\n",
    "<b>Array</b>: It is a sequential arrangement of data elements paired with the index of the data element.<br>\n",
    "<b>Linked List</b>: Each data element contains a link to another element along with the data present in it.<br>\n",
    "<b>Stack</b>: It is a data structure which follows only to specific order of operation. LIFO(last in First Out) or FILO(First in Last Out).<br>\n",
    "<b>Queue</b>: It is similar to Stack but the order of operation is only FIFO(First In First Out).<br>\n",
    "<b>Matrix</b>: It is two dimensional data structure in which the data element is referred by a pair of indices.<br>\n",
    "\n",
    "### Non-Liner Data Structures\n",
    "These are the data structures in which there is no sequential linking of data elements. Any pair or group of data elements can be linked to each other and can be accessed without a strict sequence.<br>\n",
    "<b>Binary Tree</b>: It is a data structure where each data element can be connected to maximum two other data elements and it starts with a root node.<br>\n",
    "<b>Heap</b>: It is a special case of Tree data structure where the data in the parent node is either strictly greater than/ equal to the child nodes or strictly less than it’s child nodes.<br>\n",
    "<b>Hash Table</b>: It is a data structure which is made of arrays associated with each other using a hash function. It retrieves values using keys rather than index from a data element. <br>\n",
    "<b>Graph</b>: .It is an arrangement of vertices and nodes where some of the nodes are connected to each other through links.\n",
    "Python Specific Data Structures<br>\n",
    "These data structures are specific to python language and they give greater flexibility in storing different types of data and faster processing in python environment.<br>\n",
    "<b>List</b>: It is similar to array with the exception that the data elements can be of different data types. You can have both numeric and string data in a python list.<br>\n",
    "<b>Tuple</b>: Tuples are similar to lists but they are immutable which means the values in a tuple cannot be modified they can only be read.<br>\n",
    "<b>Dictionary</b>: The dictionary contains Key-value pairs as its data elements.\n",
    "In the next chapters we are going to learn the details of how each of these data structures can be implemented using Python."
   ]
  },
  {
   "cell_type": "markdown",
   "metadata": {},
   "source": [
    "### Python - Arrays\n"
   ]
  },
  {
   "cell_type": "markdown",
   "metadata": {},
   "source": [
    "Array is a container which can hold a fix number of items and these items should be of the same type. Most of the data structures make use of arrays to implement their algorithms. Following are the important terms to understand the concept of Array.<br>\n",
    "<b>Element</b>− Each item stored in an array is called an element.<br>\n",
    "<b>Index</b> − Each location of an element in an array has a numerical index, which is used to identify the element."
   ]
  },
  {
   "cell_type": "raw",
   "metadata": {},
   "source": [
    "from array import *\n",
    "\n",
    "arrayName = array(typecode, [Initializers])"
   ]
  },
  {
   "cell_type": "markdown",
   "metadata": {},
   "source": [
    "<table>\n",
    "<tr>\n",
    "    <td>Typecode</td><td>Value</td>\n",
    "</tr>\n",
    "<tr>\n",
    "    <th>b</th><th>Represents signed integer of size 1 byte</th>\n",
    "</tr>\n",
    "<tr>\n",
    "    <th>B</th><th>Represents unsigned integer of size 1 byte</th>\n",
    "</tr>\n",
    "<tr>\n",
    "    <th>c</th><th>Represents character of size 1 byte</th>\n",
    "</tr>\n",
    "<tr>\n",
    "    <th>i</th><th>Represents signed integer of size 2 bytes</th>\n",
    "</tr>\n",
    "<tr>\n",
    "    <th>I</th><th>Represents unsigned integer of size 2 bytes</th>\n",
    "</tr>\n",
    "<tr>\n",
    "    <th>f</th><th>Represents floating point of size 4 bytes</th>\n",
    "</tr>\n",
    "<tr>\n",
    "    <th>d</th><th>Represents floating point of size 8 bytes</th>\n",
    "</tr>\n",
    "</table>"
   ]
  },
  {
   "cell_type": "code",
   "execution_count": 9,
   "metadata": {},
   "outputs": [
    {
     "name": "stdout",
     "output_type": "stream",
     "text": [
      "================Print Element==================\n",
      "10\n",
      "20\n",
      "30\n",
      "40\n",
      "50\n",
      "===============Access Element==================\n",
      "10\n",
      "30\n",
      "===============Insert Element==================\n",
      "10\n",
      "60\n",
      "20\n",
      "30\n",
      "40\n",
      "50\n",
      "===============Delete Element==================\n",
      "60\n",
      "20\n",
      "30\n",
      "40\n",
      "50\n",
      "===============Search Element==================\n",
      "3\n",
      "===============Update Element==================\n",
      "60\n",
      "20\n",
      "80\n",
      "40\n",
      "50\n"
     ]
    }
   ],
   "source": [
    "from array import *\n",
    "\n",
    "array1 = array('i', [10,20,30,40,50])\n",
    "print(\"================Print Element==================\")\n",
    "for x in array1:\n",
    " print(x)\n",
    "print(\"===============Access Element==================\")\n",
    "print (array1[0]) # Access Array element at Index position 0\n",
    "\n",
    "print (array1[2])\n",
    "print(\"===============Insert Element==================\")\n",
    "array1.insert(1,60) # inserting element at Index position 1\n",
    "\n",
    "for x in array1:\n",
    " print(x)\n",
    "\n",
    "array1.remove(10) #removing element value 10\n",
    "print(\"===============Delete Element==================\")\n",
    "for x in array1:\n",
    " print(x)\n",
    "\n",
    "print(\"===============Search Element==================\")\n",
    "print (array1.index(40)) #Getting the Index of the Value\n",
    "\n",
    "print(\"===============Update Element==================\")\n",
    "array1[2] = 80\n",
    "\n",
    "for x in array1:\n",
    " print(x)"
   ]
  },
  {
   "cell_type": "markdown",
   "metadata": {},
   "source": [
    "for other types check https://www.tutorialspoint.com/python_data_structure/index.htm"
   ]
  },
  {
   "cell_type": "markdown",
   "metadata": {},
   "source": [
    "# Melwin new Finding !!!\n",
    "### The below code is to test weathe the default value in a function if we set list, dictionary, set are acting like static "
   ]
  },
  {
   "cell_type": "code",
   "execution_count": 37,
   "metadata": {},
   "outputs": [
    {
     "name": "stdout",
     "output_type": "stream",
     "text": [
      "({0}, [2], {0: 0})\n",
      "({0, 1}, [2, 2], {0: 0, 1: 1})\n",
      "({0, 1, 2}, [2, 2, 2], {0: 0, 1: 1, 2: 2})\n",
      "({0, 1, 2, 3}, [2, 2, 2, 2], {0: 0, 1: 1, 2: 2, 3: 3})\n",
      "({0, 1, 2, 3, 4}, [2, 2, 2, 2, 2], {0: 0, 1: 1, 2: 2, 3: 3, 4: 4})\n",
      "({0, 1, 2, 3, 4, 5}, [2, 2, 2, 2, 2, 2], {0: 0, 1: 1, 2: 2, 3: 3, 4: 4, 5: 5})\n"
     ]
    }
   ],
   "source": [
    "def modify_list(arg1 = set(),arg2=[],arg3 = {}):\n",
    "    \n",
    "    arg1.add(len(arg1))\n",
    "    if arg2 is None:\n",
    "        arg2 = []\n",
    "        arg2.append(2)\n",
    "    else:\n",
    "        arg2.append(2)\n",
    "        \n",
    "    arg3[len(arg3)] = len(arg3)    \n",
    "    return arg1, arg2, arg3\n",
    "\n",
    "print(modify_list())\n",
    "print(modify_list())\n",
    "print(modify_list())\n",
    "print(modify_list())\n",
    "print(modify_list())\n",
    "print(modify_list())"
   ]
  },
  {
   "cell_type": "code",
   "execution_count": 14,
   "metadata": {},
   "outputs": [
    {
     "name": "stdout",
     "output_type": "stream",
     "text": [
      "([0, 1, 1], [2, 2, 2, 2, 2, 2, 2])\n",
      "([0, 1, 1], [2, 2, 2, 2, 2, 2, 2, 2])\n",
      "([0, 1, 1], [2, 2, 2, 2, 2, 2, 2, 2, 2])\n",
      "([0, 1, 1], [2, 2, 2, 2, 2, 2, 2, 2, 2, 2])\n",
      "([0, 1, 1], [2, 2, 2, 2, 2, 2, 2, 2, 2, 2, 2])\n",
      "([0, 1, 1], [2, 2, 2, 2, 2, 2, 2, 2, 2, 2, 2, 2])\n"
     ]
    }
   ],
   "source": [
    "print(modify_list(a))\n",
    "print(modify_list(b))\n",
    "print(modify_list(a1))\n",
    "print(modify_list(b1))\n",
    "print(modify_list(a2))\n",
    "print(modify_list(b2))"
   ]
  },
  {
   "cell_type": "code",
   "execution_count": 18,
   "metadata": {},
   "outputs": [
    {
     "name": "stdout",
     "output_type": "stream",
     "text": [
      "([0, 1], [2])\n",
      "([0, 1], [2])\n",
      "([0, 1], [2])\n",
      "([0, 1], [2])\n",
      "([0, 1], [2])\n",
      "([0, 1], [2])\n"
     ]
    }
   ],
   "source": [
    "def modify_list(arg1, arg2=None):\n",
    "    arg1.append(1)\n",
    "    if arg2 is None:\n",
    "        arg2 = []\n",
    "        arg2.append(2)\n",
    "    return arg1,arg2\n",
    "a = [0]\n",
    "b = [0]\n",
    "a1 = [0]\n",
    "b1 = [0]\n",
    "a2 = [0]\n",
    "b2 = [0]\n",
    "print(modify_list(a))\n",
    "print(modify_list(b))\n",
    "print(modify_list(a1))\n",
    "print(modify_list(b1))\n",
    "print(modify_list(a2))\n",
    "print(modify_list(b2))"
   ]
  },
  {
   "cell_type": "code",
   "execution_count": 30,
   "metadata": {},
   "outputs": [],
   "source": [
    "a = set()"
   ]
  },
  {
   "cell_type": "code",
   "execution_count": 31,
   "metadata": {},
   "outputs": [],
   "source": [
    "a.add(1)"
   ]
  },
  {
   "cell_type": "code",
   "execution_count": 32,
   "metadata": {},
   "outputs": [
    {
     "data": {
      "text/plain": [
       "1"
      ]
     },
     "execution_count": 32,
     "metadata": {},
     "output_type": "execute_result"
    }
   ],
   "source": [
    "len(a)"
   ]
  },
  {
   "cell_type": "code",
   "execution_count": null,
   "metadata": {},
   "outputs": [],
   "source": []
  }
 ],
 "metadata": {
  "kernelspec": {
   "display_name": "Python 3 (ipykernel)",
   "language": "python",
   "name": "python3"
  },
  "language_info": {
   "codemirror_mode": {
    "name": "ipython",
    "version": 3
   },
   "file_extension": ".py",
   "mimetype": "text/x-python",
   "name": "python",
   "nbconvert_exporter": "python",
   "pygments_lexer": "ipython3",
   "version": "3.9.7"
  }
 },
 "nbformat": 4,
 "nbformat_minor": 4
}
