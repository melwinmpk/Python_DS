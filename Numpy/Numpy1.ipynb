{
 "cells": [
  {
   "cell_type": "markdown",
   "metadata": {},
   "source": [
    "# Numpy"
   ]
  },
  {
   "cell_type": "markdown",
   "metadata": {},
   "source": [
    "why Numpy is Preffered over array Modult in the Python ? <br>\n",
    "Numpy is faster than the pyhton array model,<br>\n",
    "Numpy has many supporting liberary as a result for the mathamitical operation for larger data Numpy id preffered over the python array model"
   ]
  },
  {
   "cell_type": "code",
   "execution_count": 2,
   "metadata": {},
   "outputs": [],
   "source": [
    " import numpy as np  # importing the libreary"
   ]
  },
  {
   "cell_type": "markdown",
   "metadata": {},
   "source": [
    "### Converting list into an Numpy array \n",
    "for the tuple is also the same way"
   ]
  },
  {
   "cell_type": "code",
   "execution_count": 13,
   "metadata": {},
   "outputs": [
    {
     "data": {
      "text/plain": [
       "[10, 20, 30, 40]"
      ]
     },
     "execution_count": 13,
     "metadata": {},
     "output_type": "execute_result"
    }
   ],
   "source": [
    "lst = [10,20,30,40]\n",
    "lst"
   ]
  },
  {
   "cell_type": "code",
   "execution_count": 14,
   "metadata": {},
   "outputs": [
    {
     "name": "stdout",
     "output_type": "stream",
     "text": [
      "int32\n",
      "[10 20 30 40]\n"
     ]
    }
   ],
   "source": [
    "array1 = np.array(lst)\n",
    "print(array1.dtype)\n",
    "print(array1)"
   ]
  },
  {
   "cell_type": "markdown",
   "metadata": {},
   "source": [
    "Remember while converting a list to numpy array if the list have any string value every value will be converted to a string  "
   ]
  },
  {
   "cell_type": "code",
   "execution_count": 15,
   "metadata": {},
   "outputs": [
    {
     "name": "stdout",
     "output_type": "stream",
     "text": [
      "['10' '20' '30' '40' 'string']\n",
      "<U11\n"
     ]
    }
   ],
   "source": [
    "lst = [10,20,30,40,\"string\"]\n",
    "array1 = np.array(lst)\n",
    "# type(array1)\n",
    "print(array1)\n",
    "print(array1.dtype)"
   ]
  },
  {
   "cell_type": "markdown",
   "metadata": {},
   "source": [
    "## arange "
   ]
  },
  {
   "cell_type": "markdown",
   "metadata": {},
   "source": [
    "arange is nothing but range itself in numpy"
   ]
  },
  {
   "cell_type": "markdown",
   "metadata": {},
   "source": [
    "syntax<br>\n",
    "<b>np.arange(start,end,interval)</b><br>\n",
    "output will be <b>start</b> to <b>(end-interval)</b><br>  default interval value will be 1<br>\n",
    "Note: End will not be include (<b>End is exclusive</b> in the arange)"
   ]
  },
  {
   "cell_type": "code",
   "execution_count": 22,
   "metadata": {},
   "outputs": [
    {
     "data": {
      "text/plain": [
       "90"
      ]
     },
     "execution_count": 22,
     "metadata": {},
     "output_type": "execute_result"
    }
   ],
   "source": [
    "np.arange(1,10,.1).size\n",
    "# np.size"
   ]
  },
  {
   "cell_type": "markdown",
   "metadata": {},
   "source": [
    "## linspace"
   ]
  },
  {
   "cell_type": "markdown",
   "metadata": {},
   "source": [
    "linspace is similar to arage<br>\n",
    "syntax <br>\n",
    "<b>np.linspace(start,end,no_of_items_to_generate_form_start_end)</b><br>\n",
    "output will be <b>start</b> to <b>(end)</b><br>  \n",
    "default no_of_items_to_generate_form_start_end value will be 1 <br>\n",
    "Note: mentioned no of items will be generated from the <b>start to end (Including end as well)</b> (<b>End is inclusive</b> in the linspace)"
   ]
  },
  {
   "cell_type": "code",
   "execution_count": 30,
   "metadata": {},
   "outputs": [
    {
     "data": {
      "text/plain": [
       "array([ 1.        ,  1.1011236 ,  1.20224719,  1.30337079,  1.40449438,\n",
       "        1.50561798,  1.60674157,  1.70786517,  1.80898876,  1.91011236,\n",
       "        2.01123596,  2.11235955,  2.21348315,  2.31460674,  2.41573034,\n",
       "        2.51685393,  2.61797753,  2.71910112,  2.82022472,  2.92134831,\n",
       "        3.02247191,  3.12359551,  3.2247191 ,  3.3258427 ,  3.42696629,\n",
       "        3.52808989,  3.62921348,  3.73033708,  3.83146067,  3.93258427,\n",
       "        4.03370787,  4.13483146,  4.23595506,  4.33707865,  4.43820225,\n",
       "        4.53932584,  4.64044944,  4.74157303,  4.84269663,  4.94382022,\n",
       "        5.04494382,  5.14606742,  5.24719101,  5.34831461,  5.4494382 ,\n",
       "        5.5505618 ,  5.65168539,  5.75280899,  5.85393258,  5.95505618,\n",
       "        6.05617978,  6.15730337,  6.25842697,  6.35955056,  6.46067416,\n",
       "        6.56179775,  6.66292135,  6.76404494,  6.86516854,  6.96629213,\n",
       "        7.06741573,  7.16853933,  7.26966292,  7.37078652,  7.47191011,\n",
       "        7.57303371,  7.6741573 ,  7.7752809 ,  7.87640449,  7.97752809,\n",
       "        8.07865169,  8.17977528,  8.28089888,  8.38202247,  8.48314607,\n",
       "        8.58426966,  8.68539326,  8.78651685,  8.88764045,  8.98876404,\n",
       "        9.08988764,  9.19101124,  9.29213483,  9.39325843,  9.49438202,\n",
       "        9.59550562,  9.69662921,  9.79775281,  9.8988764 , 10.        ])"
      ]
     },
     "execution_count": 30,
     "metadata": {},
     "output_type": "execute_result"
    }
   ],
   "source": [
    "np.linspace(1,10,90)"
   ]
  },
  {
   "cell_type": "code",
   "execution_count": null,
   "metadata": {},
   "outputs": [],
   "source": [
    "np.linspace(1,10,90).size"
   ]
  },
  {
   "cell_type": "markdown",
   "metadata": {},
   "source": [
    "## reshape"
   ]
  },
  {
   "cell_type": "markdown",
   "metadata": {},
   "source": [
    "reshape is to change the order in the of the array.<br>\n",
    "we can make 1d array to 2d (Note while converting there must those many no of elements to convert 1d to 2d)<br>\n",
    "we can change 2d diamension like (2,4) to (4,2) \n"
   ]
  },
  {
   "cell_type": "code",
   "execution_count": 37,
   "metadata": {},
   "outputs": [
    {
     "data": {
      "text/plain": [
       "array([[ 1,  2,  3,  4,  5],\n",
       "       [ 6,  7,  8,  9, 10]])"
      ]
     },
     "execution_count": 37,
     "metadata": {},
     "output_type": "execute_result"
    }
   ],
   "source": [
    "np.arange(1,11).reshape(2,5)"
   ]
  },
  {
   "cell_type": "markdown",
   "metadata": {},
   "source": [
    "<b>Note</b>: if you are not aware of the diamention that has to be given to the  data\n",
    "      we could assigin value for colum or row  then we can assign negative no for the other one the os will decide to set the matrix\n"
   ]
  },
  {
   "cell_type": "code",
   "execution_count": 47,
   "metadata": {},
   "outputs": [
    {
     "data": {
      "text/plain": [
       "array([[  0,   1,   2,   3,   4,   5,   6,   7,   8,   9],\n",
       "       [ 10,  11,  12,  13,  14,  15,  16,  17,  18,  19],\n",
       "       [ 20,  21,  22,  23,  24,  25,  26,  27,  28,  29],\n",
       "       [ 30,  31,  32,  33,  34,  35,  36,  37,  38,  39],\n",
       "       [ 40,  41,  42,  43,  44,  45,  46,  47,  48,  49],\n",
       "       [ 50,  51,  52,  53,  54,  55,  56,  57,  58,  59],\n",
       "       [ 60,  61,  62,  63,  64,  65,  66,  67,  68,  69],\n",
       "       [ 70,  71,  72,  73,  74,  75,  76,  77,  78,  79],\n",
       "       [ 80,  81,  82,  83,  84,  85,  86,  87,  88,  89],\n",
       "       [ 90,  91,  92,  93,  94,  95,  96,  97,  98,  99],\n",
       "       [100, 101, 102, 103, 104, 105, 106, 107, 108, 109],\n",
       "       [110, 111, 112, 113, 114, 115, 116, 117, 118, 119],\n",
       "       [120, 121, 122, 123, 124, 125, 126, 127, 128, 129],\n",
       "       [130, 131, 132, 133, 134, 135, 136, 137, 138, 139],\n",
       "       [140, 141, 142, 143, 144, 145, 146, 147, 148, 149],\n",
       "       [150, 151, 152, 153, 154, 155, 156, 157, 158, 159],\n",
       "       [160, 161, 162, 163, 164, 165, 166, 167, 168, 169],\n",
       "       [170, 171, 172, 173, 174, 175, 176, 177, 178, 179],\n",
       "       [180, 181, 182, 183, 184, 185, 186, 187, 188, 189],\n",
       "       [190, 191, 192, 193, 194, 195, 196, 197, 198, 199],\n",
       "       [200, 201, 202, 203, 204, 205, 206, 207, 208, 209],\n",
       "       [210, 211, 212, 213, 214, 215, 216, 217, 218, 219],\n",
       "       [220, 221, 222, 223, 224, 225, 226, 227, 228, 229],\n",
       "       [230, 231, 232, 233, 234, 235, 236, 237, 238, 239],\n",
       "       [240, 241, 242, 243, 244, 245, 246, 247, 248, 249],\n",
       "       [250, 251, 252, 253, 254, 255, 256, 257, 258, 259],\n",
       "       [260, 261, 262, 263, 264, 265, 266, 267, 268, 269],\n",
       "       [270, 271, 272, 273, 274, 275, 276, 277, 278, 279],\n",
       "       [280, 281, 282, 283, 284, 285, 286, 287, 288, 289],\n",
       "       [290, 291, 292, 293, 294, 295, 296, 297, 298, 299],\n",
       "       [300, 301, 302, 303, 304, 305, 306, 307, 308, 309],\n",
       "       [310, 311, 312, 313, 314, 315, 316, 317, 318, 319],\n",
       "       [320, 321, 322, 323, 324, 325, 326, 327, 328, 329],\n",
       "       [330, 331, 332, 333, 334, 335, 336, 337, 338, 339],\n",
       "       [340, 341, 342, 343, 344, 345, 346, 347, 348, 349],\n",
       "       [350, 351, 352, 353, 354, 355, 356, 357, 358, 359],\n",
       "       [360, 361, 362, 363, 364, 365, 366, 367, 368, 369],\n",
       "       [370, 371, 372, 373, 374, 375, 376, 377, 378, 379],\n",
       "       [380, 381, 382, 383, 384, 385, 386, 387, 388, 389],\n",
       "       [390, 391, 392, 393, 394, 395, 396, 397, 398, 399],\n",
       "       [400, 401, 402, 403, 404, 405, 406, 407, 408, 409],\n",
       "       [410, 411, 412, 413, 414, 415, 416, 417, 418, 419],\n",
       "       [420, 421, 422, 423, 424, 425, 426, 427, 428, 429],\n",
       "       [430, 431, 432, 433, 434, 435, 436, 437, 438, 439],\n",
       "       [440, 441, 442, 443, 444, 445, 446, 447, 448, 449],\n",
       "       [450, 451, 452, 453, 454, 455, 456, 457, 458, 459],\n",
       "       [460, 461, 462, 463, 464, 465, 466, 467, 468, 469],\n",
       "       [470, 471, 472, 473, 474, 475, 476, 477, 478, 479],\n",
       "       [480, 481, 482, 483, 484, 485, 486, 487, 488, 489],\n",
       "       [490, 491, 492, 493, 494, 495, 496, 497, 498, 499],\n",
       "       [500, 501, 502, 503, 504, 505, 506, 507, 508, 509],\n",
       "       [510, 511, 512, 513, 514, 515, 516, 517, 518, 519],\n",
       "       [520, 521, 522, 523, 524, 525, 526, 527, 528, 529],\n",
       "       [530, 531, 532, 533, 534, 535, 536, 537, 538, 539],\n",
       "       [540, 541, 542, 543, 544, 545, 546, 547, 548, 549],\n",
       "       [550, 551, 552, 553, 554, 555, 556, 557, 558, 559],\n",
       "       [560, 561, 562, 563, 564, 565, 566, 567, 568, 569],\n",
       "       [570, 571, 572, 573, 574, 575, 576, 577, 578, 579],\n",
       "       [580, 581, 582, 583, 584, 585, 586, 587, 588, 589],\n",
       "       [590, 591, 592, 593, 594, 595, 596, 597, 598, 599],\n",
       "       [600, 601, 602, 603, 604, 605, 606, 607, 608, 609],\n",
       "       [610, 611, 612, 613, 614, 615, 616, 617, 618, 619],\n",
       "       [620, 621, 622, 623, 624, 625, 626, 627, 628, 629],\n",
       "       [630, 631, 632, 633, 634, 635, 636, 637, 638, 639],\n",
       "       [640, 641, 642, 643, 644, 645, 646, 647, 648, 649],\n",
       "       [650, 651, 652, 653, 654, 655, 656, 657, 658, 659],\n",
       "       [660, 661, 662, 663, 664, 665, 666, 667, 668, 669],\n",
       "       [670, 671, 672, 673, 674, 675, 676, 677, 678, 679],\n",
       "       [680, 681, 682, 683, 684, 685, 686, 687, 688, 689],\n",
       "       [690, 691, 692, 693, 694, 695, 696, 697, 698, 699],\n",
       "       [700, 701, 702, 703, 704, 705, 706, 707, 708, 709],\n",
       "       [710, 711, 712, 713, 714, 715, 716, 717, 718, 719],\n",
       "       [720, 721, 722, 723, 724, 725, 726, 727, 728, 729],\n",
       "       [730, 731, 732, 733, 734, 735, 736, 737, 738, 739],\n",
       "       [740, 741, 742, 743, 744, 745, 746, 747, 748, 749],\n",
       "       [750, 751, 752, 753, 754, 755, 756, 757, 758, 759],\n",
       "       [760, 761, 762, 763, 764, 765, 766, 767, 768, 769],\n",
       "       [770, 771, 772, 773, 774, 775, 776, 777, 778, 779],\n",
       "       [780, 781, 782, 783, 784, 785, 786, 787, 788, 789],\n",
       "       [790, 791, 792, 793, 794, 795, 796, 797, 798, 799],\n",
       "       [800, 801, 802, 803, 804, 805, 806, 807, 808, 809],\n",
       "       [810, 811, 812, 813, 814, 815, 816, 817, 818, 819],\n",
       "       [820, 821, 822, 823, 824, 825, 826, 827, 828, 829],\n",
       "       [830, 831, 832, 833, 834, 835, 836, 837, 838, 839],\n",
       "       [840, 841, 842, 843, 844, 845, 846, 847, 848, 849],\n",
       "       [850, 851, 852, 853, 854, 855, 856, 857, 858, 859],\n",
       "       [860, 861, 862, 863, 864, 865, 866, 867, 868, 869],\n",
       "       [870, 871, 872, 873, 874, 875, 876, 877, 878, 879],\n",
       "       [880, 881, 882, 883, 884, 885, 886, 887, 888, 889],\n",
       "       [890, 891, 892, 893, 894, 895, 896, 897, 898, 899],\n",
       "       [900, 901, 902, 903, 904, 905, 906, 907, 908, 909],\n",
       "       [910, 911, 912, 913, 914, 915, 916, 917, 918, 919],\n",
       "       [920, 921, 922, 923, 924, 925, 926, 927, 928, 929],\n",
       "       [930, 931, 932, 933, 934, 935, 936, 937, 938, 939],\n",
       "       [940, 941, 942, 943, 944, 945, 946, 947, 948, 949],\n",
       "       [950, 951, 952, 953, 954, 955, 956, 957, 958, 959],\n",
       "       [960, 961, 962, 963, 964, 965, 966, 967, 968, 969],\n",
       "       [970, 971, 972, 973, 974, 975, 976, 977, 978, 979],\n",
       "       [980, 981, 982, 983, 984, 985, 986, 987, 988, 989],\n",
       "       [990, 991, 992, 993, 994, 995, 996, 997, 998, 999]])"
      ]
     },
     "execution_count": 47,
     "metadata": {},
     "output_type": "execute_result"
    }
   ],
   "source": [
    "np.arange(1000).reshape(100,-1) \n",
    "# in this example for colum we have give a neagtive no as a result system has take 10 as per the rows and data avaliable\n"
   ]
  },
  {
   "cell_type": "markdown",
   "metadata": {},
   "source": [
    "## zeros"
   ]
  },
  {
   "cell_type": "code",
   "execution_count": 41,
   "metadata": {},
   "outputs": [
    {
     "data": {
      "text/plain": [
       "array([[0., 0., 0., 0., 0.],\n",
       "       [0., 0., 0., 0., 0.]])"
      ]
     },
     "execution_count": 41,
     "metadata": {},
     "output_type": "execute_result"
    }
   ],
   "source": [
    "np.zeros(10).reshape(2,5)"
   ]
  },
  {
   "cell_type": "markdown",
   "metadata": {},
   "source": [
    "## ones"
   ]
  },
  {
   "cell_type": "code",
   "execution_count": 42,
   "metadata": {},
   "outputs": [
    {
     "data": {
      "text/plain": [
       "array([[1., 1., 1., 1., 1.],\n",
       "       [1., 1., 1., 1., 1.]])"
      ]
     },
     "execution_count": 42,
     "metadata": {},
     "output_type": "execute_result"
    }
   ],
   "source": [
    "np.ones(10).reshape(2,5)"
   ]
  },
  {
   "cell_type": "markdown",
   "metadata": {},
   "source": [
    "## eye (Identity matrix)"
   ]
  },
  {
   "cell_type": "code",
   "execution_count": 44,
   "metadata": {},
   "outputs": [
    {
     "data": {
      "text/plain": [
       "array([[1., 0., 0., 0., 0.],\n",
       "       [0., 1., 0., 0., 0.],\n",
       "       [0., 0., 1., 0., 0.],\n",
       "       [0., 0., 0., 1., 0.],\n",
       "       [0., 0., 0., 0., 1.]])"
      ]
     },
     "execution_count": 44,
     "metadata": {},
     "output_type": "execute_result"
    }
   ],
   "source": [
    "np.eye(5)"
   ]
  },
  {
   "cell_type": "markdown",
   "metadata": {},
   "source": [
    "## Transponseof a matrix\n",
    "Converting the rows into colums"
   ]
  },
  {
   "cell_type": "code",
   "execution_count": 3,
   "metadata": {},
   "outputs": [
    {
     "name": "stdout",
     "output_type": "stream",
     "text": [
      "[['KL' 'KA' 'TL']\n",
      " ['AP' 'TH' 'MP']\n",
      " ['MH' 'UP' 'DL']\n",
      " ['HP' 'WB' 'RJ']]\n",
      "[['KL' 'AP' 'MH' 'HP']\n",
      " ['KA' 'TH' 'UP' 'WB']\n",
      " ['TL' 'MP' 'DL' 'RJ']]\n"
     ]
    }
   ],
   "source": [
    "ind_state = np.array(['KL','KA','TL','AP','TH','MP','MH','UP','DL','HP','WB','RJ'])\n",
    "print(ind_state.reshape(4,-1))\n",
    "print(ind_state.reshape(4,-1).T)\n"
   ]
  },
  {
   "cell_type": "markdown",
   "metadata": {},
   "source": [
    "## setting the Order of the matrix while re-shaping it *"
   ]
  },
  {
   "cell_type": "code",
   "execution_count": 4,
   "metadata": {},
   "outputs": [
    {
     "data": {
      "text/plain": [
       "array([['KL', 'KA', 'TL'],\n",
       "       ['AP', 'TH', 'MP'],\n",
       "       ['MH', 'UP', 'DL'],\n",
       "       ['HP', 'WB', 'RJ']], dtype='<U2')"
      ]
     },
     "execution_count": 4,
     "metadata": {},
     "output_type": "execute_result"
    }
   ],
   "source": [
    "ind_state = np.array(['KL','KA','TL','AP','TH','MP','MH','UP','DL','HP','WB','RJ'])\n",
    "np.reshape(ind_state,(4,-1),order='C')  # Row major format. (Note: by default it will be Row major format)"
   ]
  },
  {
   "cell_type": "code",
   "execution_count": 5,
   "metadata": {},
   "outputs": [
    {
     "data": {
      "text/plain": [
       "array([['KL', 'TH', 'DL'],\n",
       "       ['KA', 'MP', 'HP'],\n",
       "       ['TL', 'MH', 'WB'],\n",
       "       ['AP', 'UP', 'RJ']], dtype='<U2')"
      ]
     },
     "execution_count": 5,
     "metadata": {},
     "output_type": "execute_result"
    }
   ],
   "source": [
    "np.reshape(ind_state,(4,-1),order='F')  # Colum Major format"
   ]
  },
  {
   "cell_type": "markdown",
   "metadata": {},
   "source": [
    "## Operation using Numpy Array\n"
   ]
  },
  {
   "cell_type": "markdown",
   "metadata": {},
   "source": [
    "### Scalar Operation"
   ]
  },
  {
   "cell_type": "code",
   "execution_count": 27,
   "metadata": {},
   "outputs": [
    {
     "name": "stdout",
     "output_type": "stream",
     "text": [
      "[3 4 5 6]\n",
      "[2 4 6 8]\n",
      "[0 1 2 3]\n",
      "[0.5 1.  1.5 2. ]\n",
      "[[3 4]\n",
      " [5 6]]\n",
      "[[2 4]\n",
      " [6 8]]\n",
      "[[0 1]\n",
      " [2 3]]\n",
      "[[0.5 1. ]\n",
      " [1.5 2. ]]\n"
     ]
    }
   ],
   "source": [
    "array1 = np.array([1,2,3,4])\n",
    "print(array1+2)\n",
    "print(array1*2)\n",
    "print(array1-1)\n",
    "print(array1/2)\n",
    "array1 = np.array([1,2,3,4]).reshape(2,2)\n",
    "print(array1+2)\n",
    "print(array1*2)\n",
    "print(array1-1)\n",
    "print(array1/2)"
   ]
  },
  {
   "cell_type": "markdown",
   "metadata": {},
   "source": [
    "multiplying of 2 arrays"
   ]
  },
  {
   "cell_type": "code",
   "execution_count": 19,
   "metadata": {},
   "outputs": [
    {
     "name": "stdout",
     "output_type": "stream",
     "text": [
      "[[1 2]\n",
      " [3 4]]\n",
      "[[5 6]\n",
      " [7 8]]\n"
     ]
    },
    {
     "data": {
      "text/plain": [
       "array([[ 5, 12],\n",
       "       [21, 32]])"
      ]
     },
     "execution_count": 19,
     "metadata": {},
     "output_type": "execute_result"
    }
   ],
   "source": [
    "array1 = np.array([1,2,3,4]).reshape(2,2)\n",
    "print(array1)\n",
    "array2 = np.array([5,6,7,8]).reshape(2,2)\n",
    "print(array2)\n",
    "array1*array2 # Remember its not giving you the dot product"
   ]
  },
  {
   "cell_type": "markdown",
   "metadata": {},
   "source": [
    "Dot Product of the matrix"
   ]
  },
  {
   "cell_type": "code",
   "execution_count": 26,
   "metadata": {},
   "outputs": [
    {
     "name": "stdout",
     "output_type": "stream",
     "text": [
      "[[1 2]\n",
      " [3 4]]\n",
      "[[5 6]\n",
      " [7 8]]\n"
     ]
    },
    {
     "data": {
      "text/plain": [
       "array([[19, 22],\n",
       "       [43, 50]])"
      ]
     },
     "execution_count": 26,
     "metadata": {},
     "output_type": "execute_result"
    }
   ],
   "source": [
    "array1 = np.array([1,2,3,4]).reshape(2,2)\n",
    "print(array1)\n",
    "array2 = np.array([5,6,7,8]).reshape(2,2)\n",
    "print(array2)\n",
    "# [[1*5+2*7,1*6+2*8],\n",
    "#  [3*5+4*7,3*6+4*8]]   \n",
    "#\n",
    "np.dot(array1,array2)"
   ]
  },
  {
   "cell_type": "markdown",
   "metadata": {},
   "source": [
    "### Uniary operation"
   ]
  },
  {
   "cell_type": "code",
   "execution_count": 39,
   "metadata": {},
   "outputs": [
    {
     "name": "stdout",
     "output_type": "stream",
     "text": [
      "[[ 0  1  2  3  4]\n",
      " [ 5  6  7  8  9]\n",
      " [10 11 12 13 14]\n",
      " [15 16 17 18 19]\n",
      " [20 21 22 23 24]]\n",
      "--------------Sum-------------------\n",
      "300\n",
      "--------------Max-------------------\n",
      "24\n",
      "--------------Min-------------------\n",
      "0\n"
     ]
    }
   ],
   "source": [
    "array1 = np.arange(25).reshape(5,5)\n",
    "print(array1)\n",
    "print(\"--------------Sum-------------------\")\n",
    "print(array1.sum()) # Sum of all the element in the matrix/array\n",
    "print(\"--------------Max-------------------\")\n",
    "print(array1.max()) # Max element in the matrix/array\n",
    "print(\"--------------Min-------------------\")\n",
    "print(array1.min()) # Min element in the matrix/array"
   ]
  },
  {
   "cell_type": "markdown",
   "metadata": {},
   "source": [
    "#### To do the Colum/row wise the Uniary Operation"
   ]
  },
  {
   "cell_type": "code",
   "execution_count": 38,
   "metadata": {
    "scrolled": true
   },
   "outputs": [
    {
     "name": "stdout",
     "output_type": "stream",
     "text": [
      "[[ 0  1  2  3  4]\n",
      " [ 5  6  7  8  9]\n",
      " [10 11 12 13 14]\n",
      " [15 16 17 18 19]\n",
      " [20 21 22 23 24]]\n",
      "--------------Sum-------------------\n",
      "[ 10  35  60  85 110]\n",
      "[50 55 60 65 70]\n",
      "--------------Max-------------------\n",
      "[ 4  9 14 19 24]\n",
      "[20 21 22 23 24]\n",
      "--------------Min-------------------\n",
      "[ 0  5 10 15 20]\n",
      "[0 1 2 3 4]\n"
     ]
    }
   ],
   "source": [
    "array1 = np.arange(25).reshape(5,5)\n",
    "print(array1)\n",
    "# axis = 1 i.e rows\n",
    "# axis = 0 i.e colum\n",
    "print(\"--------------Sum-------------------\")\n",
    "print(np.sum(array1, axis = 1))\n",
    "print(np.sum(array1, axis = 0))\n",
    "print(\"--------------Max-------------------\")\n",
    "print(np.max(array1, axis = 1))\n",
    "print(np.max(array1, axis = 0))\n",
    "print(\"--------------Min-------------------\")\n",
    "print(np.min(array1, axis = 1))\n",
    "print(np.min(array1, axis = 0))"
   ]
  },
  {
   "cell_type": "markdown",
   "metadata": {},
   "source": [
    "## Check the Univeral functions of the Numpy (Google IT)"
   ]
  },
  {
   "cell_type": "markdown",
   "metadata": {},
   "source": [
    "## BroadCasting in Numpy  "
   ]
  },
  {
   "cell_type": "code",
   "execution_count": 42,
   "metadata": {},
   "outputs": [
    {
     "name": "stdout",
     "output_type": "stream",
     "text": [
      "[[ 0  1  2  3  4]\n",
      " [ 5  6  7  8  9]\n",
      " [10 11 12 13 14]\n",
      " [15 16 17 18 19]\n",
      " [20 21 22 23 24]\n",
      " [25 26 27 28 29]]\n"
     ]
    },
    {
     "ename": "ValueError",
     "evalue": "operands could not be broadcast together with shapes (6,5) (2,5) ",
     "output_type": "error",
     "traceback": [
      "\u001b[1;31m---------------------------------------------------------------------------\u001b[0m",
      "\u001b[1;31mValueError\u001b[0m                                Traceback (most recent call last)",
      "\u001b[1;32m<ipython-input-42-733a9373612a>\u001b[0m in \u001b[0;36m<module>\u001b[1;34m\u001b[0m\n\u001b[0;32m      9\u001b[0m \u001b[0mprint\u001b[0m\u001b[1;33m(\u001b[0m\u001b[0ma1\u001b[0m\u001b[1;33m)\u001b[0m\u001b[1;33m\u001b[0m\u001b[1;33m\u001b[0m\u001b[0m\n\u001b[0;32m     10\u001b[0m \u001b[0ma2\u001b[0m \u001b[1;33m=\u001b[0m \u001b[0mnp\u001b[0m\u001b[1;33m.\u001b[0m\u001b[0marray\u001b[0m\u001b[1;33m(\u001b[0m\u001b[1;33m[\u001b[0m\u001b[1;33m[\u001b[0m\u001b[1;36m10\u001b[0m\u001b[1;33m,\u001b[0m\u001b[1;36m11\u001b[0m\u001b[1;33m,\u001b[0m\u001b[1;36m12\u001b[0m\u001b[1;33m,\u001b[0m\u001b[1;36m13\u001b[0m\u001b[1;33m,\u001b[0m\u001b[1;36m14\u001b[0m\u001b[1;33m]\u001b[0m\u001b[1;33m,\u001b[0m\u001b[1;33m[\u001b[0m\u001b[1;36m15\u001b[0m\u001b[1;33m,\u001b[0m\u001b[1;36m16\u001b[0m\u001b[1;33m,\u001b[0m\u001b[1;36m17\u001b[0m\u001b[1;33m,\u001b[0m\u001b[1;36m18\u001b[0m\u001b[1;33m,\u001b[0m\u001b[1;36m19\u001b[0m\u001b[1;33m]\u001b[0m\u001b[1;33m]\u001b[0m\u001b[1;33m)\u001b[0m\u001b[1;33m\u001b[0m\u001b[1;33m\u001b[0m\u001b[0m\n\u001b[1;32m---> 11\u001b[1;33m \u001b[0mprint\u001b[0m\u001b[1;33m(\u001b[0m\u001b[0ma1\u001b[0m\u001b[1;33m+\u001b[0m\u001b[0ma2\u001b[0m\u001b[1;33m)\u001b[0m\u001b[1;33m\u001b[0m\u001b[1;33m\u001b[0m\u001b[0m\n\u001b[0m",
      "\u001b[1;31mValueError\u001b[0m: operands could not be broadcast together with shapes (6,5) (2,5) "
     ]
    }
   ],
   "source": [
    "# Broadcasting \n",
    "# 1. at least one array should be of single dimension\n",
    "# 2. No of elelemnt in single dimension array and no of columns in multi dimension array should be same - row wise broadcasting\n",
    "\n",
    "# if both the arrays are of 2/3/4... dimensuon\n",
    "# no Coulmn should be 1 and no of rows should match in both the arrays\n",
    "\n",
    "a1 = np.arange(30).reshape(6,-1)\n",
    "print(a1)\n",
    "a2 = np.array([[10,11,12,13,14],[15,16,17,18,19]])\n",
    "print(a1+a2)"
   ]
  },
  {
   "cell_type": "code",
   "execution_count": 46,
   "metadata": {},
   "outputs": [],
   "source": [
    "# Case 1\n",
    "\n",
    "# [[ 0  1  2  3  4]  [10,11,12,13,14]\n",
    "#  [ 5  6  7  8  9]  [10,11,12,13,14]\n",
    "#  [10 11 12 13 14]  [10,11,12,13,14]\n",
    "#  [15 16 17 18 19]  [10,11,12,13,14]\n",
    "#  [20 21 22 23 24]  [10,11,12,13,14]\n",
    "#  [25 26 27 28 29]] [10,11,12,13,14]\n",
    "\n",
    "\n",
    "# [10,11,12,13,14]\n",
    "\n",
    "\n",
    "\n",
    "# Case 2\n",
    "# [[ 0  1  2  3  4]   [10 10 10 10 10]\n",
    "#  [ 5  6  7  8  9]   [11 11 11 11 11]\n",
    "#  [10 11 12 13 14]   [12 12 12 12 12]\n",
    "#  [15 16 17 18 19]   [13 13 13 13 13]\n",
    "#  [20 21 22 23 24]   [14 14 14 14 14]\n",
    "#  [25 26 27 28 29]]  [15 15 15 15 15]\n",
    "\n",
    "\n",
    "# [[10],\n",
    "#  [11],\n",
    "#  [12],\n",
    "#  [13],\n",
    "#  [14],\n",
    "#  [15]]\n",
    "\n",
    "# Case 3\n",
    "# [[10,11,12,13,14],\n",
    "# [20,21,22,23,24]]\n",
    "\n",
    "# [[10],\n",
    "#  [11],\n",
    "#  [12],\n",
    "#  [13],\n",
    "#  [14],\n",
    "#  [15]]\n",
    "\n",
    "# [10,11,12,13,14] [10 10 10 10 10]\n",
    "# [10,11,12,13,14] [11 11 11 11 11]\n",
    "# [10,11,12,13,14] [12 12 12 12 12]\n",
    "# [10,11,12,13,14] [13 13 13 13 13]\n",
    "# [10,11,12,13,14] [14 14 14 14 14]\n",
    "# [10,11,12,13,14] [15 15 15 15 15]\n",
    "\n"
   ]
  },
  {
   "cell_type": "code",
   "execution_count": null,
   "metadata": {},
   "outputs": [],
   "source": []
  }
 ],
 "metadata": {
  "kernelspec": {
   "display_name": "Python 3",
   "language": "python",
   "name": "python3"
  },
  "language_info": {
   "codemirror_mode": {
    "name": "ipython",
    "version": 3
   },
   "file_extension": ".py",
   "mimetype": "text/x-python",
   "name": "python",
   "nbconvert_exporter": "python",
   "pygments_lexer": "ipython3",
   "version": "3.7.4"
  }
 },
 "nbformat": 4,
 "nbformat_minor": 4
}
