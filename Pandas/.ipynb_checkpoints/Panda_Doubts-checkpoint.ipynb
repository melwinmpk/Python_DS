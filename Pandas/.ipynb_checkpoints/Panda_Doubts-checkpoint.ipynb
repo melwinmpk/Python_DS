{
 "cells": [
  {
   "cell_type": "code",
   "execution_count": 1,
   "metadata": {},
   "outputs": [],
   "source": [
    "import pandas as pd"
   ]
  },
  {
   "cell_type": "markdown",
   "metadata": {},
   "source": [
    "## Melwin you had a doubt in the Pandas and Numpy about the Nan in the data in calcluate the sum,mean,mode in Numpy and Pandas"
   ]
  },
  {
   "cell_type": "code",
   "execution_count": 2,
   "metadata": {},
   "outputs": [
    {
     "name": "stdout",
     "output_type": "stream",
     "text": [
      "Shape before removing the Nan => (280932,)\n",
      "[nan nan nan ... nan nan nan]\n",
      "Shape After removing the Nan => (275175,)\n",
      "SUM                = 103658546652.572\n",
      "Mean               =  376700.4511767857\n",
      "Median             =  14171.316\n",
      "Standard deviation =  1206931.6752697264\n",
      "Variance           =  1456684068769.3882\n"
     ]
    }
   ],
   "source": [
    "#getting a file from same directory WPP2019_PopulationByAgeSex_Medium.csv\n",
    "import numpy as np\n",
    "pop_data = np.genfromtxt('population2019.csv',usecols =1, delimiter = ',',skip_header = 1)\n",
    "print(\"Shape before removing the Nan =>\",pop_data.shape)\n",
    "print(pop_data[np.isnan(pop_data)])\n",
    "pop_data = pop_data[np.logical_not(np.isnan(pop_data))]  # removing the nan values\n",
    "# in Numpy without removing the nan we cannot calcluate the operation \n",
    "print(\"Shape After removing the Nan =>\",pop_data.shape)\n",
    "print(\"SUM                =\",pop_data.sum())\n",
    "print(\"Mean               = \",np.mean(pop_data))\n",
    "print(\"Median             = \",np.median(pop_data))\n",
    "print(\"Standard deviation = \",np.std(pop_data))\n",
    "print(\"Variance           = \",np.var(pop_data))\n",
    "\n",
    "# Melwin I think while reading the file using the numpy some values is getting converted to Nan\n",
    "# Because as you see in the below Pandas Code Shape is not getting Changed in the Pandas even after the dropna"
   ]
  },
  {
   "cell_type": "code",
   "execution_count": 3,
   "metadata": {},
   "outputs": [
    {
     "name": "stdout",
     "output_type": "stream",
     "text": [
      "Shape =>  (280932, 2)\n",
      "Shape =>  (280932, 2)\n"
     ]
    },
    {
     "data": {
      "text/plain": [
       "count    2.809320e+05\n",
       "mean     4.128536e+05\n",
       "std      1.308911e+06\n",
       "min      1.510000e-01\n",
       "25%      1.240100e+03\n",
       "50%      1.420555e+04\n",
       "75%      1.171661e+05\n",
       "max      2.163274e+07\n",
       "Name: PopTotal, dtype: float64"
      ]
     },
     "execution_count": 3,
     "metadata": {},
     "output_type": "execute_result"
    }
   ],
   "source": [
    "# in Pandas I have not removed the Nan then how is this getting Calcluated ?\n",
    "df = pd.read_csv('population2019.csv')\n",
    "print(\"Shape => \",df.shape)\n",
    "df = df.dropna()\n",
    "print(\"Shape => \",df.shape)\n",
    "df[\"PopTotal\"].describe()"
   ]
  },
  {
   "cell_type": "markdown",
   "metadata": {},
   "source": [
    "##  Pandas Handel the Nan Better than the Numpy"
   ]
  },
  {
   "cell_type": "code",
   "execution_count": 4,
   "metadata": {},
   "outputs": [
    {
     "name": "stdout",
     "output_type": "stream",
     "text": [
      "Shape before remove => (5,)\n",
      "Sum before remove => 1256790184.0\n",
      "Describe before remove =\n",
      " count    4.000000e+00\n",
      "mean     3.141975e+08\n",
      "std      6.136696e+08\n",
      "min      2.000000e+01\n",
      "25%      3.500000e+01\n",
      "50%      1.111114e+07\n",
      "75%      3.253086e+08\n",
      "max      1.234568e+09\n",
      "dtype: float64\n",
      "Shapre after remove Nan=> (4,)\n",
      "Sum after remove Nan => 1256790184.0\n",
      "Describe before remove =\n",
      " count    4.000000e+00\n",
      "mean     3.141975e+08\n",
      "std      6.136696e+08\n",
      "min      2.000000e+01\n",
      "25%      3.500000e+01\n",
      "50%      1.111114e+07\n",
      "75%      3.253086e+08\n",
      "max      1.234568e+09\n",
      "dtype: float64\n"
     ]
    }
   ],
   "source": [
    "# Pandas Handel the Nan Better than the Numpy\n",
    "df = pd.Series({'a':1234567890, 'b':22222234, 'c':np.nan,'d':20,'e':40})\n",
    "print(\"Shape before remove =>\",df.shape)\n",
    "print(\"Sum before remove =>\",df.sum())\n",
    "print(\"Describe before remove =\\n\",df.describe())\n",
    "df = df.dropna()\n",
    "print(\"Shapre after remove Nan=>\",df.shape)\n",
    "print(\"Sum after remove Nan =>\",df.sum())\n",
    "print(\"Describe before remove =\\n\",df.describe())\n",
    "# Melwin Remember the Nan is explictely handeled in the Pandas calcluation is done excluding those rows"
   ]
  },
  {
   "cell_type": "code",
   "execution_count": null,
   "metadata": {},
   "outputs": [],
   "source": []
  }
 ],
 "metadata": {
  "kernelspec": {
   "display_name": "Python 3",
   "language": "python",
   "name": "python3"
  },
  "language_info": {
   "codemirror_mode": {
    "name": "ipython",
    "version": 3
   },
   "file_extension": ".py",
   "mimetype": "text/x-python",
   "name": "python",
   "nbconvert_exporter": "python",
   "pygments_lexer": "ipython3",
   "version": "3.8.3"
  }
 },
 "nbformat": 4,
 "nbformat_minor": 4
}
