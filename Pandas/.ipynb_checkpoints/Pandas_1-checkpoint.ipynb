{
 "cells": [
  {
   "cell_type": "markdown",
   "metadata": {},
   "source": [
    "# Pandas"
   ]
  },
  {
   "cell_type": "markdown",
   "metadata": {},
   "source": [
    "<b>there are two data structure in the Pandas</b><br>\n",
    "1) Series     (1d array)<br>\n",
    "2) Dataframe  (2d array)"
   ]
  },
  {
   "cell_type": "code",
   "execution_count": 1,
   "metadata": {},
   "outputs": [],
   "source": [
    "import pandas as pd"
   ]
  },
  {
   "cell_type": "markdown",
   "metadata": {},
   "source": [
    "## Series"
   ]
  },
  {
   "cell_type": "code",
   "execution_count": 4,
   "metadata": {},
   "outputs": [],
   "source": [
    "data = {'a':1234567890, 'b':22222234, 'c':[1,2,3,4,5],'d':{1:12,2:4},'e':(1,2,3)}"
   ]
  },
  {
   "cell_type": "code",
   "execution_count": 5,
   "metadata": {},
   "outputs": [
    {
     "data": {
      "text/plain": [
       "a         1234567890\n",
       "b           22222234\n",
       "c    [1, 2, 3, 4, 5]\n",
       "d      {1: 12, 2: 4}\n",
       "e          (1, 2, 3)\n",
       "dtype: object"
      ]
     },
     "execution_count": 5,
     "metadata": {},
     "output_type": "execute_result"
    }
   ],
   "source": [
    "pd.Series(data)"
   ]
  },
  {
   "cell_type": "code",
   "execution_count": 47,
   "metadata": {},
   "outputs": [
    {
     "data": {
      "text/plain": [
       "25       Ganges\n",
       "30       Yamuna\n",
       "35    Missisipi\n",
       "40         Neil\n",
       "45     Missouri\n",
       "dtype: object"
      ]
     },
     "execution_count": 47,
     "metadata": {},
     "output_type": "execute_result"
    }
   ],
   "source": [
    "river = ['Ganges', 'Yamuna', 'Missisipi', 'Neil', 'Missouri']\n",
    "river_ser = pd.Series(river, index = range(25,50,5))\n",
    "river_ser"
   ]
  },
  {
   "cell_type": "code",
   "execution_count": 52,
   "metadata": {},
   "outputs": [
    {
     "name": "stdout",
     "output_type": "stream",
     "text": [
      "a    (200, 36)\n",
      "b          100\n",
      "c         10.2\n",
      "d          NaN\n",
      "e          NaN\n",
      "dtype: object\n"
     ]
    }
   ],
   "source": [
    "# if the Data are missing for the Indexes Pandas create the Nan for the missing value\n",
    "data = {'b':100, 'a':(200, 36), 'c':10.20}\n",
    "ser1 = pd.Series(data, index = ['a', 'b', 'c', 'd', 'e'])\n",
    "print(ser1)"
   ]
  },
  {
   "cell_type": "code",
   "execution_count": 54,
   "metadata": {},
   "outputs": [
    {
     "name": "stdout",
     "output_type": "stream",
     "text": [
      "a    (200, 36)\n",
      "b          100\n",
      "dtype: object\n"
     ]
    }
   ],
   "source": [
    "# But if the Index are not mentioned the the data will be excluded\n",
    "data = {'b':100, 'a':(200, 36), 'c':10.20}\n",
    "ser1 = pd.Series(data, index = ['a', 'b'])\n",
    "print(ser1)"
   ]
  },
  {
   "cell_type": "code",
   "execution_count": 70,
   "metadata": {},
   "outputs": [
    {
     "name": "stdout",
     "output_type": "stream",
     "text": [
      "a    (200, 36)\n",
      "b          100\n",
      "c         10.2\n",
      "d          123\n",
      "e          809\n",
      "dtype: object\n",
      "-----------------------------------------\n",
      "a    (200, 36)\n",
      "b          100\n",
      "c         10.2\n",
      "dtype: object\n",
      "-----------------------------------------\n",
      "a    (200, 36)\n",
      "b          100\n",
      "c         10.2\n",
      "dtype: object\n",
      "-----------------------------------------\n",
      "(200, 36)\n",
      "-----------------------------------------\n",
      "-----------------------------------------\n"
     ]
    }
   ],
   "source": [
    "#melwin Remeber in slicing of the series the end value will be considered \n",
    "data = {'b':100, 'a':(200, 36), 'c':10.20,'d':123,'e':809 }\n",
    "ser1 = pd.Series(data, index = ['a', 'b', 'c', 'd', 'e'])\n",
    "print(ser1)\n",
    "print(\"-----------------------------------------\")\n",
    "print(ser1['a':'c']) # Remeber in slicing of the series the end value will be considered (Inclusive)\n",
    "print(\"-----------------------------------------\")\n",
    "print(ser1[:3])\n",
    "print(\"-----------------------------------------\")\n",
    "print(ser1[0])\n",
    "print(\"-----------------------------------------\")\n",
    "ser1['a']\n",
    "print(\"-----------------------------------------\")"
   ]
  },
  {
   "cell_type": "code",
   "execution_count": 74,
   "metadata": {},
   "outputs": [
    {
     "name": "stdout",
     "output_type": "stream",
     "text": [
      "UP    LKO\n",
      "AP    AMT\n",
      "MP    BHP\n",
      "KA    BEN\n",
      "TN    CHN\n",
      "dtype: object\n",
      "----------------------------------\n",
      "Index(['UP', 'AP', 'MP', 'KA', 'TN'], dtype='object')\n",
      "----------------------------------\n",
      "['LKO' 'AMT' 'BHP' 'BEN' 'CHN']\n",
      "----------------------------------\n",
      "UP    LKO\n",
      "MP    BHP\n",
      "TN    CHN\n",
      "dtype: object\n"
     ]
    }
   ],
   "source": [
    "state = ['UP', 'AP', 'MP', 'KA', 'TN']\n",
    "cap = ['LKO', 'AMT', 'BHP', 'BEN', 'CHN']\n",
    "ser_state_cap = pd.Series(index = state, data = cap)\n",
    "print(ser_state_cap)\n",
    "print(\"----------------------------------\")\n",
    "print(ser_state_cap.index)\n",
    "print(\"----------------------------------\")\n",
    "print(ser_state_cap.values)\n",
    "print(\"----------------------------------\")\n",
    "print(ser_state_cap['UP':'TN':2])"
   ]
  },
  {
   "cell_type": "markdown",
   "metadata": {},
   "source": [
    "## Data frame"
   ]
  },
  {
   "cell_type": "code",
   "execution_count": 75,
   "metadata": {},
   "outputs": [
    {
     "data": {
      "text/html": [
       "<div>\n",
       "<style scoped>\n",
       "    .dataframe tbody tr th:only-of-type {\n",
       "        vertical-align: middle;\n",
       "    }\n",
       "\n",
       "    .dataframe tbody tr th {\n",
       "        vertical-align: top;\n",
       "    }\n",
       "\n",
       "    .dataframe thead th {\n",
       "        text-align: right;\n",
       "    }\n",
       "</style>\n",
       "<table border=\"1\" class=\"dataframe\">\n",
       "  <thead>\n",
       "    <tr style=\"text-align: right;\">\n",
       "      <th></th>\n",
       "      <th>State_Name</th>\n",
       "    </tr>\n",
       "  </thead>\n",
       "  <tbody>\n",
       "    <tr>\n",
       "      <th>0</th>\n",
       "      <td>UP</td>\n",
       "    </tr>\n",
       "    <tr>\n",
       "      <th>1</th>\n",
       "      <td>AP</td>\n",
       "    </tr>\n",
       "    <tr>\n",
       "      <th>2</th>\n",
       "      <td>MP</td>\n",
       "    </tr>\n",
       "    <tr>\n",
       "      <th>3</th>\n",
       "      <td>KA</td>\n",
       "    </tr>\n",
       "    <tr>\n",
       "      <th>4</th>\n",
       "      <td>TN</td>\n",
       "    </tr>\n",
       "  </tbody>\n",
       "</table>\n",
       "</div>"
      ],
      "text/plain": [
       "  State_Name\n",
       "0         UP\n",
       "1         AP\n",
       "2         MP\n",
       "3         KA\n",
       "4         TN"
      ]
     },
     "execution_count": 75,
     "metadata": {},
     "output_type": "execute_result"
    }
   ],
   "source": [
    "state = ['UP', 'AP', 'MP', 'KA', 'TN']\n",
    "state_df = pd.DataFrame(state, columns = ['State_Name'])\n",
    "state_df"
   ]
  },
  {
   "cell_type": "code",
   "execution_count": 76,
   "metadata": {},
   "outputs": [
    {
     "data": {
      "text/html": [
       "<div>\n",
       "<style scoped>\n",
       "    .dataframe tbody tr th:only-of-type {\n",
       "        vertical-align: middle;\n",
       "    }\n",
       "\n",
       "    .dataframe tbody tr th {\n",
       "        vertical-align: top;\n",
       "    }\n",
       "\n",
       "    .dataframe thead th {\n",
       "        text-align: right;\n",
       "    }\n",
       "</style>\n",
       "<table border=\"1\" class=\"dataframe\">\n",
       "  <thead>\n",
       "    <tr style=\"text-align: right;\">\n",
       "      <th></th>\n",
       "      <th>Cap_Name</th>\n",
       "    </tr>\n",
       "  </thead>\n",
       "  <tbody>\n",
       "    <tr>\n",
       "      <th>0</th>\n",
       "      <td>LKO</td>\n",
       "    </tr>\n",
       "    <tr>\n",
       "      <th>1</th>\n",
       "      <td>AMT</td>\n",
       "    </tr>\n",
       "    <tr>\n",
       "      <th>2</th>\n",
       "      <td>BHP</td>\n",
       "    </tr>\n",
       "    <tr>\n",
       "      <th>3</th>\n",
       "      <td>BEN</td>\n",
       "    </tr>\n",
       "    <tr>\n",
       "      <th>4</th>\n",
       "      <td>CHN</td>\n",
       "    </tr>\n",
       "  </tbody>\n",
       "</table>\n",
       "</div>"
      ],
      "text/plain": [
       "  Cap_Name\n",
       "0      LKO\n",
       "1      AMT\n",
       "2      BHP\n",
       "3      BEN\n",
       "4      CHN"
      ]
     },
     "execution_count": 76,
     "metadata": {},
     "output_type": "execute_result"
    }
   ],
   "source": [
    "cap = ['LKO', 'AMT', 'BHP', 'BEN', 'CHN']\n",
    "cap_df = pd.DataFrame(cap, columns = ['Cap_Name'])\n",
    "cap_df"
   ]
  },
  {
   "cell_type": "code",
   "execution_count": 79,
   "metadata": {},
   "outputs": [
    {
     "name": "stdout",
     "output_type": "stream",
     "text": [
      "[('UP', 'LKO'), ('AP', 'AMT'), ('MP', 'BHP'), ('KA', 'BEN'), ('TN', 'CHN')]\n"
     ]
    },
    {
     "data": {
      "text/html": [
       "<div>\n",
       "<style scoped>\n",
       "    .dataframe tbody tr th:only-of-type {\n",
       "        vertical-align: middle;\n",
       "    }\n",
       "\n",
       "    .dataframe tbody tr th {\n",
       "        vertical-align: top;\n",
       "    }\n",
       "\n",
       "    .dataframe thead th {\n",
       "        text-align: right;\n",
       "    }\n",
       "</style>\n",
       "<table border=\"1\" class=\"dataframe\">\n",
       "  <thead>\n",
       "    <tr style=\"text-align: right;\">\n",
       "      <th></th>\n",
       "      <th>State_name</th>\n",
       "      <th>Cap_name</th>\n",
       "    </tr>\n",
       "  </thead>\n",
       "  <tbody>\n",
       "    <tr>\n",
       "      <th>0</th>\n",
       "      <td>UP</td>\n",
       "      <td>LKO</td>\n",
       "    </tr>\n",
       "    <tr>\n",
       "      <th>1</th>\n",
       "      <td>AP</td>\n",
       "      <td>AMT</td>\n",
       "    </tr>\n",
       "    <tr>\n",
       "      <th>2</th>\n",
       "      <td>MP</td>\n",
       "      <td>BHP</td>\n",
       "    </tr>\n",
       "    <tr>\n",
       "      <th>3</th>\n",
       "      <td>KA</td>\n",
       "      <td>BEN</td>\n",
       "    </tr>\n",
       "    <tr>\n",
       "      <th>4</th>\n",
       "      <td>TN</td>\n",
       "      <td>CHN</td>\n",
       "    </tr>\n",
       "  </tbody>\n",
       "</table>\n",
       "</div>"
      ],
      "text/plain": [
       "  State_name Cap_name\n",
       "0         UP      LKO\n",
       "1         AP      AMT\n",
       "2         MP      BHP\n",
       "3         KA      BEN\n",
       "4         TN      CHN"
      ]
     },
     "execution_count": 79,
     "metadata": {},
     "output_type": "execute_result"
    }
   ],
   "source": [
    "satae_cap = list(zip(state, cap))\n",
    "print(satae_cap)\n",
    "stae_cap_df = pd.DataFrame(satae_cap, columns = ['State_name', 'Cap_name'])\n",
    "stae_cap_df"
   ]
  },
  {
   "cell_type": "code",
   "execution_count": 90,
   "metadata": {},
   "outputs": [
    {
     "data": {
      "text/html": [
       "<div>\n",
       "<style scoped>\n",
       "    .dataframe tbody tr th:only-of-type {\n",
       "        vertical-align: middle;\n",
       "    }\n",
       "\n",
       "    .dataframe tbody tr th {\n",
       "        vertical-align: top;\n",
       "    }\n",
       "\n",
       "    .dataframe thead th {\n",
       "        text-align: right;\n",
       "    }\n",
       "</style>\n",
       "<table border=\"1\" class=\"dataframe\">\n",
       "  <thead>\n",
       "    <tr style=\"text-align: right;\">\n",
       "      <th></th>\n",
       "      <th>Location</th>\n",
       "      <th>PopTotal</th>\n",
       "    </tr>\n",
       "  </thead>\n",
       "  <tbody>\n",
       "    <tr>\n",
       "      <th>0</th>\n",
       "      <td>Afghanistan</td>\n",
       "      <td>7752.117</td>\n",
       "    </tr>\n",
       "    <tr>\n",
       "      <th>1</th>\n",
       "      <td>Afghanistan</td>\n",
       "      <td>7840.151</td>\n",
       "    </tr>\n",
       "    <tr>\n",
       "      <th>2</th>\n",
       "      <td>Afghanistan</td>\n",
       "      <td>7935.996</td>\n",
       "    </tr>\n",
       "    <tr>\n",
       "      <th>3</th>\n",
       "      <td>Afghanistan</td>\n",
       "      <td>8039.684</td>\n",
       "    </tr>\n",
       "    <tr>\n",
       "      <th>4</th>\n",
       "      <td>Afghanistan</td>\n",
       "      <td>8151.316</td>\n",
       "    </tr>\n",
       "  </tbody>\n",
       "</table>\n",
       "</div>"
      ],
      "text/plain": [
       "      Location  PopTotal\n",
       "0  Afghanistan  7752.117\n",
       "1  Afghanistan  7840.151\n",
       "2  Afghanistan  7935.996\n",
       "3  Afghanistan  8039.684\n",
       "4  Afghanistan  8151.316"
      ]
     },
     "execution_count": 90,
     "metadata": {},
     "output_type": "execute_result"
    }
   ],
   "source": [
    "pop_data = pd.read_csv('population2019.csv')\n",
    "pop_data.head()"
   ]
  },
  {
   "cell_type": "code",
   "execution_count": 91,
   "metadata": {},
   "outputs": [
    {
     "name": "stdout",
     "output_type": "stream",
     "text": [
      "Index(['Location', 'PopTotal'], dtype='object')\n",
      "----------------------------------\n",
      "----------------------------------\n",
      "----------------------------------\n"
     ]
    },
    {
     "data": {
      "text/html": [
       "<div>\n",
       "<style scoped>\n",
       "    .dataframe tbody tr th:only-of-type {\n",
       "        vertical-align: middle;\n",
       "    }\n",
       "\n",
       "    .dataframe tbody tr th {\n",
       "        vertical-align: top;\n",
       "    }\n",
       "\n",
       "    .dataframe thead th {\n",
       "        text-align: right;\n",
       "    }\n",
       "</style>\n",
       "<table border=\"1\" class=\"dataframe\">\n",
       "  <thead>\n",
       "    <tr style=\"text-align: right;\">\n",
       "      <th></th>\n",
       "      <th>Location</th>\n",
       "      <th>PopTotal</th>\n",
       "    </tr>\n",
       "  </thead>\n",
       "  <tbody>\n",
       "    <tr>\n",
       "      <th>count</th>\n",
       "      <td>280932</td>\n",
       "      <td>2.809320e+05</td>\n",
       "    </tr>\n",
       "    <tr>\n",
       "      <th>unique</th>\n",
       "      <td>474</td>\n",
       "      <td>NaN</td>\n",
       "    </tr>\n",
       "    <tr>\n",
       "      <th>top</th>\n",
       "      <td>Europe</td>\n",
       "      <td>NaN</td>\n",
       "    </tr>\n",
       "    <tr>\n",
       "      <th>freq</th>\n",
       "      <td>1768</td>\n",
       "      <td>NaN</td>\n",
       "    </tr>\n",
       "    <tr>\n",
       "      <th>mean</th>\n",
       "      <td>NaN</td>\n",
       "      <td>4.128536e+05</td>\n",
       "    </tr>\n",
       "    <tr>\n",
       "      <th>std</th>\n",
       "      <td>NaN</td>\n",
       "      <td>1.308911e+06</td>\n",
       "    </tr>\n",
       "    <tr>\n",
       "      <th>min</th>\n",
       "      <td>NaN</td>\n",
       "      <td>1.510000e-01</td>\n",
       "    </tr>\n",
       "    <tr>\n",
       "      <th>25%</th>\n",
       "      <td>NaN</td>\n",
       "      <td>1.240100e+03</td>\n",
       "    </tr>\n",
       "    <tr>\n",
       "      <th>50%</th>\n",
       "      <td>NaN</td>\n",
       "      <td>1.420555e+04</td>\n",
       "    </tr>\n",
       "    <tr>\n",
       "      <th>75%</th>\n",
       "      <td>NaN</td>\n",
       "      <td>1.171661e+05</td>\n",
       "    </tr>\n",
       "    <tr>\n",
       "      <th>max</th>\n",
       "      <td>NaN</td>\n",
       "      <td>2.163274e+07</td>\n",
       "    </tr>\n",
       "  </tbody>\n",
       "</table>\n",
       "</div>"
      ],
      "text/plain": [
       "       Location      PopTotal\n",
       "count    280932  2.809320e+05\n",
       "unique      474           NaN\n",
       "top      Europe           NaN\n",
       "freq       1768           NaN\n",
       "mean        NaN  4.128536e+05\n",
       "std         NaN  1.308911e+06\n",
       "min         NaN  1.510000e-01\n",
       "25%         NaN  1.240100e+03\n",
       "50%         NaN  1.420555e+04\n",
       "75%         NaN  1.171661e+05\n",
       "max         NaN  2.163274e+07"
      ]
     },
     "execution_count": 91,
     "metadata": {},
     "output_type": "execute_result"
    }
   ],
   "source": [
    "print(pop_data.columns)\n",
    "pop_data = pop_data.dropna()\n",
    "print(\"----------------------------------\")\n",
    "pop_data['PopTotal'].max()\n",
    "print(\"----------------------------------\")\n",
    "pop_data['PopTotal'].min()\n",
    "print(\"----------------------------------\")\n",
    "pop_data.describe(include = 'all')"
   ]
  },
  {
   "cell_type": "markdown",
   "metadata": {},
   "source": [
    "Melwin Slicing even the end value is included (Inclusive) (Only in the Series)"
   ]
  },
  {
   "cell_type": "markdown",
   "metadata": {},
   "source": [
    "zip function (combining the data frame)"
   ]
  },
  {
   "cell_type": "code",
   "execution_count": null,
   "metadata": {},
   "outputs": [],
   "source": []
  }
 ],
 "metadata": {
  "kernelspec": {
   "display_name": "Python 3",
   "language": "python",
   "name": "python3"
  },
  "language_info": {
   "codemirror_mode": {
    "name": "ipython",
    "version": 3
   },
   "file_extension": ".py",
   "mimetype": "text/x-python",
   "name": "python",
   "nbconvert_exporter": "python",
   "pygments_lexer": "ipython3",
   "version": "3.8.3"
  }
 },
 "nbformat": 4,
 "nbformat_minor": 4
}
