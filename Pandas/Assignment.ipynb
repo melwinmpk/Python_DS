{
 "cells": [
  {
   "cell_type": "code",
   "execution_count": 1,
   "metadata": {},
   "outputs": [],
   "source": [
    "import pandas as pd"
   ]
  },
  {
   "cell_type": "markdown",
   "metadata": {},
   "source": [
    "# Python Pandas"
   ]
  },
  {
   "cell_type": "markdown",
   "metadata": {},
   "source": [
    "## Python Pandas (Data Series & Frames):"
   ]
  },
  {
   "cell_type": "markdown",
   "metadata": {},
   "source": [
    "### Write a Python program to create and display a onedimensional array-like object containing an array of data using Pandas module."
   ]
  },
  {
   "cell_type": "code",
   "execution_count": 2,
   "metadata": {},
   "outputs": [
    {
     "data": {
      "text/plain": [
       "a     May\n",
       "b       I\n",
       "c    Know\n",
       "d     You\n",
       "dtype: object"
      ]
     },
     "execution_count": 2,
     "metadata": {},
     "output_type": "execute_result"
    }
   ],
   "source": [
    "oneD_array = pd.Series([\"May\",\"I\",\"Know\",\"You\"],index = ['a','b','c','d'])\n",
    "oneD_array"
   ]
  },
  {
   "cell_type": "markdown",
   "metadata": {},
   "source": [
    "### Write a Python program to convert a Panda module Series to Python list and its type"
   ]
  },
  {
   "cell_type": "code",
   "execution_count": 6,
   "metadata": {},
   "outputs": [
    {
     "name": "stdout",
     "output_type": "stream",
     "text": [
      "a     May\n",
      "b       I\n",
      "c    Know\n",
      "d     You\n",
      "dtype: object\n",
      "['May', 'I', 'Know', 'You']\n",
      "<class 'list'>\n"
     ]
    }
   ],
   "source": [
    "oneD_array = pd.Series([\"May\",\"I\",\"Know\",\"You\"],index = ['a','b','c','d'])\n",
    "print(oneD_array)\n",
    "print(oneD_array.tolist())\n",
    "print(type(oneD_array.tolist()))"
   ]
  },
  {
   "cell_type": "markdown",
   "metadata": {},
   "source": [
    "### Write a Python program to add, subtract, multiple and divide two Pandas Series."
   ]
  },
  {
   "cell_type": "code",
   "execution_count": 9,
   "metadata": {},
   "outputs": [
    {
     "name": "stdout",
     "output_type": "stream",
     "text": [
      "Adding of 2 Pandas Series\n",
      "a     60\n",
      "b     80\n",
      "c    100\n",
      "d    120\n",
      "dtype: int64\n",
      "Subtraction of 2 Pandas Series\n",
      "a   -40\n",
      "b   -40\n",
      "c   -40\n",
      "d   -40\n",
      "dtype: int64\n",
      "Multiplying of 2 Pandas Series\n",
      "a     500\n",
      "b    1200\n",
      "c    2100\n",
      "d    3200\n",
      "dtype: int64\n",
      "Dividing of 2 Pandas Series\n",
      "a    0.200000\n",
      "b    0.333333\n",
      "c    0.428571\n",
      "d    0.500000\n",
      "dtype: float64\n"
     ]
    }
   ],
   "source": [
    "oneD_array1 = pd.Series([10,20,30,40],index = ['a','b','c','d'])\n",
    "oneD_array2 = pd.Series([50,60,70,80],index = ['a','b','c','d'])\n",
    "print(\"Adding of 2 Pandas Series\")\n",
    "print(oneD_array1+oneD_array2)\n",
    "print(\"Subtraction of 2 Pandas Series\")\n",
    "print(oneD_array1-oneD_array2)\n",
    "print(\"Multiplying of 2 Pandas Series\")\n",
    "print(oneD_array1*oneD_array2)\n",
    "print(\"Dividing of 2 Pandas Series\")\n",
    "print(oneD_array1/oneD_array2)"
   ]
  },
  {
   "cell_type": "markdown",
   "metadata": {},
   "source": [
    "### Write a Python program to compare the elements of the two Pandas Series"
   ]
  },
  {
   "cell_type": "code",
   "execution_count": 13,
   "metadata": {},
   "outputs": [
    {
     "name": "stdout",
     "output_type": "stream",
     "text": [
      "Comparision of 2 Pandas Series is oneD_array1 > oneD_array2 \n",
      "a    False\n",
      "b    False\n",
      "c     True\n",
      "d     True\n",
      "dtype: bool\n",
      "Comparision of 2 Pandas Series is oneD_array1 < oneD_array2 \n",
      "a     True\n",
      "b    False\n",
      "c    False\n",
      "d    False\n",
      "dtype: bool\n",
      "Comparision of 2 Pandas Series is oneD_array1 == oneD_array2 \n",
      "a    False\n",
      "b     True\n",
      "c    False\n",
      "d    False\n",
      "dtype: bool\n"
     ]
    }
   ],
   "source": [
    "oneD_array1 = pd.Series([10,20,80,40],index = ['a','b','c','d'])\n",
    "oneD_array2 = pd.Series([50,20,70,30],index = ['a','b','c','d'])\n",
    "\n",
    "print(\"Comparision of 2 Pandas Series is oneD_array1 > oneD_array2 \")\n",
    "print(oneD_array1 > oneD_array2)\n",
    "print(\"Comparision of 2 Pandas Series is oneD_array1 < oneD_array2 \")\n",
    "print(oneD_array1 < oneD_array2)\n",
    "print(\"Comparision of 2 Pandas Series is oneD_array1 == oneD_array2 \")\n",
    "print(oneD_array1 == oneD_array2)\n"
   ]
  },
  {
   "cell_type": "markdown",
   "metadata": {},
   "source": [
    "### Write a Python program to display the following data column wise."
   ]
  },
  {
   "cell_type": "code",
   "execution_count": 21,
   "metadata": {},
   "outputs": [
    {
     "name": "stdout",
     "output_type": "stream",
     "text": [
      "id_number\n",
      "0    204\n",
      "1    202\n",
      "2    264\n",
      "3    136\n",
      "4    238\n",
      "Name: id_number, dtype: int64\n",
      "Name\n",
      "0          James Smith\n",
      "1      Maria Rodriguez\n",
      "2          David Smith\n",
      "3      Patricia Garcia\n",
      "4    Jessica Hernandez\n",
      "Name: Name, dtype: object\n",
      "Age\n",
      "0    26\n",
      "1    22\n",
      "2    24\n",
      "3    21\n",
      "4    25\n",
      "Name: Age, dtype: int64\n",
      "Gender\n",
      "0    M\n",
      "1    F\n",
      "2    M\n",
      "3    F\n",
      "4    F\n",
      "Name: Gender, dtype: object\n"
     ]
    }
   ],
   "source": [
    "students = pd.DataFrame({'id_number' : [204, 202, 264, 136, 238],\n",
    "                               'Name' : ['James Smith',\n",
    "                                        'Maria Rodriguez',\n",
    "                                        'David Smith', \n",
    "                                        'Patricia Garcia',\n",
    "                                        'Jessica Hernandez'],\n",
    "                               'Age' : [26, 22 ,24, 21, 25],\n",
    "                            'Gender' : ['M', 'F', 'M', 'F', 'F'],\n",
    "                    \n",
    "                        })\n",
    "for index,values in students.items():\n",
    "    print(index)\n",
    "    print(values)"
   ]
  },
  {
   "cell_type": "markdown",
   "metadata": {},
   "source": [
    "### Write a Python program to create and display a Data Frame from a specified dictionary data which has the index labels"
   ]
  },
  {
   "cell_type": "code",
   "execution_count": 24,
   "metadata": {},
   "outputs": [
    {
     "data": {
      "text/html": [
       "<div>\n",
       "<style scoped>\n",
       "    .dataframe tbody tr th:only-of-type {\n",
       "        vertical-align: middle;\n",
       "    }\n",
       "\n",
       "    .dataframe tbody tr th {\n",
       "        vertical-align: top;\n",
       "    }\n",
       "\n",
       "    .dataframe thead th {\n",
       "        text-align: right;\n",
       "    }\n",
       "</style>\n",
       "<table border=\"1\" class=\"dataframe\">\n",
       "  <thead>\n",
       "    <tr style=\"text-align: right;\">\n",
       "      <th></th>\n",
       "      <th>Manufacture_Year</th>\n",
       "      <th>Manufacture_Place</th>\n",
       "      <th>ITEM</th>\n",
       "      <th>COST</th>\n",
       "    </tr>\n",
       "  </thead>\n",
       "  <tbody>\n",
       "    <tr>\n",
       "      <td>0</td>\n",
       "      <td>1990</td>\n",
       "      <td>Italy</td>\n",
       "      <td>BAG</td>\n",
       "      <td>115</td>\n",
       "    </tr>\n",
       "    <tr>\n",
       "      <td>1</td>\n",
       "      <td>1994</td>\n",
       "      <td>USA</td>\n",
       "      <td>Shoes</td>\n",
       "      <td>141</td>\n",
       "    </tr>\n",
       "    <tr>\n",
       "      <td>2</td>\n",
       "      <td>1998</td>\n",
       "      <td>France</td>\n",
       "      <td>Pants</td>\n",
       "      <td>171</td>\n",
       "    </tr>\n",
       "    <tr>\n",
       "      <td>3</td>\n",
       "      <td>2002</td>\n",
       "      <td>Japan</td>\n",
       "      <td>Shirt</td>\n",
       "      <td>161</td>\n",
       "    </tr>\n",
       "  </tbody>\n",
       "</table>\n",
       "</div>"
      ],
      "text/plain": [
       "   Manufacture_Year Manufacture_Place   ITEM  COST\n",
       "0              1990             Italy    BAG   115\n",
       "1              1994               USA  Shoes   141\n",
       "2              1998            France  Pants   171\n",
       "3              2002             Japan  Shirt   161"
      ]
     },
     "execution_count": 24,
     "metadata": {},
     "output_type": "execute_result"
    }
   ],
   "source": [
    "d = {'Manufacture_Year':[1990, 1994,1998, 2002],\n",
    "    'Manufacture_Place' : ['Italy', 'USA', 'France', 'Japan'],\n",
    "    'ITEM': ['BAG', 'Shoes', 'Pants', 'Shirt'],\n",
    "    'COST' : [115, 141, 171, 161]}\n",
    "pd.DataFrame(d)"
   ]
  },
  {
   "cell_type": "markdown",
   "metadata": {},
   "source": [
    "### Write a Python program to select the specified columns and rows from a given Data Frame."
   ]
  },
  {
   "cell_type": "code",
   "execution_count": 30,
   "metadata": {},
   "outputs": [
    {
     "name": "stdout",
     "output_type": "stream",
     "text": [
      "   Manufacture_Year Manufacture_Place   ITEM  COST\n",
      "0              1990             Italy    BAG   115\n",
      "1              1994               USA  Shoes   141\n",
      "2              1998            France  Pants   171\n",
      "3              2002             Japan  Shirt   161\n"
     ]
    },
    {
     "data": {
      "text/html": [
       "<div>\n",
       "<style scoped>\n",
       "    .dataframe tbody tr th:only-of-type {\n",
       "        vertical-align: middle;\n",
       "    }\n",
       "\n",
       "    .dataframe tbody tr th {\n",
       "        vertical-align: top;\n",
       "    }\n",
       "\n",
       "    .dataframe thead th {\n",
       "        text-align: right;\n",
       "    }\n",
       "</style>\n",
       "<table border=\"1\" class=\"dataframe\">\n",
       "  <thead>\n",
       "    <tr style=\"text-align: right;\">\n",
       "      <th></th>\n",
       "      <th>Manufacture_Year</th>\n",
       "      <th>Manufacture_Place</th>\n",
       "      <th>ITEM</th>\n",
       "    </tr>\n",
       "  </thead>\n",
       "  <tbody>\n",
       "    <tr>\n",
       "      <td>0</td>\n",
       "      <td>1990</td>\n",
       "      <td>Italy</td>\n",
       "      <td>BAG</td>\n",
       "    </tr>\n",
       "    <tr>\n",
       "      <td>1</td>\n",
       "      <td>1994</td>\n",
       "      <td>USA</td>\n",
       "      <td>Shoes</td>\n",
       "    </tr>\n",
       "    <tr>\n",
       "      <td>2</td>\n",
       "      <td>1998</td>\n",
       "      <td>France</td>\n",
       "      <td>Pants</td>\n",
       "    </tr>\n",
       "  </tbody>\n",
       "</table>\n",
       "</div>"
      ],
      "text/plain": [
       "   Manufacture_Year Manufacture_Place   ITEM\n",
       "0              1990             Italy    BAG\n",
       "1              1994               USA  Shoes\n",
       "2              1998            France  Pants"
      ]
     },
     "execution_count": 30,
     "metadata": {},
     "output_type": "execute_result"
    }
   ],
   "source": [
    "d = {'Manufacture_Year':[1990, 1994,1998, 2002],\n",
    "    'Manufacture_Place' : ['Italy', 'USA', 'France', 'Japan'],\n",
    "    'ITEM': ['BAG', 'Shoes', 'Pants', 'Shirt'],\n",
    "    'COST' : [115, 141, 171, 161]}\n",
    "df = pd.DataFrame(d)\n",
    "print(df)\n",
    "df.loc[0:2,'Manufacture_Year':'ITEM']"
   ]
  },
  {
   "cell_type": "markdown",
   "metadata": {},
   "source": [
    "### Write a Python program to select the rows the score is between 15 and 20 (inclusive)."
   ]
  },
  {
   "cell_type": "code",
   "execution_count": 36,
   "metadata": {},
   "outputs": [
    {
     "name": "stdout",
     "output_type": "stream",
     "text": [
      "   Score  USERS\n",
      "0      0  User0\n",
      "1      1  User1\n",
      "2      2  User2\n",
      "3      3  User3\n",
      "4      4  User4\n"
     ]
    },
    {
     "data": {
      "text/html": [
       "<div>\n",
       "<style scoped>\n",
       "    .dataframe tbody tr th:only-of-type {\n",
       "        vertical-align: middle;\n",
       "    }\n",
       "\n",
       "    .dataframe tbody tr th {\n",
       "        vertical-align: top;\n",
       "    }\n",
       "\n",
       "    .dataframe thead th {\n",
       "        text-align: right;\n",
       "    }\n",
       "</style>\n",
       "<table border=\"1\" class=\"dataframe\">\n",
       "  <thead>\n",
       "    <tr style=\"text-align: right;\">\n",
       "      <th></th>\n",
       "      <th>Score</th>\n",
       "      <th>USERS</th>\n",
       "    </tr>\n",
       "  </thead>\n",
       "  <tbody>\n",
       "    <tr>\n",
       "      <td>15</td>\n",
       "      <td>15</td>\n",
       "      <td>User15</td>\n",
       "    </tr>\n",
       "    <tr>\n",
       "      <td>16</td>\n",
       "      <td>16</td>\n",
       "      <td>User16</td>\n",
       "    </tr>\n",
       "    <tr>\n",
       "      <td>17</td>\n",
       "      <td>17</td>\n",
       "      <td>User17</td>\n",
       "    </tr>\n",
       "    <tr>\n",
       "      <td>18</td>\n",
       "      <td>18</td>\n",
       "      <td>User18</td>\n",
       "    </tr>\n",
       "    <tr>\n",
       "      <td>19</td>\n",
       "      <td>19</td>\n",
       "      <td>User19</td>\n",
       "    </tr>\n",
       "    <tr>\n",
       "      <td>20</td>\n",
       "      <td>20</td>\n",
       "      <td>User20</td>\n",
       "    </tr>\n",
       "  </tbody>\n",
       "</table>\n",
       "</div>"
      ],
      "text/plain": [
       "    Score   USERS\n",
       "15     15  User15\n",
       "16     16  User16\n",
       "17     17  User17\n",
       "18     18  User18\n",
       "19     19  User19\n",
       "20     20  User20"
      ]
     },
     "execution_count": 36,
     "metadata": {},
     "output_type": "execute_result"
    }
   ],
   "source": [
    "d = {'Score':[x for x in range(100)],\n",
    "    'USERS' : ['User'+str(x) for x in range(100)]}\n",
    "df = pd.DataFrame(d)\n",
    "print(df.head())\n",
    "df[(df[\"Score\"] >= 15) & (df[\"Score\"] <= 20)]"
   ]
  },
  {
   "cell_type": "markdown",
   "metadata": {},
   "source": [
    "### Write a Python program to select the rows where number of attempts in the examination is less than 2 and score greater than 15."
   ]
  },
  {
   "cell_type": "code",
   "execution_count": 41,
   "metadata": {},
   "outputs": [
    {
     "name": "stdout",
     "output_type": "stream",
     "text": [
      "   Score  USERS  ATTEMPTS\n",
      "0      0  User0         7\n",
      "1      1  User1         1\n",
      "2      2  User2        10\n",
      "3      3  User3         9\n",
      "4      4  User4         3\n"
     ]
    },
    {
     "data": {
      "text/html": [
       "<div>\n",
       "<style scoped>\n",
       "    .dataframe tbody tr th:only-of-type {\n",
       "        vertical-align: middle;\n",
       "    }\n",
       "\n",
       "    .dataframe tbody tr th {\n",
       "        vertical-align: top;\n",
       "    }\n",
       "\n",
       "    .dataframe thead th {\n",
       "        text-align: right;\n",
       "    }\n",
       "</style>\n",
       "<table border=\"1\" class=\"dataframe\">\n",
       "  <thead>\n",
       "    <tr style=\"text-align: right;\">\n",
       "      <th></th>\n",
       "      <th>Score</th>\n",
       "      <th>USERS</th>\n",
       "      <th>ATTEMPTS</th>\n",
       "    </tr>\n",
       "  </thead>\n",
       "  <tbody>\n",
       "    <tr>\n",
       "      <td>20</td>\n",
       "      <td>20</td>\n",
       "      <td>User20</td>\n",
       "      <td>1</td>\n",
       "    </tr>\n",
       "    <tr>\n",
       "      <td>26</td>\n",
       "      <td>26</td>\n",
       "      <td>User26</td>\n",
       "      <td>1</td>\n",
       "    </tr>\n",
       "    <tr>\n",
       "      <td>27</td>\n",
       "      <td>27</td>\n",
       "      <td>User27</td>\n",
       "      <td>1</td>\n",
       "    </tr>\n",
       "    <tr>\n",
       "      <td>29</td>\n",
       "      <td>29</td>\n",
       "      <td>User29</td>\n",
       "      <td>1</td>\n",
       "    </tr>\n",
       "    <tr>\n",
       "      <td>38</td>\n",
       "      <td>38</td>\n",
       "      <td>User38</td>\n",
       "      <td>1</td>\n",
       "    </tr>\n",
       "    <tr>\n",
       "      <td>39</td>\n",
       "      <td>39</td>\n",
       "      <td>User39</td>\n",
       "      <td>1</td>\n",
       "    </tr>\n",
       "    <tr>\n",
       "      <td>54</td>\n",
       "      <td>54</td>\n",
       "      <td>User54</td>\n",
       "      <td>1</td>\n",
       "    </tr>\n",
       "    <tr>\n",
       "      <td>76</td>\n",
       "      <td>76</td>\n",
       "      <td>User76</td>\n",
       "      <td>1</td>\n",
       "    </tr>\n",
       "    <tr>\n",
       "      <td>77</td>\n",
       "      <td>77</td>\n",
       "      <td>User77</td>\n",
       "      <td>1</td>\n",
       "    </tr>\n",
       "    <tr>\n",
       "      <td>84</td>\n",
       "      <td>84</td>\n",
       "      <td>User84</td>\n",
       "      <td>1</td>\n",
       "    </tr>\n",
       "    <tr>\n",
       "      <td>86</td>\n",
       "      <td>86</td>\n",
       "      <td>User86</td>\n",
       "      <td>1</td>\n",
       "    </tr>\n",
       "    <tr>\n",
       "      <td>92</td>\n",
       "      <td>92</td>\n",
       "      <td>User92</td>\n",
       "      <td>1</td>\n",
       "    </tr>\n",
       "    <tr>\n",
       "      <td>94</td>\n",
       "      <td>94</td>\n",
       "      <td>User94</td>\n",
       "      <td>1</td>\n",
       "    </tr>\n",
       "  </tbody>\n",
       "</table>\n",
       "</div>"
      ],
      "text/plain": [
       "    Score   USERS  ATTEMPTS\n",
       "20     20  User20         1\n",
       "26     26  User26         1\n",
       "27     27  User27         1\n",
       "29     29  User29         1\n",
       "38     38  User38         1\n",
       "39     39  User39         1\n",
       "54     54  User54         1\n",
       "76     76  User76         1\n",
       "77     77  User77         1\n",
       "84     84  User84         1\n",
       "86     86  User86         1\n",
       "92     92  User92         1\n",
       "94     94  User94         1"
      ]
     },
     "execution_count": 41,
     "metadata": {},
     "output_type": "execute_result"
    }
   ],
   "source": [
    "import random\n",
    "d = {'Score':[x for x in range(100)],\n",
    "    'USERS' : ['User'+str(x) for x in range(100)],\n",
    "    'ATTEMPTS': [random.randint(1,10) for x in range(100)]}\n",
    "df = pd.DataFrame(d)\n",
    "print(df.head())\n",
    "df[ (df[\"ATTEMPTS\"] < 2) & (df[\"Score\"] > 15)]"
   ]
  },
  {
   "cell_type": "markdown",
   "metadata": {},
   "source": [
    "### Write a Python program to append a new row 'k' to Data Frame with given values for each column. Now delete the new row and return the original data frame."
   ]
  },
  {
   "cell_type": "code",
   "execution_count": 60,
   "metadata": {},
   "outputs": [
    {
     "name": "stdout",
     "output_type": "stream",
     "text": [
      "BEFORE ADDING OF THE NEW USER\n",
      "   Score  USERS  ATTEMPTS\n",
      "0     88  User0        10\n",
      "1     96  User1         1\n",
      "2     69  User2        10\n",
      "3     34  User3         3\n",
      "4     40  User4         3\n",
      "5     76  User5         6\n",
      "6     56  User6        10\n",
      "7     61  User7         9\n",
      "8     28  User8         3\n",
      "9     15  User9         4\n",
      "AFTER ADDING OF THE NEW USER 'TONY' \n",
      "    Score  USERS  ATTEMPTS\n",
      "0      88  User0        10\n",
      "1      96  User1         1\n",
      "2      69  User2        10\n",
      "3      34  User3         3\n",
      "4      40  User4         3\n",
      "5      76  User5         6\n",
      "6      56  User6        10\n",
      "7      61  User7         9\n",
      "8      28  User8         3\n",
      "9      15  User9         4\n",
      "10    100   TONY         1\n",
      "AFTER DELETE OF THE NEW USER\n",
      "   Score  USERS  ATTEMPTS\n",
      "0     88  User0        10\n",
      "1     96  User1         1\n",
      "2     69  User2        10\n",
      "3     34  User3         3\n",
      "4     40  User4         3\n",
      "5     76  User5         6\n",
      "6     56  User6        10\n",
      "7     61  User7         9\n",
      "8     28  User8         3\n",
      "9     15  User9         4\n"
     ]
    }
   ],
   "source": [
    "d = {'Score':[random.randint(1,100) for x in range(10)],\n",
    "    'USERS' : ['User'+str(x) for x in range(10)],\n",
    "    'ATTEMPTS': [random.randint(1,10) for x in range(10)]}\n",
    "df = pd.DataFrame(d)\n",
    "print(\"BEFORE ADDING OF THE NEW USER\")\n",
    "print(df)\n",
    "newrow = pd.Series([100,\"TONY\",1],index = ['Score','USERS','ATTEMPTS'] )\n",
    "df = df.append(newrow, ignore_index=True)\n",
    "print(\"AFTER ADDING OF THE NEW USER 'TONY' \")\n",
    "print(df)\n",
    "df = df.drop(df[df[\"USERS\"] == \"TONY\"].index)\n",
    "print(\"AFTER DELETE OF THE NEW USER\")\n",
    "print(df)\n"
   ]
  },
  {
   "cell_type": "markdown",
   "metadata": {},
   "source": [
    "### Write a Python program to sort the data frame first by 'name' in descending order, then by 'score' in ascending order."
   ]
  },
  {
   "cell_type": "code",
   "execution_count": 73,
   "metadata": {},
   "outputs": [
    {
     "name": "stdout",
     "output_type": "stream",
     "text": [
      "   Score   USERS  ATTEMPTS\n",
      "0     89   User9         8\n",
      "1     45   User7         1\n",
      "2     88  User10        10\n",
      "3     35  User10         8\n",
      "4     96   User2         9\n",
      "5     92   User4         5\n",
      "6     23   User8         8\n",
      "7     95   User1         4\n",
      "8     19   User2         3\n",
      "9     51   User1         4\n"
     ]
    },
    {
     "data": {
      "text/html": [
       "<div>\n",
       "<style scoped>\n",
       "    .dataframe tbody tr th:only-of-type {\n",
       "        vertical-align: middle;\n",
       "    }\n",
       "\n",
       "    .dataframe tbody tr th {\n",
       "        vertical-align: top;\n",
       "    }\n",
       "\n",
       "    .dataframe thead th {\n",
       "        text-align: right;\n",
       "    }\n",
       "</style>\n",
       "<table border=\"1\" class=\"dataframe\">\n",
       "  <thead>\n",
       "    <tr style=\"text-align: right;\">\n",
       "      <th></th>\n",
       "      <th>Score</th>\n",
       "      <th>USERS</th>\n",
       "      <th>ATTEMPTS</th>\n",
       "    </tr>\n",
       "  </thead>\n",
       "  <tbody>\n",
       "    <tr>\n",
       "      <td>9</td>\n",
       "      <td>51</td>\n",
       "      <td>User1</td>\n",
       "      <td>4</td>\n",
       "    </tr>\n",
       "    <tr>\n",
       "      <td>7</td>\n",
       "      <td>95</td>\n",
       "      <td>User1</td>\n",
       "      <td>4</td>\n",
       "    </tr>\n",
       "    <tr>\n",
       "      <td>3</td>\n",
       "      <td>35</td>\n",
       "      <td>User10</td>\n",
       "      <td>8</td>\n",
       "    </tr>\n",
       "    <tr>\n",
       "      <td>2</td>\n",
       "      <td>88</td>\n",
       "      <td>User10</td>\n",
       "      <td>10</td>\n",
       "    </tr>\n",
       "    <tr>\n",
       "      <td>8</td>\n",
       "      <td>19</td>\n",
       "      <td>User2</td>\n",
       "      <td>3</td>\n",
       "    </tr>\n",
       "    <tr>\n",
       "      <td>4</td>\n",
       "      <td>96</td>\n",
       "      <td>User2</td>\n",
       "      <td>9</td>\n",
       "    </tr>\n",
       "    <tr>\n",
       "      <td>5</td>\n",
       "      <td>92</td>\n",
       "      <td>User4</td>\n",
       "      <td>5</td>\n",
       "    </tr>\n",
       "    <tr>\n",
       "      <td>1</td>\n",
       "      <td>45</td>\n",
       "      <td>User7</td>\n",
       "      <td>1</td>\n",
       "    </tr>\n",
       "    <tr>\n",
       "      <td>6</td>\n",
       "      <td>23</td>\n",
       "      <td>User8</td>\n",
       "      <td>8</td>\n",
       "    </tr>\n",
       "    <tr>\n",
       "      <td>0</td>\n",
       "      <td>89</td>\n",
       "      <td>User9</td>\n",
       "      <td>8</td>\n",
       "    </tr>\n",
       "  </tbody>\n",
       "</table>\n",
       "</div>"
      ],
      "text/plain": [
       "   Score   USERS  ATTEMPTS\n",
       "9     51   User1         4\n",
       "7     95   User1         4\n",
       "3     35  User10         8\n",
       "2     88  User10        10\n",
       "8     19   User2         3\n",
       "4     96   User2         9\n",
       "5     92   User4         5\n",
       "1     45   User7         1\n",
       "6     23   User8         8\n",
       "0     89   User9         8"
      ]
     },
     "execution_count": 73,
     "metadata": {},
     "output_type": "execute_result"
    }
   ],
   "source": [
    "d = {'Score':[random.randint(1,100) for x in range(10)],\n",
    "    'USERS' : ['User'+str(random.randint(1,10)) for x in range(10)],\n",
    "    'ATTEMPTS': [random.randint(1,10) for x in range(10)]}\n",
    "df = pd.DataFrame(d)\n",
    "print(df)\n",
    "df.sort_values(by = ['USERS','Score'])"
   ]
  },
  {
   "cell_type": "markdown",
   "metadata": {},
   "source": [
    "### Write a Python program to insert a new column in existing Data Frame."
   ]
  },
  {
   "cell_type": "code",
   "execution_count": 63,
   "metadata": {},
   "outputs": [
    {
     "name": "stdout",
     "output_type": "stream",
     "text": [
      "   Score  USERS  ATTEMPTS\n",
      "0     14  User0         6\n",
      "1     12  User1         2\n",
      "2     29  User2         4\n",
      "3     58  User3         4\n",
      "4     43  User4         8\n",
      "5     58  User5         2\n",
      "6     69  User6         9\n",
      "7     37  User7         1\n",
      "8      7  User8         6\n",
      "9     74  User9         1\n"
     ]
    },
    {
     "data": {
      "text/html": [
       "<div>\n",
       "<style scoped>\n",
       "    .dataframe tbody tr th:only-of-type {\n",
       "        vertical-align: middle;\n",
       "    }\n",
       "\n",
       "    .dataframe tbody tr th {\n",
       "        vertical-align: top;\n",
       "    }\n",
       "\n",
       "    .dataframe thead th {\n",
       "        text-align: right;\n",
       "    }\n",
       "</style>\n",
       "<table border=\"1\" class=\"dataframe\">\n",
       "  <thead>\n",
       "    <tr style=\"text-align: right;\">\n",
       "      <th></th>\n",
       "      <th>Score</th>\n",
       "      <th>USERS</th>\n",
       "      <th>ATTEMPTS</th>\n",
       "      <th>GRADE</th>\n",
       "    </tr>\n",
       "  </thead>\n",
       "  <tbody>\n",
       "    <tr>\n",
       "      <td>0</td>\n",
       "      <td>14</td>\n",
       "      <td>User0</td>\n",
       "      <td>6</td>\n",
       "      <td>unknown</td>\n",
       "    </tr>\n",
       "    <tr>\n",
       "      <td>1</td>\n",
       "      <td>12</td>\n",
       "      <td>User1</td>\n",
       "      <td>2</td>\n",
       "      <td>unknown</td>\n",
       "    </tr>\n",
       "    <tr>\n",
       "      <td>2</td>\n",
       "      <td>29</td>\n",
       "      <td>User2</td>\n",
       "      <td>4</td>\n",
       "      <td>unknown</td>\n",
       "    </tr>\n",
       "    <tr>\n",
       "      <td>3</td>\n",
       "      <td>58</td>\n",
       "      <td>User3</td>\n",
       "      <td>4</td>\n",
       "      <td>unknown</td>\n",
       "    </tr>\n",
       "    <tr>\n",
       "      <td>4</td>\n",
       "      <td>43</td>\n",
       "      <td>User4</td>\n",
       "      <td>8</td>\n",
       "      <td>unknown</td>\n",
       "    </tr>\n",
       "    <tr>\n",
       "      <td>5</td>\n",
       "      <td>58</td>\n",
       "      <td>User5</td>\n",
       "      <td>2</td>\n",
       "      <td>unknown</td>\n",
       "    </tr>\n",
       "    <tr>\n",
       "      <td>6</td>\n",
       "      <td>69</td>\n",
       "      <td>User6</td>\n",
       "      <td>9</td>\n",
       "      <td>unknown</td>\n",
       "    </tr>\n",
       "    <tr>\n",
       "      <td>7</td>\n",
       "      <td>37</td>\n",
       "      <td>User7</td>\n",
       "      <td>1</td>\n",
       "      <td>unknown</td>\n",
       "    </tr>\n",
       "    <tr>\n",
       "      <td>8</td>\n",
       "      <td>7</td>\n",
       "      <td>User8</td>\n",
       "      <td>6</td>\n",
       "      <td>unknown</td>\n",
       "    </tr>\n",
       "    <tr>\n",
       "      <td>9</td>\n",
       "      <td>74</td>\n",
       "      <td>User9</td>\n",
       "      <td>1</td>\n",
       "      <td>unknown</td>\n",
       "    </tr>\n",
       "  </tbody>\n",
       "</table>\n",
       "</div>"
      ],
      "text/plain": [
       "   Score  USERS  ATTEMPTS    GRADE\n",
       "0     14  User0         6  unknown\n",
       "1     12  User1         2  unknown\n",
       "2     29  User2         4  unknown\n",
       "3     58  User3         4  unknown\n",
       "4     43  User4         8  unknown\n",
       "5     58  User5         2  unknown\n",
       "6     69  User6         9  unknown\n",
       "7     37  User7         1  unknown\n",
       "8      7  User8         6  unknown\n",
       "9     74  User9         1  unknown"
      ]
     },
     "execution_count": 63,
     "metadata": {},
     "output_type": "execute_result"
    }
   ],
   "source": [
    "d = {'Score':[random.randint(1,100) for x in range(10)],\n",
    "    'USERS' : ['User'+str(x) for x in range(10)],\n",
    "    'ATTEMPTS': [random.randint(1,10) for x in range(10)]}\n",
    "df = pd.DataFrame(d)\n",
    "print(df)\n",
    "df[\"GRADE\"] = \"unknown\"\n",
    "df"
   ]
  },
  {
   "cell_type": "markdown",
   "metadata": {},
   "source": [
    "### Write a Python program to change the name 'James' to 'Suresh' in name column of the data frame."
   ]
  },
  {
   "cell_type": "code",
   "execution_count": 70,
   "metadata": {},
   "outputs": [
    {
     "name": "stdout",
     "output_type": "stream",
     "text": [
      "Before Changing the Name\n",
      "    Score  USERS  ATTEMPTS\n",
      "0      72  User0         1\n",
      "1      40  User1         6\n",
      "2      92  User2         5\n",
      "3      18  User3         7\n",
      "4      47  User4         9\n",
      "5      32  User5         5\n",
      "6      73  User6         5\n",
      "7       7  User7         3\n",
      "8       9  User8         4\n",
      "9      22  User9         3\n",
      "10    100  James         1\n",
      "After Changing the Name\n"
     ]
    },
    {
     "data": {
      "text/html": [
       "<div>\n",
       "<style scoped>\n",
       "    .dataframe tbody tr th:only-of-type {\n",
       "        vertical-align: middle;\n",
       "    }\n",
       "\n",
       "    .dataframe tbody tr th {\n",
       "        vertical-align: top;\n",
       "    }\n",
       "\n",
       "    .dataframe thead th {\n",
       "        text-align: right;\n",
       "    }\n",
       "</style>\n",
       "<table border=\"1\" class=\"dataframe\">\n",
       "  <thead>\n",
       "    <tr style=\"text-align: right;\">\n",
       "      <th></th>\n",
       "      <th>Score</th>\n",
       "      <th>USERS</th>\n",
       "      <th>ATTEMPTS</th>\n",
       "    </tr>\n",
       "  </thead>\n",
       "  <tbody>\n",
       "    <tr>\n",
       "      <td>0</td>\n",
       "      <td>72</td>\n",
       "      <td>User0</td>\n",
       "      <td>1</td>\n",
       "    </tr>\n",
       "    <tr>\n",
       "      <td>1</td>\n",
       "      <td>40</td>\n",
       "      <td>User1</td>\n",
       "      <td>6</td>\n",
       "    </tr>\n",
       "    <tr>\n",
       "      <td>2</td>\n",
       "      <td>92</td>\n",
       "      <td>User2</td>\n",
       "      <td>5</td>\n",
       "    </tr>\n",
       "    <tr>\n",
       "      <td>3</td>\n",
       "      <td>18</td>\n",
       "      <td>User3</td>\n",
       "      <td>7</td>\n",
       "    </tr>\n",
       "    <tr>\n",
       "      <td>4</td>\n",
       "      <td>47</td>\n",
       "      <td>User4</td>\n",
       "      <td>9</td>\n",
       "    </tr>\n",
       "    <tr>\n",
       "      <td>5</td>\n",
       "      <td>32</td>\n",
       "      <td>User5</td>\n",
       "      <td>5</td>\n",
       "    </tr>\n",
       "    <tr>\n",
       "      <td>6</td>\n",
       "      <td>73</td>\n",
       "      <td>User6</td>\n",
       "      <td>5</td>\n",
       "    </tr>\n",
       "    <tr>\n",
       "      <td>7</td>\n",
       "      <td>7</td>\n",
       "      <td>User7</td>\n",
       "      <td>3</td>\n",
       "    </tr>\n",
       "    <tr>\n",
       "      <td>8</td>\n",
       "      <td>9</td>\n",
       "      <td>User8</td>\n",
       "      <td>4</td>\n",
       "    </tr>\n",
       "    <tr>\n",
       "      <td>9</td>\n",
       "      <td>22</td>\n",
       "      <td>User9</td>\n",
       "      <td>3</td>\n",
       "    </tr>\n",
       "    <tr>\n",
       "      <td>10</td>\n",
       "      <td>100</td>\n",
       "      <td>Suresh</td>\n",
       "      <td>1</td>\n",
       "    </tr>\n",
       "  </tbody>\n",
       "</table>\n",
       "</div>"
      ],
      "text/plain": [
       "    Score   USERS  ATTEMPTS\n",
       "0      72   User0         1\n",
       "1      40   User1         6\n",
       "2      92   User2         5\n",
       "3      18   User3         7\n",
       "4      47   User4         9\n",
       "5      32   User5         5\n",
       "6      73   User6         5\n",
       "7       7   User7         3\n",
       "8       9   User8         4\n",
       "9      22   User9         3\n",
       "10    100  Suresh         1"
      ]
     },
     "execution_count": 70,
     "metadata": {},
     "output_type": "execute_result"
    }
   ],
   "source": [
    "d = {'Score':[random.randint(1,100) for x in range(10)],\n",
    "    'USERS' : ['User'+str(x) for x in range(10)],\n",
    "    'ATTEMPTS': [random.randint(1,10) for x in range(10)]}\n",
    "df = pd.DataFrame(d)\n",
    "newrow = pd.Series([100,\"James\",1],index = ['Score','USERS','ATTEMPTS'] )\n",
    "df = df.append(newrow, ignore_index=True)\n",
    "print(\"Before Changing the Name\")\n",
    "print(df)\n",
    "df.loc[df[\"USERS\"] == \"James\",\"USERS\"] = \"Suresh\"\n",
    "print(\"After Changing the Name\")\n",
    "df"
   ]
  },
  {
   "cell_type": "code",
   "execution_count": null,
   "metadata": {},
   "outputs": [],
   "source": []
  }
 ],
 "metadata": {
  "kernelspec": {
   "display_name": "Python 3",
   "language": "python",
   "name": "python3"
  },
  "language_info": {
   "codemirror_mode": {
    "name": "ipython",
    "version": 3
   },
   "file_extension": ".py",
   "mimetype": "text/x-python",
   "name": "python",
   "nbconvert_exporter": "python",
   "pygments_lexer": "ipython3",
   "version": "3.7.4"
  }
 },
 "nbformat": 4,
 "nbformat_minor": 2
}
