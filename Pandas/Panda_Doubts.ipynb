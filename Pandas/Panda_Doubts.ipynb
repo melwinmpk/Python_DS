{
 "cells": [
  {
   "cell_type": "code",
   "execution_count": 1,
   "metadata": {},
   "outputs": [],
   "source": [
    "import pandas as pd"
   ]
  },
  {
   "cell_type": "markdown",
   "metadata": {},
   "source": [
    "## Melwin you had a doubt in the Pandas and Numpy about the Nan in the data in calcluate the sum,mean,mode in Numpy and Pandas"
   ]
  },
  {
   "cell_type": "code",
   "execution_count": 2,
   "metadata": {},
   "outputs": [
    {
     "name": "stdout",
     "output_type": "stream",
     "text": [
      "Shape before removing the Nan => (280932,)\n",
      "[nan nan nan ... nan nan nan]\n",
      "Shape After removing the Nan => (275175,)\n",
      "SUM                = 103658546652.572\n",
      "Mean               =  376700.4511767857\n",
      "Median             =  14171.316\n",
      "Standard deviation =  1206931.6752697264\n",
      "Variance           =  1456684068769.3882\n"
     ]
    }
   ],
   "source": [
    "#getting a file from same directory WPP2019_PopulationByAgeSex_Medium.csv\n",
    "import numpy as np\n",
    "pop_data = np.genfromtxt('population2019.csv',usecols =1, delimiter = ',',skip_header = 1)\n",
    "print(\"Shape before removing the Nan =>\",pop_data.shape)\n",
    "print(pop_data[np.isnan(pop_data)])\n",
    "pop_data = pop_data[np.logical_not(np.isnan(pop_data))]  # removing the nan values\n",
    "# in Numpy without removing the nan we cannot calcluate the operation \n",
    "print(\"Shape After removing the Nan =>\",pop_data.shape)\n",
    "print(\"SUM                =\",pop_data.sum())\n",
    "print(\"Mean               = \",np.mean(pop_data))\n",
    "print(\"Median             = \",np.median(pop_data))\n",
    "print(\"Standard deviation = \",np.std(pop_data))\n",
    "print(\"Variance           = \",np.var(pop_data))\n",
    "\n",
    "# Melwin I think while reading the file using the numpy some values is getting converted to Nan\n",
    "# Because as you see in the below Pandas Code Shape is not getting Changed in the Pandas even after the dropna"
   ]
  },
  {
   "cell_type": "code",
   "execution_count": 3,
   "metadata": {},
   "outputs": [
    {
     "name": "stdout",
     "output_type": "stream",
     "text": [
      "Shape =>  (280932, 2)\n",
      "Shape =>  (280932, 2)\n"
     ]
    },
    {
     "data": {
      "text/plain": [
       "count    2.809320e+05\n",
       "mean     4.128536e+05\n",
       "std      1.308911e+06\n",
       "min      1.510000e-01\n",
       "25%      1.240100e+03\n",
       "50%      1.420555e+04\n",
       "75%      1.171661e+05\n",
       "max      2.163274e+07\n",
       "Name: PopTotal, dtype: float64"
      ]
     },
     "execution_count": 3,
     "metadata": {},
     "output_type": "execute_result"
    }
   ],
   "source": [
    "# in Pandas I have not removed the Nan then how is this getting Calcluated ?\n",
    "df = pd.read_csv('population2019.csv')\n",
    "print(\"Shape => \",df.shape)\n",
    "df = df.dropna()\n",
    "print(\"Shape => \",df.shape)\n",
    "df[\"PopTotal\"].describe()"
   ]
  },
  {
   "cell_type": "markdown",
   "metadata": {},
   "source": [
    "##  Pandas Handel the Nan Better than the Numpy"
   ]
  },
  {
   "cell_type": "code",
   "execution_count": 4,
   "metadata": {},
   "outputs": [
    {
     "name": "stdout",
     "output_type": "stream",
     "text": [
      "Shape before remove => (5,)\n",
      "Sum before remove => 1256790184.0\n",
      "Describe before remove =\n",
      " count    4.000000e+00\n",
      "mean     3.141975e+08\n",
      "std      6.136696e+08\n",
      "min      2.000000e+01\n",
      "25%      3.500000e+01\n",
      "50%      1.111114e+07\n",
      "75%      3.253086e+08\n",
      "max      1.234568e+09\n",
      "dtype: float64\n",
      "Shapre after remove Nan=> (4,)\n",
      "Sum after remove Nan => 1256790184.0\n",
      "Describe before remove =\n",
      " count    4.000000e+00\n",
      "mean     3.141975e+08\n",
      "std      6.136696e+08\n",
      "min      2.000000e+01\n",
      "25%      3.500000e+01\n",
      "50%      1.111114e+07\n",
      "75%      3.253086e+08\n",
      "max      1.234568e+09\n",
      "dtype: float64\n"
     ]
    }
   ],
   "source": [
    "# Pandas Handel the Nan Better than the Numpy\n",
    "df = pd.Series({'a':1234567890, 'b':22222234, 'c':np.nan,'d':20,'e':40})\n",
    "print(\"Shape before remove =>\",df.shape)\n",
    "print(\"Sum before remove =>\",df.sum())\n",
    "print(\"Describe before remove =\\n\",df.describe())\n",
    "df = df.dropna()\n",
    "print(\"Shapre after remove Nan=>\",df.shape)\n",
    "print(\"Sum after remove Nan =>\",df.sum())\n",
    "print(\"Describe before remove =\\n\",df.describe())\n",
    "# Melwin Remember the Nan is explictely handeled in the Pandas calcluation is done excluding those rows"
   ]
  },
  {
   "cell_type": "code",
   "execution_count": null,
   "metadata": {},
   "outputs": [],
   "source": []
  },
  {
   "cell_type": "markdown",
   "metadata": {},
   "source": [
    "## What will happen tp the pvot if the data set has the duplicate entery in the data set "
   ]
  },
  {
   "cell_type": "code",
   "execution_count": 16,
   "metadata": {},
   "outputs": [
    {
     "data": {
      "text/html": [
       "<div>\n",
       "<style scoped>\n",
       "    .dataframe tbody tr th:only-of-type {\n",
       "        vertical-align: middle;\n",
       "    }\n",
       "\n",
       "    .dataframe tbody tr th {\n",
       "        vertical-align: top;\n",
       "    }\n",
       "\n",
       "    .dataframe thead th {\n",
       "        text-align: right;\n",
       "    }\n",
       "</style>\n",
       "<table border=\"1\" class=\"dataframe\">\n",
       "  <thead>\n",
       "    <tr style=\"text-align: right;\">\n",
       "      <th></th>\n",
       "      <th>Region</th>\n",
       "      <th>Type</th>\n",
       "      <th>Small Bags</th>\n",
       "      <th>Large Bags</th>\n",
       "      <th>Total Bags</th>\n",
       "      <th>Total Volume</th>\n",
       "      <th>AveragePrice</th>\n",
       "      <th>Date</th>\n",
       "    </tr>\n",
       "  </thead>\n",
       "  <tbody>\n",
       "    <tr>\n",
       "      <td>0</td>\n",
       "      <td>Atlanta</td>\n",
       "      <td>organic</td>\n",
       "      <td>89424.11</td>\n",
       "      <td>207.08</td>\n",
       "      <td>89631.19</td>\n",
       "      <td>190257.38</td>\n",
       "      <td>1.70</td>\n",
       "      <td>2018-03-25</td>\n",
       "    </tr>\n",
       "    <tr>\n",
       "      <td>1</td>\n",
       "      <td>Atlanta</td>\n",
       "      <td>conventional</td>\n",
       "      <td>102717.50</td>\n",
       "      <td>153.00</td>\n",
       "      <td>102870.50</td>\n",
       "      <td>202790.74</td>\n",
       "      <td>1.75</td>\n",
       "      <td>2018-03-18</td>\n",
       "    </tr>\n",
       "    <tr>\n",
       "      <td>2</td>\n",
       "      <td>Boston</td>\n",
       "      <td>organic</td>\n",
       "      <td>120465.39</td>\n",
       "      <td>18.83</td>\n",
       "      <td>120484.22</td>\n",
       "      <td>236822.98</td>\n",
       "      <td>1.58</td>\n",
       "      <td>2018-03-11</td>\n",
       "    </tr>\n",
       "    <tr>\n",
       "      <td>3</td>\n",
       "      <td>Boston</td>\n",
       "      <td>conventional</td>\n",
       "      <td>136877.43</td>\n",
       "      <td>60.60</td>\n",
       "      <td>136938.03</td>\n",
       "      <td>239135.67</td>\n",
       "      <td>1.57</td>\n",
       "      <td>2018-03-04</td>\n",
       "    </tr>\n",
       "    <tr>\n",
       "      <td>4</td>\n",
       "      <td>California</td>\n",
       "      <td>organic</td>\n",
       "      <td>66273.89</td>\n",
       "      <td>46.58</td>\n",
       "      <td>66320.47</td>\n",
       "      <td>179041.72</td>\n",
       "      <td>1.82</td>\n",
       "      <td>2018-02-25</td>\n",
       "    </tr>\n",
       "  </tbody>\n",
       "</table>\n",
       "</div>"
      ],
      "text/plain": [
       "       Region          Type  Small Bags  Large Bags  Total Bags  Total Volume  \\\n",
       "0     Atlanta       organic    89424.11      207.08    89631.19     190257.38   \n",
       "1     Atlanta  conventional   102717.50      153.00   102870.50     202790.74   \n",
       "2      Boston       organic   120465.39       18.83   120484.22     236822.98   \n",
       "3      Boston  conventional   136877.43       60.60   136938.03     239135.67   \n",
       "4  California       organic    66273.89       46.58    66320.47     179041.72   \n",
       "\n",
       "   AveragePrice        Date  \n",
       "0          1.70  2018-03-25  \n",
       "1          1.75  2018-03-18  \n",
       "2          1.58  2018-03-11  \n",
       "3          1.57  2018-03-04  \n",
       "4          1.82  2018-02-25  "
      ]
     },
     "execution_count": 16,
     "metadata": {},
     "output_type": "execute_result"
    }
   ],
   "source": [
    "avo_df = pd.read_csv('datasets/avocado.csv')\n",
    "avo_df.head()"
   ]
  },
  {
   "cell_type": "code",
   "execution_count": 17,
   "metadata": {},
   "outputs": [],
   "source": [
    "# adding the duplicate entery\n",
    "df = pd.DataFrame(avo_df[(avo_df[\"Region\"] == \"Atlanta\") & (avo_df[\"Type\"] == \"organic\") ])\n",
    "avo_df = avo_df.append(df)\n",
    "# avo_df.reset_index()"
   ]
  },
  {
   "cell_type": "code",
   "execution_count": 19,
   "metadata": {},
   "outputs": [],
   "source": [
    "avo_df = avo_df.reset_index()"
   ]
  },
  {
   "cell_type": "code",
   "execution_count": 26,
   "metadata": {
    "scrolled": true
   },
   "outputs": [],
   "source": [
    "del avo_df['index']"
   ]
  },
  {
   "cell_type": "code",
   "execution_count": 27,
   "metadata": {},
   "outputs": [
    {
     "data": {
      "text/html": [
       "<div>\n",
       "<style scoped>\n",
       "    .dataframe tbody tr th:only-of-type {\n",
       "        vertical-align: middle;\n",
       "    }\n",
       "\n",
       "    .dataframe tbody tr th {\n",
       "        vertical-align: top;\n",
       "    }\n",
       "\n",
       "    .dataframe thead th {\n",
       "        text-align: right;\n",
       "    }\n",
       "</style>\n",
       "<table border=\"1\" class=\"dataframe\">\n",
       "  <thead>\n",
       "    <tr style=\"text-align: right;\">\n",
       "      <th></th>\n",
       "      <th>Region</th>\n",
       "      <th>Type</th>\n",
       "      <th>Small Bags</th>\n",
       "      <th>Large Bags</th>\n",
       "      <th>Total Bags</th>\n",
       "      <th>Total Volume</th>\n",
       "      <th>AveragePrice</th>\n",
       "      <th>Date</th>\n",
       "    </tr>\n",
       "  </thead>\n",
       "  <tbody>\n",
       "    <tr>\n",
       "      <td>0</td>\n",
       "      <td>Atlanta</td>\n",
       "      <td>organic</td>\n",
       "      <td>89424.11</td>\n",
       "      <td>207.08</td>\n",
       "      <td>89631.19</td>\n",
       "      <td>190257.38</td>\n",
       "      <td>1.70</td>\n",
       "      <td>2018-03-25</td>\n",
       "    </tr>\n",
       "    <tr>\n",
       "      <td>1</td>\n",
       "      <td>Atlanta</td>\n",
       "      <td>conventional</td>\n",
       "      <td>102717.50</td>\n",
       "      <td>153.00</td>\n",
       "      <td>102870.50</td>\n",
       "      <td>202790.74</td>\n",
       "      <td>1.75</td>\n",
       "      <td>2018-03-18</td>\n",
       "    </tr>\n",
       "    <tr>\n",
       "      <td>2</td>\n",
       "      <td>Boston</td>\n",
       "      <td>organic</td>\n",
       "      <td>120465.39</td>\n",
       "      <td>18.83</td>\n",
       "      <td>120484.22</td>\n",
       "      <td>236822.98</td>\n",
       "      <td>1.58</td>\n",
       "      <td>2018-03-11</td>\n",
       "    </tr>\n",
       "    <tr>\n",
       "      <td>3</td>\n",
       "      <td>Boston</td>\n",
       "      <td>conventional</td>\n",
       "      <td>136877.43</td>\n",
       "      <td>60.60</td>\n",
       "      <td>136938.03</td>\n",
       "      <td>239135.67</td>\n",
       "      <td>1.57</td>\n",
       "      <td>2018-03-04</td>\n",
       "    </tr>\n",
       "    <tr>\n",
       "      <td>4</td>\n",
       "      <td>California</td>\n",
       "      <td>organic</td>\n",
       "      <td>66273.89</td>\n",
       "      <td>46.58</td>\n",
       "      <td>66320.47</td>\n",
       "      <td>179041.72</td>\n",
       "      <td>1.82</td>\n",
       "      <td>2018-02-25</td>\n",
       "    </tr>\n",
       "    <tr>\n",
       "      <td>5</td>\n",
       "      <td>California</td>\n",
       "      <td>conventional</td>\n",
       "      <td>103033.73</td>\n",
       "      <td>186.20</td>\n",
       "      <td>106984.89</td>\n",
       "      <td>1203274.11</td>\n",
       "      <td>1.01</td>\n",
       "      <td>2018-03-25</td>\n",
       "    </tr>\n",
       "    <tr>\n",
       "      <td>6</td>\n",
       "      <td>NewYork</td>\n",
       "      <td>organic</td>\n",
       "      <td>119694.95</td>\n",
       "      <td>92.29</td>\n",
       "      <td>124214.59</td>\n",
       "      <td>777300.99</td>\n",
       "      <td>1.38</td>\n",
       "      <td>2018-03-18</td>\n",
       "    </tr>\n",
       "    <tr>\n",
       "      <td>7</td>\n",
       "      <td>NewYork</td>\n",
       "      <td>conventional</td>\n",
       "      <td>193813.92</td>\n",
       "      <td>196.57</td>\n",
       "      <td>197281.89</td>\n",
       "      <td>904333.98</td>\n",
       "      <td>1.29</td>\n",
       "      <td>2018-03-11</td>\n",
       "    </tr>\n",
       "    <tr>\n",
       "      <td>8</td>\n",
       "      <td>SanFrancisco</td>\n",
       "      <td>organic</td>\n",
       "      <td>231913.11</td>\n",
       "      <td>1286.43</td>\n",
       "      <td>236417.93</td>\n",
       "      <td>1051308.50</td>\n",
       "      <td>1.16</td>\n",
       "      <td>2018-03-04</td>\n",
       "    </tr>\n",
       "    <tr>\n",
       "      <td>9</td>\n",
       "      <td>SanFrancisco</td>\n",
       "      <td>conventional</td>\n",
       "      <td>162913.33</td>\n",
       "      <td>609.20</td>\n",
       "      <td>166836.16</td>\n",
       "      <td>984000.13</td>\n",
       "      <td>1.17</td>\n",
       "      <td>2018-02-25</td>\n",
       "    </tr>\n",
       "    <tr>\n",
       "      <td>10</td>\n",
       "      <td>Atlanta</td>\n",
       "      <td>organic</td>\n",
       "      <td>89424.11</td>\n",
       "      <td>207.08</td>\n",
       "      <td>89631.19</td>\n",
       "      <td>190257.38</td>\n",
       "      <td>1.70</td>\n",
       "      <td>2018-03-25</td>\n",
       "    </tr>\n",
       "  </tbody>\n",
       "</table>\n",
       "</div>"
      ],
      "text/plain": [
       "          Region          Type  Small Bags  Large Bags  Total Bags  \\\n",
       "0        Atlanta       organic    89424.11      207.08    89631.19   \n",
       "1        Atlanta  conventional   102717.50      153.00   102870.50   \n",
       "2         Boston       organic   120465.39       18.83   120484.22   \n",
       "3         Boston  conventional   136877.43       60.60   136938.03   \n",
       "4     California       organic    66273.89       46.58    66320.47   \n",
       "5     California  conventional   103033.73      186.20   106984.89   \n",
       "6        NewYork       organic   119694.95       92.29   124214.59   \n",
       "7        NewYork  conventional   193813.92      196.57   197281.89   \n",
       "8   SanFrancisco       organic   231913.11     1286.43   236417.93   \n",
       "9   SanFrancisco  conventional   162913.33      609.20   166836.16   \n",
       "10       Atlanta       organic    89424.11      207.08    89631.19   \n",
       "\n",
       "    Total Volume  AveragePrice        Date  \n",
       "0      190257.38          1.70  2018-03-25  \n",
       "1      202790.74          1.75  2018-03-18  \n",
       "2      236822.98          1.58  2018-03-11  \n",
       "3      239135.67          1.57  2018-03-04  \n",
       "4      179041.72          1.82  2018-02-25  \n",
       "5     1203274.11          1.01  2018-03-25  \n",
       "6      777300.99          1.38  2018-03-18  \n",
       "7      904333.98          1.29  2018-03-11  \n",
       "8     1051308.50          1.16  2018-03-04  \n",
       "9      984000.13          1.17  2018-02-25  \n",
       "10     190257.38          1.70  2018-03-25  "
      ]
     },
     "execution_count": 27,
     "metadata": {},
     "output_type": "execute_result"
    }
   ],
   "source": [
    "avo_df"
   ]
  },
  {
   "cell_type": "code",
   "execution_count": 28,
   "metadata": {},
   "outputs": [
    {
     "ename": "ValueError",
     "evalue": "Index contains duplicate entries, cannot reshape",
     "output_type": "error",
     "traceback": [
      "\u001b[1;31m---------------------------------------------------------------------------\u001b[0m",
      "\u001b[1;31mValueError\u001b[0m                                Traceback (most recent call last)",
      "\u001b[1;32m<ipython-input-28-05b5d8a4508b>\u001b[0m in \u001b[0;36m<module>\u001b[1;34m\u001b[0m\n\u001b[1;32m----> 1\u001b[1;33m \u001b[0mavo_df\u001b[0m\u001b[1;33m.\u001b[0m\u001b[0mpivot\u001b[0m\u001b[1;33m(\u001b[0m\u001b[0mindex\u001b[0m \u001b[1;33m=\u001b[0m \u001b[1;34m'Region'\u001b[0m\u001b[1;33m,\u001b[0m \u001b[0mcolumns\u001b[0m \u001b[1;33m=\u001b[0m \u001b[1;34m'Type'\u001b[0m\u001b[1;33m)\u001b[0m\u001b[1;33m\u001b[0m\u001b[1;33m\u001b[0m\u001b[0m\n\u001b[0m",
      "\u001b[1;32mC:\\ProgramData\\Anaconda3\\lib\\site-packages\\pandas\\core\\frame.py\u001b[0m in \u001b[0;36mpivot\u001b[1;34m(self, index, columns, values)\u001b[0m\n\u001b[0;32m   5917\u001b[0m         \u001b[1;32mfrom\u001b[0m \u001b[0mpandas\u001b[0m\u001b[1;33m.\u001b[0m\u001b[0mcore\u001b[0m\u001b[1;33m.\u001b[0m\u001b[0mreshape\u001b[0m\u001b[1;33m.\u001b[0m\u001b[0mpivot\u001b[0m \u001b[1;32mimport\u001b[0m \u001b[0mpivot\u001b[0m\u001b[1;33m\u001b[0m\u001b[1;33m\u001b[0m\u001b[0m\n\u001b[0;32m   5918\u001b[0m \u001b[1;33m\u001b[0m\u001b[0m\n\u001b[1;32m-> 5919\u001b[1;33m         \u001b[1;32mreturn\u001b[0m \u001b[0mpivot\u001b[0m\u001b[1;33m(\u001b[0m\u001b[0mself\u001b[0m\u001b[1;33m,\u001b[0m \u001b[0mindex\u001b[0m\u001b[1;33m=\u001b[0m\u001b[0mindex\u001b[0m\u001b[1;33m,\u001b[0m \u001b[0mcolumns\u001b[0m\u001b[1;33m=\u001b[0m\u001b[0mcolumns\u001b[0m\u001b[1;33m,\u001b[0m \u001b[0mvalues\u001b[0m\u001b[1;33m=\u001b[0m\u001b[0mvalues\u001b[0m\u001b[1;33m)\u001b[0m\u001b[1;33m\u001b[0m\u001b[1;33m\u001b[0m\u001b[0m\n\u001b[0m\u001b[0;32m   5920\u001b[0m \u001b[1;33m\u001b[0m\u001b[0m\n\u001b[0;32m   5921\u001b[0m     _shared_docs[\n",
      "\u001b[1;32mC:\\ProgramData\\Anaconda3\\lib\\site-packages\\pandas\\core\\reshape\\pivot.py\u001b[0m in \u001b[0;36mpivot\u001b[1;34m(data, index, columns, values)\u001b[0m\n\u001b[0;32m    428\u001b[0m         \u001b[1;32melse\u001b[0m\u001b[1;33m:\u001b[0m\u001b[1;33m\u001b[0m\u001b[1;33m\u001b[0m\u001b[0m\n\u001b[0;32m    429\u001b[0m             \u001b[0mindexed\u001b[0m \u001b[1;33m=\u001b[0m \u001b[0mdata\u001b[0m\u001b[1;33m.\u001b[0m\u001b[0m_constructor_sliced\u001b[0m\u001b[1;33m(\u001b[0m\u001b[0mdata\u001b[0m\u001b[1;33m[\u001b[0m\u001b[0mvalues\u001b[0m\u001b[1;33m]\u001b[0m\u001b[1;33m.\u001b[0m\u001b[0mvalues\u001b[0m\u001b[1;33m,\u001b[0m \u001b[0mindex\u001b[0m\u001b[1;33m=\u001b[0m\u001b[0mindex\u001b[0m\u001b[1;33m)\u001b[0m\u001b[1;33m\u001b[0m\u001b[1;33m\u001b[0m\u001b[0m\n\u001b[1;32m--> 430\u001b[1;33m     \u001b[1;32mreturn\u001b[0m \u001b[0mindexed\u001b[0m\u001b[1;33m.\u001b[0m\u001b[0munstack\u001b[0m\u001b[1;33m(\u001b[0m\u001b[0mcolumns\u001b[0m\u001b[1;33m)\u001b[0m\u001b[1;33m\u001b[0m\u001b[1;33m\u001b[0m\u001b[0m\n\u001b[0m\u001b[0;32m    431\u001b[0m \u001b[1;33m\u001b[0m\u001b[0m\n\u001b[0;32m    432\u001b[0m \u001b[1;33m\u001b[0m\u001b[0m\n",
      "\u001b[1;32mC:\\ProgramData\\Anaconda3\\lib\\site-packages\\pandas\\core\\frame.py\u001b[0m in \u001b[0;36munstack\u001b[1;34m(self, level, fill_value)\u001b[0m\n\u001b[0;32m   6376\u001b[0m         \u001b[1;32mfrom\u001b[0m \u001b[0mpandas\u001b[0m\u001b[1;33m.\u001b[0m\u001b[0mcore\u001b[0m\u001b[1;33m.\u001b[0m\u001b[0mreshape\u001b[0m\u001b[1;33m.\u001b[0m\u001b[0mreshape\u001b[0m \u001b[1;32mimport\u001b[0m \u001b[0munstack\u001b[0m\u001b[1;33m\u001b[0m\u001b[1;33m\u001b[0m\u001b[0m\n\u001b[0;32m   6377\u001b[0m \u001b[1;33m\u001b[0m\u001b[0m\n\u001b[1;32m-> 6378\u001b[1;33m         \u001b[1;32mreturn\u001b[0m \u001b[0munstack\u001b[0m\u001b[1;33m(\u001b[0m\u001b[0mself\u001b[0m\u001b[1;33m,\u001b[0m \u001b[0mlevel\u001b[0m\u001b[1;33m,\u001b[0m \u001b[0mfill_value\u001b[0m\u001b[1;33m)\u001b[0m\u001b[1;33m\u001b[0m\u001b[1;33m\u001b[0m\u001b[0m\n\u001b[0m\u001b[0;32m   6379\u001b[0m \u001b[1;33m\u001b[0m\u001b[0m\n\u001b[0;32m   6380\u001b[0m     _shared_docs[\n",
      "\u001b[1;32mC:\\ProgramData\\Anaconda3\\lib\\site-packages\\pandas\\core\\reshape\\reshape.py\u001b[0m in \u001b[0;36munstack\u001b[1;34m(obj, level, fill_value)\u001b[0m\n\u001b[0;32m    410\u001b[0m     \u001b[1;32mif\u001b[0m \u001b[0misinstance\u001b[0m\u001b[1;33m(\u001b[0m\u001b[0mobj\u001b[0m\u001b[1;33m,\u001b[0m \u001b[0mDataFrame\u001b[0m\u001b[1;33m)\u001b[0m\u001b[1;33m:\u001b[0m\u001b[1;33m\u001b[0m\u001b[1;33m\u001b[0m\u001b[0m\n\u001b[0;32m    411\u001b[0m         \u001b[1;32mif\u001b[0m \u001b[0misinstance\u001b[0m\u001b[1;33m(\u001b[0m\u001b[0mobj\u001b[0m\u001b[1;33m.\u001b[0m\u001b[0mindex\u001b[0m\u001b[1;33m,\u001b[0m \u001b[0mMultiIndex\u001b[0m\u001b[1;33m)\u001b[0m\u001b[1;33m:\u001b[0m\u001b[1;33m\u001b[0m\u001b[1;33m\u001b[0m\u001b[0m\n\u001b[1;32m--> 412\u001b[1;33m             \u001b[1;32mreturn\u001b[0m \u001b[0m_unstack_frame\u001b[0m\u001b[1;33m(\u001b[0m\u001b[0mobj\u001b[0m\u001b[1;33m,\u001b[0m \u001b[0mlevel\u001b[0m\u001b[1;33m,\u001b[0m \u001b[0mfill_value\u001b[0m\u001b[1;33m=\u001b[0m\u001b[0mfill_value\u001b[0m\u001b[1;33m)\u001b[0m\u001b[1;33m\u001b[0m\u001b[1;33m\u001b[0m\u001b[0m\n\u001b[0m\u001b[0;32m    413\u001b[0m         \u001b[1;32melse\u001b[0m\u001b[1;33m:\u001b[0m\u001b[1;33m\u001b[0m\u001b[1;33m\u001b[0m\u001b[0m\n\u001b[0;32m    414\u001b[0m             \u001b[1;32mreturn\u001b[0m \u001b[0mobj\u001b[0m\u001b[1;33m.\u001b[0m\u001b[0mT\u001b[0m\u001b[1;33m.\u001b[0m\u001b[0mstack\u001b[0m\u001b[1;33m(\u001b[0m\u001b[0mdropna\u001b[0m\u001b[1;33m=\u001b[0m\u001b[1;32mFalse\u001b[0m\u001b[1;33m)\u001b[0m\u001b[1;33m\u001b[0m\u001b[1;33m\u001b[0m\u001b[0m\n",
      "\u001b[1;32mC:\\ProgramData\\Anaconda3\\lib\\site-packages\\pandas\\core\\reshape\\reshape.py\u001b[0m in \u001b[0;36m_unstack_frame\u001b[1;34m(obj, level, fill_value)\u001b[0m\n\u001b[0;32m    431\u001b[0m             \u001b[0m_Unstacker\u001b[0m\u001b[1;33m,\u001b[0m \u001b[0mindex\u001b[0m\u001b[1;33m=\u001b[0m\u001b[0mobj\u001b[0m\u001b[1;33m.\u001b[0m\u001b[0mindex\u001b[0m\u001b[1;33m,\u001b[0m \u001b[0mlevel\u001b[0m\u001b[1;33m=\u001b[0m\u001b[0mlevel\u001b[0m\u001b[1;33m,\u001b[0m \u001b[0mfill_value\u001b[0m\u001b[1;33m=\u001b[0m\u001b[0mfill_value\u001b[0m\u001b[1;33m\u001b[0m\u001b[1;33m\u001b[0m\u001b[0m\n\u001b[0;32m    432\u001b[0m         )\n\u001b[1;32m--> 433\u001b[1;33m         \u001b[0mblocks\u001b[0m \u001b[1;33m=\u001b[0m \u001b[0mobj\u001b[0m\u001b[1;33m.\u001b[0m\u001b[0m_data\u001b[0m\u001b[1;33m.\u001b[0m\u001b[0munstack\u001b[0m\u001b[1;33m(\u001b[0m\u001b[0munstacker\u001b[0m\u001b[1;33m,\u001b[0m \u001b[0mfill_value\u001b[0m\u001b[1;33m=\u001b[0m\u001b[0mfill_value\u001b[0m\u001b[1;33m)\u001b[0m\u001b[1;33m\u001b[0m\u001b[1;33m\u001b[0m\u001b[0m\n\u001b[0m\u001b[0;32m    434\u001b[0m         \u001b[1;32mreturn\u001b[0m \u001b[0mobj\u001b[0m\u001b[1;33m.\u001b[0m\u001b[0m_constructor\u001b[0m\u001b[1;33m(\u001b[0m\u001b[0mblocks\u001b[0m\u001b[1;33m)\u001b[0m\u001b[1;33m\u001b[0m\u001b[1;33m\u001b[0m\u001b[0m\n\u001b[0;32m    435\u001b[0m     \u001b[1;32melse\u001b[0m\u001b[1;33m:\u001b[0m\u001b[1;33m\u001b[0m\u001b[1;33m\u001b[0m\u001b[0m\n",
      "\u001b[1;32mC:\\ProgramData\\Anaconda3\\lib\\site-packages\\pandas\\core\\internals\\managers.py\u001b[0m in \u001b[0;36munstack\u001b[1;34m(self, unstacker_func, fill_value)\u001b[0m\n\u001b[0;32m   1437\u001b[0m         \"\"\"\n\u001b[0;32m   1438\u001b[0m         \u001b[0mn_rows\u001b[0m \u001b[1;33m=\u001b[0m \u001b[0mself\u001b[0m\u001b[1;33m.\u001b[0m\u001b[0mshape\u001b[0m\u001b[1;33m[\u001b[0m\u001b[1;33m-\u001b[0m\u001b[1;36m1\u001b[0m\u001b[1;33m]\u001b[0m\u001b[1;33m\u001b[0m\u001b[1;33m\u001b[0m\u001b[0m\n\u001b[1;32m-> 1439\u001b[1;33m         \u001b[0mdummy\u001b[0m \u001b[1;33m=\u001b[0m \u001b[0munstacker_func\u001b[0m\u001b[1;33m(\u001b[0m\u001b[0mnp\u001b[0m\u001b[1;33m.\u001b[0m\u001b[0mempty\u001b[0m\u001b[1;33m(\u001b[0m\u001b[1;33m(\u001b[0m\u001b[1;36m0\u001b[0m\u001b[1;33m,\u001b[0m \u001b[1;36m0\u001b[0m\u001b[1;33m)\u001b[0m\u001b[1;33m)\u001b[0m\u001b[1;33m,\u001b[0m \u001b[0mvalue_columns\u001b[0m\u001b[1;33m=\u001b[0m\u001b[0mself\u001b[0m\u001b[1;33m.\u001b[0m\u001b[0mitems\u001b[0m\u001b[1;33m)\u001b[0m\u001b[1;33m\u001b[0m\u001b[1;33m\u001b[0m\u001b[0m\n\u001b[0m\u001b[0;32m   1440\u001b[0m         \u001b[0mnew_columns\u001b[0m \u001b[1;33m=\u001b[0m \u001b[0mdummy\u001b[0m\u001b[1;33m.\u001b[0m\u001b[0mget_new_columns\u001b[0m\u001b[1;33m(\u001b[0m\u001b[1;33m)\u001b[0m\u001b[1;33m\u001b[0m\u001b[1;33m\u001b[0m\u001b[0m\n\u001b[0;32m   1441\u001b[0m         \u001b[0mnew_index\u001b[0m \u001b[1;33m=\u001b[0m \u001b[0mdummy\u001b[0m\u001b[1;33m.\u001b[0m\u001b[0mget_new_index\u001b[0m\u001b[1;33m(\u001b[0m\u001b[1;33m)\u001b[0m\u001b[1;33m\u001b[0m\u001b[1;33m\u001b[0m\u001b[0m\n",
      "\u001b[1;32mC:\\ProgramData\\Anaconda3\\lib\\site-packages\\pandas\\core\\reshape\\reshape.py\u001b[0m in \u001b[0;36m__init__\u001b[1;34m(self, values, index, level, value_columns, fill_value, constructor)\u001b[0m\n\u001b[0;32m    140\u001b[0m \u001b[1;33m\u001b[0m\u001b[0m\n\u001b[0;32m    141\u001b[0m         \u001b[0mself\u001b[0m\u001b[1;33m.\u001b[0m\u001b[0m_make_sorted_values_labels\u001b[0m\u001b[1;33m(\u001b[0m\u001b[1;33m)\u001b[0m\u001b[1;33m\u001b[0m\u001b[1;33m\u001b[0m\u001b[0m\n\u001b[1;32m--> 142\u001b[1;33m         \u001b[0mself\u001b[0m\u001b[1;33m.\u001b[0m\u001b[0m_make_selectors\u001b[0m\u001b[1;33m(\u001b[0m\u001b[1;33m)\u001b[0m\u001b[1;33m\u001b[0m\u001b[1;33m\u001b[0m\u001b[0m\n\u001b[0m\u001b[0;32m    143\u001b[0m \u001b[1;33m\u001b[0m\u001b[0m\n\u001b[0;32m    144\u001b[0m     \u001b[1;32mdef\u001b[0m \u001b[0m_make_sorted_values_labels\u001b[0m\u001b[1;33m(\u001b[0m\u001b[0mself\u001b[0m\u001b[1;33m)\u001b[0m\u001b[1;33m:\u001b[0m\u001b[1;33m\u001b[0m\u001b[1;33m\u001b[0m\u001b[0m\n",
      "\u001b[1;32mC:\\ProgramData\\Anaconda3\\lib\\site-packages\\pandas\\core\\reshape\\reshape.py\u001b[0m in \u001b[0;36m_make_selectors\u001b[1;34m(self)\u001b[0m\n\u001b[0;32m    178\u001b[0m \u001b[1;33m\u001b[0m\u001b[0m\n\u001b[0;32m    179\u001b[0m         \u001b[1;32mif\u001b[0m \u001b[0mmask\u001b[0m\u001b[1;33m.\u001b[0m\u001b[0msum\u001b[0m\u001b[1;33m(\u001b[0m\u001b[1;33m)\u001b[0m \u001b[1;33m<\u001b[0m \u001b[0mlen\u001b[0m\u001b[1;33m(\u001b[0m\u001b[0mself\u001b[0m\u001b[1;33m.\u001b[0m\u001b[0mindex\u001b[0m\u001b[1;33m)\u001b[0m\u001b[1;33m:\u001b[0m\u001b[1;33m\u001b[0m\u001b[1;33m\u001b[0m\u001b[0m\n\u001b[1;32m--> 180\u001b[1;33m             \u001b[1;32mraise\u001b[0m \u001b[0mValueError\u001b[0m\u001b[1;33m(\u001b[0m\u001b[1;34m\"Index contains duplicate entries, \"\u001b[0m \u001b[1;34m\"cannot reshape\"\u001b[0m\u001b[1;33m)\u001b[0m\u001b[1;33m\u001b[0m\u001b[1;33m\u001b[0m\u001b[0m\n\u001b[0m\u001b[0;32m    181\u001b[0m \u001b[1;33m\u001b[0m\u001b[0m\n\u001b[0;32m    182\u001b[0m         \u001b[0mself\u001b[0m\u001b[1;33m.\u001b[0m\u001b[0mgroup_index\u001b[0m \u001b[1;33m=\u001b[0m \u001b[0mcomp_index\u001b[0m\u001b[1;33m\u001b[0m\u001b[1;33m\u001b[0m\u001b[0m\n",
      "\u001b[1;31mValueError\u001b[0m: Index contains duplicate entries, cannot reshape"
     ]
    }
   ],
   "source": [
    "# remember Melwin while creating the pivot the combination of index and colums should not have duplicate entery\n",
    "# as you see Melwin i have added a extra entery for the  Atlanta in the 10th index which is duplicate\n",
    "# in the real scenario we have to added up and then we can proceed further\n",
    "avo_df.pivot(index = 'Region', columns = 'Type')"
   ]
  },
  {
   "cell_type": "code",
   "execution_count": null,
   "metadata": {},
   "outputs": [],
   "source": []
  }
 ],
 "metadata": {
  "kernelspec": {
   "display_name": "Python 3",
   "language": "python",
   "name": "python3"
  },
  "language_info": {
   "codemirror_mode": {
    "name": "ipython",
    "version": 3
   },
   "file_extension": ".py",
   "mimetype": "text/x-python",
   "name": "python",
   "nbconvert_exporter": "python",
   "pygments_lexer": "ipython3",
   "version": "3.7.4"
  }
 },
 "nbformat": 4,
 "nbformat_minor": 4
}
