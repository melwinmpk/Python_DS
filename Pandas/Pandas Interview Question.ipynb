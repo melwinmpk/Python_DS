{
 "cells": [
  {
   "cell_type": "code",
   "execution_count": 1,
   "metadata": {},
   "outputs": [
    {
     "name": "stderr",
     "output_type": "stream",
     "text": [
      "c:\\users\\melwin\\.conda\\envs\\tutorialdatascience\\lib\\site-packages\\numpy\\_distributor_init.py:30: UserWarning: loaded more than 1 DLL from .libs:\n",
      "c:\\users\\melwin\\.conda\\envs\\tutorialdatascience\\lib\\site-packages\\numpy\\.libs\\libopenblas.NOIJJG62EMASZI6NYURL6JBKM4EVBGM7.gfortran-win_amd64.dll\n",
      "c:\\users\\melwin\\.conda\\envs\\tutorialdatascience\\lib\\site-packages\\numpy\\.libs\\libopenblas.WCDJNK7YVMPZQ2ME2ZZHJJRJ3JIKNDB7.gfortran-win_amd64.dll\n",
      "  warnings.warn(\"loaded more than 1 DLL from .libs:\"\n"
     ]
    }
   ],
   "source": [
    "import pandas as pd"
   ]
  },
  {
   "cell_type": "markdown",
   "metadata": {},
   "source": [
    "## Pandas Interview Question"
   ]
  },
  {
   "cell_type": "markdown",
   "metadata": {},
   "source": [
    "### Using Pandas to pd.read_excel() for multiple worksheets of the same workbook"
   ]
  },
  {
   "cell_type": "code",
   "execution_count": null,
   "metadata": {},
   "outputs": [],
   "source": [
    "xls = pd.ExcelFile('path_to_file.xls')\n",
    "df1 = pd.read_excel(xls, 'Sheet1')\n",
    "df2 = pd.read_excel(xls, 'Sheet2')"
   ]
  },
  {
   "cell_type": "markdown",
   "metadata": {},
   "source": [
    "https://stackoverflow.com/questions/26521266/using-pandas-to-pd-read-excel-for-multiple-worksheets-of-the-same-workbook"
   ]
  },
  {
   "cell_type": "markdown",
   "metadata": {},
   "source": [
    "### FROM EMPLOYEE TABLE GET THE DEpartement wise where employee count is > 1"
   ]
  },
  {
   "cell_type": "code",
   "execution_count": 2,
   "metadata": {},
   "outputs": [
    {
     "data": {
      "text/html": [
       "<div>\n",
       "<style scoped>\n",
       "    .dataframe tbody tr th:only-of-type {\n",
       "        vertical-align: middle;\n",
       "    }\n",
       "\n",
       "    .dataframe tbody tr th {\n",
       "        vertical-align: top;\n",
       "    }\n",
       "\n",
       "    .dataframe thead th {\n",
       "        text-align: right;\n",
       "    }\n",
       "</style>\n",
       "<table border=\"1\" class=\"dataframe\">\n",
       "  <thead>\n",
       "    <tr style=\"text-align: right;\">\n",
       "      <th></th>\n",
       "      <th>EMP_ID</th>\n",
       "      <th>NAME</th>\n",
       "      <th>AGE</th>\n",
       "      <th>ADDRESS</th>\n",
       "      <th>SAL</th>\n",
       "      <th>DEPT</th>\n",
       "      <th>LOC</th>\n",
       "    </tr>\n",
       "  </thead>\n",
       "  <tbody>\n",
       "    <tr>\n",
       "      <th>0</th>\n",
       "      <td>1</td>\n",
       "      <td>ghk</td>\n",
       "      <td>3</td>\n",
       "      <td>PTBP</td>\n",
       "      <td>23</td>\n",
       "      <td>IME</td>\n",
       "      <td>bhmd</td>\n",
       "    </tr>\n",
       "    <tr>\n",
       "      <th>1</th>\n",
       "      <td>2</td>\n",
       "      <td>ghk</td>\n",
       "      <td>3</td>\n",
       "      <td>PTBP</td>\n",
       "      <td>23</td>\n",
       "      <td>IME</td>\n",
       "      <td>bhmd</td>\n",
       "    </tr>\n",
       "    <tr>\n",
       "      <th>2</th>\n",
       "      <td>3</td>\n",
       "      <td>ghk</td>\n",
       "      <td>3</td>\n",
       "      <td>PTBP</td>\n",
       "      <td>23</td>\n",
       "      <td>IME</td>\n",
       "      <td>bhmd</td>\n",
       "    </tr>\n",
       "    <tr>\n",
       "      <th>3</th>\n",
       "      <td>4</td>\n",
       "      <td>ghk</td>\n",
       "      <td>3</td>\n",
       "      <td>PTBP</td>\n",
       "      <td>23</td>\n",
       "      <td>IME-DATA</td>\n",
       "      <td>bhmd</td>\n",
       "    </tr>\n",
       "    <tr>\n",
       "      <th>4</th>\n",
       "      <td>5</td>\n",
       "      <td>ghk</td>\n",
       "      <td>3</td>\n",
       "      <td>PTBP</td>\n",
       "      <td>24</td>\n",
       "      <td>IME-DATA</td>\n",
       "      <td>bhmd</td>\n",
       "    </tr>\n",
       "  </tbody>\n",
       "</table>\n",
       "</div>"
      ],
      "text/plain": [
       "   EMP_ID NAME  AGE ADDRESS  SAL      DEPT   LOC\n",
       "0       1  ghk    3    PTBP   23       IME  bhmd\n",
       "1       2  ghk    3    PTBP   23       IME  bhmd\n",
       "2       3  ghk    3    PTBP   23       IME  bhmd\n",
       "3       4  ghk    3    PTBP   23  IME-DATA  bhmd\n",
       "4       5  ghk    3    PTBP   24  IME-DATA  bhmd"
      ]
     },
     "execution_count": 2,
     "metadata": {},
     "output_type": "execute_result"
    }
   ],
   "source": [
    "# creating the Data\n",
    "data = [\n",
    "[1,'ghk',3,'PTBP',23,'IME','bhmd'],\n",
    "[2,'ghk',3,'PTBP',23,'IME','bhmd'],\n",
    "[3,'ghk',3,'PTBP',23,'IME','bhmd'],\n",
    "[4,'ghk',3,'PTBP',23,'IME-DATA','bhmd'],\n",
    "[5,'ghk',3,'PTBP',24,'IME-DATA','bhmd'],\n",
    "[6,'ghk',3,'PTBP',23,'IME','bhmd'],\n",
    "[7,'ghk',3,'PTBP',23,'IME','bhmd'],\n",
    "[8,'ghk',3,'PTBP',29,'IME-NA','bhmd'],\n",
    "[9,'ghk',3,'PTBP',23,'IME','bhmd'],\n",
    "[10,'ghk',3,'PTBP',23,'IME','bhmd']\n",
    "]\n",
    "df = pd.DataFrame(data, columns = ['EMP_ID','NAME','AGE','ADDRESS','SAL','DEPT','LOC'])\n",
    "df.head()\n"
   ]
  },
  {
   "cell_type": "code",
   "execution_count": 3,
   "metadata": {},
   "outputs": [
    {
     "data": {
      "text/plain": [
       "DEPT\n",
       "IME         7\n",
       "IME-DATA    2\n",
       "Name: SAL, dtype: int64"
      ]
     },
     "execution_count": 3,
     "metadata": {},
     "output_type": "execute_result"
    }
   ],
   "source": [
    "# get the Departement where no of employee is greater than 1\n",
    "df[df.groupby('DEPT')['SAL'].transform(lambda x : x.count() > 1)].groupby('DEPT')['SAL'].count()"
   ]
  },
  {
   "cell_type": "code",
   "execution_count": 4,
   "metadata": {},
   "outputs": [
    {
     "data": {
      "text/plain": [
       "DEPT\n",
       "IME          True\n",
       "IME-DATA     True\n",
       "IME-NA      False\n",
       "Name: SAL, dtype: bool"
      ]
     },
     "execution_count": 4,
     "metadata": {},
     "output_type": "execute_result"
    }
   ],
   "source": [
    "# using Apply\n",
    "df.groupby('DEPT')['SAL'].apply(lambda x : x.count() >  1)"
   ]
  },
  {
   "cell_type": "markdown",
   "metadata": {},
   "source": [
    "### Get the Second largest SAL data"
   ]
  },
  {
   "cell_type": "code",
   "execution_count": 6,
   "metadata": {},
   "outputs": [
    {
     "data": {
      "text/html": [
       "<div>\n",
       "<style scoped>\n",
       "    .dataframe tbody tr th:only-of-type {\n",
       "        vertical-align: middle;\n",
       "    }\n",
       "\n",
       "    .dataframe tbody tr th {\n",
       "        vertical-align: top;\n",
       "    }\n",
       "\n",
       "    .dataframe thead th {\n",
       "        text-align: right;\n",
       "    }\n",
       "</style>\n",
       "<table border=\"1\" class=\"dataframe\">\n",
       "  <thead>\n",
       "    <tr style=\"text-align: right;\">\n",
       "      <th></th>\n",
       "      <th>EMP_ID</th>\n",
       "      <th>NAME</th>\n",
       "      <th>AGE</th>\n",
       "      <th>ADDRESS</th>\n",
       "      <th>SAL</th>\n",
       "      <th>DEPT</th>\n",
       "      <th>LOC</th>\n",
       "    </tr>\n",
       "  </thead>\n",
       "  <tbody>\n",
       "    <tr>\n",
       "      <th>7</th>\n",
       "      <td>8</td>\n",
       "      <td>ghk</td>\n",
       "      <td>3</td>\n",
       "      <td>PTBP</td>\n",
       "      <td>29</td>\n",
       "      <td>IME-NA</td>\n",
       "      <td>bhmd</td>\n",
       "    </tr>\n",
       "    <tr>\n",
       "      <th>4</th>\n",
       "      <td>5</td>\n",
       "      <td>ghk</td>\n",
       "      <td>3</td>\n",
       "      <td>PTBP</td>\n",
       "      <td>24</td>\n",
       "      <td>IME-DATA</td>\n",
       "      <td>bhmd</td>\n",
       "    </tr>\n",
       "    <tr>\n",
       "      <th>0</th>\n",
       "      <td>1</td>\n",
       "      <td>ghk</td>\n",
       "      <td>3</td>\n",
       "      <td>PTBP</td>\n",
       "      <td>23</td>\n",
       "      <td>IME</td>\n",
       "      <td>bhmd</td>\n",
       "    </tr>\n",
       "    <tr>\n",
       "      <th>1</th>\n",
       "      <td>2</td>\n",
       "      <td>ghk</td>\n",
       "      <td>3</td>\n",
       "      <td>PTBP</td>\n",
       "      <td>23</td>\n",
       "      <td>IME</td>\n",
       "      <td>bhmd</td>\n",
       "    </tr>\n",
       "    <tr>\n",
       "      <th>2</th>\n",
       "      <td>3</td>\n",
       "      <td>ghk</td>\n",
       "      <td>3</td>\n",
       "      <td>PTBP</td>\n",
       "      <td>23</td>\n",
       "      <td>IME</td>\n",
       "      <td>bhmd</td>\n",
       "    </tr>\n",
       "    <tr>\n",
       "      <th>3</th>\n",
       "      <td>4</td>\n",
       "      <td>ghk</td>\n",
       "      <td>3</td>\n",
       "      <td>PTBP</td>\n",
       "      <td>23</td>\n",
       "      <td>IME-DATA</td>\n",
       "      <td>bhmd</td>\n",
       "    </tr>\n",
       "    <tr>\n",
       "      <th>5</th>\n",
       "      <td>6</td>\n",
       "      <td>ghk</td>\n",
       "      <td>3</td>\n",
       "      <td>PTBP</td>\n",
       "      <td>23</td>\n",
       "      <td>IME</td>\n",
       "      <td>bhmd</td>\n",
       "    </tr>\n",
       "    <tr>\n",
       "      <th>6</th>\n",
       "      <td>7</td>\n",
       "      <td>ghk</td>\n",
       "      <td>3</td>\n",
       "      <td>PTBP</td>\n",
       "      <td>23</td>\n",
       "      <td>IME</td>\n",
       "      <td>bhmd</td>\n",
       "    </tr>\n",
       "    <tr>\n",
       "      <th>8</th>\n",
       "      <td>9</td>\n",
       "      <td>ghk</td>\n",
       "      <td>3</td>\n",
       "      <td>PTBP</td>\n",
       "      <td>23</td>\n",
       "      <td>IME</td>\n",
       "      <td>bhmd</td>\n",
       "    </tr>\n",
       "    <tr>\n",
       "      <th>9</th>\n",
       "      <td>10</td>\n",
       "      <td>ghk</td>\n",
       "      <td>3</td>\n",
       "      <td>PTBP</td>\n",
       "      <td>23</td>\n",
       "      <td>IME</td>\n",
       "      <td>bhmd</td>\n",
       "    </tr>\n",
       "  </tbody>\n",
       "</table>\n",
       "</div>"
      ],
      "text/plain": [
       "   EMP_ID NAME  AGE ADDRESS  SAL      DEPT   LOC\n",
       "7       8  ghk    3    PTBP   29    IME-NA  bhmd\n",
       "4       5  ghk    3    PTBP   24  IME-DATA  bhmd\n",
       "0       1  ghk    3    PTBP   23       IME  bhmd\n",
       "1       2  ghk    3    PTBP   23       IME  bhmd\n",
       "2       3  ghk    3    PTBP   23       IME  bhmd\n",
       "3       4  ghk    3    PTBP   23  IME-DATA  bhmd\n",
       "5       6  ghk    3    PTBP   23       IME  bhmd\n",
       "6       7  ghk    3    PTBP   23       IME  bhmd\n",
       "8       9  ghk    3    PTBP   23       IME  bhmd\n",
       "9      10  ghk    3    PTBP   23       IME  bhmd"
      ]
     },
     "execution_count": 6,
     "metadata": {},
     "output_type": "execute_result"
    }
   ],
   "source": [
    "df.sort_values(by = 'SAL',ascending=False)"
   ]
  },
  {
   "cell_type": "code",
   "execution_count": 8,
   "metadata": {},
   "outputs": [
    {
     "data": {
      "text/plain": [
       "EMP_ID            5\n",
       "NAME            ghk\n",
       "AGE               3\n",
       "ADDRESS        PTBP\n",
       "SAL              24\n",
       "DEPT       IME-DATA\n",
       "LOC            bhmd\n",
       "Name: 4, dtype: object"
      ]
     },
     "execution_count": 8,
     "metadata": {},
     "output_type": "execute_result"
    }
   ],
   "source": [
    "df[df['SAL'] != df['SAL'].max() ].sort_values(by = 'SAL',ascending=False).iloc[0]"
   ]
  },
  {
   "cell_type": "code",
   "execution_count": null,
   "metadata": {},
   "outputs": [],
   "source": []
  }
 ],
 "metadata": {
  "kernelspec": {
   "display_name": "Python 3 (ipykernel)",
   "language": "python",
   "name": "python3"
  },
  "language_info": {
   "codemirror_mode": {
    "name": "ipython",
    "version": 3
   },
   "file_extension": ".py",
   "mimetype": "text/x-python",
   "name": "python",
   "nbconvert_exporter": "python",
   "pygments_lexer": "ipython3",
   "version": "3.9.7"
  }
 },
 "nbformat": 4,
 "nbformat_minor": 4
}
