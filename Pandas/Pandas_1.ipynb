{
 "cells": [
  {
   "cell_type": "markdown",
   "metadata": {},
   "source": [
    "# Pandas"
   ]
  },
  {
   "cell_type": "markdown",
   "metadata": {},
   "source": [
    "<b>there are two data structure in the Pandas</b><br>\n",
    "1) Series     (1d array)<br>\n",
    "2) Dataframe  (2d array)"
   ]
  },
  {
   "cell_type": "code",
   "execution_count": 1,
   "metadata": {},
   "outputs": [],
   "source": [
    "import pandas as pd"
   ]
  },
  {
   "cell_type": "markdown",
   "metadata": {},
   "source": [
    "## Series"
   ]
  },
  {
   "cell_type": "code",
   "execution_count": 4,
   "metadata": {},
   "outputs": [],
   "source": [
    "data = {'a':1234567890, 'b':22222234, 'c':[1,2,3,4,5],'d':{1:12,2:4},'e':(1,2,3)}"
   ]
  },
  {
   "cell_type": "code",
   "execution_count": 5,
   "metadata": {},
   "outputs": [
    {
     "data": {
      "text/plain": [
       "a         1234567890\n",
       "b           22222234\n",
       "c    [1, 2, 3, 4, 5]\n",
       "d      {1: 12, 2: 4}\n",
       "e          (1, 2, 3)\n",
       "dtype: object"
      ]
     },
     "execution_count": 5,
     "metadata": {},
     "output_type": "execute_result"
    }
   ],
   "source": [
    "pd.Series(data)"
   ]
  },
  {
   "cell_type": "code",
   "execution_count": 47,
   "metadata": {},
   "outputs": [
    {
     "data": {
      "text/plain": [
       "25       Ganges\n",
       "30       Yamuna\n",
       "35    Missisipi\n",
       "40         Neil\n",
       "45     Missouri\n",
       "dtype: object"
      ]
     },
     "execution_count": 47,
     "metadata": {},
     "output_type": "execute_result"
    }
   ],
   "source": [
    "river = ['Ganges', 'Yamuna', 'Missisipi', 'Neil', 'Missouri']\n",
    "river_ser = pd.Series(river, index = range(25,50,5))\n",
    "river_ser"
   ]
  },
  {
   "cell_type": "code",
   "execution_count": 52,
   "metadata": {},
   "outputs": [
    {
     "name": "stdout",
     "output_type": "stream",
     "text": [
      "a    (200, 36)\n",
      "b          100\n",
      "c         10.2\n",
      "d          NaN\n",
      "e          NaN\n",
      "dtype: object\n"
     ]
    }
   ],
   "source": [
    "# if the Data are missing for the Indexes Pandas create the Nan for the missing value\n",
    "data = {'b':100, 'a':(200, 36), 'c':10.20}\n",
    "ser1 = pd.Series(data, index = ['a', 'b', 'c', 'd', 'e'])\n",
    "print(ser1)"
   ]
  },
  {
   "cell_type": "code",
   "execution_count": 54,
   "metadata": {},
   "outputs": [
    {
     "name": "stdout",
     "output_type": "stream",
     "text": [
      "a    (200, 36)\n",
      "b          100\n",
      "dtype: object\n"
     ]
    }
   ],
   "source": [
    "# But if the Index are not mentioned the the data will be excluded\n",
    "data = {'b':100, 'a':(200, 36), 'c':10.20}\n",
    "ser1 = pd.Series(data, index = ['a', 'b'])\n",
    "print(ser1)"
   ]
  },
  {
   "cell_type": "code",
   "execution_count": 3,
   "metadata": {},
   "outputs": [
    {
     "name": "stdout",
     "output_type": "stream",
     "text": [
      "a    (200, 36)\n",
      "b          100\n",
      "c         10.2\n",
      "d          123\n",
      "e          809\n",
      "dtype: object\n",
      "-----------------------------------------\n",
      "a    (200, 36)\n",
      "b          100\n",
      "c         10.2\n",
      "dtype: object\n",
      "-----------------------------------------\n",
      "a    (200, 36)\n",
      "b          100\n",
      "c         10.2\n",
      "dtype: object\n",
      "-----------------------------------------\n",
      "(200, 36)\n",
      "-----------------------------------------\n",
      "-----------------------------------------\n"
     ]
    },
    {
     "data": {
      "text/plain": [
       "a    (200, 36)\n",
       "b          100\n",
       "c         10.2\n",
       "d          123\n",
       "e          809\n",
       "dtype: object"
      ]
     },
     "execution_count": 3,
     "metadata": {},
     "output_type": "execute_result"
    }
   ],
   "source": [
    "#melwin Remeber in slicing of the series the end value will be considered \n",
    "data = {'b':100, 'a':(200, 36), 'c':10.20,'d':123,'e':809 }\n",
    "ser1 = pd.Series(data, index = ['a', 'b', 'c', 'd', 'e'])\n",
    "print(ser1)\n",
    "print(\"-----------------------------------------\")\n",
    "print(ser1['a':'c']) # Remeber in slicing of the series the end value will be considered (Inclusive)\n",
    "print(\"-----------------------------------------\")\n",
    "print(ser1[:3]) # end Value will be considered when you mention the Index Value\n",
    "print(\"-----------------------------------------\")\n",
    "print(ser1[0])\n",
    "print(\"-----------------------------------------\")\n",
    "ser1['a'] # why is this not Printed ?\n",
    "print(\"-----------------------------------------\")\n",
    "ser1"
   ]
  },
  {
   "cell_type": "code",
   "execution_count": 74,
   "metadata": {},
   "outputs": [
    {
     "name": "stdout",
     "output_type": "stream",
     "text": [
      "UP    LKO\n",
      "AP    AMT\n",
      "MP    BHP\n",
      "KA    BEN\n",
      "TN    CHN\n",
      "dtype: object\n",
      "----------------------------------\n",
      "Index(['UP', 'AP', 'MP', 'KA', 'TN'], dtype='object')\n",
      "----------------------------------\n",
      "['LKO' 'AMT' 'BHP' 'BEN' 'CHN']\n",
      "----------------------------------\n",
      "UP    LKO\n",
      "MP    BHP\n",
      "TN    CHN\n",
      "dtype: object\n"
     ]
    }
   ],
   "source": [
    "state = ['UP', 'AP', 'MP', 'KA', 'TN']\n",
    "cap = ['LKO', 'AMT', 'BHP', 'BEN', 'CHN']\n",
    "ser_state_cap = pd.Series(index = state, data = cap)\n",
    "print(ser_state_cap)\n",
    "print(\"----------------------------------\")\n",
    "print(ser_state_cap.index)\n",
    "print(\"----------------------------------\")\n",
    "print(ser_state_cap.values)\n",
    "print(\"----------------------------------\")\n",
    "print(ser_state_cap['UP':'TN':2])"
   ]
  },
  {
   "cell_type": "markdown",
   "metadata": {},
   "source": [
    "## Data frame"
   ]
  },
  {
   "cell_type": "code",
   "execution_count": 16,
   "metadata": {},
   "outputs": [
    {
     "data": {
      "text/html": [
       "<div>\n",
       "<style scoped>\n",
       "    .dataframe tbody tr th:only-of-type {\n",
       "        vertical-align: middle;\n",
       "    }\n",
       "\n",
       "    .dataframe tbody tr th {\n",
       "        vertical-align: top;\n",
       "    }\n",
       "\n",
       "    .dataframe thead th {\n",
       "        text-align: right;\n",
       "    }\n",
       "</style>\n",
       "<table border=\"1\" class=\"dataframe\">\n",
       "  <thead>\n",
       "    <tr style=\"text-align: right;\">\n",
       "      <th></th>\n",
       "      <th>State_Name</th>\n",
       "    </tr>\n",
       "  </thead>\n",
       "  <tbody>\n",
       "    <tr>\n",
       "      <th>0</th>\n",
       "      <td>UP</td>\n",
       "    </tr>\n",
       "    <tr>\n",
       "      <th>1</th>\n",
       "      <td>AP</td>\n",
       "    </tr>\n",
       "    <tr>\n",
       "      <th>2</th>\n",
       "      <td>MP</td>\n",
       "    </tr>\n",
       "    <tr>\n",
       "      <th>3</th>\n",
       "      <td>KA</td>\n",
       "    </tr>\n",
       "    <tr>\n",
       "      <th>4</th>\n",
       "      <td>TN</td>\n",
       "    </tr>\n",
       "  </tbody>\n",
       "</table>\n",
       "</div>"
      ],
      "text/plain": [
       "  State_Name\n",
       "0         UP\n",
       "1         AP\n",
       "2         MP\n",
       "3         KA\n",
       "4         TN"
      ]
     },
     "execution_count": 16,
     "metadata": {},
     "output_type": "execute_result"
    }
   ],
   "source": [
    "state = ['UP', 'AP', 'MP', 'KA', 'TN']\n",
    "state_df = pd.DataFrame(state, columns = ['State_Name'])\n",
    "state_df"
   ]
  },
  {
   "cell_type": "code",
   "execution_count": 19,
   "metadata": {},
   "outputs": [
    {
     "name": "stdout",
     "output_type": "stream",
     "text": [
      "  State_Name\n",
      "0         UP\n",
      "1         AP\n",
      "2         MP\n",
      "  State_Name\n",
      "0         UP\n",
      "1         AP\n",
      "2         MP\n",
      "3         KA\n"
     ]
    }
   ],
   "source": [
    "print(state_df[0:3])\n",
    "print(state_df.loc[0:3]) # for  loc the end value also be included Remember this !!!!! "
   ]
  },
  {
   "cell_type": "code",
   "execution_count": 76,
   "metadata": {},
   "outputs": [
    {
     "data": {
      "text/html": [
       "<div>\n",
       "<style scoped>\n",
       "    .dataframe tbody tr th:only-of-type {\n",
       "        vertical-align: middle;\n",
       "    }\n",
       "\n",
       "    .dataframe tbody tr th {\n",
       "        vertical-align: top;\n",
       "    }\n",
       "\n",
       "    .dataframe thead th {\n",
       "        text-align: right;\n",
       "    }\n",
       "</style>\n",
       "<table border=\"1\" class=\"dataframe\">\n",
       "  <thead>\n",
       "    <tr style=\"text-align: right;\">\n",
       "      <th></th>\n",
       "      <th>Cap_Name</th>\n",
       "    </tr>\n",
       "  </thead>\n",
       "  <tbody>\n",
       "    <tr>\n",
       "      <th>0</th>\n",
       "      <td>LKO</td>\n",
       "    </tr>\n",
       "    <tr>\n",
       "      <th>1</th>\n",
       "      <td>AMT</td>\n",
       "    </tr>\n",
       "    <tr>\n",
       "      <th>2</th>\n",
       "      <td>BHP</td>\n",
       "    </tr>\n",
       "    <tr>\n",
       "      <th>3</th>\n",
       "      <td>BEN</td>\n",
       "    </tr>\n",
       "    <tr>\n",
       "      <th>4</th>\n",
       "      <td>CHN</td>\n",
       "    </tr>\n",
       "  </tbody>\n",
       "</table>\n",
       "</div>"
      ],
      "text/plain": [
       "  Cap_Name\n",
       "0      LKO\n",
       "1      AMT\n",
       "2      BHP\n",
       "3      BEN\n",
       "4      CHN"
      ]
     },
     "execution_count": 76,
     "metadata": {},
     "output_type": "execute_result"
    }
   ],
   "source": [
    "cap = ['LKO', 'AMT', 'BHP', 'BEN', 'CHN']\n",
    "cap_df = pd.DataFrame(cap, columns = ['Cap_Name'])\n",
    "cap_df"
   ]
  },
  {
   "cell_type": "code",
   "execution_count": 79,
   "metadata": {},
   "outputs": [
    {
     "name": "stdout",
     "output_type": "stream",
     "text": [
      "[('UP', 'LKO'), ('AP', 'AMT'), ('MP', 'BHP'), ('KA', 'BEN'), ('TN', 'CHN')]\n"
     ]
    },
    {
     "data": {
      "text/html": [
       "<div>\n",
       "<style scoped>\n",
       "    .dataframe tbody tr th:only-of-type {\n",
       "        vertical-align: middle;\n",
       "    }\n",
       "\n",
       "    .dataframe tbody tr th {\n",
       "        vertical-align: top;\n",
       "    }\n",
       "\n",
       "    .dataframe thead th {\n",
       "        text-align: right;\n",
       "    }\n",
       "</style>\n",
       "<table border=\"1\" class=\"dataframe\">\n",
       "  <thead>\n",
       "    <tr style=\"text-align: right;\">\n",
       "      <th></th>\n",
       "      <th>State_name</th>\n",
       "      <th>Cap_name</th>\n",
       "    </tr>\n",
       "  </thead>\n",
       "  <tbody>\n",
       "    <tr>\n",
       "      <th>0</th>\n",
       "      <td>UP</td>\n",
       "      <td>LKO</td>\n",
       "    </tr>\n",
       "    <tr>\n",
       "      <th>1</th>\n",
       "      <td>AP</td>\n",
       "      <td>AMT</td>\n",
       "    </tr>\n",
       "    <tr>\n",
       "      <th>2</th>\n",
       "      <td>MP</td>\n",
       "      <td>BHP</td>\n",
       "    </tr>\n",
       "    <tr>\n",
       "      <th>3</th>\n",
       "      <td>KA</td>\n",
       "      <td>BEN</td>\n",
       "    </tr>\n",
       "    <tr>\n",
       "      <th>4</th>\n",
       "      <td>TN</td>\n",
       "      <td>CHN</td>\n",
       "    </tr>\n",
       "  </tbody>\n",
       "</table>\n",
       "</div>"
      ],
      "text/plain": [
       "  State_name Cap_name\n",
       "0         UP      LKO\n",
       "1         AP      AMT\n",
       "2         MP      BHP\n",
       "3         KA      BEN\n",
       "4         TN      CHN"
      ]
     },
     "execution_count": 79,
     "metadata": {},
     "output_type": "execute_result"
    }
   ],
   "source": [
    "satae_cap = list(zip(state, cap))\n",
    "print(satae_cap)\n",
    "stae_cap_df = pd.DataFrame(satae_cap, columns = ['State_name', 'Cap_name'])\n",
    "stae_cap_df"
   ]
  },
  {
   "cell_type": "code",
   "execution_count": 3,
   "metadata": {},
   "outputs": [
    {
     "data": {
      "text/html": [
       "<div>\n",
       "<style scoped>\n",
       "    .dataframe tbody tr th:only-of-type {\n",
       "        vertical-align: middle;\n",
       "    }\n",
       "\n",
       "    .dataframe tbody tr th {\n",
       "        vertical-align: top;\n",
       "    }\n",
       "\n",
       "    .dataframe thead th {\n",
       "        text-align: right;\n",
       "    }\n",
       "</style>\n",
       "<table border=\"1\" class=\"dataframe\">\n",
       "  <thead>\n",
       "    <tr style=\"text-align: right;\">\n",
       "      <th></th>\n",
       "      <th>Location</th>\n",
       "      <th>PopTotal</th>\n",
       "    </tr>\n",
       "  </thead>\n",
       "  <tbody>\n",
       "    <tr>\n",
       "      <th>0</th>\n",
       "      <td>Afghanistan</td>\n",
       "      <td>7752.117</td>\n",
       "    </tr>\n",
       "    <tr>\n",
       "      <th>1</th>\n",
       "      <td>Afghanistan</td>\n",
       "      <td>7840.151</td>\n",
       "    </tr>\n",
       "    <tr>\n",
       "      <th>2</th>\n",
       "      <td>Afghanistan</td>\n",
       "      <td>7935.996</td>\n",
       "    </tr>\n",
       "    <tr>\n",
       "      <th>3</th>\n",
       "      <td>Afghanistan</td>\n",
       "      <td>8039.684</td>\n",
       "    </tr>\n",
       "    <tr>\n",
       "      <th>4</th>\n",
       "      <td>Afghanistan</td>\n",
       "      <td>8151.316</td>\n",
       "    </tr>\n",
       "  </tbody>\n",
       "</table>\n",
       "</div>"
      ],
      "text/plain": [
       "      Location  PopTotal\n",
       "0  Afghanistan  7752.117\n",
       "1  Afghanistan  7840.151\n",
       "2  Afghanistan  7935.996\n",
       "3  Afghanistan  8039.684\n",
       "4  Afghanistan  8151.316"
      ]
     },
     "execution_count": 3,
     "metadata": {},
     "output_type": "execute_result"
    }
   ],
   "source": [
    "pop_data = pd.read_csv('population2019.csv')\n",
    "pop_data.head()"
   ]
  },
  {
   "cell_type": "code",
   "execution_count": 91,
   "metadata": {},
   "outputs": [
    {
     "name": "stdout",
     "output_type": "stream",
     "text": [
      "Index(['Location', 'PopTotal'], dtype='object')\n",
      "----------------------------------\n",
      "----------------------------------\n",
      "----------------------------------\n"
     ]
    },
    {
     "data": {
      "text/html": [
       "<div>\n",
       "<style scoped>\n",
       "    .dataframe tbody tr th:only-of-type {\n",
       "        vertical-align: middle;\n",
       "    }\n",
       "\n",
       "    .dataframe tbody tr th {\n",
       "        vertical-align: top;\n",
       "    }\n",
       "\n",
       "    .dataframe thead th {\n",
       "        text-align: right;\n",
       "    }\n",
       "</style>\n",
       "<table border=\"1\" class=\"dataframe\">\n",
       "  <thead>\n",
       "    <tr style=\"text-align: right;\">\n",
       "      <th></th>\n",
       "      <th>Location</th>\n",
       "      <th>PopTotal</th>\n",
       "    </tr>\n",
       "  </thead>\n",
       "  <tbody>\n",
       "    <tr>\n",
       "      <th>count</th>\n",
       "      <td>280932</td>\n",
       "      <td>2.809320e+05</td>\n",
       "    </tr>\n",
       "    <tr>\n",
       "      <th>unique</th>\n",
       "      <td>474</td>\n",
       "      <td>NaN</td>\n",
       "    </tr>\n",
       "    <tr>\n",
       "      <th>top</th>\n",
       "      <td>Europe</td>\n",
       "      <td>NaN</td>\n",
       "    </tr>\n",
       "    <tr>\n",
       "      <th>freq</th>\n",
       "      <td>1768</td>\n",
       "      <td>NaN</td>\n",
       "    </tr>\n",
       "    <tr>\n",
       "      <th>mean</th>\n",
       "      <td>NaN</td>\n",
       "      <td>4.128536e+05</td>\n",
       "    </tr>\n",
       "    <tr>\n",
       "      <th>std</th>\n",
       "      <td>NaN</td>\n",
       "      <td>1.308911e+06</td>\n",
       "    </tr>\n",
       "    <tr>\n",
       "      <th>min</th>\n",
       "      <td>NaN</td>\n",
       "      <td>1.510000e-01</td>\n",
       "    </tr>\n",
       "    <tr>\n",
       "      <th>25%</th>\n",
       "      <td>NaN</td>\n",
       "      <td>1.240100e+03</td>\n",
       "    </tr>\n",
       "    <tr>\n",
       "      <th>50%</th>\n",
       "      <td>NaN</td>\n",
       "      <td>1.420555e+04</td>\n",
       "    </tr>\n",
       "    <tr>\n",
       "      <th>75%</th>\n",
       "      <td>NaN</td>\n",
       "      <td>1.171661e+05</td>\n",
       "    </tr>\n",
       "    <tr>\n",
       "      <th>max</th>\n",
       "      <td>NaN</td>\n",
       "      <td>2.163274e+07</td>\n",
       "    </tr>\n",
       "  </tbody>\n",
       "</table>\n",
       "</div>"
      ],
      "text/plain": [
       "       Location      PopTotal\n",
       "count    280932  2.809320e+05\n",
       "unique      474           NaN\n",
       "top      Europe           NaN\n",
       "freq       1768           NaN\n",
       "mean        NaN  4.128536e+05\n",
       "std         NaN  1.308911e+06\n",
       "min         NaN  1.510000e-01\n",
       "25%         NaN  1.240100e+03\n",
       "50%         NaN  1.420555e+04\n",
       "75%         NaN  1.171661e+05\n",
       "max         NaN  2.163274e+07"
      ]
     },
     "execution_count": 91,
     "metadata": {},
     "output_type": "execute_result"
    }
   ],
   "source": [
    "print(pop_data.columns)\n",
    "pop_data = pop_data.dropna()\n",
    "print(\"----------------------------------\")\n",
    "pop_data['PopTotal'].max()\n",
    "print(\"----------------------------------\")\n",
    "pop_data['PopTotal'].min()\n",
    "print(\"----------------------------------\")\n",
    "pop_data.describe(include = 'all')"
   ]
  },
  {
   "cell_type": "code",
   "execution_count": 4,
   "metadata": {},
   "outputs": [
    {
     "data": {
      "text/html": [
       "<div>\n",
       "<style scoped>\n",
       "    .dataframe tbody tr th:only-of-type {\n",
       "        vertical-align: middle;\n",
       "    }\n",
       "\n",
       "    .dataframe tbody tr th {\n",
       "        vertical-align: top;\n",
       "    }\n",
       "\n",
       "    .dataframe thead th {\n",
       "        text-align: right;\n",
       "    }\n",
       "</style>\n",
       "<table border=\"1\" class=\"dataframe\">\n",
       "  <thead>\n",
       "    <tr style=\"text-align: right;\">\n",
       "      <th></th>\n",
       "      <th>Location</th>\n",
       "      <th>PopTotal</th>\n",
       "    </tr>\n",
       "  </thead>\n",
       "  <tbody>\n",
       "    <tr>\n",
       "      <th>5</th>\n",
       "      <td>Afghanistan</td>\n",
       "      <td>8270.992</td>\n",
       "    </tr>\n",
       "    <tr>\n",
       "      <th>6</th>\n",
       "      <td>Afghanistan</td>\n",
       "      <td>8398.873</td>\n",
       "    </tr>\n",
       "    <tr>\n",
       "      <th>7</th>\n",
       "      <td>Afghanistan</td>\n",
       "      <td>8535.157</td>\n",
       "    </tr>\n",
       "    <tr>\n",
       "      <th>8</th>\n",
       "      <td>Afghanistan</td>\n",
       "      <td>8680.097</td>\n",
       "    </tr>\n",
       "    <tr>\n",
       "      <th>9</th>\n",
       "      <td>Afghanistan</td>\n",
       "      <td>8833.947</td>\n",
       "    </tr>\n",
       "  </tbody>\n",
       "</table>\n",
       "</div>"
      ],
      "text/plain": [
       "      Location  PopTotal\n",
       "5  Afghanistan  8270.992\n",
       "6  Afghanistan  8398.873\n",
       "7  Afghanistan  8535.157\n",
       "8  Afghanistan  8680.097\n",
       "9  Afghanistan  8833.947"
      ]
     },
     "execution_count": 4,
     "metadata": {},
     "output_type": "execute_result"
    }
   ],
   "source": [
    "pop_data[5:10]"
   ]
  },
  {
   "cell_type": "code",
   "execution_count": 5,
   "metadata": {
    "scrolled": true
   },
   "outputs": [
    {
     "data": {
      "text/html": [
       "<div>\n",
       "<style scoped>\n",
       "    .dataframe tbody tr th:only-of-type {\n",
       "        vertical-align: middle;\n",
       "    }\n",
       "\n",
       "    .dataframe tbody tr th {\n",
       "        vertical-align: top;\n",
       "    }\n",
       "\n",
       "    .dataframe thead th {\n",
       "        text-align: right;\n",
       "    }\n",
       "</style>\n",
       "<table border=\"1\" class=\"dataframe\">\n",
       "  <thead>\n",
       "    <tr style=\"text-align: right;\">\n",
       "      <th></th>\n",
       "      <th>name_speaker</th>\n",
       "      <th>speaker_occupation</th>\n",
       "      <th>title</th>\n",
       "      <th>views</th>\n",
       "      <th>comments</th>\n",
       "    </tr>\n",
       "  </thead>\n",
       "  <tbody>\n",
       "    <tr>\n",
       "      <th>0</th>\n",
       "      <td>Ken Robinson</td>\n",
       "      <td>Author/educator</td>\n",
       "      <td>Do schools kill creativity?</td>\n",
       "      <td>47227110</td>\n",
       "      <td>4553</td>\n",
       "    </tr>\n",
       "    <tr>\n",
       "      <th>1</th>\n",
       "      <td>Al Gore</td>\n",
       "      <td>Climate advocate</td>\n",
       "      <td>Averting the climate crisis</td>\n",
       "      <td>3200520</td>\n",
       "      <td>265</td>\n",
       "    </tr>\n",
       "    <tr>\n",
       "      <th>2</th>\n",
       "      <td>David Pogue</td>\n",
       "      <td>Technology columnist</td>\n",
       "      <td>Simplicity sells</td>\n",
       "      <td>1636292</td>\n",
       "      <td>124</td>\n",
       "    </tr>\n",
       "    <tr>\n",
       "      <th>3</th>\n",
       "      <td>Majora Carter</td>\n",
       "      <td>Activist for environmental justice</td>\n",
       "      <td>Greening the ghetto</td>\n",
       "      <td>1697550</td>\n",
       "      <td>200</td>\n",
       "    </tr>\n",
       "    <tr>\n",
       "      <th>4</th>\n",
       "      <td>Hans Rosling</td>\n",
       "      <td>Global health expert; data visionary</td>\n",
       "      <td>The best stats you've ever seen</td>\n",
       "      <td>12005869</td>\n",
       "      <td>593</td>\n",
       "    </tr>\n",
       "    <tr>\n",
       "      <th>5</th>\n",
       "      <td>Tony Robbins</td>\n",
       "      <td>Life coach; expert in leadership psychology</td>\n",
       "      <td>Why we do what we do</td>\n",
       "      <td>20685401</td>\n",
       "      <td>672</td>\n",
       "    </tr>\n",
       "    <tr>\n",
       "      <th>6</th>\n",
       "      <td>Julia Sweeney</td>\n",
       "      <td>Actor, comedian, playwright</td>\n",
       "      <td>Letting go of God</td>\n",
       "      <td>3769987</td>\n",
       "      <td>919</td>\n",
       "    </tr>\n",
       "    <tr>\n",
       "      <th>7</th>\n",
       "      <td>Joshua Prince-Ramus</td>\n",
       "      <td>Architect</td>\n",
       "      <td>Behind the design of Seattle's library</td>\n",
       "      <td>967741</td>\n",
       "      <td>46</td>\n",
       "    </tr>\n",
       "    <tr>\n",
       "      <th>8</th>\n",
       "      <td>Dan Dennett</td>\n",
       "      <td>Philosopher, cognitive scientist</td>\n",
       "      <td>Let's teach religion -- all religion -- in sch...</td>\n",
       "      <td>2567958</td>\n",
       "      <td>582</td>\n",
       "    </tr>\n",
       "    <tr>\n",
       "      <th>9</th>\n",
       "      <td>Rick Warren</td>\n",
       "      <td>Pastor, author</td>\n",
       "      <td>A life of purpose</td>\n",
       "      <td>3095993</td>\n",
       "      <td>900</td>\n",
       "    </tr>\n",
       "  </tbody>\n",
       "</table>\n",
       "</div>"
      ],
      "text/plain": [
       "          name_speaker                           speaker_occupation  \\\n",
       "0         Ken Robinson                              Author/educator   \n",
       "1              Al Gore                             Climate advocate   \n",
       "2          David Pogue                         Technology columnist   \n",
       "3        Majora Carter           Activist for environmental justice   \n",
       "4         Hans Rosling         Global health expert; data visionary   \n",
       "5         Tony Robbins  Life coach; expert in leadership psychology   \n",
       "6        Julia Sweeney                  Actor, comedian, playwright   \n",
       "7  Joshua Prince-Ramus                                    Architect   \n",
       "8          Dan Dennett             Philosopher, cognitive scientist   \n",
       "9          Rick Warren                               Pastor, author   \n",
       "\n",
       "                                               title     views  comments  \n",
       "0                        Do schools kill creativity?  47227110      4553  \n",
       "1                        Averting the climate crisis   3200520       265  \n",
       "2                                   Simplicity sells   1636292       124  \n",
       "3                                Greening the ghetto   1697550       200  \n",
       "4                    The best stats you've ever seen  12005869       593  \n",
       "5                               Why we do what we do  20685401       672  \n",
       "6                                  Letting go of God   3769987       919  \n",
       "7             Behind the design of Seattle's library    967741        46  \n",
       "8  Let's teach religion -- all religion -- in sch...   2567958       582  \n",
       "9                                  A life of purpose   3095993       900  "
      ]
     },
     "execution_count": 5,
     "metadata": {},
     "output_type": "execute_result"
    }
   ],
   "source": [
    "csv_dataframe = pd.read_csv(\"datasets/ted_data.csv\")\n",
    "csv_dataframe"
   ]
  },
  {
   "cell_type": "code",
   "execution_count": 6,
   "metadata": {
    "scrolled": true
   },
   "outputs": [
    {
     "data": {
      "text/html": [
       "<div>\n",
       "<style scoped>\n",
       "    .dataframe tbody tr th:only-of-type {\n",
       "        vertical-align: middle;\n",
       "    }\n",
       "\n",
       "    .dataframe tbody tr th {\n",
       "        vertical-align: top;\n",
       "    }\n",
       "\n",
       "    .dataframe thead th {\n",
       "        text-align: right;\n",
       "    }\n",
       "</style>\n",
       "<table border=\"1\" class=\"dataframe\">\n",
       "  <thead>\n",
       "    <tr style=\"text-align: right;\">\n",
       "      <th></th>\n",
       "      <th>Year</th>\n",
       "      <th>Country</th>\n",
       "      <th>Winner</th>\n",
       "      <th>Runners-Up</th>\n",
       "      <th>GoalsScored</th>\n",
       "      <th>MatchesPlayed</th>\n",
       "    </tr>\n",
       "  </thead>\n",
       "  <tbody>\n",
       "    <tr>\n",
       "      <th>0</th>\n",
       "      <td>1990</td>\n",
       "      <td>Italy</td>\n",
       "      <td>Germany</td>\n",
       "      <td>Argentina</td>\n",
       "      <td>115</td>\n",
       "      <td>52</td>\n",
       "    </tr>\n",
       "    <tr>\n",
       "      <th>1</th>\n",
       "      <td>1994</td>\n",
       "      <td>USA</td>\n",
       "      <td>Brazil</td>\n",
       "      <td>Italy</td>\n",
       "      <td>141</td>\n",
       "      <td>52</td>\n",
       "    </tr>\n",
       "    <tr>\n",
       "      <th>2</th>\n",
       "      <td>1998</td>\n",
       "      <td>France</td>\n",
       "      <td>France</td>\n",
       "      <td>Brazil</td>\n",
       "      <td>171</td>\n",
       "      <td>64</td>\n",
       "    </tr>\n",
       "    <tr>\n",
       "      <th>3</th>\n",
       "      <td>2002</td>\n",
       "      <td>Japan</td>\n",
       "      <td>Brazil</td>\n",
       "      <td>Germany</td>\n",
       "      <td>161</td>\n",
       "      <td>64</td>\n",
       "    </tr>\n",
       "    <tr>\n",
       "      <th>4</th>\n",
       "      <td>2006</td>\n",
       "      <td>Germany</td>\n",
       "      <td>Italy</td>\n",
       "      <td>France</td>\n",
       "      <td>147</td>\n",
       "      <td>64</td>\n",
       "    </tr>\n",
       "    <tr>\n",
       "      <th>5</th>\n",
       "      <td>2010</td>\n",
       "      <td>South Africa</td>\n",
       "      <td>Spain</td>\n",
       "      <td>Netherlands</td>\n",
       "      <td>145</td>\n",
       "      <td>64</td>\n",
       "    </tr>\n",
       "    <tr>\n",
       "      <th>6</th>\n",
       "      <td>2014</td>\n",
       "      <td>Brazil</td>\n",
       "      <td>Germany</td>\n",
       "      <td>Argentina</td>\n",
       "      <td>171</td>\n",
       "      <td>64</td>\n",
       "    </tr>\n",
       "  </tbody>\n",
       "</table>\n",
       "</div>"
      ],
      "text/plain": [
       "   Year       Country    Winner   Runners-Up  GoalsScored  MatchesPlayed\n",
       "0  1990         Italy  Germany     Argentina          115             52\n",
       "1  1994           USA    Brazil        Italy          141             52\n",
       "2  1998        France    France       Brazil          171             64\n",
       "3  2002         Japan    Brazil      Germany          161             64\n",
       "4  2006       Germany     Italy       France          147             64\n",
       "5  2010  South Africa     Spain  Netherlands          145             64\n",
       "6  2014        Brazil   Germany    Argentina          171             64"
      ]
     },
     "execution_count": 6,
     "metadata": {},
     "output_type": "execute_result"
    }
   ],
   "source": [
    "csv_excel = pd.read_excel(\"datasets/football_worldcup.xlsx\", 'Sheet 1')\n",
    "csv_excel"
   ]
  },
  {
   "cell_type": "markdown",
   "metadata": {},
   "source": [
    "## Creating the data frame"
   ]
  },
  {
   "cell_type": "code",
   "execution_count": 10,
   "metadata": {},
   "outputs": [
    {
     "data": {
      "text/html": [
       "<div>\n",
       "<style scoped>\n",
       "    .dataframe tbody tr th:only-of-type {\n",
       "        vertical-align: middle;\n",
       "    }\n",
       "\n",
       "    .dataframe tbody tr th {\n",
       "        vertical-align: top;\n",
       "    }\n",
       "\n",
       "    .dataframe thead th {\n",
       "        text-align: right;\n",
       "    }\n",
       "</style>\n",
       "<table border=\"1\" class=\"dataframe\">\n",
       "  <thead>\n",
       "    <tr style=\"text-align: right;\">\n",
       "      <th></th>\n",
       "      <th>Year</th>\n",
       "      <th>Country</th>\n",
       "      <th>Winner</th>\n",
       "      <th>Goal_Scored</th>\n",
       "    </tr>\n",
       "  </thead>\n",
       "  <tbody>\n",
       "    <tr>\n",
       "      <th>0</th>\n",
       "      <td>1990</td>\n",
       "      <td>Italy</td>\n",
       "      <td>Germany</td>\n",
       "      <td>115</td>\n",
       "    </tr>\n",
       "    <tr>\n",
       "      <th>1</th>\n",
       "      <td>1994</td>\n",
       "      <td>USA</td>\n",
       "      <td>Brazil</td>\n",
       "      <td>141</td>\n",
       "    </tr>\n",
       "    <tr>\n",
       "      <th>2</th>\n",
       "      <td>1998</td>\n",
       "      <td>France</td>\n",
       "      <td>France</td>\n",
       "      <td>171</td>\n",
       "    </tr>\n",
       "    <tr>\n",
       "      <th>3</th>\n",
       "      <td>2002</td>\n",
       "      <td>Japan</td>\n",
       "      <td>Brazil</td>\n",
       "      <td>161</td>\n",
       "    </tr>\n",
       "  </tbody>\n",
       "</table>\n",
       "</div>"
      ],
      "text/plain": [
       "   Year Country   Winner  Goal_Scored\n",
       "0  1990   Italy  Germany          115\n",
       "1  1994     USA   Brazil          141\n",
       "2  1998  France   France          171\n",
       "3  2002   Japan   Brazil          161"
      ]
     },
     "execution_count": 10,
     "metadata": {},
     "output_type": "execute_result"
    }
   ],
   "source": [
    "''' Note as you see here when you are creating the DF usng the Dict and List every data must be there \n",
    "    if its not there it will throw error '''\n",
    "\n",
    "d = {'Year':[1990, 1994,1998, 2002],\n",
    "    'Country' : ['Italy', 'USA', 'France', 'Japan'],\n",
    "    'Winner': ['Germany', 'Brazil', 'France', 'Brazil'],\n",
    "    'Goal_Scored' : [115, 141, 171, 161]}\n",
    "football_df = pd.DataFrame(d)\n",
    "football_df"
   ]
  },
  {
   "cell_type": "code",
   "execution_count": 11,
   "metadata": {
    "scrolled": true
   },
   "outputs": [
    {
     "data": {
      "text/html": [
       "<div>\n",
       "<style scoped>\n",
       "    .dataframe tbody tr th:only-of-type {\n",
       "        vertical-align: middle;\n",
       "    }\n",
       "\n",
       "    .dataframe tbody tr th {\n",
       "        vertical-align: top;\n",
       "    }\n",
       "\n",
       "    .dataframe thead th {\n",
       "        text-align: right;\n",
       "    }\n",
       "</style>\n",
       "<table border=\"1\" class=\"dataframe\">\n",
       "  <thead>\n",
       "    <tr style=\"text-align: right;\">\n",
       "      <th></th>\n",
       "      <th>Year</th>\n",
       "      <th>Country</th>\n",
       "    </tr>\n",
       "  </thead>\n",
       "  <tbody>\n",
       "    <tr>\n",
       "      <th>0</th>\n",
       "      <td>1990.0</td>\n",
       "      <td>Italy</td>\n",
       "    </tr>\n",
       "    <tr>\n",
       "      <th>1</th>\n",
       "      <td>1994.0</td>\n",
       "      <td>USA</td>\n",
       "    </tr>\n",
       "    <tr>\n",
       "      <th>2</th>\n",
       "      <td>1998.0</td>\n",
       "      <td>France</td>\n",
       "    </tr>\n",
       "    <tr>\n",
       "      <th>3</th>\n",
       "      <td>NaN</td>\n",
       "      <td>Japan</td>\n",
       "    </tr>\n",
       "  </tbody>\n",
       "</table>\n",
       "</div>"
      ],
      "text/plain": [
       "     Year Country\n",
       "0  1990.0   Italy\n",
       "1  1994.0     USA\n",
       "2  1998.0  France\n",
       "3     NaN   Japan"
      ]
     },
     "execution_count": 11,
     "metadata": {},
     "output_type": "execute_result"
    }
   ],
   "source": [
    "# Creating a datafrmae out of series where the no of elements in series are not same\n",
    "dict_ser = {'Year': pd.Series([1990, 1994,1998], index = [0,1,2]), \n",
    "           'Country' :pd.Series(['Italy', 'USA', 'France', 'Japan'], index = [0,1,2,3])}\n",
    "df_dict_ser = pd.DataFrame(dict_ser)\n",
    "df_dict_ser"
   ]
  },
  {
   "cell_type": "code",
   "execution_count": 13,
   "metadata": {
    "scrolled": false
   },
   "outputs": [
    {
     "data": {
      "text/html": [
       "<div>\n",
       "<style scoped>\n",
       "    .dataframe tbody tr th:only-of-type {\n",
       "        vertical-align: middle;\n",
       "    }\n",
       "\n",
       "    .dataframe tbody tr th {\n",
       "        vertical-align: top;\n",
       "    }\n",
       "\n",
       "    .dataframe thead th {\n",
       "        text-align: right;\n",
       "    }\n",
       "</style>\n",
       "<table border=\"1\" class=\"dataframe\">\n",
       "  <thead>\n",
       "    <tr style=\"text-align: right;\">\n",
       "      <th></th>\n",
       "      <th>Year</th>\n",
       "      <th>Host_country</th>\n",
       "      <th>Winner</th>\n",
       "      <th>Goals_Scored</th>\n",
       "    </tr>\n",
       "  </thead>\n",
       "  <tbody>\n",
       "    <tr>\n",
       "      <th>0</th>\n",
       "      <td>1990</td>\n",
       "      <td>Italy</td>\n",
       "      <td>Germaby</td>\n",
       "      <td>115</td>\n",
       "    </tr>\n",
       "    <tr>\n",
       "      <th>1</th>\n",
       "      <td>1994</td>\n",
       "      <td>USA</td>\n",
       "      <td>Brazil</td>\n",
       "      <td>141</td>\n",
       "    </tr>\n",
       "    <tr>\n",
       "      <th>2</th>\n",
       "      <td>1998</td>\n",
       "      <td>France</td>\n",
       "      <td>France</td>\n",
       "      <td>171</td>\n",
       "    </tr>\n",
       "    <tr>\n",
       "      <th>3</th>\n",
       "      <td>2002</td>\n",
       "      <td>Japan</td>\n",
       "      <td>Brazil</td>\n",
       "      <td>161</td>\n",
       "    </tr>\n",
       "  </tbody>\n",
       "</table>\n",
       "</div>"
      ],
      "text/plain": [
       "   Year Host_country   Winner  Goals_Scored\n",
       "0  1990        Italy  Germaby           115\n",
       "1  1994          USA   Brazil           141\n",
       "2  1998       France   France           171\n",
       "3  2002        Japan   Brazil           161"
      ]
     },
     "execution_count": 13,
     "metadata": {},
     "output_type": "execute_result"
    }
   ],
   "source": [
    "list_tuples = [(1990, 'Italy', 'Germaby', 115),\n",
    "              (1994, 'USA', 'Brazil', 141),\n",
    "              (1998, 'France', 'France', 171),\n",
    "              (2002, 'Japan', 'Brazil', 161)]\n",
    "df_l_t = pd.DataFrame(list_tuples, columns = ['Year', 'Host_country', 'Winner', 'Goals_Scored'])\n",
    "df_l_t"
   ]
  },
  {
   "cell_type": "code",
   "execution_count": 14,
   "metadata": {},
   "outputs": [
    {
     "data": {
      "text/html": [
       "<div>\n",
       "<style scoped>\n",
       "    .dataframe tbody tr th:only-of-type {\n",
       "        vertical-align: middle;\n",
       "    }\n",
       "\n",
       "    .dataframe tbody tr th {\n",
       "        vertical-align: top;\n",
       "    }\n",
       "\n",
       "    .dataframe thead th {\n",
       "        text-align: right;\n",
       "    }\n",
       "</style>\n",
       "<table border=\"1\" class=\"dataframe\">\n",
       "  <thead>\n",
       "    <tr style=\"text-align: right;\">\n",
       "      <th></th>\n",
       "      <th>year</th>\n",
       "      <th>Country</th>\n",
       "      <th>Winner</th>\n",
       "      <th>Goal Scored</th>\n",
       "    </tr>\n",
       "  </thead>\n",
       "  <tbody>\n",
       "    <tr>\n",
       "      <th>0</th>\n",
       "      <td>1990</td>\n",
       "      <td>Italy</td>\n",
       "      <td>Germaby</td>\n",
       "      <td>115</td>\n",
       "    </tr>\n",
       "    <tr>\n",
       "      <th>1</th>\n",
       "      <td>1994</td>\n",
       "      <td>USA</td>\n",
       "      <td>Brazil</td>\n",
       "      <td>141</td>\n",
       "    </tr>\n",
       "    <tr>\n",
       "      <th>2</th>\n",
       "      <td>1998</td>\n",
       "      <td>France</td>\n",
       "      <td>France</td>\n",
       "      <td>171</td>\n",
       "    </tr>\n",
       "    <tr>\n",
       "      <th>3</th>\n",
       "      <td>2002</td>\n",
       "      <td>Japan</td>\n",
       "      <td>Brazil</td>\n",
       "      <td>161</td>\n",
       "    </tr>\n",
       "  </tbody>\n",
       "</table>\n",
       "</div>"
      ],
      "text/plain": [
       "   year Country   Winner  Goal Scored\n",
       "0  1990   Italy  Germaby          115\n",
       "1  1994     USA   Brazil          141\n",
       "2  1998  France   France          171\n",
       "3  2002   Japan   Brazil          161"
      ]
     },
     "execution_count": 14,
     "metadata": {},
     "output_type": "execute_result"
    }
   ],
   "source": [
    "list_dict = [{'year':1990, 'Country':'Italy', 'Winner':'Germaby', 'Goal Scored':115},\n",
    "              {'year':1994, 'Country':'USA', 'Winner':'Brazil', 'Goal Scored':141},\n",
    "              {'year':1998, 'Country':'France', 'Winner':'France', 'Goal Scored':171},\n",
    "              {'year':2002, 'Country':'Japan', 'Winner':'Brazil', 'Goal Scored':161}]\n",
    "df_l_d = pd.DataFrame(list_dict)\n",
    "df_l_d"
   ]
  },
  {
   "cell_type": "markdown",
   "metadata": {},
   "source": [
    "Melwin Slicing even the end value is included (Inclusive) (Only in the Series)"
   ]
  },
  {
   "cell_type": "markdown",
   "metadata": {},
   "source": [
    "zip function (combining the data frame)"
   ]
  },
  {
   "cell_type": "code",
   "execution_count": null,
   "metadata": {},
   "outputs": [],
   "source": []
  }
 ],
 "metadata": {
  "kernelspec": {
   "display_name": "Python 3",
   "language": "python",
   "name": "python3"
  },
  "language_info": {
   "codemirror_mode": {
    "name": "ipython",
    "version": 3
   },
   "file_extension": ".py",
   "mimetype": "text/x-python",
   "name": "python",
   "nbconvert_exporter": "python",
   "pygments_lexer": "ipython3",
   "version": "3.7.4"
  }
 },
 "nbformat": 4,
 "nbformat_minor": 4
}
