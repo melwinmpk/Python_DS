{
 "cells": [
  {
   "cell_type": "code",
   "execution_count": null,
   "id": "c4208776",
   "metadata": {},
   "outputs": [],
   "source": [
    "'''\n",
    "Validate Parentheses\n",
    "You are given a string s consisting of the following characters: '(', ')', '{', '}', '[' and ']'.\n",
    "\n",
    "The input string s is valid if and only if:\n",
    "\n",
    "Every open bracket is closed by the same type of close bracket.\n",
    "Open brackets are closed in the correct order.\n",
    "Every close bracket has a corresponding open bracket of the same type.\n",
    "Return true if s is a valid string, and false otherwise.\n",
    "\n",
    "Example 1:\n",
    "\n",
    "Input: s = \"[]\"\n",
    "\n",
    "Output: true\n",
    "Example 2:\n",
    "\n",
    "Input: s = \"([{}])\"\n",
    "\n",
    "Output: true\n",
    "Example 3:\n",
    "\n",
    "Input: s = \"[(])\"\n",
    "\n",
    "Output: false\n",
    "Explanation: The brackets are not closed in the correct order.\n",
    "\n",
    "Constraints:\n",
    "\n",
    "1 <= s.length <= 1000\n",
    "'''"
   ]
  },
  {
   "cell_type": "code",
   "execution_count": 16,
   "id": "a4cb4af9",
   "metadata": {},
   "outputs": [],
   "source": [
    "class Solution:\n",
    "    def isValid(self, s):\n",
    "        data = []\n",
    "        for i in s:\n",
    "            if i =='(' or i == '[' or i == '{':\n",
    "                data.append(i)\n",
    "            elif len(data) > 0 and (i ==')' or i == ']' or i == '}'):\n",
    "                x = data.pop(-1)\n",
    "                if (i == '}' and x != '{') or (i == ']' and x != '[') or (i == ')' and x != '('):\n",
    "                    return False \n",
    "            else:\n",
    "                return False\n",
    "        if len(data) > 0:\n",
    "            return False              \n",
    "        return True"
   ]
  },
  {
   "cell_type": "code",
   "execution_count": 17,
   "id": "c5eb685a",
   "metadata": {},
   "outputs": [],
   "source": [
    "s = \"([{}])\""
   ]
  },
  {
   "cell_type": "code",
   "execution_count": 18,
   "id": "e2298482",
   "metadata": {},
   "outputs": [
    {
     "data": {
      "text/plain": [
       "True"
      ]
     },
     "execution_count": 18,
     "metadata": {},
     "output_type": "execute_result"
    }
   ],
   "source": [
    "obj = Solution()\n",
    "obj.isValid(s)"
   ]
  },
  {
   "cell_type": "code",
   "execution_count": 19,
   "id": "d28e4423",
   "metadata": {},
   "outputs": [],
   "source": [
    "s = \"[(])\""
   ]
  },
  {
   "cell_type": "code",
   "execution_count": 20,
   "id": "c893cf81",
   "metadata": {},
   "outputs": [
    {
     "data": {
      "text/plain": [
       "False"
      ]
     },
     "execution_count": 20,
     "metadata": {},
     "output_type": "execute_result"
    }
   ],
   "source": [
    "obj = Solution()\n",
    "obj.isValid(s)"
   ]
  },
  {
   "cell_type": "code",
   "execution_count": null,
   "id": "efe2b6c5",
   "metadata": {},
   "outputs": [],
   "source": []
  }
 ],
 "metadata": {
  "kernelspec": {
   "display_name": "Python 3 (ipykernel)",
   "language": "python",
   "name": "python3"
  },
  "language_info": {
   "codemirror_mode": {
    "name": "ipython",
    "version": 3
   },
   "file_extension": ".py",
   "mimetype": "text/x-python",
   "name": "python",
   "nbconvert_exporter": "python",
   "pygments_lexer": "ipython3",
   "version": "3.10.6"
  }
 },
 "nbformat": 4,
 "nbformat_minor": 5
}
