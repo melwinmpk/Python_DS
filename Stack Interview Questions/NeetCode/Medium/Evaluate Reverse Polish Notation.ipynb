{
 "cells": [
  {
   "cell_type": "code",
   "execution_count": null,
   "id": "24c8f2cd",
   "metadata": {},
   "outputs": [],
   "source": [
    "'''\n",
    "Evaluate Reverse Polish Notation\n",
    "You are given an array of strings tokens that represents a valid arithmetic expression in Reverse Polish Notation.\n",
    "\n",
    "Return the integer that represents the evaluation of the expression.\n",
    "\n",
    "The operands may be integers or the results of other operations.\n",
    "The operators include '+', '-', '*', and '/'.\n",
    "Assume that division between integers always truncates toward zero.\n",
    "Example 1:\n",
    "\n",
    "Input: tokens = [\"1\",\"2\",\"+\",\"3\",\"*\",\"4\",\"-\"]\n",
    "\n",
    "Output: 5\n",
    "\n",
    "Explanation: ((1 + 2) * 3) - 4 = 5\n",
    "Constraints:\n",
    "\n",
    "1 <= tokens.length <= 1000.\n",
    "tokens[i] is \"+\", \"-\", \"*\", or \"/\", or a string representing an integer in the range [-100, 100].\n",
    "'''"
   ]
  },
  {
   "cell_type": "code",
   "execution_count": 97,
   "id": "7d031d0e",
   "metadata": {},
   "outputs": [],
   "source": [
    "class Solution:\n",
    "    def evalRPN(self, tokens):\n",
    "        stack = []\n",
    "        for i in tokens:\n",
    "            if i.isnumeric() or (i[0] == '-' and (i[1:]).isnumeric()):\n",
    "                stack.append(int(i))\n",
    "            else:\n",
    "                second  = stack.pop()\n",
    "                first = stack.pop()\n",
    "                print(f\"{first} {i} {second} \")\n",
    "                if i == '*':\n",
    "                    first *= second\n",
    "                elif i =='+':\n",
    "                    first += second\n",
    "                elif i =='-':\n",
    "                    first -= second\n",
    "                elif i =='/':\n",
    "                    first  = int(first/second)\n",
    "                stack.append(first)\n",
    "                \n",
    "        return stack.pop()"
   ]
  },
  {
   "cell_type": "code",
   "execution_count": 98,
   "id": "17fbb6e8",
   "metadata": {},
   "outputs": [],
   "source": [
    "tokens = [\"1\",\"2\",\"+\",\"3\",\"*\",\"4\",\"-\"]"
   ]
  },
  {
   "cell_type": "code",
   "execution_count": 99,
   "id": "9e910819",
   "metadata": {},
   "outputs": [
    {
     "name": "stdout",
     "output_type": "stream",
     "text": [
      "1 + 2 \n",
      "3 * 3 \n",
      "9 - 4 \n"
     ]
    },
    {
     "data": {
      "text/plain": [
       "5"
      ]
     },
     "execution_count": 99,
     "metadata": {},
     "output_type": "execute_result"
    }
   ],
   "source": [
    "obj = Solution()\n",
    "obj.evalRPN(tokens)"
   ]
  },
  {
   "cell_type": "code",
   "execution_count": 100,
   "id": "a3642b00",
   "metadata": {},
   "outputs": [],
   "source": [
    "tokens = [\"4\",\"13\",\"5\",\"/\",\"+\"]"
   ]
  },
  {
   "cell_type": "code",
   "execution_count": 101,
   "id": "f784bef6",
   "metadata": {},
   "outputs": [
    {
     "name": "stdout",
     "output_type": "stream",
     "text": [
      "13 / 5 \n",
      "4 + 2 \n"
     ]
    },
    {
     "data": {
      "text/plain": [
       "6"
      ]
     },
     "execution_count": 101,
     "metadata": {},
     "output_type": "execute_result"
    }
   ],
   "source": [
    "obj = Solution()\n",
    "obj.evalRPN(token)"
   ]
  },
  {
   "cell_type": "code",
   "execution_count": 102,
   "id": "2cdfa6e6",
   "metadata": {},
   "outputs": [],
   "source": [
    "tokens=[\"10\",\"6\",\"9\",\"3\",\"+\",\"-11\",\"*\",\"/\",\"*\",\"17\",\"+\",\"5\",\"+\"]"
   ]
  },
  {
   "cell_type": "code",
   "execution_count": 103,
   "id": "2887eac7",
   "metadata": {},
   "outputs": [
    {
     "name": "stdout",
     "output_type": "stream",
     "text": [
      "9 + 3 \n",
      "12 * -11 \n",
      "6 / -132 \n",
      "10 * 0 \n",
      "0 + 17 \n",
      "17 + 5 \n"
     ]
    },
    {
     "data": {
      "text/plain": [
       "22"
      ]
     },
     "execution_count": 103,
     "metadata": {},
     "output_type": "execute_result"
    }
   ],
   "source": [
    "obj = Solution()\n",
    "obj.evalRPN(tokens)"
   ]
  },
  {
   "cell_type": "code",
   "execution_count": 104,
   "id": "16b3bffa",
   "metadata": {},
   "outputs": [],
   "source": [
    "tokens = [\"10\",\"6\",\"9\",\"3\",\"+\",\"-11\",\"*\",\"/\",\"*\",\"17\",\"+\",\"5\",\"+\"]"
   ]
  },
  {
   "cell_type": "code",
   "execution_count": 105,
   "id": "8e11e53e",
   "metadata": {},
   "outputs": [
    {
     "name": "stdout",
     "output_type": "stream",
     "text": [
      "9 + 3 \n",
      "12 * -11 \n",
      "6 / -132 \n",
      "10 * 0 \n",
      "0 + 17 \n",
      "17 + 5 \n"
     ]
    },
    {
     "data": {
      "text/plain": [
       "22"
      ]
     },
     "execution_count": 105,
     "metadata": {},
     "output_type": "execute_result"
    }
   ],
   "source": [
    "obj = Solution()\n",
    "obj.evalRPN(tokens)"
   ]
  },
  {
   "cell_type": "code",
   "execution_count": 106,
   "id": "3b2aff20",
   "metadata": {},
   "outputs": [
    {
     "data": {
      "text/plain": [
       "-0.045454545454545456"
      ]
     },
     "execution_count": 106,
     "metadata": {},
     "output_type": "execute_result"
    }
   ],
   "source": [
    "6/(-132)"
   ]
  },
  {
   "cell_type": "code",
   "execution_count": null,
   "id": "cc3225de",
   "metadata": {},
   "outputs": [],
   "source": []
  }
 ],
 "metadata": {
  "kernelspec": {
   "display_name": "Python 3 (ipykernel)",
   "language": "python",
   "name": "python3"
  },
  "language_info": {
   "codemirror_mode": {
    "name": "ipython",
    "version": 3
   },
   "file_extension": ".py",
   "mimetype": "text/x-python",
   "name": "python",
   "nbconvert_exporter": "python",
   "pygments_lexer": "ipython3",
   "version": "3.10.6"
  }
 },
 "nbformat": 4,
 "nbformat_minor": 5
}
