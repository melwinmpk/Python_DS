{
 "cells": [
  {
   "cell_type": "code",
   "execution_count": 2,
   "metadata": {},
   "outputs": [],
   "source": [
    "PlacestoVisit = {\n",
    "    \"Bamboo_Forests\"       : 0,\n",
    "    \"Edakkal_Caves\"        : 1,\n",
    "    \"Kuruva_Island\"        : 2,\n",
    "    \"Chembra_Peak\"         : 3,\n",
    "    \"Banasura_Sagar_Dam\"   : 4,\n",
    "    \"Neelimala_View_Point\" : 5,\n",
    "    \"Lakkidi_View_Point\"   : 6,\n",
    "    \"Meenmutty_Waterfalls\" : 7,\n",
    "    \"Soochipara_Falls\"     : 8,\n",
    "    \"Str\" : [\n",
    "        \"Bamboo_Forests\",\n",
    "        \"Edakkal_Caves\",\n",
    "        \"Kuruva_Island\",\n",
    "        \"Chembra_Peak\",\n",
    "        \"Banasura_Sagar_Dam\",\n",
    "        \"Neelimala_View_Point\",\n",
    "        \"Lakkidi_View_Point\",\n",
    "        \"Meenmutty_Waterfalls\",\n",
    "        \"Soochipara_Falls\"\n",
    "    ]\n",
    "}"
   ]
  },
  {
   "cell_type": "code",
   "execution_count": 3,
   "metadata": {
    "scrolled": true
   },
   "outputs": [
    {
     "name": "stdout",
     "output_type": "stream",
     "text": [
      "Begning from Kuruva_Island\n",
      "Vertex \tDistance from Source \n",
      "\n",
      "\n",
      "Bamboo_Forests \t => \t  19.9KM \n",
      "Edakkal_Caves \t => \t  44.0KM \n",
      "Kuruva_Island \t => \t  0KM \n",
      "Chembra_Peak \t => \t  38.9KM \n",
      "Banasura_Sagar_Dam \t => \t  34.7KM \n",
      "Neelimala_View_Point \t => \t  56.699999999999996KM \n",
      "Lakkidi_View_Point \t => \t  49.6KM \n",
      "Meenmutty_Waterfalls \t => \t  37.4KM \n",
      "Soochipara_Falls \t => \t  55.0KM \n"
     ]
    }
   ],
   "source": [
    "import sys\n",
    " \n",
    "class Graph():\n",
    " \n",
    "    def __init__(self, vertices):\n",
    "        self.V = vertices\n",
    "        self.graph = [[0 for column in range(vertices)]\n",
    "                    for row in range(vertices)]\n",
    " \n",
    "    def printSolution(self, dist):\n",
    "        print(\"Vertex \\tDistance from Source \\n\\n\")\n",
    "        for node in range(self.V):\n",
    "            print(f'{PlacestoVisit[\"Str\"][node]} \\t => \\t  {dist[node]}KM ')\n",
    " \n",
    "    # A utility function to find the vertex with\n",
    "    # minimum distance value, from the set of vertices\n",
    "    # not yet included in shortest path tree\n",
    "    def minDistance(self, dist, sptSet):\n",
    " \n",
    "        # Initialize minimum distance for next node\n",
    "        min = sys.maxsize\n",
    " \n",
    "        # Search not nearest vertex not in the\n",
    "        # shortest path tree\n",
    "        for u in range(self.V):\n",
    "            if dist[u] < min and sptSet[u] == False:\n",
    "                min = dist[u]\n",
    "                min_index = u\n",
    " \n",
    "        return min_index\n",
    " \n",
    "    # Function that implements Dijkstra's single source\n",
    "    # shortest path algorithm for a graph represented\n",
    "    # using adjacency matrix representation\n",
    "    def dijkstra(self, src):\n",
    "        print(f'''Begning from {PlacestoVisit[\"Str\"][src]}''')\n",
    "        dist = [sys.maxsize] * self.V\n",
    "        dist[src] = 0\n",
    "        sptSet = [False] * self.V\n",
    " \n",
    "        for cout in range(self.V):\n",
    " \n",
    "            # Pick the minimum distance vertex from\n",
    "            # the set of vertices not yet processed.\n",
    "            # x is always equal to src in first iteration\n",
    "            x = self.minDistance(dist, sptSet)\n",
    " \n",
    "            # Put the minimum distance vertex in the\n",
    "            # shortest path tree\n",
    "            sptSet[x] = True\n",
    " \n",
    "            # Update dist value of the adjacent vertices\n",
    "            # of the picked vertex only if the current\n",
    "            # distance is greater than new distance and\n",
    "            # the vertex in not in the shortest path tree\n",
    "            for y in range(self.V):\n",
    "                if self.graph[x][y] > 0 and sptSet[y] == False and \\\n",
    "                dist[y] > dist[x] + self.graph[x][y]:\n",
    "                        dist[y] = dist[x] + self.graph[x][y]\n",
    " \n",
    "        self.printSolution(dist)\n",
    " \n",
    "# Driver program\n",
    "\n",
    "\n",
    "g = Graph(9)\n",
    "g.graph = [\n",
    "           [0.00, 26.0, 19.9, 19.0, 26.8, 36.8, 38.0, 33.7, 43.0], #     Bamboo_Forests\n",
    "           [26.0, 0.00, 44.0, 36.2, 44.0, 18.6, 40.7, 46.5, 36.3], #     Edakkal_Caves\n",
    "           [19.9, 44.0, 0.00, 55.0, 34.7, 58.8, 49.6, 37.4, 55.0], #     Kuruva_Island\n",
    "           [19.9, 36.2, 55.0, 0.00, 34.5, 54.7, 49.6, 37.4, 55.2], #     Chembra_Peak\n",
    "           [26.8, 44.0, 34.7, 34.7, 0.00, 48.5, 32.9, 3.50, 43.6], #     Banasura_Sagar_Dam\n",
    "           [36.8, 18.6, 58.8, 54.0, 48.5, 0.00, 39.2, 50.0, 30.0], #     Neelimala_View_Point\n",
    "           [38.0, 40.7, 49.6, 49,6, 32.9, 39.2, 0.00, 35.3, 33.7], #     Lakkidi_View_Point\n",
    "           [33.7, 46.5, 37.4, 37.4, 3.00, 50.0, 35.3, 0.00, 45.4], #     Meenmutty_Waterfalls\n",
    "           [43.6, 36.3, 55.0, 55.2, 43.6, 30.0, 33.7, 45.4, 0.00]  #     Soochipara_Falls\n",
    "        ];\n",
    "\n",
    "#     Bamboo_Forests       = 0\n",
    "#     Edakkal_Caves        = 1\n",
    "#     Kuruva_Island        = 2\n",
    "#     Chembra_Peak         = 3\n",
    "#     Banasura_Sagar_Dam   = 4\n",
    "#     Neelimala_View_Point = 5\n",
    "#     Lakkidi_View_Point   = 6\n",
    "#     Meenmutty_Waterfalls = 7\n",
    "#     Soochipara_Falls     = 8\n",
    "\n",
    "g.dijkstra(PlacestoVisit[\"Kuruva_Island\"]);"
   ]
  },
  {
   "cell_type": "code",
   "execution_count": null,
   "metadata": {},
   "outputs": [],
   "source": []
  },
  {
   "cell_type": "code",
   "execution_count": 6,
   "metadata": {},
   "outputs": [
    {
     "name": "stdout",
     "output_type": "stream",
     "text": [
      "All the enum values are : \n",
      "Animal.dog\n",
      "Animal.cat\n",
      "Animal.lion\n",
      "Enum is hashed\n"
     ]
    },
    {
     "ename": "KeyError",
     "evalue": "1",
     "output_type": "error",
     "traceback": [
      "\u001b[1;31m---------------------------------------------------------------------------\u001b[0m",
      "\u001b[1;31mKeyError\u001b[0m                                  Traceback (most recent call last)",
      "\u001b[1;32m<ipython-input-6-70dd491c351f>\u001b[0m in \u001b[0;36m<module>\u001b[1;34m\u001b[0m\n\u001b[0;32m     22\u001b[0m         \u001b[0mprint\u001b[0m \u001b[1;33m(\u001b[0m\u001b[1;34m\"Enum is hashed\"\u001b[0m\u001b[1;33m)\u001b[0m\u001b[1;33m\u001b[0m\u001b[1;33m\u001b[0m\u001b[0m\n\u001b[0;32m     23\u001b[0m \u001b[1;32melse\u001b[0m\u001b[1;33m:\u001b[0m \u001b[0mprint\u001b[0m \u001b[1;33m(\u001b[0m\u001b[1;34m\"Enum is not hashed\"\u001b[0m\u001b[1;33m)\u001b[0m\u001b[1;33m\u001b[0m\u001b[1;33m\u001b[0m\u001b[0m\n\u001b[1;32m---> 24\u001b[1;33m \u001b[0mprint\u001b[0m\u001b[1;33m(\u001b[0m\u001b[0mAnimal\u001b[0m\u001b[1;33m[\u001b[0m\u001b[1;36m1\u001b[0m\u001b[1;33m]\u001b[0m\u001b[1;33m)\u001b[0m\u001b[1;33m\u001b[0m\u001b[1;33m\u001b[0m\u001b[0m\n\u001b[0m",
      "\u001b[1;32mc:\\users\\melwin\\.conda\\envs\\tutorialdatascience\\lib\\enum.py\u001b[0m in \u001b[0;36m__getitem__\u001b[1;34m(cls, name)\u001b[0m\n\u001b[0;32m    342\u001b[0m \u001b[1;33m\u001b[0m\u001b[0m\n\u001b[0;32m    343\u001b[0m     \u001b[1;32mdef\u001b[0m \u001b[0m__getitem__\u001b[0m\u001b[1;33m(\u001b[0m\u001b[0mcls\u001b[0m\u001b[1;33m,\u001b[0m \u001b[0mname\u001b[0m\u001b[1;33m)\u001b[0m\u001b[1;33m:\u001b[0m\u001b[1;33m\u001b[0m\u001b[1;33m\u001b[0m\u001b[0m\n\u001b[1;32m--> 344\u001b[1;33m         \u001b[1;32mreturn\u001b[0m \u001b[0mcls\u001b[0m\u001b[1;33m.\u001b[0m\u001b[0m_member_map_\u001b[0m\u001b[1;33m[\u001b[0m\u001b[0mname\u001b[0m\u001b[1;33m]\u001b[0m\u001b[1;33m\u001b[0m\u001b[1;33m\u001b[0m\u001b[0m\n\u001b[0m\u001b[0;32m    345\u001b[0m \u001b[1;33m\u001b[0m\u001b[0m\n\u001b[0;32m    346\u001b[0m     \u001b[1;32mdef\u001b[0m \u001b[0m__iter__\u001b[0m\u001b[1;33m(\u001b[0m\u001b[0mcls\u001b[0m\u001b[1;33m)\u001b[0m\u001b[1;33m:\u001b[0m\u001b[1;33m\u001b[0m\u001b[1;33m\u001b[0m\u001b[0m\n",
      "\u001b[1;31mKeyError\u001b[0m: 1"
     ]
    }
   ],
   "source": []
  },
  {
   "cell_type": "code",
   "execution_count": null,
   "metadata": {},
   "outputs": [],
   "source": []
  }
 ],
 "metadata": {
  "kernelspec": {
   "display_name": "Python 3",
   "language": "python",
   "name": "python3"
  },
  "language_info": {
   "codemirror_mode": {
    "name": "ipython",
    "version": 3
   },
   "file_extension": ".py",
   "mimetype": "text/x-python",
   "name": "python",
   "nbconvert_exporter": "python",
   "pygments_lexer": "ipython3",
   "version": "3.8.3"
  }
 },
 "nbformat": 4,
 "nbformat_minor": 4
}
