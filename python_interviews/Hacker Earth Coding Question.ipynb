{
 "cells": [
  {
   "cell_type": "markdown",
   "metadata": {},
   "source": [
    "https://www.geeksforgeeks.org/python-input-methods-competitive-programming/"
   ]
  },
  {
   "cell_type": "code",
   "execution_count": 3,
   "metadata": {},
   "outputs": [],
   "source": [
    "import sys\n",
    "# sys.stdin.readline().strip().split()"
   ]
  },
  {
   "cell_type": "code",
   "execution_count": 2,
   "metadata": {},
   "outputs": [
    {
     "name": "stdout",
     "output_type": "stream",
     "text": [
      "abc\n",
      "6\n"
     ]
    }
   ],
   "source": [
    "s = input()\n",
    "summ = 0\n",
    "for c in s:\n",
    "    summ += (ord(c)-ord('a')+1)\n",
    "print(summ)"
   ]
  },
  {
   "cell_type": "code",
   "execution_count": 1,
   "metadata": {},
   "outputs": [
    {
     "data": {
      "text/plain": [
       "1"
      ]
     },
     "execution_count": 1,
     "metadata": {},
     "output_type": "execute_result"
    }
   ],
   "source": [
    "# to set the value a =1, b= 2, c= 3 .... z= 26 like that \n",
    "ord('a') - ord('a')+1"
   ]
  },
  {
   "cell_type": "code",
   "execution_count": 4,
   "metadata": {},
   "outputs": [
    {
     "name": "stdout",
     "output_type": "stream",
     "text": [
      "asdf\n",
      "fdsa\n",
      "YES\n"
     ]
    }
   ],
   "source": [
    "# check weather the 2 given strings have same alphabets in any order\n",
    "from collections import Counter as C\n",
    "print(\"YES\" if C(input()) == C(input()) else \"NO\")"
   ]
  },
  {
   "cell_type": "code",
   "execution_count": 5,
   "metadata": {},
   "outputs": [
    {
     "name": "stdout",
     "output_type": "stream",
     "text": [
      "2 2 3 6\n",
      "6\n"
     ]
    }
   ],
   "source": [
    "x,y,s,t = map(int,input().split())\n",
    "print(sum(1 for i in range(s+1) for j in range(s+1) if(x+i+y+j <= t)))"
   ]
  },
  {
   "cell_type": "code",
   "execution_count": 9,
   "metadata": {},
   "outputs": [
    {
     "name": "stdout",
     "output_type": "stream",
     "text": [
      "LLRDDR\n",
      "0 -2\n"
     ]
    }
   ],
   "source": [
    "   \n",
    "\"\"\"\n",
    "Problem Link: https://www.hackerearth.com/practice/basic-programming/input-output/basics-of-input-output/practice-problems/algorithm/e-maze-in-1aa4e2ac/\n",
    "Ankit is in maze. The command center sent him a string which decodes to come out from the maze. He is initially at (0, 0). \n",
    "String contains L, R, U, D denoting left, right, up and down. In each command he will traverse 1 unit distance in the respective direction.\n",
    "For example if he is at (2, 0) and the command is L he will go to (1, 0).\n",
    "Input:\n",
    "Input contains a single string.\n",
    "Output:\n",
    "Print the final point where he came out.\n",
    "Constraints:\n",
    "1 ≤ |S| ≤ 200\n",
    "SAMPLE INPUT \n",
    "LLRDDR\n",
    "SAMPLE OUTPUT \n",
    "0 -2\n",
    "\"\"\"\n",
    "x = 0\n",
    "y = 0\n",
    "# or start = [0,0] and print(*start)\n",
    "\n",
    "directions = input() # sys.stdin.readline().strip()\n",
    "for i in directions:\n",
    "    if i == 'L':\n",
    "        x -= 1\n",
    "    elif i == 'R':\n",
    "        x += 1\n",
    "    elif i == 'U':\n",
    "        y += 1\n",
    "    elif i == 'D':\n",
    "        y -= 1\n",
    "print(f\"{x} {y}\")        "
   ]
  },
  {
   "cell_type": "code",
   "execution_count": 10,
   "metadata": {},
   "outputs": [
    {
     "name": "stdout",
     "output_type": "stream",
     "text": [
      "No of Friends:5\n",
      "Minimum Skill set:100\n",
      "110\n",
      "YES\n",
      "130\n",
      "YES\n",
      "90\n",
      "NO\n",
      "100\n",
      "YES\n",
      "45\n",
      "NO\n"
     ]
    }
   ],
   "source": [
    "   \"\"\"\n",
    "Problem Link: https://www.hackerearth.com/practice/basic-programming/input-output/basics-of-input-output/practice-problems/algorithm/tds-and-his-breakup/\n",
    "Goki recently had a breakup, so he wants to have some more friends in his life. Goki has N people who he can be friends with, \n",
    "so he decides to choose among them according to their skills set Yi(1<=i<=n). He wants atleast X skills in his friends.\n",
    "Help Goki find his friends.\n",
    "INPUT\n",
    "First line of the input contains an integer N denoting the number of people.\n",
    "Next line contains a single integer X - denoting the minimum skill required to be Goki's friend. \n",
    "Next n lines contain one integer Y - denoting the skill of ith person.\n",
    "OUTPUT\n",
    "For each person print if he can be friend with Goki. 'YES' (without quotes) if he can be friends with Goki else 'NO' (without quotes).\n",
    "CONSTRAINTS\n",
    "1<=N<=1000000\n",
    "1<=X,Y<=1000000\n",
    "SAMPLE INPUT \n",
    "5\n",
    "100\n",
    "110\n",
    "130\n",
    "90\n",
    "100\n",
    "45\n",
    "SAMPLE OUTPUT \n",
    "YES\n",
    "YES\n",
    "NO\n",
    "YES\n",
    "NO\n",
    "Explanation\n",
    "X is 100, so the first query is 110, so as 110 is greater than 100 answer is YES.\n",
    "\"\"\"\n",
    "n = int(input(\"No of Friends:\")) # int(sys.stdin.readline().strip())\n",
    "x = int(input(\"Minimum Skill set:\")) # int(sys.stdin.readline().strip())\n",
    "result = []\n",
    "for i in range(n):\n",
    "    print(\"YES\" if int(input()) >= x else \"NO\")  # int(sys.stdin.readline().strip())\n",
    "    "
   ]
  },
  {
   "cell_type": "code",
   "execution_count": 11,
   "metadata": {},
   "outputs": [
    {
     "name": "stdout",
     "output_type": "stream",
     "text": [
      "Enter the No of Test Cases:4\n",
      "Enter the Value of N:3\n",
      "1\n",
      "Enter the Value of N:7\n",
      "2\n",
      "Enter the Value of N:8\n",
      "2\n",
      "Enter the Value of N:11\n",
      "3\n"
     ]
    }
   ],
   "source": [
    "\"\"\"\n",
    "You are given a number N. Determine the number of positive even integers that are smaller than or equal to it and are not a multiple of 4.\n",
    "Input Format\n",
    "The first line contains a single integer T, denoting the number of test cases.\n",
    "Each of the next T lines contains a single integer, denoting the value of N.\n",
    "Output Format\n",
    "Print T lines, where the i-th line contains the answer to the i-th test case.\n",
    "SAMPLE INPUT \n",
    "4\n",
    "3\n",
    "7\n",
    "8\n",
    "11\n",
    "SAMPLE OUTPUT \n",
    "1\n",
    "2\n",
    "2\n",
    "3\n",
    "Explanation\n",
    "For N=3, only 2 follows the given conditions, so answer is 1.\n",
    "For N=11, numbers 2, 6 and 10 follows the given conditions, so answer is 3.\n",
    "\"\"\"\n",
    "for i in range(int(input(\"Enter the No of Test Cases:\"))):\n",
    "    count = 0\n",
    "    for j in range(1,int(input(\"Enter the Value of N:\"))+1):\n",
    "        if j%2 == 0 and j%4 != 0:\n",
    "            count+=1\n",
    "    print(count)     \n",
    "\n",
    "# or\n",
    "# for _ in range(int(input())):\n",
    "#     n = int(input())\n",
    "#     print((n//2)-(n//4))"
   ]
  },
  {
   "cell_type": "code",
   "execution_count": 22,
   "metadata": {},
   "outputs": [
    {
     "name": "stdout",
     "output_type": "stream",
     "text": [
      "Enter the No =>6\n",
      "Enter the No's16 17 4 3 5 2\n"
     ]
    }
   ],
   "source": [
    "n = int(input(\"Enter the No =>\"))\n",
    "data = list(map(int,input(\"Enter the No's\").split(\" \")))"
   ]
  },
  {
   "cell_type": "code",
   "execution_count": 27,
   "metadata": {
    "scrolled": true
   },
   "outputs": [
    {
     "name": "stdout",
     "output_type": "stream",
     "text": [
      "Enter the No =>6\n",
      "Enter the No's16 17 4 3 5 2\n",
      "17 5 2\n"
     ]
    }
   ],
   "source": [
    "\"\"\"\n",
    "Problem Link: https://www.hackerearth.com/practice/data-structures/arrays/1-d/practice-problems/algorithm/hamiltonian-and-lagrangian/\n",
    "Students have become secret admirers of SEGP. They find the course exciting and the professors amusing. \n",
    "After a superb Mid Semester examination its now time for the results. The TAs have released the \n",
    "marks of students in the form of an array, where arr[i] represents the marks of the ith student.\n",
    "Since you are a curious kid, you want to find all the marks that are not smaller than those on its \n",
    "right side in the array.\n",
    "Input Format\n",
    "The first line of input will contain a single integer n denoting the number of students.\n",
    "The next line will contain n space separated integers representing the marks of students.\n",
    "Output Format\n",
    "Output all the integers separated in the array from left to right that are not smaller than \n",
    "those on its right side.\n",
    "Constraints\n",
    "1 <= n <= 1000000\n",
    "0 <= arr[i] <= 10000\n",
    "SAMPLE INPUT \n",
    "6\n",
    "16 17 4 3 5 2\n",
    "SAMPLE OUTPUT \n",
    "17 5 2\n",
    "\"\"\"\n",
    "n = int(input(\"Enter the No =>\"))\n",
    "data = list(map(int,input(\"Enter the No's =>\").split(\" \")))\n",
    "maxdata = []\n",
    "for i in range(n):\n",
    "    if i+1 == n:\n",
    "        maxdata.append(data[i])\n",
    "        break\n",
    "    if data[i] > max(data[i+1:]):\n",
    "        maxdata.append(data[i])\n",
    "print(*maxdata)        "
   ]
  },
  {
   "cell_type": "code",
   "execution_count": 39,
   "metadata": {
    "scrolled": false
   },
   "outputs": [
    {
     "name": "stdout",
     "output_type": "stream",
     "text": [
      "Enter the TC =>4\n",
      "Enter the NO => 7\n",
      "1\n",
      "Enter the NO => 10\n",
      "2\n",
      "Enter the NO => 14\n",
      "2\n",
      "Enter the NO => 11\n",
      "3\n"
     ]
    }
   ],
   "source": [
    "\n",
    "\"\"\"\n",
    "February Easy Challenge 2015 is underway. Hackerearth welcomes you all and hope that all you awesome coders have a great time. \n",
    "So without wasting much of the time let's begin the contest.\n",
    "Prime Numbers have always been one of the favourite topics for problem setters. For more information on them you can use see this link \n",
    "http://en.wikipedia.org/wiki/Prime_number .\n",
    "Aishwarya is a mathematics student at the Department of Mathematics and Computing, California. Her teacher recently gave her an intriguing assignment \n",
    "with only a single question. The question was to find out the minimum number of single digit prime numbers which when summed equals a given number X.\n",
    "Input:\n",
    "The first line contains T denoting the number of test cases. Each of the next T lines contains a single integer X.\n",
    "Output:\n",
    "Print the minimum number required. If it is not possible to obtain X using single digit prime numbers, output -1.\n",
    "Constraints:\n",
    "1<=T<=100\n",
    "1<=X<=10^6\n",
    "SAMPLE INPUT \n",
    "4\n",
    "7\n",
    "10\n",
    "14\n",
    "11\n",
    "SAMPLE OUTPUT \n",
    "1\n",
    "2\n",
    "2\n",
    "3\n",
    "Explanation\n",
    "10 can be represented as 7 + 3.\n",
    "14 can be represented as 7+7\n",
    "11 can be represented as 5+3+3.\n",
    "\"\"\"\n",
    "\n",
    "\n",
    "def check(i,val):\n",
    "    if i-val<0:\n",
    "        return False\n",
    "    return True\n",
    "\n",
    "def minimumPrimes(n):\n",
    "    if n in [2,3,5,7]:\n",
    "        return 1\n",
    "    elif n == 4 or n == 6:\n",
    "        return 2\n",
    "    elif n == 1:\n",
    "        return -1 # Not Possible\n",
    "    else:\n",
    "        dp=[10**9]*(n+1)\n",
    "        dp[0]=dp[2]=dp[3]=dp[5]=dp[7] = 1\n",
    "        for i in range(1,n+1):\n",
    "            if check(i,2):\n",
    "                dp[i]=min(dp[i],1+dp[i-2])\n",
    "            if check(i,3):\n",
    "                dp[i]=min(dp[i],1+dp[i-3])\n",
    "            if check(i,5):\n",
    "                dp[i]=min(dp[i],1+dp[i-5])\n",
    "            if check(i,7):\n",
    "                dp[i]=min(dp[i],1+dp[i-7])\n",
    "        return dp[n]\n",
    "            \n",
    "for _ in range(int(input(\"Enter the TC =>\"))):\n",
    "    input_no = int(input(\"Enter the NO => \"))\n",
    "    print(minimumPrimes(input_no))\n",
    "        \n",
    "        \n",
    "        \n",
    "        \n",
    "    "
   ]
  },
  {
   "cell_type": "code",
   "execution_count": 4,
   "metadata": {},
   "outputs": [
    {
     "name": "stdout",
     "output_type": "stream",
     "text": [
      "Enter the Numner of the No=> 6\n",
      "Enter the No with space seperation =>1 1 1 2 2 0\n",
      "Enter the No of Numbers=>6\n",
      "Enter the No => 1\n",
      "3\n",
      "Enter the No => 2\n",
      "2\n",
      "Enter the No => 1\n",
      "3\n",
      "Enter the No => 0\n",
      "1\n",
      "Enter the No => 3\n",
      "NOT PRESENT\n",
      "Enter the No => 4\n",
      "NOT PRESENT\n"
     ]
    }
   ],
   "source": [
    "\"\"\"\n",
    "Problem Link: https://www.hackerearth.com/practice/data-structures/arrays/1-d/practice-problems/algorithm/memorise-me/\n",
    "Arijit is a brilliant boy. He likes memory games. He likes to participate alone but this time \n",
    "he has to have a partner. So he chooses you.\n",
    "In this Game , your team will be shown N numbers for few minutes . You will have to memorize \n",
    "these numbers.\n",
    "Now, the questioner will ask you Q queries, in each query He will give you a number , and you \n",
    "have to tell him the total number of occurrences of that number in the array of numbers shown to your team . If the number is not present , then you will have to say “NOT PRESENT” (without quotes).\n",
    "INPUT And OUTPUT\n",
    "The first line of input will contain N, an integer, which is the total number of numbers shown \n",
    "to your team.\n",
    "The second line of input contains N space separated integers .\n",
    "The third line of input contains an integer Q , denoting the total number of integers.\n",
    "The Next Q lines will contain an integer denoting an integer, B[i] , for which you have to \n",
    "print the number of occurrences of that number (B[i]) in those N numbers on a new line.\n",
    "If the number B[i] isn’t present then Print “NOT PRESENT” (without quotes) on a new line.\n",
    "SAMPLE INPUT \n",
    "6\n",
    "1 1 1 2 2 0\n",
    "6\n",
    "1\n",
    "2\n",
    "1\n",
    "0\n",
    "3\n",
    "4\n",
    "SAMPLE OUTPUT \n",
    "3\n",
    "2\n",
    "3\n",
    "1\n",
    "NOT PRESENT\n",
    "NOT PRESENT\n",
    "Explanation\n",
    "The given array is (1,1,1,2,2,0) of size 6.\n",
    "Total number of queries is 6 also.\n",
    "For the first query i.e for 1 , the total of number of occurrences of 1 in the given array is 3. \n",
    "Hence the corresponding output is 3.\n",
    "For the second query i.e. for 2, the total of number of occurrences of 2 in the given array is 2. \n",
    "Hence the corresponding output is 2.\n",
    "For the fifth query i.e. for 3. 3 is not present in the array . So the corresponding output is \n",
    "\"NOT PRESENT\" (without quotes).\n",
    "\"\"\"\n",
    "\n",
    "from collections import Counter\n",
    "num_no = int(input(\"Enter the Numner of the No=> \"))\n",
    "data = Counter(list(map(int,input(\"Enter the No with space seperation =>\").split())))\n",
    "for _ in range(int(input(\"Enter the No of Numbers=>\"))):\n",
    "    n = int(input(\"Enter the No => \"))\n",
    "    if n in data:\n",
    "        print(data[n])\n",
    "    else:\n",
    "        print(\"NOT PRESENT\")\n",
    "\n",
    "        "
   ]
  },
  {
   "cell_type": "code",
   "execution_count": null,
   "metadata": {},
   "outputs": [],
   "source": [
    "'''\n",
    "Search a Word in a 2D Grid of characters\n",
    "Difficulty Level : Medium\n",
    "Last Updated : 22 Jul, 2021\n",
    "Given a 2D grid of characters and a word, find all occurrences of the given word in the grid. A word can be matched in all 8 directions at any point. Word is said to be found in a direction if all characters match in this direction (not in zig-zag form).\n",
    "The 8 directions are, Horizontally Left, Horizontally Right, Vertically Up, Vertically Down and 4 Diagonal directions.\n",
    "'''\n",
    "# Enter your code here. Read input from STDIN. Print output to STDOUT\n",
    "\n",
    "class patternsearch2d:\n",
    "    def __init__(self):\n",
    "        self.R = None\n",
    "        self.C = None\n",
    "        self.dir1 = [[-1,0],[1,0],[1,1],[1,-1],[-1,-1],[-1,1],[0,1],[0,-1]]\n",
    "\n",
    "    def search2D(self, grid, row, col, word):\n",
    "        \n",
    "        if grid[row][col] != word[0]:\n",
    "            return False\n",
    "\n",
    "        for x,y in self.dir1:\n",
    "            rd = row+x \n",
    "            cd = col+y \n",
    "            flag = True\n",
    "            for k in range(1,len(word)):\n",
    "                if(0 <= rd < self.R and 0 <= cd < self.C and word[k] == grid[rd][cd]):\n",
    "                    rd += x\n",
    "                    cd += y\n",
    "                else:\n",
    "                    flag = False\n",
    "                    break\n",
    "            if flag:\n",
    "                return True\n",
    "        return False             \n",
    "            \n",
    "    def patternSearch(self, grid, word):\n",
    "        self.R = len(grid)\n",
    "        self.C = len(grid[0])\n",
    "        wordfound = False\n",
    "        for row in range(self.R):\n",
    "            for col in range(self.C):\n",
    "                if self.search2D(grid, row, col, word):\n",
    "                    wordfound = True\n",
    "                    print(word+\" \"+str(row)+\" \"+str(col))\n",
    "        if wordfound == False:\n",
    "            print(word+\" \"+str(-1)+\" \"+str(-1))             \n",
    "\n",
    "grid = []\n",
    "words = []\n",
    "endofgrid = False\n",
    "\n",
    "while True:\n",
    "    try:\n",
    "        my_string = input()\n",
    "        if my_string == '':\n",
    "            endofgrid = True\n",
    "            continue\n",
    "        if endofgrid:\n",
    "            words += [my_string]\n",
    "        else:    \n",
    "            grid += [my_string]\n",
    "    except EOFError as exception:\n",
    "        break\n",
    "searchclass = patternsearch2d()\n",
    "\n",
    "for word in words:\n",
    "    searchclass.patternSearch(grid,word.strip()) "
   ]
  },
  {
   "cell_type": "code",
   "execution_count": 32,
   "metadata": {},
   "outputs": [],
   "source": [
    "dp=[10**9]*(5)"
   ]
  },
  {
   "cell_type": "code",
   "execution_count": 33,
   "metadata": {},
   "outputs": [
    {
     "data": {
      "text/plain": [
       "[1000000000, 1000000000, 1000000000, 1000000000, 1000000000]"
      ]
     },
     "execution_count": 33,
     "metadata": {},
     "output_type": "execute_result"
    }
   ],
   "source": [
    "dp"
   ]
  },
  {
   "cell_type": "code",
   "execution_count": 36,
   "metadata": {},
   "outputs": [],
   "source": [
    "dp[0] = dp[2] = dp[3] = 1"
   ]
  },
  {
   "cell_type": "code",
   "execution_count": null,
   "metadata": {},
   "outputs": [],
   "source": [
    "for i in range(1,n+1):\n",
    "    "
   ]
  },
  {
   "cell_type": "code",
   "execution_count": 8,
   "metadata": {},
   "outputs": [
    {
     "name": "stdout",
     "output_type": "stream",
     "text": [
      "10 15\n",
      "2\n"
     ]
    }
   ],
   "source": [
    "a,b = map(int,input().split())\n",
    "num = 1\n",
    "count = 0\n",
    "while num <= a or num <= b:\n",
    "    if a%num == 0 and b%num == 0:\n",
    "        count += 1\n",
    "    num+=1\n",
    "print(count)"
   ]
  },
  {
   "cell_type": "code",
   "execution_count": null,
   "metadata": {},
   "outputs": [],
   "source": []
  }
 ],
 "metadata": {
  "kernelspec": {
   "display_name": "Python 3",
   "language": "python",
   "name": "python3"
  },
  "language_info": {
   "codemirror_mode": {
    "name": "ipython",
    "version": 3
   },
   "file_extension": ".py",
   "mimetype": "text/x-python",
   "name": "python",
   "nbconvert_exporter": "python",
   "pygments_lexer": "ipython3",
   "version": "3.8.3"
  }
 },
 "nbformat": 4,
 "nbformat_minor": 4
}
