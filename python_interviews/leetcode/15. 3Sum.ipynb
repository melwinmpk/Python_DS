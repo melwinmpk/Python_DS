{
 "cells": [
  {
   "cell_type": "markdown",
   "id": "b4313609",
   "metadata": {},
   "source": [
    "<pre>\n",
    "Given an integer array nums, return all the triplets [nums[i], nums[j], nums[k]] such that i != j, i != k, and j != k, and nums[i] + nums[j] + nums[k] == 0.\n",
    "\n",
    "Notice that the solution set must not contain duplicate triplets.\n",
    "\n",
    " \n",
    "\n",
    "Example 1:\n",
    "\n",
    "Input: nums = [-1,0,1,2,-1,-4]\n",
    "Output: [[-1,-1,2],[-1,0,1]]\n",
    "Explanation: \n",
    "nums[0] + nums[1] + nums[2] = (-1) + 0 + 1 = 0.\n",
    "nums[1] + nums[2] + nums[4] = 0 + 1 + (-1) = 0.\n",
    "nums[0] + nums[3] + nums[4] = (-1) + 2 + (-1) = 0.\n",
    "The distinct triplets are [-1,0,1] and [-1,-1,2].\n",
    "Notice that the order of the output and the order of the triplets does not matter.\n",
    "Example 2:\n",
    "\n",
    "Input: nums = [0,1,1]\n",
    "Output: []\n",
    "Explanation: The only possible triplet does not sum up to 0.\n",
    "Example 3:\n",
    "\n",
    "Input: nums = [0,0,0]\n",
    "Output: [[0,0,0]]\n",
    "Explanation: The only possible triplet sums up to 0.\n",
    " \n",
    "\n",
    "Constraints:\n",
    "\n",
    "3 <= nums.length <= 3000\n",
    "-105 <= nums[i] <= 105\n",
    "</pre>"
   ]
  },
  {
   "cell_type": "code",
   "execution_count": 3,
   "id": "63ba5079",
   "metadata": {},
   "outputs": [],
   "source": [
    "# this code will take more time as a result this code will fail in the final submit\n",
    "class Solution(object):\n",
    "    def threeSum(self, nums):\n",
    "        \"\"\"\n",
    "        :type nums: List[int]\n",
    "        :rtype: List[List[int]]\n",
    "        \"\"\"\n",
    "        result_lst = []\n",
    "        for i in range(0,len(nums)-2):\n",
    "            for j in range(1,len(nums)-1):\n",
    "                for k in range(2,len(nums)):\n",
    "                    if i != j and i !=k and j != k and (nums[i] +nums[j] + nums[k] == 0):\n",
    "                        if ([nums[i],nums[j],nums[k]] not in result_lst and  \n",
    "                            [nums[k],nums[i],nums[j]] not in result_lst and \n",
    "                            [nums[j],nums[k],nums[i]] not in result_lst and  \n",
    "                            [nums[i],nums[k],nums[j]] not in result_lst and\n",
    "                            [nums[j],nums[i],nums[k]] not in result_lst and\n",
    "                            [nums[k],nums[j],nums[i]] not in result_lst  ):\n",
    "                            result_lst.append([nums[i],nums[j],nums[k]])\n",
    "        return(result_lst)"
   ]
  },
  {
   "cell_type": "code",
   "execution_count": 4,
   "id": "84951831",
   "metadata": {},
   "outputs": [
    {
     "name": "stdout",
     "output_type": "stream",
     "text": [
      "[[-1, 0, 1], [-1, 2, -1]]\n"
     ]
    }
   ],
   "source": [
    "nums = [-1,0,1,2,-1,-4]\n",
    "obj = Solution()\n",
    "print(obj.threeSum(nums))"
   ]
  },
  {
   "cell_type": "markdown",
   "id": "cfe4b70e",
   "metadata": {},
   "source": [
    "Solution \n",
    "https://www.nileshblog.tech/2022/09/leet-code-three-3-sum-java-cpp-python-solution/"
   ]
  },
  {
   "cell_type": "code",
   "execution_count": 27,
   "id": "5322419e",
   "metadata": {},
   "outputs": [],
   "source": [
    "class Solution:\n",
    "    def threeSum(self, nums):\n",
    "        res=[]\n",
    "        nums.sort()\n",
    "        print(nums)\n",
    "        for i,a in enumerate(nums) :\n",
    "            print(f\"===================={i+1} loop =================\")\n",
    "            print(f\"index i  => {i}\")\n",
    "            print(f\"element a => {a}\")\n",
    "            if i > 0 and a==nums[i-1] :\n",
    "                continue\n",
    "            l,r=i+1,len(nums) -1 \n",
    "            print(f\"l => {l}\")\n",
    "            print(f\"r => {r}\")\n",
    "            while l < r:\n",
    "                tsome = a + nums[l] +nums[r]\n",
    "                print(f\"tsome = a + nums[l] +nums[r]\")\n",
    "                print(f\"tsome = {a + nums[l] +nums[r]} a = {a} nums[l] = {nums[l]} nums[r] = {nums[r]} \")\n",
    "                print(f\"l => {l}  & r => {r}\")\n",
    "                if tsome > 0 :\n",
    "                    r -=1\n",
    "                elif tsome < 0 :\n",
    "                    l +=1 \n",
    "                else :\n",
    "                    res.append([a,nums[l],nums[r]])\n",
    "                    l +=1\n",
    "                    while nums[l]==nums[l-1] and l<r :\n",
    "                        l +=1\n",
    "        return res"
   ]
  },
  {
   "cell_type": "code",
   "execution_count": 28,
   "id": "fda9d333",
   "metadata": {},
   "outputs": [
    {
     "name": "stdout",
     "output_type": "stream",
     "text": [
      "[-4, -1, -1, 0, 1, 2]\n",
      "====================1 loop =================\n",
      "index i  => 0\n",
      "element a => -4\n",
      "l => 1\n",
      "r => 5\n",
      "tsome = a + nums[l] +nums[r]\n",
      "tsome = -3 a = -4 nums[l] = -1 nums[r] = 2 \n",
      "l => 1  & r => 5\n",
      "tsome = a + nums[l] +nums[r]\n",
      "tsome = -3 a = -4 nums[l] = -1 nums[r] = 2 \n",
      "l => 2  & r => 5\n",
      "tsome = a + nums[l] +nums[r]\n",
      "tsome = -2 a = -4 nums[l] = 0 nums[r] = 2 \n",
      "l => 3  & r => 5\n",
      "tsome = a + nums[l] +nums[r]\n",
      "tsome = -1 a = -4 nums[l] = 1 nums[r] = 2 \n",
      "l => 4  & r => 5\n",
      "====================2 loop =================\n",
      "index i  => 1\n",
      "element a => -1\n",
      "l => 2\n",
      "r => 5\n",
      "tsome = a + nums[l] +nums[r]\n",
      "tsome = 0 a = -1 nums[l] = -1 nums[r] = 2 \n",
      "l => 2  & r => 5\n",
      "tsome = a + nums[l] +nums[r]\n",
      "tsome = 1 a = -1 nums[l] = 0 nums[r] = 2 \n",
      "l => 3  & r => 5\n",
      "tsome = a + nums[l] +nums[r]\n",
      "tsome = 0 a = -1 nums[l] = 0 nums[r] = 1 \n",
      "l => 3  & r => 4\n",
      "====================3 loop =================\n",
      "index i  => 2\n",
      "element a => -1\n",
      "====================4 loop =================\n",
      "index i  => 3\n",
      "element a => 0\n",
      "l => 4\n",
      "r => 5\n",
      "tsome = a + nums[l] +nums[r]\n",
      "tsome = 3 a = 0 nums[l] = 1 nums[r] = 2 \n",
      "l => 4  & r => 5\n",
      "====================5 loop =================\n",
      "index i  => 4\n",
      "element a => 1\n",
      "l => 5\n",
      "r => 5\n",
      "====================6 loop =================\n",
      "index i  => 5\n",
      "element a => 2\n",
      "l => 6\n",
      "r => 5\n",
      "[[-1, -1, 2], [-1, 0, 1]]\n"
     ]
    }
   ],
   "source": [
    "nums = [-1,0,1,2,-1,-4]\n",
    "obj = Solution()\n",
    "print(obj.threeSum(nums))\n"
   ]
  },
  {
   "cell_type": "code",
   "execution_count": 10,
   "id": "1e095d56",
   "metadata": {},
   "outputs": [
    {
     "data": {
      "text/plain": [
       "<enumerate at 0x1fbace97300>"
      ]
     },
     "execution_count": 10,
     "metadata": {},
     "output_type": "execute_result"
    }
   ],
   "source": [
    "enumerate(nums)"
   ]
  },
  {
   "cell_type": "code",
   "execution_count": 11,
   "id": "fa5345be",
   "metadata": {},
   "outputs": [],
   "source": [
    "nums.sort()"
   ]
  },
  {
   "cell_type": "code",
   "execution_count": 12,
   "id": "50198bf7",
   "metadata": {},
   "outputs": [
    {
     "data": {
      "text/plain": [
       "[-4, -1, -1, 0, 1, 2]"
      ]
     },
     "execution_count": 12,
     "metadata": {},
     "output_type": "execute_result"
    }
   ],
   "source": [
    "nums"
   ]
  },
  {
   "cell_type": "code",
   "execution_count": 56,
   "id": "16e214cc",
   "metadata": {},
   "outputs": [],
   "source": [
    "# My solution after learning\n",
    "class Solution:\n",
    "    def threeSum(self, nums):    \n",
    "        result = []\n",
    "        nums.sort()\n",
    "        for index,value in enumerate(nums):\n",
    "            if index > 0 and value == nums[index-1]:\n",
    "                continue\n",
    "            left = index +1\n",
    "            right =  len(nums) -1\n",
    "            while left < right:\n",
    "                tsum = value + nums[left]+ nums[right]\n",
    "                if tsum > 0:\n",
    "                    right-=1\n",
    "                elif tsum < 0:\n",
    "                    left+=1\n",
    "                else:\n",
    "                    result.append([value,nums[left],nums[right]])\n",
    "                    left+=1\n",
    "                    while nums[left] == nums[left-1] and left < right:\n",
    "                        left+=1\n",
    "        return result"
   ]
  },
  {
   "cell_type": "code",
   "execution_count": 57,
   "id": "45c08de3",
   "metadata": {},
   "outputs": [
    {
     "name": "stdout",
     "output_type": "stream",
     "text": [
      "[[-1, -1, 2], [-1, 0, 1]]\n"
     ]
    }
   ],
   "source": [
    "nums = [-1,0,1,2,-1,-4]\n",
    "obj = Solution()\n",
    "print(obj.threeSum(nums))"
   ]
  },
  {
   "cell_type": "code",
   "execution_count": null,
   "id": "31ceb1d0",
   "metadata": {},
   "outputs": [],
   "source": []
  }
 ],
 "metadata": {
  "kernelspec": {
   "display_name": "Python 3 (ipykernel)",
   "language": "python",
   "name": "python3"
  },
  "language_info": {
   "codemirror_mode": {
    "name": "ipython",
    "version": 3
   },
   "file_extension": ".py",
   "mimetype": "text/x-python",
   "name": "python",
   "nbconvert_exporter": "python",
   "pygments_lexer": "ipython3",
   "version": "3.10.6"
  }
 },
 "nbformat": 4,
 "nbformat_minor": 5
}
