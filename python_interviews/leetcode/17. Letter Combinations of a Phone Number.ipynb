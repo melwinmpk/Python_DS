{
 "cells": [
  {
   "cell_type": "raw",
   "id": "2ee184d1",
   "metadata": {},
   "source": [
    "Given a string containing digits from 2-9 inclusive, return all possible letter combinations that the number could represent. Return the answer in any order.\n",
    "\n",
    "A mapping of digits to letters (just like on the telephone buttons) is given below. Note that 1 does not map to any letters.\n",
    "\n",
    "\n",
    " \n",
    "\n",
    "Example 1:\n",
    "\n",
    "Input: digits = \"23\"\n",
    "Output: [\"ad\",\"ae\",\"af\",\"bd\",\"be\",\"bf\",\"cd\",\"ce\",\"cf\"]\n",
    "Example 2:\n",
    "\n",
    "Input: digits = \"\"\n",
    "Output: []\n",
    "Example 3:\n",
    "\n",
    "Input: digits = \"2\"\n",
    "Output: [\"a\",\"b\",\"c\"]\n",
    " \n",
    "\n",
    "Constraints:\n",
    "\n",
    "0 <= digits.length <= 4\n",
    "digits[i] is a digit in the range ['2', '9']."
   ]
  },
  {
   "cell_type": "code",
   "execution_count": 5,
   "id": "59fcd897",
   "metadata": {},
   "outputs": [],
   "source": [
    "class Solution(object):\n",
    "    def letterCombinations(self, digits):\n",
    "        \"\"\"\n",
    "        :type digits: str\n",
    "        :rtype: List[str]\n",
    "        \"\"\"\n",
    "        number = {\n",
    "            \"2\":[\"a\",\"b\",\"c\"], \"3\":[\"d\",\"e\",\"f\"],\n",
    "            \"4\":[\"g\",\"h\",\"i\"], \"5\":[\"j\",\"k\",\"l\"],\"6\":[\"m\",\"n\",\"o\"],\n",
    "            \"7\":[\"p\",\"q\",\"r\",\"s\"],\"8\":[\"t\",\"u\",\"v\"], \"9\":[\"w\",\"x\",\"y\",\"z\"]\n",
    "                 }\n",
    "        letter_combinations = []\n",
    "        for i in digits:\n",
    "            pass"
   ]
  },
  {
   "cell_type": "code",
   "execution_count": null,
   "id": "493a388d",
   "metadata": {},
   "outputs": [],
   "source": []
  },
  {
   "cell_type": "code",
   "execution_count": null,
   "id": "0c447c8f",
   "metadata": {},
   "outputs": [],
   "source": []
  },
  {
   "cell_type": "code",
   "execution_count": null,
   "id": "bfead7df",
   "metadata": {},
   "outputs": [],
   "source": []
  },
  {
   "cell_type": "code",
   "execution_count": null,
   "id": "610d9b0a",
   "metadata": {},
   "outputs": [],
   "source": [
    "# https://leetcode.com/problems/letter-combinations-of-a-phone-number/solutions/1148310/js-python-java-c-easy-recursive-dfs-solution-w-explanation/?page=3\n",
    "\n",
    "# solution source\n",
    "L = {'2':\"abc\",'3':\"def\",'4':\"ghi\",'5':\"jkl\",\n",
    "     '6':\"mno\",'7':\"pqrs\",'8':\"tuv\",'9':\"wxyz\"}\n",
    "\n",
    "class Solution:\n",
    "    def letterCombinations(self, D: str) -> List[str]:\n",
    "        lenD, ans = len(D), []\n",
    "        if D == \"\": return []\n",
    "        def dfs(pos: int, st: str):\n",
    "            if pos == lenD: ans.append(st)\n",
    "            else:\n",
    "                letters = L[D[pos]]\n",
    "                for letter in letters:\n",
    "                    dfs(pos+1,st+letter)\n",
    "        dfs(0,\"\")\n",
    "        return ans"
   ]
  }
 ],
 "metadata": {
  "kernelspec": {
   "display_name": "Python 3 (ipykernel)",
   "language": "python",
   "name": "python3"
  },
  "language_info": {
   "codemirror_mode": {
    "name": "ipython",
    "version": 3
   },
   "file_extension": ".py",
   "mimetype": "text/x-python",
   "name": "python",
   "nbconvert_exporter": "python",
   "pygments_lexer": "ipython3",
   "version": "3.10.6"
  }
 },
 "nbformat": 4,
 "nbformat_minor": 5
}
