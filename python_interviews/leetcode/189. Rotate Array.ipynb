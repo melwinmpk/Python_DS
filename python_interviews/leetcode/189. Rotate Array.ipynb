{
 "cells": [
  {
   "cell_type": "markdown",
   "id": "5b2f38d7",
   "metadata": {},
   "source": [
    "## 189. Rotate Array"
   ]
  },
  {
   "cell_type": "code",
   "execution_count": null,
   "id": "b8ad9938",
   "metadata": {},
   "outputs": [],
   "source": [
    "'''\n",
    "Given an integer array nums, rotate the array to the right by k steps, where k is non-negative.\n",
    "\n",
    " \n",
    "\n",
    "Example 1:\n",
    "\n",
    "Input: nums = [1,2,3,4,5,6,7], k = 3\n",
    "Output: [5,6,7,1,2,3,4]\n",
    "Explanation:\n",
    "rotate 1 steps to the right: [7,1,2,3,4,5,6]\n",
    "rotate 2 steps to the right: [6,7,1,2,3,4,5]\n",
    "rotate 3 steps to the right: [5,6,7,1,2,3,4]\n",
    "Example 2:\n",
    "\n",
    "Input: nums = [-1,-100,3,99], k = 2\n",
    "Output: [3,99,-1,-100]\n",
    "Explanation: \n",
    "rotate 1 steps to the right: [99,-1,-100,3]\n",
    "rotate 2 steps to the right: [3,99,-1,-100]\n",
    " \n",
    "\n",
    "Constraints:\n",
    "\n",
    "1 <= nums.length <= 105\n",
    "-231 <= nums[i] <= 231 - 1\n",
    "0 <= k <= 105\n",
    " \n",
    "\n",
    "Follow up:\n",
    "\n",
    "Try to come up with as many solutions as you can. There are at least three different ways to solve this problem.\n",
    "Could you do it in-place with O(1) extra space?\n",
    "'''"
   ]
  },
  {
   "cell_type": "code",
   "execution_count": 2,
   "id": "57716418",
   "metadata": {},
   "outputs": [],
   "source": [
    "def rotate(nums, k):\n",
    "    \"\"\"\n",
    "    :type nums: List[int]\n",
    "    :type k: int\n",
    "    :rtype: None Do not return anything, modify nums in-place instead.\n",
    "    \"\"\"\n",
    "    arr_len = len(nums)\n",
    "    k = k%arr_len\n",
    "    if arr_len > 1 and k > 0:  \n",
    "        temp = nums[-k:]\n",
    "        nums[k:] = nums[:arr_len-k]\n",
    "        nums[:k] = temp"
   ]
  },
  {
   "cell_type": "code",
   "execution_count": 4,
   "id": "d4113190",
   "metadata": {},
   "outputs": [
    {
     "name": "stdout",
     "output_type": "stream",
     "text": [
      "[5, 6, 7, 1, 2, 3, 4]\n"
     ]
    }
   ],
   "source": [
    "nums = [1,2,3,4,5,6,7]\n",
    "k= 3\n",
    "rotate(nums, k)\n",
    "print(nums)"
   ]
  },
  {
   "cell_type": "code",
   "execution_count": 5,
   "id": "2f4073b0",
   "metadata": {},
   "outputs": [
    {
     "name": "stdout",
     "output_type": "stream",
     "text": [
      "[3, 99, -1, -100]\n"
     ]
    }
   ],
   "source": [
    "nums = [-1,-100,3,99]\n",
    "k= 2\n",
    "rotate(nums, k)\n",
    "print(nums)"
   ]
  },
  {
   "cell_type": "code",
   "execution_count": null,
   "id": "89ddcc32",
   "metadata": {},
   "outputs": [],
   "source": []
  },
  {
   "cell_type": "code",
   "execution_count": null,
   "id": "780827f9",
   "metadata": {},
   "outputs": [],
   "source": []
  }
 ],
 "metadata": {
  "kernelspec": {
   "display_name": "Python 3 (ipykernel)",
   "language": "python",
   "name": "python3"
  },
  "language_info": {
   "codemirror_mode": {
    "name": "ipython",
    "version": 3
   },
   "file_extension": ".py",
   "mimetype": "text/x-python",
   "name": "python",
   "nbconvert_exporter": "python",
   "pygments_lexer": "ipython3",
   "version": "3.10.6"
  }
 },
 "nbformat": 4,
 "nbformat_minor": 5
}
