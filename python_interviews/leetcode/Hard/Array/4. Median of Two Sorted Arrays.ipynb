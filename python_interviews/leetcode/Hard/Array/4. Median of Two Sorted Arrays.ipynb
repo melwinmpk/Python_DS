{
 "cells": [
  {
   "cell_type": "code",
   "execution_count": null,
   "id": "f0846a5a",
   "metadata": {},
   "outputs": [],
   "source": [
    "'''\n",
    "Given two sorted arrays nums1 and nums2 of size m and n respectively, \n",
    "return the median of the two sorted arrays.\n",
    "\n",
    "The overall run time complexity should be O(log (m+n)).\n",
    "\n",
    " \n",
    "\n",
    "Example 1:\n",
    "\n",
    "Input: nums1 = [1,3], nums2 = [2]\n",
    "Output: 2.00000\n",
    "Explanation: merged array = [1,2,3] and median is 2.\n",
    "Example 2:\n",
    "\n",
    "Input: nums1 = [1,2], nums2 = [3,4]\n",
    "Output: 2.50000\n",
    "Explanation: merged array = [1,2,3,4] and median is (2 + 3) / 2 = 2.5.\n",
    " \n",
    "\n",
    "Constraints:\n",
    "\n",
    "nums1.length == m\n",
    "nums2.length == n\n",
    "0 <= m <= 1000\n",
    "0 <= n <= 1000\n",
    "1 <= m + n <= 2000\n",
    "-106 <= nums1[i], nums2[i] <= 106\n",
    "'''"
   ]
  },
  {
   "cell_type": "code",
   "execution_count": 41,
   "id": "813ddcbc",
   "metadata": {},
   "outputs": [],
   "source": [
    "import math"
   ]
  },
  {
   "cell_type": "code",
   "execution_count": 192,
   "id": "a2b12dc1",
   "metadata": {},
   "outputs": [],
   "source": [
    "import math\n",
    "\n",
    "class Solution:\n",
    "    def findMedianSortedArrays(self, nums1: list[int], nums2: list[int]) -> float:\n",
    "        total_length = len(nums1) + len(nums2)\n",
    "        is_even = 1 if total_length%2 == 0 else 0\n",
    "        a1_len,a2_len = 0,0\n",
    "        final_array = []\n",
    "\n",
    "        if len(nums1) == 1 and len(nums2) == 1:\n",
    "            return (nums1[0]+nums2[0])/2\n",
    "        if len(nums1) == 0 and len(nums2) != 0:\n",
    "            if is_even:\n",
    "                return (nums2[int(total_length/2)-1]+nums2[int(total_length/2)])/2\n",
    "            else:\n",
    "                return (nums2[round(total_length/2)])\n",
    "        elif len(nums2) == 0 and len(nums1) != 0:\n",
    "            if is_even:\n",
    "                return (nums1[int(total_length/2)-1]+nums1[int(total_length/2)])/2\n",
    "            else:\n",
    "                return (nums1[round(total_length/2)])\n",
    "\n",
    "        for i in range(0,total_length):\n",
    "            if a1_len < len(nums1) and a2_len < len(nums2):\n",
    "                if nums1[a1_len] <= nums2[a2_len]:\n",
    "                    final_array.append(nums1[a1_len])\n",
    "                    a1_len+=1\n",
    "                else:\n",
    "                    final_array.append(nums2[a2_len])\n",
    "                    a2_len+=1               \n",
    "            elif a1_len < len(nums1):\n",
    "                final_array.append(nums1[a1_len])\n",
    "                a1_len+=1\n",
    "            elif a2_len < len(nums2):\n",
    "                final_array.append(nums2[a2_len])\n",
    "                a2_len+=1 \n",
    "\n",
    "            if i+1 ==  math.ceil(total_length/2) and not is_even:\n",
    "                return final_array[i]\n",
    "            elif ((i+1 > total_length/2) or (i+1 == total_length)) and is_even:\n",
    "                return (final_array[i]+final_array[i-1])/2"
   ]
  },
  {
   "cell_type": "code",
   "execution_count": 153,
   "id": "354fa623",
   "metadata": {},
   "outputs": [],
   "source": [
    "nums1 = [1,3]\n",
    "nums2 = [2]"
   ]
  },
  {
   "cell_type": "code",
   "execution_count": 161,
   "id": "7711d587",
   "metadata": {},
   "outputs": [],
   "source": [
    "nums1 = []\n",
    "nums2 = [2,3]"
   ]
  },
  {
   "cell_type": "code",
   "execution_count": 159,
   "id": "9d6c2179",
   "metadata": {},
   "outputs": [],
   "source": [
    "nums1 = [1]\n",
    "nums2 = [1]"
   ]
  },
  {
   "cell_type": "code",
   "execution_count": 157,
   "id": "d8c23654",
   "metadata": {},
   "outputs": [],
   "source": [
    "nums1 = [1,2]\n",
    "nums2 = [1,2,3]"
   ]
  },
  {
   "cell_type": "code",
   "execution_count": 173,
   "id": "63fbfc2c",
   "metadata": {},
   "outputs": [],
   "source": [
    "nums1 = [100001]\n",
    "nums2 = [100000]"
   ]
  },
  {
   "cell_type": "code",
   "execution_count": 193,
   "id": "1ac955e4",
   "metadata": {},
   "outputs": [],
   "source": [
    "nums1 = [2,3]\n",
    "nums2 = [1]"
   ]
  },
  {
   "cell_type": "code",
   "execution_count": 194,
   "id": "1b6f8607",
   "metadata": {},
   "outputs": [
    {
     "name": "stdout",
     "output_type": "stream",
     "text": [
      "[1]\n",
      "[1, 2]\n",
      "2\n"
     ]
    }
   ],
   "source": [
    "print(findMedianSortedArrays(nums1,nums2))"
   ]
  },
  {
   "cell_type": "code",
   "execution_count": null,
   "id": "684e8551",
   "metadata": {},
   "outputs": [],
   "source": [
    "[1,1,2,2,3]"
   ]
  },
  {
   "cell_type": "code",
   "execution_count": 81,
   "id": "8dbe2844",
   "metadata": {},
   "outputs": [
    {
     "data": {
      "text/plain": [
       "100000.5"
      ]
     },
     "execution_count": 81,
     "metadata": {},
     "output_type": "execute_result"
    }
   ],
   "source": [
    "(100001+100000)/2"
   ]
  },
  {
   "cell_type": "code",
   "execution_count": null,
   "id": "f2f8be84",
   "metadata": {},
   "outputs": [],
   "source": []
  }
 ],
 "metadata": {
  "kernelspec": {
   "display_name": "Python 3 (ipykernel)",
   "language": "python",
   "name": "python3"
  },
  "language_info": {
   "codemirror_mode": {
    "name": "ipython",
    "version": 3
   },
   "file_extension": ".py",
   "mimetype": "text/x-python",
   "name": "python",
   "nbconvert_exporter": "python",
   "pygments_lexer": "ipython3",
   "version": "3.10.6"
  }
 },
 "nbformat": 4,
 "nbformat_minor": 5
}
